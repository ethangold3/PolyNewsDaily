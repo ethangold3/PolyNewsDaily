{
 "cells": [
  {
   "cell_type": "code",
   "execution_count": 1,
   "metadata": {
    "execution": {
     "iopub.execute_input": "2025-05-16T18:01:45.323856Z",
     "iopub.status.busy": "2025-05-16T18:01:45.323279Z",
     "iopub.status.idle": "2025-05-16T18:01:56.272343Z",
     "shell.execute_reply": "2025-05-16T18:01:56.271652Z"
    }
   },
   "outputs": [
    {
     "name": "stderr",
     "output_type": "stream",
     "text": [
      "/Users/ethangoldberg/Desktop/CS-Proj/PolyNewsDaily/.venv/lib/python3.13/site-packages/IPython/core/interactiveshell.py:3699: LangChainDeprecationWarning: As of langchain-core 0.3.0, LangChain uses pydantic v2 internally. The langchain.pydantic_v1 module was a compatibility shim for pydantic v1, and should no longer be used. Please update the code to import from Pydantic directly.\n",
      "\n",
      "For example, replace imports like: `from langchain.pydantic_v1 import BaseModel`\n",
      "with: `from pydantic import BaseModel`\n",
      "or the v1 compatibility namespace if you are working in a code base that has not been fully upgraded to pydantic 2 yet. \tfrom pydantic.v1 import BaseModel\n",
      "\n",
      "  exec(code_obj, self.user_global_ns, self.user_ns)\n"
     ]
    }
   ],
   "source": [
    "from typing import List, Dict, Any, TypedDict, Optional\n",
    "from pm_market_getter import get_markets_for_date_range\n",
    "from langchain.llms import OpenAI\n",
    "from langchain.tools import Tool\n",
    "from langchain.agents import AgentExecutor, OpenAIFunctionsAgent\n",
    "from langchain.prompts import ChatPromptTemplate\n",
    "from langchain.pydantic_v1 import BaseModel, Field\n",
    "from langgraph.graph import StateGraph, END\n",
    "from langgraph.prebuilt import ToolInvocation\n",
    "from operator import add\n",
    "from typing import Annotated\n",
    "from datetime import datetime, timedelta\n",
    "from langgraph.prebuilt import ToolExecutor\n",
    "import requests\n",
    "import json\n",
    "import re\n",
    "from langchain_community.tools.tavily_search import TavilySearchResults\n",
    "from langchain_core.messages import AIMessage, HumanMessage, SystemMessage\n",
    "import operator\n",
    "from typing import  Annotated\n",
    "from langgraph.constants import Send\n",
    "import threading"
   ]
  },
  {
   "cell_type": "code",
   "execution_count": 2,
   "metadata": {
    "execution": {
     "iopub.execute_input": "2025-05-16T18:01:56.323606Z",
     "iopub.status.busy": "2025-05-16T18:01:56.323166Z",
     "iopub.status.idle": "2025-05-16T18:01:56.342440Z",
     "shell.execute_reply": "2025-05-16T18:01:56.341695Z"
    }
   },
   "outputs": [],
   "source": [
    "class Counter:\n",
    "    def __init__(self):\n",
    "        self._lock = threading.Lock()\n",
    "        self._value = 0\n",
    "    \n",
    "    def get_next(self):\n",
    "        with self._lock:\n",
    "            self._value += 1\n",
    "            return self._value\n",
    "\n",
    "# Global counter instance\n",
    "article_counter = Counter() \n",
    "\n",
    "class NewsArticles(BaseModel):\n",
    "    title: str\n",
    "    description: str\n",
    "    source_name: str\n",
    "class ArticleOutput(BaseModel):\n",
    "    id: int = Field(default_factory=article_counter.get_next)\n",
    "    headline: str\n",
    "    subheader: str\n",
    "    blurb: Optional[str] = Field(default=None)\n",
    "    score: Optional[int] = Field(default=None)\n",
    "    ticker: str = Field(default=None)\n",
    "    links: List[str] = Field(default=None)\n",
    "\n",
    "class MarketInfo(BaseModel):\n",
    "    interest_score: float = Field(default=None)\n",
    "    title: str = Field(default=None)\n",
    "    ticker: str = Field(default=None)\n",
    "    description: str = Field(default=None)\n",
    "    end_date: str = Field(default=None)\n",
    "    volume: float = Field(default=None)\n",
    "    featured: float = Field(default=None)\n",
    "    volume24hr: float = Field(default=None)\n",
    "    commentCount: float = Field(default=None)\n",
    "    options: List[Dict[str, Any]] = Field(default=None)\n",
    "    tags: List[Dict[str, Any]] = Field(default=None)\n",
    "    tavily_context: Annotated[list, operator.add] = Field(default=None)\n",
    "    links: Annotated[list, operator.add] = Field(default=None)\n",
    "    articles: List[NewsArticles] = Field(default_factory=list, description=\"Collected news articles\")\n",
    "    newsletter_content: List[ArticleOutput] = Field(default=None)\n",
    "    skipped_newsletter_content: List[ArticleOutput] = Field(default=None)\n",
    "\n",
    "class OverallGraph(BaseModel):\n",
    "    markets_list: List[MarketInfo]\n",
    "    newsletter_content: Annotated[List[ArticleOutput], operator.add] = Field(default=None)\n",
    "    skipped_newsletter_content: Annotated[List[ArticleOutput], operator.add] = Field(default=None)\n",
    "    article_groups: Dict[str, List[int]] = Field(\n",
    "        default_factory=dict,\n",
    "        description=\"Dictionary of lists, where each list contains ids of a group of articles. The string is the title of the group\"\n",
    "    )\n",
    "    done: bool = Field(default = False)\n",
    "\n",
    "class ExperimentState(TypedDict):\n",
    "    market: dict  # The current market being processed\n",
    "    article: dict  # The article being generated/refined\n",
    "    previous_articles: List[dict]  # List of previously processed articles\n",
    "    keep_article: bool\n",
    "\n",
    "class SearchQuery(BaseModel):\n",
    "    search_query: str = Field(None, description=\"Search query for retrieval.\")"
   ]
  },
  {
   "cell_type": "code",
   "execution_count": 3,
   "metadata": {
    "execution": {
     "iopub.execute_input": "2025-05-16T18:01:56.345845Z",
     "iopub.status.busy": "2025-05-16T18:01:56.345495Z",
     "iopub.status.idle": "2025-05-16T18:01:56.362347Z",
     "shell.execute_reply": "2025-05-16T18:01:56.361467Z"
    }
   },
   "outputs": [
    {
     "name": "stdout",
     "output_type": "stream",
     "text": [
      "Current working directory: /Users/ethangoldberg/Desktop/CS-Proj/PolyNewsDaily/PolyNewsDaily/agent\n",
      "Found .env file at: /Users/ethangoldberg/Desktop/CS-Proj/PolyNewsDaily/PolyNewsDaily/.env\n",
      "SMTP_PASS: Found\n",
      "NEWS_API_KEY: Not found\n",
      "OPENAI_API_KEY: Found\n",
      "TAVILY_API_KEY: Found\n"
     ]
    }
   ],
   "source": [
    "from dotenv import load_dotenv\n",
    "import os\n",
    "import sys\n",
    "from pathlib import Path\n",
    "\n",
    "# Use the specific path to the .env file\n",
    "env_path = Path('/Users/ethangoldberg/Desktop/CS-Proj/PolyNewsDaily/PolyNewsDaily/.env')\n",
    "\n",
    "# Print current working directory for debugging\n",
    "current_dir = Path.cwd()\n",
    "print(f\"Current working directory: {current_dir}\")\n",
    "\n",
    "# Load the .env file from the specific location\n",
    "if env_path.exists():\n",
    "    print(f\"Found .env file at: {env_path}\")\n",
    "    load_dotenv(env_path)\n",
    "    env_loaded = True\n",
    "else:\n",
    "    print(f\"Could not find .env file at: {env_path}\")\n",
    "    env_loaded = False\n",
    "\n",
    "# Get environment variables\n",
    "news_api_key = os.getenv('NEWS_API_KEY')\n",
    "openai_api = os.getenv('OPENAI_API_KEY')\n",
    "tavily_api_key = os.getenv('TAVILY_API_KEY')\n",
    "smtp_pass = os.getenv('SMTP_PASS')\n",
    "\n",
    "# Print values to debug\n",
    "print(f\"SMTP_PASS: {'Found' if smtp_pass else 'Not found'}\")\n",
    "print(f\"NEWS_API_KEY: {'Found' if news_api_key else 'Not found'}\")\n",
    "print(f\"OPENAI_API_KEY: {'Found' if openai_api else 'Not found'}\")\n",
    "print(f\"TAVILY_API_KEY: {'Found' if tavily_api_key else 'Not found'}\")\n"
   ]
  },
  {
   "cell_type": "code",
   "execution_count": 13,
   "metadata": {},
   "outputs": [
    {
     "name": "stdout",
     "output_type": "stream",
     "text": [
      "OPENAI_API_KEY: Found\n"
     ]
    }
   ],
   "source": [
    "print('OPENAI_API_KEY:', 'Found' if openai_api else 'Not found')\n"
   ]
  },
  {
   "cell_type": "code",
   "execution_count": 14,
   "metadata": {
    "execution": {
     "iopub.execute_input": "2025-05-16T18:01:56.365975Z",
     "iopub.status.busy": "2025-05-16T18:01:56.365654Z",
     "iopub.status.idle": "2025-05-16T18:01:57.508354Z",
     "shell.execute_reply": "2025-05-16T18:01:57.506818Z"
    }
   },
   "outputs": [],
   "source": [
    "from langchain_core.messages import HumanMessage\n",
    "from langchain_openai import ChatOpenAI\n",
    "def generate_news_query(title, description) -> str:\n",
    "    llm = ChatOpenAI(model=\"gpt-5\", api_key=openai_api, temperature=1)  # gpt-5 requires default temp=1\n",
    "    \n",
    "    prompt = f\"\"\"\n",
    "    You are an expert in information retrieval and natural language processing. Your task is to analyze the title and description of a prediction market and generate optimal keywords for a news API search. These keywords should maximize the retrieval of relevant and informative news articles about the market's subject.\n",
    "bn\n",
    "    Given:\n",
    "    - Title: {title}\n",
    "    - Description: {description}\n",
    "\n",
    "    Instructions:\n",
    "    1. Carefully read and understand the title and description.\n",
    "    2. Identify the core subject matter, key entities, and central concepts.\n",
    "    3. Consider potential synonyms, related terms, and broader categories that might yield relevant results.\n",
    "    4. Avoid overly generic terms that might lead to irrelevant results.\n",
    "    5. Include any specific dates, events, or proper nouns mentioned that are crucial to the market.\n",
    "    6. Consider the timeframe of the prediction, if specified, and how it might affect keyword relevance.\n",
    "    7. Aim for a balance between specificity (to ensure relevance) and breadth (to capture a range of potentially useful articles).\n",
    "    8. Generate 1-3 keyword phrases, separated by commas if more than one.\n",
    "    9. Each keyword should always be ONE word. There are exceptions for when two or three words are closely linked like \"Donald Trump\" is two words but would be allowed.\n",
    "\n",
    "    Output your result in the following format. DO NOT say any other words or give any other explanation.\n",
    "    Keywords: [Your generated keywords]\n",
    "    \"\"\"\n",
    "    \n",
    "    response = llm.invoke([HumanMessage(content=prompt)])\n",
    "    \n",
    "    # Extract keywords from the response\n",
    "    keywords_line = [line for line in response.content.split('\\n') if line.startswith('Keywords:')][0]\n",
    "    keywords = keywords_line.split(':', 1)[1].strip()\n",
    "    keywords_array = [item.strip() for item in keywords.split(',')]\n",
    "    return keywords_array"
   ]
  },
  {
   "cell_type": "code",
   "execution_count": 15,
   "metadata": {
    "execution": {
     "iopub.execute_input": "2025-05-16T18:01:57.511701Z",
     "iopub.status.busy": "2025-05-16T18:01:57.511323Z",
     "iopub.status.idle": "2025-05-16T18:01:57.515198Z",
     "shell.execute_reply": "2025-05-16T18:01:57.514519Z"
    }
   },
   "outputs": [],
   "source": [
    "os.environ[\"TAVILY_API_KEY\"] = tavily_api_key\n",
    "tavily_getter = TavilySearchResults(max_results=10)"
   ]
  },
  {
   "cell_type": "code",
   "execution_count": 16,
   "metadata": {
    "execution": {
     "iopub.execute_input": "2025-05-16T18:01:57.518447Z",
     "iopub.status.busy": "2025-05-16T18:01:57.517940Z",
     "iopub.status.idle": "2025-05-16T18:01:57.524604Z",
     "shell.execute_reply": "2025-05-16T18:01:57.523809Z"
    }
   },
   "outputs": [],
   "source": [
    "def tavily_search(state: MarketInfo):\n",
    "    llm = ChatOpenAI(model=\"gpt-5\", api_key=openai_api, temperature=1)\n",
    "    search_instructions = \"\"\"You will be given the title, description, and end_date for a polymarket prediction market. \n",
    "\n",
    "Your goal is to generate a well-structured query for use in retrieval and / or web-search related to the market to provide context to the market. For example, there may be a market on whether Taylor Swift gets married in 2024. A good search query might be \"Taylor Swift Pregnancy Rumors 2024\".\n",
    "        \n",
    "First, analyze the market.\n",
    "\n",
    "Pay particular attention to the title, description, and dates for the market.\n",
    "\n",
    "Convert this final question into a well-structured web search query that will give important context to understand it.\n",
    "\n",
    "Title : {title}          \n",
    "\n",
    "Description : {description}\n",
    "\n",
    "End Date : {end_date}\n",
    "                                        \"\"\"\n",
    "    structured_llm = llm.with_structured_output(SearchQuery)\n",
    "    system_message = search_instructions.format(title=state.title, description=state.description, end_date = state.end_date)\n",
    "    search_query = structured_llm.invoke([SystemMessage(content=system_message)])\n",
    "\n",
    "    search_docs = tavily_getter.invoke(search_query.search_query)\n",
    "\n",
    "    if isinstance(search_docs, str):\n",
    "        print(\"Error: Expected a list of documents but got a string.\")\n",
    "        print(\"Response content:\", search_docs)\n",
    "        return {\"tavily_context\": [], \"links\": []} \n",
    "\n",
    "    formatted_search_docs = \"\\n\\n---\\n\\n\".join(\n",
    "        [\n",
    "            f'<Document href=\"{doc[\"url\"]}\"/>\\n{doc[\"content\"]}\\n</Document>'\n",
    "            for doc in search_docs\n",
    "        ]\n",
    "    )\n",
    "    links = [doc[\"url\"] for doc in search_docs]\n",
    "    print(links)\n",
    "    return {\"tavily_context\": [formatted_search_docs],\n",
    "            \"links\": links} \n"
   ]
  },
  {
   "cell_type": "code",
   "execution_count": 17,
   "metadata": {
    "execution": {
     "iopub.execute_input": "2025-05-16T18:01:57.528164Z",
     "iopub.status.busy": "2025-05-16T18:01:57.527739Z",
     "iopub.status.idle": "2025-05-16T18:01:57.534188Z",
     "shell.execute_reply": "2025-05-16T18:01:57.533483Z"
    }
   },
   "outputs": [],
   "source": [
    "def call_news_api(state: MarketInfo) -> MarketInfo:\n",
    "    keywords = generate_news_query(state.title, state.description)\n",
    "    print(keywords)\n",
    "    today = datetime.now().date()\n",
    "    from_date = (today - timedelta(days=3)).isoformat()\n",
    "    to_date = today.isoformat()\n",
    "    url = \"https://newsapi.org/v2/everything\"\n",
    "    for keyword in keywords:\n",
    "        params = {\n",
    "            \"from\": from_date,\n",
    "            \"to\": to_date,\n",
    "            \"apiKey\": news_api_key,\n",
    "            \"country\" : \"us\",\n",
    "            \"q\" : keyword,\n",
    "            \"pageSize\" : 2\n",
    "        }\n",
    "        response = requests.get(url, params=params)\n",
    "        data = response.json()\n",
    "        articles = data.get(\"articles\", [])\n",
    "        for article in articles:\n",
    "            article_info =  NewsArticles(\n",
    "            title=article['title'],\n",
    "            description=article['description'],\n",
    "            source_name=article['source']['name']\n",
    "        )\n",
    "            state.articles.append(article_info)\n",
    "\n",
    "    return state    \n"
   ]
  },
  {
   "cell_type": "code",
   "execution_count": 18,
   "metadata": {
    "execution": {
     "iopub.execute_input": "2025-05-16T18:01:57.537098Z",
     "iopub.status.busy": "2025-05-16T18:01:57.536783Z",
     "iopub.status.idle": "2025-05-16T18:01:57.543033Z",
     "shell.execute_reply": "2025-05-16T18:01:57.542235Z"
    }
   },
   "outputs": [],
   "source": [
    "class market_key_info(BaseModel):\n",
    "    what_is_the_market_asking_or_answering: str = Field(defualt=None, description= \"this should be a synposis of what this market is asking or answering\")\n",
    "    important_criteria: List[str] = Field(default_factory=List, description=\"a list of strings that describe important critera for a market and how it is resolved. includes timeline\")\n",
    "    completed: bool = Field(default=None, description=\"boolean indicating whether or not a market is essentially resolved. If the probability of all the options adds up to 0 or if the probability of any of the options is about 100, it is essentially guaranteed to already have happened or will happen\")\n",
    "    important_insights_context_or_reasoning : str = Field(default=None, description= \"summary of important context or insights that could be related to this market. if there is important context from the sources from the internet regarding a probability or a change\")"
   ]
  },
  {
   "cell_type": "code",
   "execution_count": 19,
   "metadata": {
    "execution": {
     "iopub.execute_input": "2025-05-16T18:01:57.546296Z",
     "iopub.status.busy": "2025-05-16T18:01:57.545917Z",
     "iopub.status.idle": "2025-05-16T18:01:57.550286Z",
     "shell.execute_reply": "2025-05-16T18:01:57.549514Z"
    }
   },
   "outputs": [],
   "source": [
    "class article_score(BaseModel):\n",
    "    score: int = Field(default=5, descrption=\"score for the article 0-10\")"
   ]
  },
  {
   "cell_type": "code",
   "execution_count": 20,
   "metadata": {
    "execution": {
     "iopub.execute_input": "2025-05-16T18:01:57.553163Z",
     "iopub.status.busy": "2025-05-16T18:01:57.552866Z",
     "iopub.status.idle": "2025-05-16T18:01:57.607499Z",
     "shell.execute_reply": "2025-05-16T18:01:57.606391Z"
    }
   },
   "outputs": [
    {
     "name": "stderr",
     "output_type": "stream",
     "text": [
      "/Users/ethangoldberg/Desktop/CS-Proj/PolyNewsDaily/.venv/lib/python3.13/site-packages/IPython/core/interactiveshell.py:3639: UserWarning: WARNING! parallel_tool_calls is not default parameter.\n",
      "                parallel_tool_calls was transferred to model_kwargs.\n",
      "                Please confirm that parallel_tool_calls is what you intended.\n",
      "  if await self.run_code(code, result, async_=asy):\n"
     ]
    }
   ],
   "source": [
    "llm = ChatOpenAI(model=\"gpt-5\", api_key=openai_api, temperature=1, parallel_tool_calls=False)"
   ]
  },
  {
   "cell_type": "code",
   "execution_count": null,
   "metadata": {
    "execution": {
     "iopub.execute_input": "2025-05-16T18:01:57.611161Z",
     "iopub.status.busy": "2025-05-16T18:01:57.610792Z",
     "iopub.status.idle": "2025-05-16T18:01:57.627827Z",
     "shell.execute_reply": "2025-05-16T18:01:57.627135Z"
    }
   },
   "outputs": [
    {
     "name": "stdout",
     "output_type": "stream",
     "text": [
      "Test passed. Headline: Widget Corp likely to finalize its acquisition by June 30, 2024\n",
      "Subheader: Resolves on official confirmation by June 30; any delay means No.\n",
      "Blurb: Widget Corp aims to finalize its acquisition by June 30, 2024, per market criteria.\n",
      "\n",
      "Odds sit at 80%, up 2.5 points in 24 hours, with the CEO saying on track.\n",
      "\n",
      "Watch for official confirmation before June 30; any delay beyond that date resolves to No.\n",
      "Ticker: WIDGET-Q2-MERGER\n",
      "Links: ['https://widgetnews.com/merger', 'https://finance.example.com/widget']\n"
     ]
    }
   ],
   "source": [
    "def generate_newsletter_content(market: MarketInfo):\n",
    "    \"\"\"\n",
    "    Single-pass pipeline:\n",
    "      1) LLM extracts & normalizes facts directly from full MarketInfo (including description, options, tavily_context, articles).\n",
    "      2) LLM writes headline / subheader / blurb using those facts + an internally suggested angle.\n",
    "    No post-generation checks. No outside references. No multi-variant generation.\n",
    "    \"\"\"\n",
    "    import json\n",
    "    import re\n",
    "\n",
    "    # ---- 0) Prep ----------------------------------------------------------------\n",
    "    full_context = {\n",
    "        \"title\": market.title,\n",
    "        \"ticker\": market.ticker,\n",
    "        \"description\": market.description,\n",
    "        \"end_date\": market.end_date,\n",
    "        \"volume\": market.volume,\n",
    "        \"featured\": market.featured,\n",
    "        \"volume24hr\": market.volume24hr,\n",
    "        \"commentCount\": market.commentCount,\n",
    "        \"options\": market.options,\n",
    "        \"tags\": market.tags,\n",
    "        \"tavily_context\": market.tavily_context,\n",
    "        \"links\": market.links,\n",
    "        \"articles\": [a.dict() for a in market.articles] if market.articles else [],\n",
    "    }\n",
    "\n",
    "    # ---- 1) Extract & normalize facts ------------------------------------------\n",
    "    extractor_llm = ChatOpenAI(model=\"gpt-5\", api_key=openai_api, temperature=1)  # colder & consistent\n",
    "\n",
    "    extraction_prompt = (\n",
    "        \"You are a precise fact extractor for a prediction-market newsletter. Extract ONLY from the JSON provided.\\n\"\n",
    "        \"Return STRICT JSON (no prose). If unknown, use null or [].\\n\\n\"\n",
    "        \"Schema:\\n\"\n",
    "        \"{\\n\"\n",
    "        '  \"what_market_asks\": \"one sentence synopsis of the question, plain\",\\n'\n",
    "        '  \"timebox\": \"short human-readable end_date or \\'unknown\\'\",\\n'\n",
    "        '  \"criteria_bullets\": [\"1–3 bullets from description with concrete resolution/timing details\"],\\n'\n",
    "        '  \"primary_outcome\": \"Yes/No or option name or null\",\\n'\n",
    "        '  \"primary_probability_pct\": 0,\\n'\n",
    "        '  \"one_day_change\": null,\\n'\n",
    "        '  \"secondary_outcomes\": [{\"outcome\":\"name\",\"probability_pct\":0}],\\n'\n",
    "        '  \"context_bullets\": [\"0–3 short items from tavily_context or articles\"],\\n'\n",
    "        '  \"salient_numbers\": [\"e.g., Volume: $X, 24h: $Y\"],\\n'\n",
    "        '  \"subject\": \"primary named entity (company/person/government) that the market is about, from title/description\",\\n'\n",
    "        '  \"counterparty\": \"the other side in deals (acquirer/target, team/opponent, bill/chamber), if present; else null\",\\n'\n",
    "        '  \"deal_object\": \"what is being acquired/approved/passed (e.g., \\'Acme Corp\\', \\'BetaCo assets\\') or null\",\\n'\n",
    "        '  \"action_verb\": \"canonical verb for the event (e.g., finalize, approve, pass, launch)\",\\n'\n",
    "        '  \"display_subject\": \"If subject and counterparty exist, format \\'Subject–Counterparty\\'; else subject\",\\n'\n",
    "        '  \"stance\": \"one of: likely | unlikely | knife-edge (derive from primary_probability_pct: >=60 likely, <=40 unlikely, else knife-edge)\",\\n'\n",
    "        '  \"angle_suggestion\": \"one of: clock | momentum | divergence | criteria\"\\n'\n",
    "        \"}\\n\\n\"\n",
    "        \"Use ONLY this MarketInfo JSON:\\n\"\n",
    "        + json.dumps(full_context, ensure_ascii=False)\n",
    "    )\n",
    "\n",
    "    extraction_resp = extractor_llm.invoke([HumanMessage(content=extraction_prompt)])\n",
    "    try:\n",
    "        facts = json.loads(extraction_resp.content)\n",
    "    except Exception:\n",
    "        facts = {\n",
    "            \"what_market_asks\": market.title or \"Unknown\",\n",
    "            \"timebox\": \"unknown\",\n",
    "            \"criteria_bullets\": [],\n",
    "            \"primary_outcome\": None,\n",
    "            \"primary_probability_pct\": None,\n",
    "            \"one_day_change\": None,\n",
    "            \"secondary_outcomes\": [],\n",
    "            \"context_bullets\": [],\n",
    "            \"salient_numbers\": [],\n",
    "            \"subject\": market.title or None,\n",
    "            \"counterparty\": None,\n",
    "            \"deal_object\": None,\n",
    "            \"action_verb\": None,\n",
    "            \"display_subject\": market.title or \"This market\",\n",
    "            \"stance\": \"knife-edge\",\n",
    "            \"angle_suggestion\": \"clock\",\n",
    "        }\n",
    "\n",
    "    # ---- 2) Write headline / subheader / blurb --------------------------------\n",
    "    # One-pass writer with strong, compact, in-prompt constraints and few-shots.\n",
    "    writer_llm = ChatOpenAI(model=\"gpt-5\", api_key=openai_api, temperature=1)\n",
    "\n",
    "    few_shot_examples = (\n",
    "        \"EXAMPLE 1\\n\"\n",
    "        \"FACTS:\\n\"\n",
    "        '- display_subject: \"Acme–BetaCo\"\\n'\n",
    "        '- action_verb: \"finalize\"\\n'\n",
    "        '- stance: \"unlikely\"\\n'\n",
    "        '- timebox: \"by Sunday 11:59 pm ET\"\\n'\n",
    "        '- primary_probability_pct: 32\\n'\n",
    "        '- one_day_change: -6.0\\n'\n",
    "        '- criteria_bullets: [\"Resolves on public completion notice before deadline\"]\\n'\n",
    "        '- context_bullets: [\"Regulator flagged data issues\"]\\n'\n",
    "        \"OUTPUT:\\n\"\n",
    "        \"**Acme–BetaCo unlikely to finalize by Sunday**\\n\"\n",
    "        \"Resolution requires a public completion notice; reviewer flagged issues.\\n\"\n",
    "        \"Price sits near one-in-three after a 6-point drop. Watch for a formal notice or an extension filing before the deadline.\\n\\n\"\n",
    "        \"EXAMPLE 2\\n\"\n",
    "        \"FACTS:\\n\"\n",
    "        '- display_subject: \"Country A central bank\"\\n'\n",
    "        '- action_verb: \"cut\"\\n'\n",
    "        '- stance: \"likely\"\\n'\n",
    "        '- timebox: \"this week\"\\n'\n",
    "        '- primary_probability_pct: 72\\n'\n",
    "        '- one_day_change: +9.0\\n'\n",
    "        '- criteria_bullets: [\"Resolves on decision statement\"]\\n'\n",
    "        '- context_bullets: [\"Inflation cooled\"]\\n'\n",
    "        \"OUTPUT:\\n\"\n",
    "        \"**Rate cut likely this week for Country A**\\n\"\n",
    "        \"Outcome hinges on the decision statement; softer inflation supports a move.\\n\"\n",
    "        \"Odds rose 9 points to 72%. Watch wording and any split votes.\"\n",
    "    )\n",
    "\n",
    "    writer_prompt = (\n",
    "        \"You are a newsroom editor. Use ONLY the FACTS JSON. No outside info.\\n\\n\"\n",
    "        \"HEADLINE RULES:\\n\"\n",
    "        \"- 6–12 words; active; no questions.\\n\"\n",
    "        \"- Must include display_subject (exact) and a stance word that matches stance:\\n\"\n",
    "        \"  likely → “likely/on track”; unlikely → “unlikely/at risk”; knife-edge → “too close to call/split odds”.\\n\"\n",
    "        \"- If timebox is known, include a time cue (e.g., “by Friday”, “this week”).\\n\"\n",
    "        \"- If action_verb exists, state it (finalize/approve/pass/etc.).\\n\"\n",
    "        \"- Avoid generic nouns alone (e.g., “acquisition” without whose acquisition).\\n\\n\"\n",
    "        \"SUBHEADER RULES:\\n\"\n",
    "        \"- One line; must add *why this matters* (criteria, trigger, or decisive context), not repeat headline nouns.\\n\"\n",
    "        \"- Prefer criteria if present; otherwise a single strongest context bullet.\\n\\n\"\n",
    "        \"BLURB RULES (≤3 short paragraphs, 12–18 words per sentence):\\n\"\n",
    "        \"1) Lead sentence: subject + action + timebox/criteria.\\n\"\n",
    "        \"2) Second: numeric specifics (probability and 24h change) and one concrete fact.\\n\"\n",
    "        \"3) Third: what to watch next (a document, docket, meeting, or deadline).\\n\"\n",
    "        \"No filler; newsroom tone; write for a general reader.\\n\\n\"\n",
    "        \"FACTS:\\n\" + json.dumps(facts, ensure_ascii=False) + \"\\n\\n\"\n",
    "        \"Format exactly:\\n\"\n",
    "        \"**[HEADLINE]**\\n\"\n",
    "        \"[SUBHEADER]\\n\"\n",
    "        \"[BLURB]\"\n",
    "    )\n",
    "\n",
    "    writer_resp = writer_llm.invoke([HumanMessage(content=writer_prompt)])\n",
    "    final_text = writer_resp.content\n",
    "\n",
    "\n",
    "    # ---- 3) Parse into ArticleOutput ------------------------------------------\n",
    "    # Robust parsing:\n",
    "    # - Headline is the first non-empty line, ideally wrapped in **...**; strip the asterisks if present.\n",
    "    # - Subheader is the next non-empty line.\n",
    "    # - Blurb is everything after the subheader (preserve original newlines), trimmed of leading blank lines.\n",
    "    lines = final_text.splitlines()\n",
    "\n",
    "    # Helper to find next non-empty index from start index (inclusive)\n",
    "    def next_non_empty(idx):\n",
    "        while idx < len(lines) and lines[idx].strip() == \"\":\n",
    "            idx += 1\n",
    "        return idx\n",
    "\n",
    "    i = next_non_empty(0)\n",
    "    if i >= len(lines):\n",
    "        # Fallback: if formatting is unexpected, put everything in blurb\n",
    "        headline = (market.title or \"Market update\").strip()\n",
    "        subheader = \"Automated summary\"\n",
    "        blurb_text = final_text.strip()\n",
    "    else:\n",
    "        raw_headline = lines[i].strip()\n",
    "        # Strip bold markers if present at both ends\n",
    "        m = re.match(r\"^\\*\\*(.+)\\*\\*$\", raw_headline)\n",
    "        headline = m.group(1).strip() if m else raw_headline.strip(\"* \").strip()\n",
    "        # Find subheader\n",
    "        j = next_non_empty(i + 1)\n",
    "        if j >= len(lines):\n",
    "            subheader = \"Automated summary\"\n",
    "            blurb_text = \"\"\n",
    "        else:\n",
    "            subheader = lines[j].strip()\n",
    "            # Blurb is everything after j\n",
    "            k = j + 1\n",
    "            # Trim leading blank lines in blurb\n",
    "            while k < len(lines) and lines[k].strip() == \"\":\n",
    "                k += 1\n",
    "            blurb_text = \"\\n\".join(lines[k:]).strip()\n",
    "\n",
    "    article = ArticleOutput(\n",
    "        headline=headline,\n",
    "        subheader=subheader,\n",
    "        blurb=blurb_text if blurb_text else None,\n",
    "        score=None,\n",
    "        ticker=market.ticker,\n",
    "        links=market.links or []\n",
    "    )\n",
    "\n",
    "    # ---- 4) Return structure ---------------------------------------------------\n",
    "    # Generate and add image_url\n",
    "    image_url = generate_and_upload_image(article.headline, article.blurb)\n",
    "    article.image_url = image_url\n",
    "\n",
    "    return {\"newsletter_content\": [article]}\n"
   ]
  },
  {
   "cell_type": "code",
   "execution_count": null,
   "metadata": {},
   "outputs": [],
   "source": [
    "import os\n",
    "import cloudinary\n",
    "import cloudinary.uploader\n",
    "from openai import OpenAI\n",
    "\n",
    "# Configure Cloudinary (use your credentials)\n",
    "cloudinary.config(\n",
    "    cloud_name=os.getenv('CLOUDINARY_CLOUD_NAME'),\n",
    "    api_key=os.getenv('CLOUDINARY_API_KEY'),\n",
    "    api_secret=os.getenv('CLOUDINARY_API_SECRET')\n",
    ")\n",
    "\n",
    "# OpenAI client\n",
    "openai_client = OpenAI(api_key=os.getenv('OPENAI_API_KEY'))\n",
    "\n",
    "def generate_and_upload_image(headline, blurb):\n",
    "    try:\n",
    "        # Generate image with DALL-E\n",
    "        response = openai_client.images.generate(\n",
    "            model=\"dall-e-3\",\n",
    "            prompt=f\"A realistic news-style image for: {headline}. {blurb[:100]}\",  # Truncate blurb if needed\n",
    "            size=\"1024x1024\",\n",
    "            quality=\"standard\",\n",
    "            n=1\n",
    "        )\n",
    "        image_url = response.data[0].url\n",
    "        \n",
    "        # Upload to Cloudinary\n",
    "        upload_result = cloudinary.uploader.upload(image_url)\n",
    "        return upload_result['secure_url']\n",
    "    except Exception as e:\n",
    "        print(f\"Error generating/uploading image: {e}\")\n",
    "        return None\n"
   ]
  },
  {
   "cell_type": "code",
   "execution_count": null,
   "metadata": {},
   "outputs": [],
   "source": []
  },
  {
   "cell_type": "code",
   "execution_count": 28,
   "metadata": {
    "execution": {
     "iopub.execute_input": "2025-05-16T18:01:57.631024Z",
     "iopub.status.busy": "2025-05-16T18:01:57.630711Z",
     "iopub.status.idle": "2025-05-16T18:01:57.634323Z",
     "shell.execute_reply": "2025-05-16T18:01:57.633631Z"
    }
   },
   "outputs": [],
   "source": [
    "def continue_to_markets(state: OverallGraph):\n",
    "    return [Send(\"parallel_article_writing\", market) for market in state.markets_list]"
   ]
  },
  {
   "cell_type": "markdown",
   "metadata": {},
   "source": []
  },
  {
   "cell_type": "code",
   "execution_count": 29,
   "metadata": {
    "execution": {
     "iopub.execute_input": "2025-05-16T18:01:57.637054Z",
     "iopub.status.busy": "2025-05-16T18:01:57.636775Z",
     "iopub.status.idle": "2025-05-16T18:01:57.642025Z",
     "shell.execute_reply": "2025-05-16T18:01:57.640915Z"
    }
   },
   "outputs": [],
   "source": [
    "from typing import List, Dict, Optional\n",
    "from pydantic import BaseModel, Field\n",
    "from dataclasses import dataclass\n",
    "import math\n",
    "class ArticleGroup(BaseModel):\n",
    "    title: str = Field(..., description=\"Concise, 1–5 words, Title Case, no emojis, no dates\")\n",
    "    subtitle: Optional[str] = Field(\n",
    "        default=None,\n",
    "        description=\"Optional 1-sentence descriptor clarifying the theme; omit if unnecessary\"\n",
    "    )\n",
    "    article_ids: List[int] = Field(\n",
    "        ...,\n",
    "        description=\"IDs of the articles in this group, 1–8 items, each ID used exactly once globally\"\n",
    "    )\n",
    "\n",
    "class ArticleGroups(BaseModel):\n",
    "    thinking: Optional[str] = Field(\n",
    "        default=None,\n",
    "        description=\"Short note on how the groupings and titles were derived\"\n",
    "    )\n",
    "    groups: List[ArticleGroup] = Field(\n",
    "        ...,\n",
    "        description=\"Ordered list of groups; order will be used in the newsletter\"\n",
    "    )\n"
   ]
  },
  {
   "cell_type": "code",
   "execution_count": 30,
   "metadata": {
    "execution": {
     "iopub.execute_input": "2025-05-16T18:01:57.645020Z",
     "iopub.status.busy": "2025-05-16T18:01:57.644685Z",
     "iopub.status.idle": "2025-05-16T18:01:57.656524Z",
     "shell.execute_reply": "2025-05-16T18:01:57.655807Z"
    }
   },
   "outputs": [],
   "source": [
    "def enumerate_articles(articles):\n",
    "    return \"\\n\".join(f\"{article}\" for article in articles)\n",
    "import math\n",
    "def generate_groups(state: OverallGraph):\n",
    "    llm = ChatOpenAI(model=\"gpt-5\", api_key=openai_api,seed=42, temperature=1)\n",
    "    structured_llm = llm.with_structured_output(ArticleGroups)\n",
    "\n",
    "    formatted_articles = \"\\n\".join([f\"{a.id}: {a.headline}\" for a in state.newsletter_content])\n",
    "    N = len(state.newsletter_content)\n",
    "    num_cats_min = max(2, math.ceil(N/8))\n",
    "    num_cats_max = min(6, math.ceil(N/3))\n",
    "    group_min = 2 if N < 9 else 3\n",
    "    system_rules = f\"\"\"\n",
    "You are an expert news curator and section editor. Group related articles and name the sections.\n",
    "\n",
    "HARD REQUIREMENTS (do not violate):\n",
    "- Use ONLY the provided integer IDs; do not invent or skip any.\n",
    "- Use EVERY ID exactly once across all groups; no duplicates, no leftovers.\n",
    "- Each group MUST contain at least 2 articles (inclusive).\n",
    "- Output MUST follow the provided JSON schema exactly (no extra keys).\n",
    "- Titles: 2–4 words, Title Case, no emojis, no quotes, no dates, no source names.\n",
    "- Avoid near-duplicate titles across groups; make them distinct.\n",
    "- If a group’s theme is obvious, you may omit the subtitle; otherwise, include a short clarifier.\n",
    "\n",
    "Editorial guidance:\n",
    "- Prefer thematic cohesion (topic, actor, geography, sector, or consequence).\n",
    "- Balance group sizes; if one group becomes too large, split it along a clear subtheme.\n",
    "- For naming, aim for compact, newsroom-style labels (e.g., \"US Politics\", \"Global Economy\", \"AI & Chips\", \"Climate Policy\").\n",
    "- Order groups from broad/global to specific/niche when reasonable.\n",
    "\n",
    "Return ONLY valid structured output for the ArticleGroups schema. No extra explanation outside the JSON.\n",
    "\"\"\".strip()\n",
    "    example = {\n",
    "        \"thinking\": \"Clustered by geopolitical, domestic policy, tech/AI, and culture themes.\",\n",
    "        \"groups\": [\n",
    "            {\n",
    "                \"title\": \"Global Affairs\",\n",
    "                \"subtitle\": \"Conflicts, diplomacy, and macro shocks shaping international dynamics.\",\n",
    "                \"article_ids\": [1, 4, 7]\n",
    "            },\n",
    "            {\n",
    "                \"title\": \"US Politics\",\n",
    "                \"subtitle\": \"Elections, legislation, and federal policy shifts.\",\n",
    "                \"article_ids\": [2, 5, 8]\n",
    "            },\n",
    "            {\n",
    "                \"title\": \"Culture & Media\",\n",
    "                \"subtitle\": None,\n",
    "                \"article_ids\": [3, 6, 9]\n",
    "            }\n",
    "        ]\n",
    "    }\n",
    "    messages = [\n",
    "        SystemMessage(content=system_rules + \"\\n\\nExample (illustrative only):\\n\" + str(example)),\n",
    "        HumanMessage(content=f\"Articles (id: headline):\\n{formatted_articles}\\n\")\n",
    "    ]\n",
    "    result: ArticleGroups = structured_llm.invoke(messages)\n",
    "    print(\"result: \", result)\n",
    "    return {\"article_groups\": result.groups}\n",
    "\n",
    "def send_redundant_groups(state : OverallGraph):\n",
    "    if state.done == True:\n",
    "        print(\"ending\")\n",
    "        print(\"state before ending: \", state)\n",
    "        return END\n",
    "    list_of_lists_of_articles =[]\n",
    "    for redundant_group in state.redundant_groups:\n",
    "        articles_idx_individual = [state.newsletter_content[index] for index in redundant_group]\n",
    "        list_of_lists_of_articles.append(articles_idx_individual)\n",
    "    print(list_of_lists_of_articles)\n",
    "    return [Send(\"combine_articles\", articles) for articles in list_of_lists_of_articles]\n",
    "def combine_articles(articles):\n",
    "    print('fixing this redundant group')\n",
    "    llm = ChatOpenAI(model=\"gpt-5\", api_key=openai_api, temperature=1)\n",
    "    structured_llm = llm.with_structured_output(ArticleOutput)\n",
    "    prompt = f\"\"\"\n",
    "    You are a skilled AI editor tasked with condensing multiple prediction market newsletter articles into a single, comprehensive article. Your goal is to distill the most crucial information from each input article while maintaining the engaging style and format of the original pieces.\n",
    "    Input:\n",
    "    You will receive a list of newsletter articles, each following this structure:\n",
    "    Headline: [Attention-grabbing headline]\n",
    "    Subheader: [Supporting subheader adding context]\n",
    "    Blurb: [2-3 sentence paragraph expanding on the headline and subheader]\n",
    "    Instructions:\n",
    "\n",
    "    Analyze all input articles, identifying the most significant and intriguing information from each.\n",
    "    Create a new, overarching headline that captures the essence of the combined articles.\n",
    "    Craft a subheader that provides additional context for the main headline.\n",
    "    Write a concise blurb that synthesizes the key points from all input articles. This blurb should:\n",
    "\n",
    "    Highlight the most interesting prediction market probabilities and movements.\n",
    "    Mention any relevant time frames or end dates for the markets.\n",
    "    Include any notable contrasts with traditional news reporting, if applicable.\n",
    "    Preserve the confident, slightly irreverent tone of the original articles.\n",
    "\n",
    "\n",
    "    Ensure your writing is engaging and assumes an audience familiar with prediction markets.\n",
    "    Be as concise as possible while encoding the maximum amount of relevant information.\n",
    "\n",
    "    Your output should follow this format:\n",
    "    Headline: [Your new, overarching headline]\n",
    "    Subheader: [A supporting subheader that adds context]\n",
    "    Blurb: [A 3-4 sentence paragraph synthesizing key information from all input articles]\n",
    "    Remember to use the exact formatting with the bold markers (**) as shown above.\n",
    "    Now, using the provided input articles, generate a single, comprehensive newsletter article that captures the most crucial information while maintaining the engaging style and format of the original pieces.\n",
    "    Here are the articles:\n",
    "    {articles}\"\"\"\n",
    "    response = structured_llm.invoke([SystemMessage(content=prompt)])\n",
    "    print(\"made this new article out of \", len(articles), \" articles with the headline: \", response.headline)\n",
    "     \n",
    "    return {\"newsletter_content\" : [ArticleOutput(\n",
    "            headline=response.headline,\n",
    "            subheader=response.subheader,\n",
    "            blurb=response.blurb\n",
    "        )]}\n",
    "def remove_redundants(state: OverallGraph):\n",
    "    print(\"removing redundants\")\n",
    "    flat_indices = set([index for sublist in state.redundant_groups for index in sublist])\n",
    "    # Remove items from each sublist\n",
    "    state.newsletter_content = [item for i, item in enumerate(state.newsletter_content) if i not in flat_indices]\n",
    "    return state"
   ]
  },
  {
   "cell_type": "code",
   "execution_count": 31,
   "metadata": {
    "execution": {
     "iopub.execute_input": "2025-05-16T18:01:57.660181Z",
     "iopub.status.busy": "2025-05-16T18:01:57.659854Z",
     "iopub.status.idle": "2025-05-16T18:01:57.664541Z",
     "shell.execute_reply": "2025-05-16T18:01:57.663847Z"
    }
   },
   "outputs": [],
   "source": [
    "def check_if_done(state : OverallGraph):\n",
    "    if state.done == True:\n",
    "        return END\n",
    "    else:\n",
    "        return 'combine_similar'\n",
    "    \n",
    "def deduplicate_articles(state: OverallGraph):\n",
    "    return [Send(\"parallel_article_writing\", market) for market in state.markets_list]"
   ]
  },
  {
   "cell_type": "code",
   "execution_count": 32,
   "metadata": {
    "execution": {
     "iopub.execute_input": "2025-05-16T18:01:57.667648Z",
     "iopub.status.busy": "2025-05-16T18:01:57.667238Z",
     "iopub.status.idle": "2025-05-16T18:01:57.673244Z",
     "shell.execute_reply": "2025-05-16T18:01:57.672486Z"
    }
   },
   "outputs": [],
   "source": [
    "# Define the graph\n",
    "from IPython.display import Image, display\n",
    "def define_workflow():\n",
    "    workflow = StateGraph(MarketInfo)\n",
    "    \n",
    "    workflow.add_node(\"get_context\", tavily_search)\n",
    "    workflow.add_node(\"generate_newsletter\", generate_newsletter_content)\n",
    "    \n",
    "    workflow.set_entry_point(\"get_context\")\n",
    "    workflow.add_edge(\"get_context\", \"generate_newsletter\")\n",
    "    workflow.add_edge(\"generate_newsletter\", END)\n",
    "\n",
    "    parallel_workflow = StateGraph(OverallGraph)\n",
    "\n",
    "    parallel_workflow.add_node(\"parallel_article_writing\", workflow.compile())\n",
    "    parallel_workflow.set_conditional_entry_point(continue_to_markets, [\"parallel_article_writing\"])\n",
    "    parallel_workflow.add_node(\"generate_groups\", generate_groups)\n",
    "    parallel_workflow.add_edge(\"parallel_article_writing\", \"generate_groups\")\n",
    "    # parallel_workflow.add_node(\"combine_articles\", combine_articles)\n",
    "    # parallel_workflow.add_conditional_edges(\"generate_groups\", send_redundant_groups, [\"combine_articles\", END])\n",
    "    # parallel_workflow.add_node(\"remove_redundants\", remove_redundants)\n",
    "    # parallel_workflow.add_edge(\"combine_articles\", \"remove_redundants\")\n",
    "    parallel_workflow.add_edge(\"generate_groups\", END)\n",
    "    react_graph = parallel_workflow.compile()\n",
    "    \n",
    "\n",
    "\n",
    "    \n",
    "\n",
    "    # Show\n",
    "    #display(Image(react_graph.get_graph(xray=True).draw_mermaid_png()))\n",
    "    \n",
    "    return react_graph"
   ]
  },
  {
   "cell_type": "code",
   "execution_count": 33,
   "metadata": {
    "execution": {
     "iopub.execute_input": "2025-05-16T18:01:57.676879Z",
     "iopub.status.busy": "2025-05-16T18:01:57.676562Z",
     "iopub.status.idle": "2025-05-16T18:01:57.683549Z",
     "shell.execute_reply": "2025-05-16T18:01:57.682840Z"
    }
   },
   "outputs": [],
   "source": [
    "def articles_wrapper(days_in_past):\n",
    "    market_info_list = []\n",
    "    graph = define_workflow()\n",
    "    articles = []\n",
    "    full_info = []\n",
    "    markets = get_markets_for_date_range(days_in_past=days_in_past, limit=75)\n",
    "    excluded_tags = [\"Crypto\", \"Weather\", \"Mentions\", \"Sports\"]\n",
    "    filtered_markets = [market for market in markets if not any(tag['label'] in excluded_tags for tag in market.get('tags', []))]\n",
    "    sorted_markets_by_interest = sorted(\n",
    "    {market['title']: market for market in filtered_markets if market.get('interest_score', 0) > 100}.values(),\n",
    "    key=lambda x: x.get('interest_score', 0),\n",
    "    reverse=True\n",
    ")\n",
    "    print(\"len of markets post score cutoff: \", len(sorted_markets_by_interest))\n",
    "    for market in sorted_markets_by_interest:\n",
    "        market_info_example = MarketInfo(**market)\n",
    "        # market_end_result = app.invoke(market_info_example)\n",
    "        market_info_list.append(market_info_example)\n",
    "        # if market_end_result['newsletter_content']:\n",
    "        #     articles.append(market_end_result['newsletter_content'])\n",
    "        #     full_info.append(market_end_result)\n",
    "    print(\"number of markets going into the graph: \",len(market_info_list))\n",
    "    markets_model = OverallGraph(markets_list=market_info_list)\n",
    "    result = graph.invoke(markets_model)\n",
    "    \n",
    "    return result"
   ]
  },
  {
   "cell_type": "code",
   "execution_count": 34,
   "metadata": {
    "execution": {
     "iopub.execute_input": "2025-05-16T18:01:57.686400Z",
     "iopub.status.busy": "2025-05-16T18:01:57.686128Z",
     "iopub.status.idle": "2025-05-16T18:02:46.291171Z",
     "shell.execute_reply": "2025-05-16T18:02:46.290171Z"
    }
   },
   "outputs": [
    {
     "name": "stdout",
     "output_type": "stream",
     "text": [
      "len of markets post score cutoff:  7\n",
      "number of markets going into the graph:  7\n",
      "['https://www.polygon.com/awards/546327/game-of-the-year-game-awards-2025-frontrunners/', 'https://www.imdb.com/list/ls590425749/', 'https://www.youtube.com/watch?v=jpLUdgffcLU', 'https://thegameawards.com/', 'https://www.youtube.com/watch?v=xWhXiNXf4dk', 'https://duniagames.co.id/discover/article/the-game-awards-2025-goty-predictions-who-will-take-the-crown/en', 'https://www.thegamer.com/goty-game-of-the-year-2025-predictions-unsure-silksong-expedition-33/', 'https://spritecell.com/mp8-the-game-awards/', 'https://www.reddit.com/r/TheGamerLounge/comments/1o0kzrr/the_game_awards_kick_off_on_december_11_whos_your/', 'https://steamcommunity.com/discussions/forum/0/592912124322331194/']\n",
      "['https://www.kiplinger.com/investing/when-is-the-next-fed-meeting', 'https://www.bankrate.com/banking/federal-reserve/fomc-what-to-expect/', 'https://growbeansprout.com/tools/fedwatch', 'https://www.federalreserve.gov/monetarypolicy/fomcminutes20250917.htm', 'https://www.aa.com.tr/en/economy/us-federal-reserve-expected-to-continue-easing-cycle-in-2026-experts/3727598', 'https://www.federalreserve.gov/monetarypolicy/fomcminutes20250618.htm', 'https://www.federalreserve.gov/monetarypolicy/fomccalendars.htm', 'https://equalsmoney.com/economic-calendar/events/fed-interest-rate-decision', 'https://www.cmegroup.com/markets/interest-rates/cme-fedwatch-tool.html', 'https://www.atlantafed.org/cenfis/market-probability-tracker']\n",
      "['https://www.bls.gov/news.release/cpi.nr0.htm', 'https://www.bls.gov/news.release/cpi.toc.htm', 'https://www.usinflationcalculator.com/inflation/consumer-price-index-release-schedule/', 'https://www.bls.gov/news.release/cpi.htm', 'https://www.bls.gov/regions/west/news-release/consumerpriceindex_losangeles.htm', 'https://www.forbes.com/sites/eriksherman/2025/10/25/heres-what-inflation-is-really-telling-us-in-october-2025/', 'https://www.bls.gov/charts/consumer-price-index/consumer-price-index-by-category-line-chart.htm', 'https://www.bls.gov/schedule/news_release/cpi.htm', 'https://www.bls.gov/charts/consumer-price-index/consumer-price-index-by-category.htm', 'https://fred.stlouisfed.org/series/CPIAUCSL']\n",
      "['https://www.criticalthreats.org/analysis/russian-offensive-campaign-assessment-september-23-2025', 'https://www.criticalthreats.org/analysis/russian-offensive-campaign-assessment-september-1-2025', 'https://www.understandingwar.org/analysis/russia-ukraine/russian-offensive-campaign-assessment/', 'https://en.wikipedia.org/wiki/Territorial_control_of_Donetsk_Oblast_during_the_Russo-Ukrainian_War', 'https://understandingwar.org/research/russia-ukraine/russian-offensive-campaign-assessment-october-24-2025/', 'https://storymaps.arcgis.com/stories/36a7f6a6f5a9448496de641cf64bd375', 'https://en.wikipedia.org/wiki/Dobropillia_offensive', 'https://news.az/news/-ukraine-russia-war-latest-developments-over-the-past-week', 'https://www.nzz.ch/english/ukraine-war-interactive-map-of-the-current-front-line-ld.1688087', 'https://read.bradyafrick.com/p/russian-field-fortifications-in-ukraine']\n",
      "['https://www.lemonde.fr/en/le-monde-africa/article/2025/10/27/cameroon-s-veteran-leader-paul-biya-wins-controversial-eighth-term_6746821_124.html', 'https://theguardianpostcameroon.com/post/5089/fr/2025-presidentials-implications-of-tchiroma-s', 'https://www.dailysabah.com/world/africa/cameroons-paul-biya-92-extends-43-year-rule-with-8th-term-win', 'https://www.cnn.com/2025/10/27/africa/cameroons-biya-wins-re-election-intl', 'https://www.reuters.com/world/africa/cameroons-biya-92-brushes-off-health-fears-bid-new-term-2025-07-14/', 'https://www.reuters.com/world/africa/cameroon-leaders-ally-quits-launches-challenge-political-shake-up-2025-06-27/', 'https://au.int/en/pressreleases/20251028/auc-chairperson-congratulates-he-president-paul-biya-re-election', 'https://theconversation.com/paul-biyas-life-presidency-in-cameroon-enters-a-fragile-final-phase-268429', 'https://africasacountry.com/2025/10/after-paul-biya', 'https://www.reuters.com/world/africa/cameroons-biya-vies-eighth-term-former-spokesperson-challenging-him-2025-10-09/']\n",
      "['https://understandingwar.org/research/russia-ukraine/russian-offensive-campaign-assessment-august-25-2025/', 'https://understandingwar.org/research/russia-ukraine/russian-offensive-campaign-assessment-october-9-2025/', 'https://understandingwar.org/research/russia-ukraine/russian-offensive-campaign-assessment-october-24-2025/', 'https://understandingwar.org/research/russia-ukraine/russian-offensive-campaign-assessment-october-26-2025/', 'https://understandingwar.org/research/russia-ukraine/russian-offensive-campaign-assessment-october-14-2025/', 'https://understandingwar.org/research/russia-ukraine/russian-offensive-campaign-assessment-august-24-2025/', 'https://kyivindependent.com/russian-troops-outnumber-ukraine-8-1-in-pokrovsk-sector-zelensky-says/', 'https://understandingwar.org/research/russia-ukraine/russian-offensive-campaign-assessment-october-13-2025/', 'https://www.russiamatters.org/news/russia-ukraine-war-report-card/russia-ukraine-war-report-card-aug-6-2025', 'https://en.wikipedia.org/wiki/Dobropillia_offensive']\n",
      "['https://top10.netflix.com/', 'https://top10.netflix.com/united-states/films/2022-03-27', 'https://top10.netflix.com/reunion/films?week=2022-03-27', 'https://top10.netflix.com/sri-lanka/films/2022-04-17', 'https://top10.netflix.com/new-zealand/films/2022-04-10', 'https://top10.netflix.com/jordan/films?week=2021-11-14', 'https://top10.netflix.com/greece/films?week=2021-11-14', 'https://top10.netflix.com/new-zealand/tv?week=2021-10-03', 'https://top10.netflix.com/guadeloupe/films?week=2021-12-05']\n",
      "result:  thinking='Clustered by geopolitics, US macroeconomy, and entertainment sectors.' groups=[ArticleGroup(title='Global Flashpoints', subtitle='Russia-Ukraine frontlines and Cameroon leadership.', article_ids=[5, 8, 4]), ArticleGroup(title='Fed And Inflation', subtitle=None, article_ids=[2, 3]), ArticleGroup(title='Streaming And Gaming', subtitle=None, article_ids=[7, 6])]\n"
     ]
    }
   ],
   "source": [
    "result = articles_wrapper(1)\n"
   ]
  },
  {
   "cell_type": "code",
   "execution_count": 19,
   "metadata": {
    "execution": {
     "iopub.execute_input": "2025-05-16T18:02:46.296030Z",
     "iopub.status.busy": "2025-05-16T18:02:46.295498Z",
     "iopub.status.idle": "2025-05-16T18:02:46.312101Z",
     "shell.execute_reply": "2025-05-16T18:02:46.311203Z"
    }
   },
   "outputs": [],
   "source": [
    "newsletter_content =  [ArticleOutput(id=23, headline='Iran Military Action Against Israel Likely in 2024', subheader='Prediction market signals 58% chance of Iran-initiated conflict', blurb=\"The prediction market now assigns a 58% probability to Iran launching a military action against Israel by the end of 2024. This slight uptick in probability highlights the ever-present tensions between the two nations and reflects traders' concerns about potential escalation. With active trading volumes, the market underscores the significance of geopolitical developments in the Middle East.\", score=5, ticker='another-iran-strike-on-israel-in-2024', links=['nothing.com']),\n",
    "  ArticleOutput(id=29, headline='Kamala Harris Faces 8.45% Odds for Exact 270 Electoral Votes', subheader=\"Prediction market highlights challenging path through 'blue wall' states\", blurb=\"As the 2024 U.S. Presidential Election approaches, prediction markets give Kamala Harris an 8.45% chance of securing exactly 270 electoral votes by winning a specified set of states, including the pivotal 'blue wall' states of Michigan, Pennsylvania, and Wisconsin. Despite a slight increase in confidence, market skepticism remains high. The outcome depends on her ability to navigate shifting political dynamics and voter turnout in these key regions.\", score=6, ticker='kamala-wins-with-blue-wall-mi-pa-wi-270-evs', links=['nothing.com']),\n",
    "  ArticleOutput(id=13, headline='Israel Withdrawal from Lebanon Faces Uncertainty', subheader=\"Market shows 42% chance of Israel's withdrawal by November 30\", blurb='The prediction market suggests a 42% likelihood that Israel will announce a full withdrawal from Lebanon before the end of November 2024. This probability has decreased by 12.5% recently, reflecting growing skepticism amid ongoing regional tensions. Despite the challenges, the outcome remains closely watched as geopolitical dynamics continue to evolve.', score=5, ticker='israel-withdraws-from-lebanon-before-december', links=['nothing.com']),\n",
    "  ArticleOutput(id=28, headline='Ethereum Unlikely to Hit $2,600 by November 1', subheader='Market shows low confidence in Ethereum price surge', blurb=\"With a mere 10.5% probability, the prediction market indicates skepticism about Ethereum reaching $2,600 by noon ET on November 1, 2024. The slight 0.6% drop in confidence over the last day further emphasizes a cautious sentiment among traders. As the resolution date approaches, investors should stay vigilant of any market shifts that could impact Ethereum's trajectory.\", score=6, ticker='ethereum-above-2600-on-november-1', links=['nothing.com']),\n",
    "  ArticleOutput(id=26, headline='Solana Faces Uncertainty for $170 Mark by November 2024', subheader=\"Crypto Traders Show Mixed Sentiment on Solana's Future\", blurb=\"As of now, Solana's chances of trading above $170 on November 1, 2024, stand at a moderate 43.5%. The slight decrease in probability over the past day highlights growing uncertainty in the market, possibly due to recent crypto trends or news affecting investor confidence. With the volatile nature of cryptocurrencies like Solana, the final outcome remains unpredictable, making this market a captivating watch for crypto enthusiasts.\", score=5, ticker='solana-above-170-on-november-1', links=['nothing.com']),\n",
    "  ArticleOutput(id=32, headline='Trump Albuquerque Rally Highlights China, Biden Amid Election Campaign', subheader=\"Prediction market expects Trump to focus on China, Biden, and 'Garbage' in rally\", blurb=\"As Donald Trump prepares for his Albuquerque rally, prediction markets are buzzing with expectations. Traders overwhelmingly predict he will spotlight issues like China and Biden, with probabilities soaring to 99.95%. This aligns with his ongoing narrative as he gears up for the 2024 presidential election campaign. Meanwhile, topics such as 'Native American' and 'Puerto Rico' are seen as unlikely to feature prominently, reflecting a strategic focus in his messaging.\", score=7, ticker='what-will-trump-say-during-albuquerque-nm-rally', links=['nothing.com']),\n",
    "  ArticleOutput(id=14, headline='Bitcoin eyes record high before US election', subheader='Market predicts 30% chance amidst price decline', blurb='As the US presidential election approaches, Bitcoin faces a potential new all-time high, with markets assigning a 30% probability of surpassing $73,777 by November 4, 2024. This prediction comes after a notable 33.5% drop in probability, suggesting shifting sentiments. With cryptocurrency dynamics intertwined with political events, investors should brace for potential volatility.', score=6, ticker='bitcoin-new-all-time-high-before-election', links=['nothing.com']),\n",
    "  ArticleOutput(id=27, headline='Bitcoin poised to surpass $68000 by November 1', subheader='Market predicts strong bullish sentiment despite slight dip', blurb=\"The Polymarket prediction indicates a 92% likelihood that Bitcoin will exceed $68,000 by November 1, 2024, according to Binance's trading data. This optimistic forecast reflects a robust bullish sentiment in the crypto market, even though the probability dipped slightly by 1.85% recently. Investors are banking on historical trends and favorable market conditions to push Bitcoin past this significant price threshold.\", score=8, ticker='bitcoin-above-68000-on-november-1', links=['nothing.com']),\n",
    "  ArticleOutput(id=22, headline='Bitcoin unlikely to hit $80k before election', subheader='Market skepticism grows as probability drops to 6%', blurb='The Polymarket prediction market indicates a mere 6% chance of Bitcoin reaching $80,000 before the U.S. election. This skepticism is reflected in a recent drop in probability, suggesting traders doubt significant price surges amidst current market conditions. Factors such as market sentiment and potential regulatory changes could be influencing this outlook.', score=6, ticker='bitcoin-hits-80k-before-election', links=['nothing.com']),\n",
    "  ArticleOutput(id=30, headline=\"Trump Rally Likely Features 'Women's Sports' and 'Pocahontas'\", subheader='Prediction markets signal key phrases for Nevada event', blurb=\"As former President Donald Trump prepares for his rally in Henderson, Nevada, prediction markets are buzzing with expectations of what he might say. Top contenders include 'Women's Sports' and 'Pocahontas,' each with a high probability of being mentioned. These phrases align with Trump's previous campaign themes, suggesting they will resonate with his audience as he gears up for the 2024 election. Meanwhile, terms like 'Crypto/Bitcoin' and 'Tampon' are far less likely, reflecting a strategic focus on traditional issues.\", score=5, ticker='what-will-trump-say-during-nevada-rally-oct-31', links=['nothing.com']),\n",
    "  ArticleOutput(id=2, headline='Trump Faces Steep Challenge in Florida', subheader='Prediction Market Shows Declining Confidence in 12-point Margin', blurb=\"As the 2024 U.S. Presidential Election approaches, the Polymarket prediction market indicates a mere 20.5% chance that Donald Trump will secure Florida by a 12-point margin, a key battleground state. This reflects a notable decrease in confidence, with probabilities dropping 0.11 in just one day. With Florida's pivotal role in the election, this shift highlights the uncertainty and fierce competition expected in the upcoming race.\", score=6, ticker='will-trump-win-florida-by-12-points', links=['nothing.com']),\n",
    "  ArticleOutput(id=20, headline='Texans Face Tight Odds Against Jets', subheader='Market Predicts Competitive Matchup in Upcoming NFL Game', blurb='As the Houston Texans prepare to face the New York Jets on October 31, prediction markets reflect a closely contested game with the Texans holding a 45.5% chance of victory. Recent trading activity shows a slight dip in confidence for the Texans, dropping 2% in probability. With the game still days away, factors like player health and team dynamics could sway the odds further.', score=5, ticker='nfl-hou-nyj-2024-10-31', links=['nothing.com']),\n",
    "  ArticleOutput(id=19, headline='Harris Expected to Win New Jersey by 10% Margin', subheader=\"Prediction market shows strong confidence in Harris's lead\", blurb='With over a year until the 2024 U.S. Presidential Election, prediction markets show a 79.5% probability that Kamala Harris will secure a 10% or greater margin of victory in New Jersey. This reflects strong confidence in her candidacy despite the potential for political developments to influence public opinion before the election date. The market will remain open as it awaits the official vote count and certification in New Jersey.', score=8, ticker='will-harris-win-new-jersey-by-10-points', links=['nothing.com']),\n",
    "  ArticleOutput(id=4, headline='Trump faces uphill battle in Rust Belt sweep', subheader='Prediction market shows 26% chance for Trump victory in key states', blurb='As the 2024 US Presidential Election approaches, prediction markets indicate a challenging path for Donald Trump in the Rust Belt swing states of Wisconsin, Michigan, and Pennsylvania. With only a 26% probability of sweeping these crucial states, the market reflects skepticism about his ability to replicate past successes. This development is critical, as these states often play a pivotal role in election outcomes. Stay tuned as the dynamics evolve closer to election day.', score=6, ticker='trump-rust-belt-swing-state-sweep', links=['nothing.com']),\n",
    "  ArticleOutput(id=18, headline='Trump Faces Uphill Battle in Iowa Poll', subheader=\"Prediction Market Shows Low Confidence in Trump's Dominance\", blurb=\"As the Iowa 2024 presidential election approaches, the prediction market shows only a 13.5% probability that Donald Trump will lead by a 12% margin or more in Anne Selzer's final poll. Despite a slight 0.5% increase in confidence, market participants remain skeptical of Trump's ability to secure a commanding lead. This reflects a cautious stance among observers, potentially due to recent campaign dynamics or shifts in voter opinion.\", score=6, ticker='trump-12-in-selzer-iowa-poll', links=['nothing.com']),\n",
    "  ArticleOutput(id=25, headline='Chase Oliver Leads 2024 Third-Party Race', subheader='Prediction market shows Oliver ahead of Stein and RFK Jr.', blurb='In the latest insights from Polymarket, Chase Oliver emerges as the frontrunner among third-party candidates for the 2024 US Presidential election, holding a 38% probability of winning the most votes. Jill Stein follows closely with 33%, while RFK Jr. has a 27% chance. Interestingly, all candidates have experienced a dip in their probabilities, indicating recent shifts in voter sentiment or polling data. Despite their presence, Cornel West, Vermin Supreme, and other candidates are unlikely to make a significant impact, as reflected in their low probabilities.', score=7, ticker='which-3rd-party-candidate-wins-most-votes', links=['nothing.com'])],\n",
    "article_groups = {'Middle East Politics': [23, 13],\n",
    "  'US Election Predictions': [29, 32, 2, 19, 4, 18, 25],\n",
    "  'Cryptocurrency Forecasts': [28, 26, 14, 27, 22],\n",
    "  'Trump Rallies': [30, 4, 18],\n",
    "  'Sports and Betting': [20]}"
   ]
  },
  {
   "cell_type": "code",
   "execution_count": 35,
   "metadata": {
    "execution": {
     "iopub.execute_input": "2025-05-16T18:02:46.314983Z",
     "iopub.status.busy": "2025-05-16T18:02:46.314690Z",
     "iopub.status.idle": "2025-05-16T18:02:46.322792Z",
     "shell.execute_reply": "2025-05-16T18:02:46.321913Z"
    }
   },
   "outputs": [
    {
     "data": {
      "text/plain": [
       "[ArticleOutput(id=2, headline='Federal Reserve funds-rate change too close to call by March 18, 2026', subheader='Resolves to basis-point change in the upper bound, rounded to nearest 25, per FOMC statement.', blurb='The Federal Reserve decision to change the upper bound resolves by March 18, 2026 under stated criteria.\\nNo change leads at 55.5% probability, down 0.01 in 24 hours, with 332 comments posted.\\nWatch the FOMC statement released after the March 17–18 meeting for the definitive resolution.', score=None, ticker='fed-decision-in-march-885', links=['https://www.kiplinger.com/investing/when-is-the-next-fed-meeting', 'https://www.bankrate.com/banking/federal-reserve/fomc-what-to-expect/', 'https://growbeansprout.com/tools/fedwatch', 'https://www.federalreserve.gov/monetarypolicy/fomcminutes20250917.htm', 'https://www.aa.com.tr/en/economy/us-federal-reserve-expected-to-continue-easing-cycle-in-2026-experts/3727598', 'https://www.federalreserve.gov/monetarypolicy/fomcminutes20250618.htm', 'https://www.federalreserve.gov/monetarypolicy/fomccalendars.htm', 'https://equalsmoney.com/economic-calendar/events/fed-interest-rate-decision', 'https://www.cmegroup.com/markets/interest-rates/cme-fedwatch-tool.html', 'https://www.atlantafed.org/cenfis/market-probability-tracker']),\n",
       " ArticleOutput(id=5, headline='Russia split odds to capture Vilne, Donetsk Oblast by Nov 30, 2025', subheader='Resolves on ISW red shading at 11:59 PM ET; DeepStateMap backs up.', blurb='Russia aims to capture territory in Vilne by Nov 30, 2025, with ISW red shading decisive. \\nMarkets price 59% odds, down 4.5 points in 24 hours, after unconfirmed milblogger seizure claims. \\nWatch ISW’s control-of-terrain map updates and DeepStateMap for any red shading before the deadline.', score=None, ticker='will-russia-recapture-territory-in-vilne-by-november-30', links=['https://www.criticalthreats.org/analysis/russian-offensive-campaign-assessment-september-23-2025', 'https://www.criticalthreats.org/analysis/russian-offensive-campaign-assessment-september-1-2025', 'https://www.understandingwar.org/analysis/russia-ukraine/russian-offensive-campaign-assessment/', 'https://en.wikipedia.org/wiki/Territorial_control_of_Donetsk_Oblast_during_the_Russo-Ukrainian_War', 'https://understandingwar.org/research/russia-ukraine/russian-offensive-campaign-assessment-october-24-2025/', 'https://storymaps.arcgis.com/stories/36a7f6a6f5a9448496de641cf64bd375', 'https://en.wikipedia.org/wiki/Dobropillia_offensive', 'https://news.az/news/-ukraine-russia-war-latest-developments-over-the-past-week', 'https://www.nzz.ch/english/ukraine-war-interactive-map-of-the-current-front-line-ld.1688087', 'https://read.bradyafrick.com/p/russian-field-fortifications-in-ukraine']),\n",
       " ArticleOutput(id=8, headline='Russia–Ukraine capture of Kucheriv Yar too close to call by Nov 30', subheader='Resolves on ISW red shading by deadline; negotiated control qualifies, de jure announcements alone do not.', blurb='The market tracks whether Russia will capture territory in Kucheriv Yar by November 30, 2025.\\nOdds sit at 54.5%, down 8.5 points in 24 hours, after Oct 26 Ukrainian liberation claims.\\nWatch ISW daily map updates for any red shading there before November 30, 2025, at 11:59 PM ET.', score=None, ticker='will-russia-recapture-territory-in-kucheriv-yar-by-november-30', links=['https://understandingwar.org/research/russia-ukraine/russian-offensive-campaign-assessment-august-25-2025/', 'https://understandingwar.org/research/russia-ukraine/russian-offensive-campaign-assessment-october-9-2025/', 'https://understandingwar.org/research/russia-ukraine/russian-offensive-campaign-assessment-october-24-2025/', 'https://understandingwar.org/research/russia-ukraine/russian-offensive-campaign-assessment-october-26-2025/', 'https://understandingwar.org/research/russia-ukraine/russian-offensive-campaign-assessment-october-14-2025/', 'https://understandingwar.org/research/russia-ukraine/russian-offensive-campaign-assessment-august-24-2025/', 'https://kyivindependent.com/russian-troops-outnumber-ukraine-8-1-in-pokrovsk-sector-zelensky-says/', 'https://understandingwar.org/research/russia-ukraine/russian-offensive-campaign-assessment-october-13-2025/', 'https://www.russiamatters.org/news/russia-ukraine-war-report-card/russia-ukraine-war-report-card-aug-6-2025', 'https://en.wikipedia.org/wiki/Dobropillia_offensive']),\n",
       " ArticleOutput(id=7, headline='Netflix on track to rank A House of Dynamite #1 by Tuesday', subheader='Outcome hinges on top10.netflix.com’s English Movies leaderboard posted Tuesday 3:00 PM ET.', blurb='Netflix will rank its Global Top 10 Movies (English) on Tuesday, November 4, 2025.\\n\\nA House of Dynamite leads at 86.95%, up 2.4 points, with The Perfect Neighbor at 11%.\\n\\nWatch top10.netflix.com Tuesday at 3:00 PM ET; no update by November 7 resolves to \"Other\".', score=None, ticker='what-will-be-the-top-global-netflix-movie-this-week-475', links=['https://top10.netflix.com/', 'https://top10.netflix.com/united-states/films/2022-03-27', 'https://top10.netflix.com/reunion/films?week=2022-03-27', 'https://top10.netflix.com/sri-lanka/films/2022-04-17', 'https://top10.netflix.com/new-zealand/films/2022-04-10', 'https://top10.netflix.com/jordan/films?week=2021-11-14', 'https://top10.netflix.com/greece/films?week=2021-11-14', 'https://top10.netflix.com/new-zealand/tv?week=2021-10-03', 'https://top10.netflix.com/guadeloupe/films?week=2021-12-05']),\n",
       " ArticleOutput(id=6, headline='The Game Awards: Clair Obscur: Expedition 33 likely win Dec 11', subheader='Resolves to the official Game of the Year on thegameawards.com; tie breaks alphabetically; ‘No’ if no winner by Jan 31, 2026.', blurb='The Game Awards market favors Clair Obscur: Expedition 33 to win on December 11.  \\nIt sits at 78.5% probability, up 0.09 in 24 hours; GTA 6 delayed to 2026.  \\nWatch for mid-November nominees, then the official winner posted on thegameawards.com December 11.', score=None, ticker='game-awards-game-of-the-year-2025', links=['https://www.polygon.com/awards/546327/game-of-the-year-game-awards-2025-frontrunners/', 'https://www.imdb.com/list/ls590425749/', 'https://www.youtube.com/watch?v=jpLUdgffcLU', 'https://thegameawards.com/', 'https://www.youtube.com/watch?v=xWhXiNXf4dk', 'https://duniagames.co.id/discover/article/the-game-awards-2025-goty-predictions-who-will-take-the-crown/en', 'https://www.thegamer.com/goty-game-of-the-year-2025-predictions-unsure-silksong-expedition-33/', 'https://spritecell.com/mp8-the-game-awards/', 'https://www.reddit.com/r/TheGamerLounge/comments/1o0kzrr/the_game_awards_kick_off_on_december_11_whos_your/', 'https://steamcommunity.com/discussions/forum/0/592912124322331194/']),\n",
       " ArticleOutput(id=4, headline='Paul Biya unlikely to leave office by Dec. 31, 2025', subheader='Counts if he resigns, is detained, loses his position, or cannot fulfill duties.', blurb='Paul Biya is unlikely to leave office by December 31, 2025, counting resignation, detention, or incapacity. Markets price a 15% chance, down 12.5 points, after official results showing 53.7% for an eighth term. Watch Government of Cameroon notices or consensus reporting for any status change before the deadline.', score=None, ticker='paul-biya-out-as-president-of-cameroon-by-december-31', links=['https://www.lemonde.fr/en/le-monde-africa/article/2025/10/27/cameroon-s-veteran-leader-paul-biya-wins-controversial-eighth-term_6746821_124.html', 'https://theguardianpostcameroon.com/post/5089/fr/2025-presidentials-implications-of-tchiroma-s', 'https://www.dailysabah.com/world/africa/cameroons-paul-biya-92-extends-43-year-rule-with-8th-term-win', 'https://www.cnn.com/2025/10/27/africa/cameroons-biya-wins-re-election-intl', 'https://www.reuters.com/world/africa/cameroons-biya-92-brushes-off-health-fears-bid-new-term-2025-07-14/', 'https://www.reuters.com/world/africa/cameroon-leaders-ally-quits-launches-challenge-political-shake-up-2025-06-27/', 'https://au.int/en/pressreleases/20251028/auc-chairperson-congratulates-he-president-paul-biya-re-election', 'https://theconversation.com/paul-biyas-life-presidency-in-cameroon-enters-a-fragile-final-phase-268429', 'https://africasacountry.com/2025/10/after-paul-biya', 'https://www.reuters.com/world/africa/cameroons-biya-vies-eighth-term-former-spokesperson-challenging-him-2025-10-09/']),\n",
       " ArticleOutput(id=3, headline='Bureau of Labor Statistics unlikely to report 3.0% October CPI Nov 13', subheader='Resolves to CPI-U 12-month increase ending October 2025, published 8:30 AM ET Nov 13.', blurb='The Bureau of Labor Statistics will report the October 2025 12‑month CPI on Nov 13. \\nOdds of a 3.0% reading are 36%, down 0.04 in 24 hours; September was 3.0%. \\nWatch the BLS CPI news release for October 2025 at 8:30 AM ET on Nov 13.', score=None, ticker='october-inflation-annual', links=['https://www.bls.gov/news.release/cpi.nr0.htm', 'https://www.bls.gov/news.release/cpi.toc.htm', 'https://www.usinflationcalculator.com/inflation/consumer-price-index-release-schedule/', 'https://www.bls.gov/news.release/cpi.htm', 'https://www.bls.gov/regions/west/news-release/consumerpriceindex_losangeles.htm', 'https://www.forbes.com/sites/eriksherman/2025/10/25/heres-what-inflation-is-really-telling-us-in-october-2025/', 'https://www.bls.gov/charts/consumer-price-index/consumer-price-index-by-category-line-chart.htm', 'https://www.bls.gov/schedule/news_release/cpi.htm', 'https://www.bls.gov/charts/consumer-price-index/consumer-price-index-by-category.htm', 'https://fred.stlouisfed.org/series/CPIAUCSL'])]"
      ]
     },
     "execution_count": 35,
     "metadata": {},
     "output_type": "execute_result"
    }
   ],
   "source": [
    "articles = result[\"newsletter_content\"]\n",
    "# \"vikmanocha@gmail.com\", \"jameswmarren@gmail.com\"\n",
    "email_list = [\"ethanagoldberg@gmail.com\"]\n",
    "groups = result[\"article_groups\"]\n",
    "articles\n"
   ]
  },
  {
   "cell_type": "code",
   "execution_count": 36,
   "metadata": {
    "execution": {
     "iopub.execute_input": "2025-05-16T18:02:46.325833Z",
     "iopub.status.busy": "2025-05-16T18:02:46.325520Z",
     "iopub.status.idle": "2025-05-16T18:02:46.551903Z",
     "shell.execute_reply": "2025-05-16T18:02:46.550435Z"
    }
   },
   "outputs": [],
   "source": [
    "from newsletter_sender import NewsletterSender, test_smtp_connection\n",
    "from typing import List\n",
    "smtp_config = {\n",
    "    \"host\": \"smtp.gmail.com\",\n",
    "    \"port\": 587,\n",
    "    \"secure\": True,\n",
    "    \"auth\": {\n",
    "        \"user\": \"polynewsdailynewsletter@gmail.com\",  # Your full Gmail address\n",
    "        \"pass\": smtp_pass    # The 16-character app password you generated\n",
    "    },\n",
    "    \"from\": '\"PolyNewsDaily Update\" <polynewsdailynewsletter@gmail.com>'  # Use your Gmail address here too\n",
    "}"
   ]
  },
  {
   "cell_type": "code",
   "execution_count": 37,
   "metadata": {
    "execution": {
     "iopub.execute_input": "2025-05-16T18:02:46.556337Z",
     "iopub.status.busy": "2025-05-16T18:02:46.555698Z",
     "iopub.status.idle": "2025-05-16T18:02:46.561494Z",
     "shell.execute_reply": "2025-05-16T18:02:46.560863Z"
    }
   },
   "outputs": [],
   "source": [
    "group_dict = {group.title: group.article_ids for group in groups}"
   ]
  },
  {
   "cell_type": "code",
   "execution_count": 23,
   "metadata": {
    "execution": {
     "iopub.execute_input": "2025-05-16T18:02:46.564360Z",
     "iopub.status.busy": "2025-05-16T18:02:46.564087Z",
     "iopub.status.idle": "2025-05-16T18:03:41.998127Z",
     "shell.execute_reply": "2025-05-16T18:03:41.997388Z"
    }
   },
   "outputs": [
    {
     "name": "stdout",
     "output_type": "stream",
     "text": [
      "✅ SMTP connection successful!\n",
      "Connection successful! Sending test newsletter...\n",
      "Connecting to: postgres://u8tpitnkehg4bm@c1i13pt05ja4ag.cluster-czrs8kj4isg7.us-east-1.rds.amazonaws.com:5432/d8714o8m60rj7k\n"
     ]
    },
    {
     "name": "stdout",
     "output_type": "stream",
     "text": [
      "Found 45 subscribers\n",
      "Connecting to: postgres://u8tpitnkehg4bm@c1i13pt05ja4ag.cluster-czrs8kj4isg7.us-east-1.rds.amazonaws.com:5432/d8714o8m60rj7k\n"
     ]
    },
    {
     "name": "stdout",
     "output_type": "stream",
     "text": [
      "\n",
      "    Database summary:\n",
      "    - Articles: 10\n",
      "    - Groups: 4\n",
      "    - Group-Article associations: 13\n",
      "            \n",
      "Newsletter saved to database successfully\n"
     ]
    },
    {
     "name": "stdout",
     "output_type": "stream",
     "text": [
      "Sending batch 1/1\n"
     ]
    },
    {
     "name": "stdout",
     "output_type": "stream",
     "text": [
      "Successfully sent to: lgoldbergcourt@gmail.com\n"
     ]
    },
    {
     "name": "stdout",
     "output_type": "stream",
     "text": [
      "Successfully sent to: vikmanocha@gmail.com\n"
     ]
    },
    {
     "name": "stdout",
     "output_type": "stream",
     "text": [
      "Successfully sent to: zglassband@gmail.com\n"
     ]
    },
    {
     "name": "stdout",
     "output_type": "stream",
     "text": [
      "Successfully sent to: elijg235@gmai.com\n"
     ]
    },
    {
     "name": "stdout",
     "output_type": "stream",
     "text": [
      "Successfully sent to: charlie.oestreicher@gmail.com\n"
     ]
    },
    {
     "name": "stdout",
     "output_type": "stream",
     "text": [
      "Successfully sent to: ethan.goldberg.pike@gmail.com\n"
     ]
    },
    {
     "name": "stdout",
     "output_type": "stream",
     "text": [
      "Successfully sent to: max.huber@gmail.com\n"
     ]
    },
    {
     "name": "stdout",
     "output_type": "stream",
     "text": [
      "Successfully sent to: elijg235@gmail.com\n"
     ]
    },
    {
     "name": "stdout",
     "output_type": "stream",
     "text": [
      "Successfully sent to: noah.costa.pike@gmail.com\n"
     ]
    },
    {
     "name": "stdout",
     "output_type": "stream",
     "text": [
      "Successfully sent to: leonicastro3@gmail.com\n"
     ]
    },
    {
     "name": "stdout",
     "output_type": "stream",
     "text": [
      "Successfully sent to: rcolon1331@yahoo.com\n"
     ]
    },
    {
     "name": "stdout",
     "output_type": "stream",
     "text": [
      "Successfully sent to: joe.zakielarz.pike@gmail.com\n"
     ]
    },
    {
     "name": "stdout",
     "output_type": "stream",
     "text": [
      "Successfully sent to: echristianr13@gmail.com\n"
     ]
    },
    {
     "name": "stdout",
     "output_type": "stream",
     "text": [
      "Successfully sent to: sftorres56@gmail.com\n"
     ]
    },
    {
     "name": "stdout",
     "output_type": "stream",
     "text": [
      "Successfully sent to: dxstinyai@gmail.com\n"
     ]
    },
    {
     "name": "stdout",
     "output_type": "stream",
     "text": [
      "Successfully sent to: ethanagoldberg@gmail.com\n"
     ]
    },
    {
     "name": "stdout",
     "output_type": "stream",
     "text": [
      "Successfully sent to: perooo88+poly@gmail.com\n"
     ]
    },
    {
     "name": "stdout",
     "output_type": "stream",
     "text": [
      "Successfully sent to: sanjayginde@gmail.com\n"
     ]
    },
    {
     "name": "stdout",
     "output_type": "stream",
     "text": [
      "Successfully sent to: lgrzybowska212@gmail.com\n"
     ]
    },
    {
     "name": "stdout",
     "output_type": "stream",
     "text": [
      "Successfully sent to: sao2162002@gmail.com\n"
     ]
    },
    {
     "name": "stdout",
     "output_type": "stream",
     "text": [
      "Successfully sent to: kristenw@nyu.edu\n"
     ]
    },
    {
     "name": "stdout",
     "output_type": "stream",
     "text": [
      "Successfully sent to: vinson1900@hey.com\n"
     ]
    },
    {
     "name": "stdout",
     "output_type": "stream",
     "text": [
      "Successfully sent to: henry.yang@yale.edu\n"
     ]
    },
    {
     "name": "stdout",
     "output_type": "stream",
     "text": [
      "Successfully sent to: emmawj@protonmail.com\n"
     ]
    },
    {
     "name": "stdout",
     "output_type": "stream",
     "text": [
      "Successfully sent to: snovik@gmail.com\n"
     ]
    },
    {
     "name": "stdout",
     "output_type": "stream",
     "text": [
      "Successfully sent to: bv@vufund.vc\n"
     ]
    },
    {
     "name": "stdout",
     "output_type": "stream",
     "text": [
      "Successfully sent to: christianmaxwellwright@gmail.com\n"
     ]
    },
    {
     "name": "stdout",
     "output_type": "stream",
     "text": [
      "Successfully sent to: enternetdesign@gmail.com\n"
     ]
    },
    {
     "name": "stdout",
     "output_type": "stream",
     "text": [
      "Successfully sent to: jsuss.101@gmail.com\n"
     ]
    },
    {
     "name": "stdout",
     "output_type": "stream",
     "text": [
      "Successfully sent to: ethanagoldberg1@gmail.com\n"
     ]
    },
    {
     "name": "stdout",
     "output_type": "stream",
     "text": [
      "Successfully sent to: leekk980816@gmail.com\n"
     ]
    },
    {
     "name": "stdout",
     "output_type": "stream",
     "text": [
      "Successfully sent to: trey@hewell.net\n"
     ]
    },
    {
     "name": "stdout",
     "output_type": "stream",
     "text": [
      "Successfully sent to: abiyslee1011@gmail.com\n"
     ]
    },
    {
     "name": "stdout",
     "output_type": "stream",
     "text": [
      "Successfully sent to: andrew.keys@thetimes.co.uk\n"
     ]
    },
    {
     "name": "stdout",
     "output_type": "stream",
     "text": [
      "Successfully sent to: com231562@gmail.com\n"
     ]
    },
    {
     "name": "stdout",
     "output_type": "stream",
     "text": [
      "Successfully sent to: angieyvonnegoldberg@gmail.com\n"
     ]
    },
    {
     "name": "stdout",
     "output_type": "stream",
     "text": [
      "Successfully sent to: ban46291@gmail.com\n"
     ]
    },
    {
     "name": "stdout",
     "output_type": "stream",
     "text": [
      "Successfully sent to: francesco@siliconroundabout.ventures\n"
     ]
    },
    {
     "name": "stdout",
     "output_type": "stream",
     "text": [
      "Successfully sent to: seanjfis@gmail.com\n"
     ]
    },
    {
     "name": "stdout",
     "output_type": "stream",
     "text": [
      "Successfully sent to: sophiecmunro@icloud.com\n"
     ]
    },
    {
     "name": "stdout",
     "output_type": "stream",
     "text": [
      "Successfully sent to: dylanhurwitz@gmail.com\n"
     ]
    },
    {
     "name": "stdout",
     "output_type": "stream",
     "text": [
      "Successfully sent to: maniya.chowdhary21@gmail.com\n"
     ]
    },
    {
     "name": "stdout",
     "output_type": "stream",
     "text": [
      "Successfully sent to: billweica@yahoo.com\n"
     ]
    },
    {
     "name": "stdout",
     "output_type": "stream",
     "text": [
      "Successfully sent to: mli0118999@gmail.com\n"
     ]
    },
    {
     "name": "stdout",
     "output_type": "stream",
     "text": [
      "Successfully sent to: maxwellyoas@gmail.com\n"
     ]
    }
   ],
   "source": [
    "if test_smtp_connection(smtp_config):\n",
    "    print(\"Connection successful! Sending test newsletter...\")\n",
    "    \n",
    "    # Create sender and send newsletter\n",
    "    sender = NewsletterSender()\n",
    "    email_list = sender.get_subscriber_emails()\n",
    "    if email_list:\n",
    "        save_result = sender.save_newsletter_to_db(articles, groups)\n",
    "        results = sender.send_newsletter(smtp_config, email_list, articles, groups)\n",
    "    else:\n",
    "        email_list = [\"ethanagoldberg@gmail.com\"]\n",
    "        save_result = sender.save_newsletter_to_db(articles, groups)\n",
    "        results = sender.send_newsletter(smtp_config, email_list, articles, groups)"
   ]
  },
  {
   "cell_type": "code",
   "execution_count": 43,
   "metadata": {},
   "outputs": [
    {
     "name": "stdout",
     "output_type": "stream",
     "text": [
      "Connecting to database...\n",
      "\n",
      "    Database summary:\n",
      "    - Articles: 7\n",
      "    - Groups: 3\n",
      "    - Group-Article associations: 7\n",
      "            \n",
      "Newsletter saved to database successfully\n",
      "Error sending newsletter: '>' not supported between instances of 'NoneType' and 'int'\n"
     ]
    }
   ],
   "source": [
    "sender = NewsletterSender()\n",
    "email_list = ['ethanagoldberg@gmail.com']\n",
    "if email_list:\n",
    "    save_result = sender.save_newsletter_to_db(articles, group_dict)\n",
    "    results = sender.send_newsletter(smtp_config, email_list, articles, group_dict)\n",
    "\n"
   ]
  },
  {
   "cell_type": "code",
   "execution_count": 41,
   "metadata": {},
   "outputs": [
    {
     "data": {
      "text/plain": [
       "['ethanagoldberg@gmail.com']"
      ]
     },
     "execution_count": 41,
     "metadata": {},
     "output_type": "execute_result"
    }
   ],
   "source": [
    "email_list\n"
   ]
  }
 ],
 "metadata": {
  "kernelspec": {
   "display_name": ".venv",
   "language": "python",
   "name": "python3"
  },
  "language_info": {
   "codemirror_mode": {
    "name": "ipython",
    "version": 3
   },
   "file_extension": ".py",
   "mimetype": "text/x-python",
   "name": "python",
   "nbconvert_exporter": "python",
   "pygments_lexer": "ipython3",
   "version": "3.13.3"
  }
 },
 "nbformat": 4,
 "nbformat_minor": 2
}

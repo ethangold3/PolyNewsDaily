{
 "cells": [
  {
   "cell_type": "code",
   "execution_count": 1,
   "metadata": {
    "execution": {
     "iopub.execute_input": "2025-05-16T18:01:45.323856Z",
     "iopub.status.busy": "2025-05-16T18:01:45.323279Z",
     "iopub.status.idle": "2025-05-16T18:01:56.272343Z",
     "shell.execute_reply": "2025-05-16T18:01:56.271652Z"
    }
   },
   "outputs": [
    {
     "name": "stderr",
     "output_type": "stream",
     "text": [
      "/Users/ethangoldberg/opt/anaconda3/envs/polynews/lib/python3.11/site-packages/IPython/core/interactiveshell.py:3577: LangChainDeprecationWarning: As of langchain-core 0.3.0, LangChain uses pydantic v2 internally. The langchain.pydantic_v1 module was a compatibility shim for pydantic v1, and should no longer be used. Please update the code to import from Pydantic directly.\n",
      "\n",
      "For example, replace imports like: `from langchain.pydantic_v1 import BaseModel`\n",
      "with: `from pydantic import BaseModel`\n",
      "or the v1 compatibility namespace if you are working in a code base that has not been fully upgraded to pydantic 2 yet. \tfrom pydantic.v1 import BaseModel\n",
      "\n",
      "  exec(code_obj, self.user_global_ns, self.user_ns)\n"
     ]
    }
   ],
   "source": [
    "from typing import List, Dict, Any, TypedDict\n",
    "from pm_market_getter import get_markets_for_date_range\n",
    "from langchain.llms import OpenAI\n",
    "from langchain.tools import Tool\n",
    "from langchain.agents import AgentExecutor, OpenAIFunctionsAgent\n",
    "from langchain.prompts import ChatPromptTemplate\n",
    "from langchain.pydantic_v1 import BaseModel, Field\n",
    "from langgraph.graph import StateGraph, END\n",
    "from langgraph.prebuilt import ToolInvocation\n",
    "from operator import add\n",
    "from typing import Annotated\n",
    "from datetime import datetime, timedelta\n",
    "from langgraph.prebuilt import ToolExecutor\n",
    "import requests\n",
    "import json\n",
    "import re\n",
    "from langchain_community.tools.tavily_search import TavilySearchResults\n",
    "from langchain_core.messages import AIMessage, HumanMessage, SystemMessage\n",
    "import operator\n",
    "from typing import  Annotated\n",
    "from langgraph.constants import Send\n",
    "import threading"
   ]
  },
  {
   "cell_type": "code",
   "execution_count": 2,
   "metadata": {
    "execution": {
     "iopub.execute_input": "2025-05-16T18:01:56.323606Z",
     "iopub.status.busy": "2025-05-16T18:01:56.323166Z",
     "iopub.status.idle": "2025-05-16T18:01:56.342440Z",
     "shell.execute_reply": "2025-05-16T18:01:56.341695Z"
    }
   },
   "outputs": [],
   "source": [
    "class Counter:\n",
    "    def __init__(self):\n",
    "        self._lock = threading.Lock()\n",
    "        self._value = 0\n",
    "    \n",
    "    def get_next(self):\n",
    "        with self._lock:\n",
    "            self._value += 1\n",
    "            return self._value\n",
    "\n",
    "# Global counter instance\n",
    "article_counter = Counter() \n",
    "\n",
    "class NewsArticles(BaseModel):\n",
    "    title: str\n",
    "    description: str\n",
    "    source_name: str\n",
    "class ArticleOutput(BaseModel):\n",
    "    id: int = Field(default_factory=article_counter.get_next)\n",
    "    headline: str\n",
    "    subheader: str\n",
    "    blurb: str = Field(default=None)\n",
    "    score: int = Field(default=None)\n",
    "    ticker: str = Field(default=None)\n",
    "    links: List[str] = Field(default=None)\n",
    "\n",
    "class MarketInfo(BaseModel):\n",
    "    interest_score: float = Field(default=None)\n",
    "    title: str = Field(default=None)\n",
    "    ticker: str = Field(default=None)\n",
    "    description: str = Field(default=None)\n",
    "    end_date: str = Field(default=None)\n",
    "    volume: float = Field(default=None)\n",
    "    featured: float = Field(default=None)\n",
    "    volume24hr: float = Field(default=None)\n",
    "    commentCount: float = Field(default=None)\n",
    "    options: List[Dict[str, Any]] = Field(default=None)\n",
    "    tags: List[Dict[str, Any]] = Field(default=None)\n",
    "    tavily_context: Annotated[list, operator.add] = Field(default=None)\n",
    "    links: Annotated[list, operator.add] = Field(default=None)\n",
    "    articles: List[NewsArticles] = Field(default_factory=list, description=\"Collected news articles\")\n",
    "    newsletter_content: List[ArticleOutput] = Field(default=None)\n",
    "    skipped_newsletter_content: List[ArticleOutput] = Field(default=None)\n",
    "\n",
    "class OverallGraph(BaseModel):\n",
    "    markets_list: List[MarketInfo]\n",
    "    newsletter_content: Annotated[List[ArticleOutput], operator.add] = Field(default=None)\n",
    "    skipped_newsletter_content: Annotated[List[ArticleOutput], operator.add] = Field(default=None)\n",
    "    article_groups: Dict[str, List[int]] = Field(\n",
    "        default_factory=dict,\n",
    "        description=\"Dictionary of lists, where each list contains ids of a group of articles. The string is the title of the group\"\n",
    "    )\n",
    "    done: bool = Field(default = False)\n",
    "\n",
    "class ExperimentState(TypedDict):\n",
    "    market: dict  # The current market being processed\n",
    "    article: dict  # The article being generated/refined\n",
    "    previous_articles: List[dict]  # List of previously processed articles\n",
    "    keep_article: bool\n",
    "\n",
    "class SearchQuery(BaseModel):\n",
    "    search_query: str = Field(None, description=\"Search query for retrieval.\")"
   ]
  },
  {
   "cell_type": "code",
   "execution_count": 3,
   "metadata": {
    "execution": {
     "iopub.execute_input": "2025-05-16T18:01:56.345845Z",
     "iopub.status.busy": "2025-05-16T18:01:56.345495Z",
     "iopub.status.idle": "2025-05-16T18:01:56.362347Z",
     "shell.execute_reply": "2025-05-16T18:01:56.361467Z"
    }
   },
   "outputs": [
    {
     "name": "stdout",
     "output_type": "stream",
     "text": [
      "Current working directory: /Users/ethangoldberg/Desktop/CS-Proj/PolyNewsDaily/PolyNewsDaily/agent\n",
      "Found .env file at: /Users/ethangoldberg/Desktop/CS-Proj/PolyNewsDaily/PolyNewsDaily/email_collection_app/.env\n",
      "SMTP_PASS: Found\n",
      "NEWS_API_KEY: Not found\n",
      "OPENAI_API_KEY: Found\n",
      "TAVILY_API_KEY: Found\n"
     ]
    }
   ],
   "source": [
    "from dotenv import load_dotenv\n",
    "import os\n",
    "import sys\n",
    "from pathlib import Path\n",
    "\n",
    "# Use the specific path to the .env file\n",
    "env_path = Path('/Users/ethangoldberg/Desktop/CS-Proj/PolyNewsDaily/PolyNewsDaily/email_collection_app/.env')\n",
    "\n",
    "# Print current working directory for debugging\n",
    "current_dir = Path.cwd()\n",
    "print(f\"Current working directory: {current_dir}\")\n",
    "\n",
    "# Load the .env file from the specific location\n",
    "if env_path.exists():\n",
    "    print(f\"Found .env file at: {env_path}\")\n",
    "    load_dotenv(env_path)\n",
    "    env_loaded = True\n",
    "else:\n",
    "    print(f\"Could not find .env file at: {env_path}\")\n",
    "    env_loaded = False\n",
    "\n",
    "# Get environment variables\n",
    "news_api_key = os.getenv('NEWS_API_KEY')\n",
    "openai_api = os.getenv('OPENAI_API_KEY')\n",
    "tavily_api_key = os.getenv('TAVILY_API_KEY')\n",
    "smtp_pass = os.getenv('SMTP_PASS')\n",
    "\n",
    "# Print values to debug\n",
    "print(f\"SMTP_PASS: {'Found' if smtp_pass else 'Not found'}\")\n",
    "print(f\"NEWS_API_KEY: {'Found' if news_api_key else 'Not found'}\")\n",
    "print(f\"OPENAI_API_KEY: {'Found' if openai_api else 'Not found'}\")\n",
    "print(f\"TAVILY_API_KEY: {'Found' if tavily_api_key else 'Not found'}\")\n"
   ]
  },
  {
   "cell_type": "code",
   "execution_count": 4,
   "metadata": {
    "execution": {
     "iopub.execute_input": "2025-05-16T18:01:56.365975Z",
     "iopub.status.busy": "2025-05-16T18:01:56.365654Z",
     "iopub.status.idle": "2025-05-16T18:01:57.508354Z",
     "shell.execute_reply": "2025-05-16T18:01:57.506818Z"
    }
   },
   "outputs": [],
   "source": [
    "from langchain_core.messages import HumanMessage\n",
    "from langchain_openai import ChatOpenAI\n",
    "def generate_news_query(title, description) -> str:\n",
    "    llm = ChatOpenAI(model=\"gpt-4.1-mini\", api_key = openai_api)  # You can use a different model if preferred\n",
    "    \n",
    "    prompt = f\"\"\"\n",
    "    You are an expert in information retrieval and natural language processing. Your task is to analyze the title and description of a prediction market and generate optimal keywords for a news API search. These keywords should maximize the retrieval of relevant and informative news articles about the market's subject.\n",
    "bn\n",
    "    Given:\n",
    "    - Title: {title}\n",
    "    - Description: {description}\n",
    "\n",
    "    Instructions:\n",
    "    1. Carefully read and understand the title and description.\n",
    "    2. Identify the core subject matter, key entities, and central concepts.\n",
    "    3. Consider potential synonyms, related terms, and broader categories that might yield relevant results.\n",
    "    4. Avoid overly generic terms that might lead to irrelevant results.\n",
    "    5. Include any specific dates, events, or proper nouns mentioned that are crucial to the market.\n",
    "    6. Consider the timeframe of the prediction, if specified, and how it might affect keyword relevance.\n",
    "    7. Aim for a balance between specificity (to ensure relevance) and breadth (to capture a range of potentially useful articles).\n",
    "    8. Generate 1-3 keyword phrases, separated by commas if more than one.\n",
    "    9. Each keyword should always be ONE word. There are exceptions for when two or three words are closely linked like \"Donald Trump\" is two words but would be allowed.\n",
    "\n",
    "    Output your result in the following format. DO NOT say any other words or give any other explanation.\n",
    "    Keywords: [Your generated keywords]\n",
    "    \"\"\"\n",
    "    \n",
    "    response = llm.invoke([HumanMessage(content=prompt)])\n",
    "    \n",
    "    # Extract keywords from the response\n",
    "    keywords_line = [line for line in response.content.split('\\n') if line.startswith('Keywords:')][0]\n",
    "    keywords = keywords_line.split(':', 1)[1].strip()\n",
    "    keywords_array = [item.strip() for item in keywords.split(',')]\n",
    "    return keywords_array"
   ]
  },
  {
   "cell_type": "code",
   "execution_count": 5,
   "metadata": {
    "execution": {
     "iopub.execute_input": "2025-05-16T18:01:57.511701Z",
     "iopub.status.busy": "2025-05-16T18:01:57.511323Z",
     "iopub.status.idle": "2025-05-16T18:01:57.515198Z",
     "shell.execute_reply": "2025-05-16T18:01:57.514519Z"
    }
   },
   "outputs": [],
   "source": [
    "os.environ[\"TAVILY_API_KEY\"] = tavily_api_key\n",
    "tavily_getter = TavilySearchResults(max_results=5)"
   ]
  },
  {
   "cell_type": "code",
   "execution_count": 6,
   "metadata": {
    "execution": {
     "iopub.execute_input": "2025-05-16T18:01:57.518447Z",
     "iopub.status.busy": "2025-05-16T18:01:57.517940Z",
     "iopub.status.idle": "2025-05-16T18:01:57.524604Z",
     "shell.execute_reply": "2025-05-16T18:01:57.523809Z"
    }
   },
   "outputs": [],
   "source": [
    "def tavily_search(state: MarketInfo):\n",
    "    llm = ChatOpenAI(model=\"gpt-4.1-mini\", api_key = openai_api)\n",
    "    search_instructions = \"\"\"You will be given the title, description, and end_date for a polymarket prediction market. \n",
    "\n",
    "Your goal is to generate a well-structured query for use in retrieval and / or web-search related to the market to provide context to the market. For example, there may be a market on whether Taylor Swift gets married in 2024. A good search query might be \"Taylor Swift Pregnancy Rumors 2024\".\n",
    "        \n",
    "First, analyze the market.\n",
    "\n",
    "Pay particular attention to the title, description, and dates for the market.\n",
    "\n",
    "Convert this final question into a well-structured web search query that will give important context to understand it.\n",
    "\n",
    "Title : {title}          \n",
    "\n",
    "Description : {description}\n",
    "\n",
    "End Date : {end_date}\n",
    "                                        \"\"\"\n",
    "    structured_llm = llm.with_structured_output(SearchQuery)\n",
    "    system_message = search_instructions.format(title=state.title, description=state.description, end_date = state.end_date)\n",
    "    search_query = structured_llm.invoke([SystemMessage(content=system_message)])\n",
    "\n",
    "    search_docs = tavily_getter.invoke(search_query.search_query)\n",
    "\n",
    "    if isinstance(search_docs, str):\n",
    "        print(\"Error: Expected a list of documents but got a string.\")\n",
    "        print(\"Response content:\", search_docs)\n",
    "        return {\"tavily_context\": [], \"links\": []} \n",
    "\n",
    "    formatted_search_docs = \"\\n\\n---\\n\\n\".join(\n",
    "        [\n",
    "            f'<Document href=\"{doc[\"url\"]}\"/>\\n{doc[\"content\"]}\\n</Document>'\n",
    "            for doc in search_docs\n",
    "        ]\n",
    "    )\n",
    "    links = [doc[\"url\"] for doc in search_docs]\n",
    "\n",
    "    return {\"tavily_context\": [formatted_search_docs],\n",
    "            \"links\": links} \n"
   ]
  },
  {
   "cell_type": "code",
   "execution_count": 7,
   "metadata": {
    "execution": {
     "iopub.execute_input": "2025-05-16T18:01:57.528164Z",
     "iopub.status.busy": "2025-05-16T18:01:57.527739Z",
     "iopub.status.idle": "2025-05-16T18:01:57.534188Z",
     "shell.execute_reply": "2025-05-16T18:01:57.533483Z"
    }
   },
   "outputs": [],
   "source": [
    "def call_news_api(state: MarketInfo) -> MarketInfo:\n",
    "    keywords = generate_news_query(state.title, state.description)\n",
    "    print(keywords)\n",
    "    today = datetime.now().date()\n",
    "    from_date = (today - timedelta(days=3)).isoformat()\n",
    "    to_date = today.isoformat()\n",
    "    url = \"https://newsapi.org/v2/everything\"\n",
    "    for keyword in keywords:\n",
    "        params = {\n",
    "            \"from\": from_date,\n",
    "            \"to\": to_date,\n",
    "            \"apiKey\": news_api_key,\n",
    "            \"country\" : \"us\",\n",
    "            \"q\" : keyword,\n",
    "            \"pageSize\" : 2\n",
    "        }\n",
    "        response = requests.get(url, params=params)\n",
    "        data = response.json()\n",
    "        articles = data.get(\"articles\", [])\n",
    "        for article in articles:\n",
    "            article_info =  NewsArticles(\n",
    "            title=article['title'],\n",
    "            description=article['description'],\n",
    "            source_name=article['source']['name']\n",
    "        )\n",
    "            state.articles.append(article_info)\n",
    "\n",
    "    return state    \n"
   ]
  },
  {
   "cell_type": "code",
   "execution_count": 8,
   "metadata": {
    "execution": {
     "iopub.execute_input": "2025-05-16T18:01:57.537098Z",
     "iopub.status.busy": "2025-05-16T18:01:57.536783Z",
     "iopub.status.idle": "2025-05-16T18:01:57.543033Z",
     "shell.execute_reply": "2025-05-16T18:01:57.542235Z"
    }
   },
   "outputs": [],
   "source": [
    "class market_key_info(BaseModel):\n",
    "    what_is_the_market_asking_or_answering: str = Field(defualt=None, description= \"this should be a synposis of what this market is asking or answering\")\n",
    "    important_criteria: List[str] = Field(default_factory=List, description=\"a list of strings that describe important critera for a market and how it is resolved. includes timeline\")\n",
    "    completed: bool = Field(default=None, description=\"boolean indicating whether or not a market is essentially resolved. If the probability of all the options adds up to 0 or if the probability of any of the options is about 100, it is essentially guaranteed to already have happened or will happen\")\n",
    "    important_insights_context_or_reasoning : str = Field(default=None, description= \"summary of important context or insights that could be related to this market. if there is important context from the sources from the internet regarding a probability or a change\")"
   ]
  },
  {
   "cell_type": "code",
   "execution_count": 9,
   "metadata": {
    "execution": {
     "iopub.execute_input": "2025-05-16T18:01:57.546296Z",
     "iopub.status.busy": "2025-05-16T18:01:57.545917Z",
     "iopub.status.idle": "2025-05-16T18:01:57.550286Z",
     "shell.execute_reply": "2025-05-16T18:01:57.549514Z"
    }
   },
   "outputs": [],
   "source": [
    "class article_score(BaseModel):\n",
    "    score: int = Field(default=5, descrption=\"score for the article 0-10\")"
   ]
  },
  {
   "cell_type": "code",
   "execution_count": 10,
   "metadata": {
    "execution": {
     "iopub.execute_input": "2025-05-16T18:01:57.553163Z",
     "iopub.status.busy": "2025-05-16T18:01:57.552866Z",
     "iopub.status.idle": "2025-05-16T18:01:57.607499Z",
     "shell.execute_reply": "2025-05-16T18:01:57.606391Z"
    }
   },
   "outputs": [
    {
     "name": "stderr",
     "output_type": "stream",
     "text": [
      "/Users/ethangoldberg/opt/anaconda3/envs/polynews/lib/python3.11/site-packages/IPython/core/interactiveshell.py:3517: UserWarning: WARNING! parallel_tool_calls is not default parameter.\n",
      "                parallel_tool_calls was transferred to model_kwargs.\n",
      "                Please confirm that parallel_tool_calls is what you intended.\n",
      "  if await self.run_code(code, result, async_=asy):\n"
     ]
    }
   ],
   "source": [
    "llm = ChatOpenAI(model=\"o4-mini\", api_key = openai_api, parallel_tool_calls=False)"
   ]
  },
  {
   "cell_type": "code",
   "execution_count": 11,
   "metadata": {
    "execution": {
     "iopub.execute_input": "2025-05-16T18:01:57.611161Z",
     "iopub.status.busy": "2025-05-16T18:01:57.610792Z",
     "iopub.status.idle": "2025-05-16T18:01:57.627827Z",
     "shell.execute_reply": "2025-05-16T18:01:57.627135Z"
    }
   },
   "outputs": [],
   "source": [
    "def generate_newsletter_content(market: MarketInfo) -> OverallGraph:\n",
    "    market_dict = market.dict(exclude={'articles', 'final_answer', 'featured','commentCount', 'interest_score', 'newsletter_content', 'tavily_context'})\n",
    "    context = market.tavily_context\n",
    "    print(context)\n",
    "    llm = ChatOpenAI(model=\"gpt-4.1\", api_key = openai_api, parallel_tool_calls=False)\n",
    "    intermediate_model = llm.with_structured_output(market_key_info)\n",
    "    prompt = f\"\"\"\n",
    "    It's great to finally meet you. You are my expert research analyst for my VC fund, specializing in reading and contextualizing prediciton markets. Be objective and precise. Be formal and exact. Your job is to take a structured api output from a prediction market and results from the internet for context on that market and: draw out the specific insights to later be used to create a news article. You should write in your output eveyrthing I need to draw from the market that is interesting.\n",
    "    Here is the model you will be outputting:\n",
    "    what_is_the_market_asking_or_answering: str = Field(defualt=None, description= \"this should be a synposis of what this market is asking or answering\")\n",
    "    important_criteria: List[str] = Field(default_factory=List, description=\"a list of strings that describe important critera for a market and how it is resolved. includes timeline\")\n",
    "    completed: bool = Field(default=None, description=\"boolean indicating whether or not a market is essentially resolved. If the probability of all the options adds up to 0 or if the probability of any of the options is about 100, it is essentially guaranteed to already have happened or will happen\")\n",
    "    important_insights_context_or_reasoning : str = Field(default=None, description= \"summary of important context or insights that could be related to this market. if there is important context from the sources from the internet regarding a probability or a change\")\n",
    "\n",
    "    The market_dict is a dictionary containing the following key information:\n",
    "    - title: The title of the Polymarket prediction market\n",
    "    - description: A description of the market\n",
    "    - end_date: The resolution date for the market (pay close attention to this)\n",
    "    - tags: Relevant tags for the market\n",
    "    - options: A list of dictionaries, each containing:\n",
    "      - 'outcome': The possible outcome\n",
    "      - 'probability': The likelihood of the outcome (in decimal form, e.g., 0.75 = 75%)\n",
    "      - 'oneDayPriceChange': How much the probability has changed in the last day\n",
    "\n",
    "    The context variable is a list of sources and information from the internet.\n",
    "\n",
    "    Here is the market to take to produce these insights:\n",
    "    {market_dict}\n",
    "\n",
    "    And here are the articles from the internet:\n",
    "\n",
    "    {context}\n",
    "\n",
    "\n",
    "    Remember to format your insights as described and be sure not to miss anything important. Be as compelling and interesting as possible.\n",
    "\n",
    "    \"\"\"\n",
    "    response = intermediate_model.invoke([HumanMessage(content=prompt)])\n",
    "    \n",
    "    response_dict = response.dict()\n",
    "\n",
    "    print(\"this is the intermediate reseponse: \", response_dict)\n",
    "    \n",
    "      # You can use a different model if preferred\n",
    "    \n",
    "    # Create a dict of the market model, omitting the articles\n",
    "    \n",
    "    prompt = f\"\"\"\n",
    "You are a savvy AI newsletter writer specializing in prediction markets and current events. Your task is to generate compelling newsletter content based on Polymarket prediction markets and potentially related search context. Your writing should be engaging, insightful, and highlight the fascinating world of prediction markets, using context where applicable. Your audience is  intelligent and have signed up for your newsletter because they believe that prediction markets unlock information about the world and about the news.\n",
    "\n",
    "The market_dict is a dictionary containing the following key information:\n",
    "- title: The title of the Polymarket prediction market\n",
    "- description: A description of the market\n",
    "- end_date: The resolution date for the market (pay close attention to this)\n",
    "- tags: Relevant tags for the market\n",
    "- options: A list of dictionaries, each containing:\n",
    "  - 'outcome': The possible outcome\n",
    "  - 'probability': The likelihood of the outcome (in decimal form, e.g., 0.75 = 75%)\n",
    "  - 'oneDayPriceChange': How much the probability has changed in the last day\n",
    "\n",
    "\n",
    "You will get the following curated info about the market:\n",
    "    what_is_the_market_asking_or_answering: str = Field(defualt=None, description= \"this should be a synposis of what this market is asking or answering\")\n",
    "    important_criteria: List[str] = Field(default_factory=List, description=\"a list of strings that describe important critera for a market and how it is resolved. includes timeline\")\n",
    "    completed: bool = Field(default=None, description=\"boolean indicating whether or not a market is essentially resolved. If the probability of all the options adds up to 0 or if the probability of any of the options is about 100, it is essentially guaranteed to already have happened or will happen\")\n",
    "    important_insights_context_or_reasoning : str = Field(default=None, description= \"summary of important context or insights that could be related to this market. if there is important context from the sources from the internet regarding a probability or a change\")\n",
    "\n",
    "\n",
    "Lastly, you will get information from the internet. This should be used as supplemental information and context as to the cause of certain odds, and when used in the article, should be cited.\n",
    "\n",
    "Note: The interesting part of the market and how it relates to narratives on the internet might not need all of the provided information. Use your judgment to determine the applicability of information.\n",
    "\n",
    "Instructions:\n",
    "1. Carefully analyze the Polymarket prediction market information, paying special attention to the end_date and time frame criteria specified in the title or description.\n",
    "2. Review the related context provided by searching the web, identifying any relevant information to the market. If no links are relevant, focus solely on the market data.\n",
    "3. Identify the most interesting or surprising aspects of the market probabilities, potentially contrasting them with relevant news reporting if applicable.\n",
    "4. Create a catchy headline that captures attention by highlighting these interesting aspects, ensuring it accurately reflects the time frame of the market.\n",
    "5. Write a subheader that provides additional context or intrigue.\n",
    "6. Compose a brief, engaging blurb that expands on the headline and subheader, incorporating relevant information from the prediction market and, if applicable, the web.\n",
    "\n",
    "These are notes from an expert newsletter author on writing headlines that you should ABSOLUTELY use to make your headlines.\n",
    "Overall:\n",
    "3. Be active in your sentences not passive.\n",
    "4. Do not use slang.\n",
    "5. Use present tense and do not use articles (a, an, the)\n",
    "6. Be professional, yet quippy and smart. Write like Packy Mccormick in Not Boring.\n",
    "\n",
    "HEADLINE RULES:\n",
    "- Must be news, not description (Example: \"Biden wins vote\" NOT \"Vote held on bill\")\n",
    "- Write in positive form. (Example:\n",
    "Dont write: Jonas didnt win the election.\n",
    "Instead write: Jonas lost the election)\n",
    "- Maximum 8 words\n",
    "- Include most dramatic number/stat if available\n",
    "- Use em dash (—) to add quick context\n",
    "- Never use questions\n",
    "- Start with the outcome/result\n",
    "- No articles (a, an, the) at start\n",
    "\n",
    "SUBHEADER RULES:\n",
    "- Must add NEW information not in headline\n",
    "- Never repeat headline information\n",
    "- One line maximum\n",
    "- Connect to headline's impact\n",
    "- Include market implications or broader context\n",
    "- Must explain \"why it matters\"\n",
    "\n",
    "BLURB RULES:\n",
    "- Second sentence: Support with specific data/detail\n",
    "- Third sentence: Add broader context/impact\n",
    "- Maximum 3 short paragraphs\n",
    "- Each paragraph = one distinct point\n",
    "- No empty phrases like:\n",
    "  • \"as events unfold\"\n",
    "  • \"amid escalating\"\n",
    "  • \"recent developments\"\n",
    "  • \"prediction markets indicate\"\n",
    "- No qualifiers like:\n",
    "  • \"staggering\"\n",
    "  • \"dramatic\"\n",
    "  • \"significant\"\n",
    "  • \"unprecedented\"\n",
    "- Lead with data/numbers when they're the news\n",
    "- Cut all prepositional phrases that don't add value\n",
    "- Use active voice\n",
    "- 12-15 words per sentence maximum\n",
    "\n",
    "FORMAT:\n",
    "[HEADLINE] (8 words max)\n",
    "[SUBHEADER] (1 line)\n",
    "[BLURB] (3 paragraphs max)\n",
    "\n",
    "Ensure that you use the exact formatting with the bold markers (**) as shown above.\n",
    "\n",
    "Now, using the provided market_dict and articles, generate a compelling newsletter section following the format above. Remember to focus on the most intriguing aspects of the prediction market, potentially contrasting with news reports if relevant. Craft a headline that captures attention and sparks curiosity, always ensuring your content accurately reflects the time frame specified in the market. If the provided web searches aren't relevant, feel free to focus solely on the fascinating world of the prediction market itself. Keep in mind, that you are going to be asked to do many of these articles in a row, so make your wording unique so you do not repeat phrasings.\n",
    "\n",
    "Input Market Info:\n",
    "{market_dict}\n",
    "\n",
    "Important market analysis to utilize:\n",
    "{response_dict}\n",
    "\n",
    "Input Context from Web:\n",
    "{context}\n",
    "\"\"\"\n",
    "    better_llm = ChatOpenAI(model=\"gpt-4.1-mini\", api_key = openai_api)\n",
    "    structured_llm_better = better_llm.with_structured_output(ArticleOutput)\n",
    "    response = structured_llm_better.invoke([HumanMessage(content=prompt)])\n",
    "    print(\"this is the stuctured article output: \", response.dict())\n",
    "\n",
    "    system_prompt = f\"\"\"You are an expert editor evaluating newsletter content that combines traditional news with prediction market insights from Polymarket. You'll score submissions from 0-10 based on three key criteria:\n",
    "\n",
    "1. Insight Value (0-10):\n",
    "   - Does it reveal non-obvious implications using prediction market data?\n",
    "   - Does it connect market probabilities to real-world implications?\n",
    "   - Does it go beyond surface-level news reporting?\n",
    "   - Is it on an interesting topic? (Sports scores are not interesting. They should get low scores except for occurances where it is beyond predicting a matchup's outcome). Juicy pop culture surprises can be pretty interesting.\n",
    "\n",
    "2. Information Quality (0-10):\n",
    "   - Is the information specific and actionable?\n",
    "   - Is it revealing information that otherwise wouldnt be clear? If it is on a topic in the news with uncertainty, the market could be a big help.\n",
    "   - Are market probabilities clearly connected to conclusions?\n",
    "   - Does it avoid vague or generic statements?\n",
    "   - If it is predicting something at near 100 percent certainty, then it is not that interesting.\n",
    "\n",
    "3. Professionalism & Tone (0-10):\n",
    "   - Is the content respectful and professional?\n",
    "   - Does it maintain appropriate formality when discussing serious topics?\n",
    "   - Does it avoid sensationalism while remaining engaging?\n",
    "\n",
    "The final score is the average of these three scores, rounded to the nearest integer.\n",
    "\n",
    "Here are examples of different quality levels:\n",
    "\n",
    "SCORE 10 EXAMPLE:\n",
    "Headline: \"Market Signals 75% Chance of Fed Rate Pause Through Q2\"\n",
    "Subheader: \"Traders Betting Heavily on Extended Hold Pattern Despite Recent Inflation Data\"\n",
    "Blurb: \"While mainstream coverage focuses on the latest CPI print, Polymarket's fed-futures contract reveals traders are increasingly confident about an extended rate pause. The 75% probability suggests markets have largely priced in stabilizing inflation, despite mixed economic signals. This diverges from traditional analyst forecasts, which remain split on the Fed's next move. For investors, this implies potential opportunities in rate-sensitive sectors that may be mispriced based on mainstream narratives.\"\n",
    "\n",
    "Analysis:\n",
    "- Insight Value: 10/10 - Combines market data with practical investment implications\n",
    "- Information Quality: 10/10 - Specific probabilities and actionable insights\n",
    "- Professionalism: 10/10 - Maintains formal tone while being engaging\n",
    "Total Score: 10/10\n",
    "\n",
    "SCORE 5 EXAMPLE:\n",
    "Headline: \"Ukraine Aid Package Shows 60% Chance of Passage\"\n",
    "Subheader: \"Market Odds Reflect Congressional Uncertainty\"\n",
    "Blurb: \"Polymarket traders are giving the latest Ukraine aid package a 60% chance of passing this month. This matches the general consensus from political analysts, though doesn't provide much additional insight. The market has fluctuated between 55-65% over the past week, suggesting no clear direction yet.\"\n",
    "\n",
    "Analysis:\n",
    "- Insight Value: 4/10 - Mostly restates known information\n",
    "- Information Quality: 6/10 - Clear probabilities but limited analysis\n",
    "- Professionalism: 5/10 - Adequate but could provide more context\n",
    "Total Score: 5/10\n",
    "\n",
    "SCORE 0 EXAMPLE:\n",
    "Headline: \"Markets Predict Chaos in Upcoming Election!!!\"\n",
    "Subheader: \"Traders Betting Big on Political Drama\"\n",
    "Blurb: \"Election markets are going crazy right now! Some traders are betting everything will fall apart, while others think it'll be fine. Numbers are all over the place. Could be really bad news for everyone if things go wrong!!!\"\n",
    "\n",
    "Analysis:\n",
    "- Insight Value: 0/10 - No specific insights or analysis\n",
    "- Information Quality: 0/10 - Vague statements without data\n",
    "- Professionalism: 0/10 - Sensationalist and unprofessional tone\n",
    "Total Score: 0/10\n",
    "\n",
    "Please evaluate the following content and provide a single integer score from 0-10, reflecting the average of the three criteria rounded to the nearest integer. Format your response as JSON with a single key 'score' and an integer value.\n",
    "\n",
    "Content to evaluate: \n",
    "Headline: {response.headline}\n",
    "Subheader: {response.subheader}\n",
    "Blurb: {response.blurb}\n",
    "\"\"\"\n",
    "    score_llm = llm.with_structured_output(article_score)\n",
    "    score_response = score_llm.invoke([HumanMessage(content=system_prompt)])\n",
    "\n",
    "    print(\"returning article with headline: \", response.headline)\n",
    "    if score_response.score > 6:\n",
    "      return {\"newsletter_content\" : [ArticleOutput(\n",
    "              headline=response.headline,\n",
    "              subheader=response.subheader,\n",
    "              blurb=response.blurb,\n",
    "              score=score_response.score,\n",
    "              ticker = market.ticker,\n",
    "              links = market.links\n",
    "          )]}\n",
    "    else:\n",
    "       return {\"skipped_newsletter_content\" : [ArticleOutput(\n",
    "              headline=response.headline,\n",
    "              subheader=response.subheader,\n",
    "              blurb=response.blurb,\n",
    "              score=score_response.score,\n",
    "              ticker = market.ticker,\n",
    "              links = market.links\n",
    "          )]}"
   ]
  },
  {
   "cell_type": "code",
   "execution_count": 12,
   "metadata": {
    "execution": {
     "iopub.execute_input": "2025-05-16T18:01:57.631024Z",
     "iopub.status.busy": "2025-05-16T18:01:57.630711Z",
     "iopub.status.idle": "2025-05-16T18:01:57.634323Z",
     "shell.execute_reply": "2025-05-16T18:01:57.633631Z"
    }
   },
   "outputs": [],
   "source": [
    "def continue_to_markets(state: OverallGraph):\n",
    "    return [Send(\"parallel_article_writing\", market) for market in state.markets_list]"
   ]
  },
  {
   "cell_type": "code",
   "execution_count": 13,
   "metadata": {
    "execution": {
     "iopub.execute_input": "2025-05-16T18:01:57.637054Z",
     "iopub.status.busy": "2025-05-16T18:01:57.636775Z",
     "iopub.status.idle": "2025-05-16T18:01:57.642025Z",
     "shell.execute_reply": "2025-05-16T18:01:57.640915Z"
    }
   },
   "outputs": [],
   "source": [
    "class ArticleGroups(BaseModel):\n",
    "    article_groups: Dict[str, List[int]] = Field(\n",
    "        default_factory=dict,\n",
    "        description=\"Dictionary of lists, where each list contains ids of a group of articles. The string is the title of the group\"\n",
    "    )"
   ]
  },
  {
   "cell_type": "code",
   "execution_count": 14,
   "metadata": {
    "execution": {
     "iopub.execute_input": "2025-05-16T18:01:57.645020Z",
     "iopub.status.busy": "2025-05-16T18:01:57.644685Z",
     "iopub.status.idle": "2025-05-16T18:01:57.656524Z",
     "shell.execute_reply": "2025-05-16T18:01:57.655807Z"
    }
   },
   "outputs": [],
   "source": [
    "def enumerate_articles(articles):\n",
    "    return \"\\n\".join(f\"{article}\" for article in articles)\n",
    "\n",
    "def generate_groups(state: OverallGraph):\n",
    "    llm = ChatOpenAI(model=\"gpt-4o\", api_key=openai_api)  # Fixed model name\n",
    "    structured_llm = llm.with_structured_output(ArticleGroups)\n",
    "    \n",
    "    formatted_articles = \"\\n\".join([\n",
    "        f\"ID {article.id}: {article.headline}\" \n",
    "        for article in state.newsletter_content\n",
    "    ])\n",
    "    \n",
    "    prompt = f\"\"\"You are organizing articles for a prediction market-focused newsletter. \n",
    "Group these articles into standard news categories that would appear in a major newspaper.\n",
    "\n",
    "Guidelines for categories:\n",
    "1. Use quippy, interesting section names that group as many articles as possible\n",
    "2. Requirements:\n",
    "   - Each article must be in exactly one category\n",
    "   - Each category must contain 2-6 related articles. Always at least 3.\n",
    "   - Categories should be broad enough to group related stories\n",
    "   - Put every article in a category.\n",
    "\n",
    "Example format:\n",
    "{{\n",
    "    \"article_groups\": {{\n",
    "        \"US Politics\": [1, 4, 7],\n",
    "        \"Elon's Companies\": [2, 5, 8],\n",
    "        \"NFL Playoffs\": [3, 6, 9]\n",
    "    }}\n",
    "}}\n",
    "\n",
    "Articles to categorize:\n",
    "{formatted_articles}\n",
    "\n",
    "Create appropriate groupings where each article ID is used exactly once.\"\"\"\n",
    "    \n",
    "    try:\n",
    "        result = structured_llm.invoke([SystemMessage(content=prompt)])\n",
    "        print(\"Structured output:\", result)\n",
    "        return {\"article_groups\": result.article_groups}\n",
    "    except Exception as e:\n",
    "        print(f\"Error generating groups: {e}\")\n",
    "        return {\"article_groups\": {}}\n",
    "def send_redundant_groups(state : OverallGraph):\n",
    "    if state.done == True:\n",
    "        print(\"ending\")\n",
    "        print(\"state before ending: \", state)\n",
    "        return END\n",
    "    list_of_lists_of_articles =[]\n",
    "    for redundant_group in state.redundant_groups:\n",
    "        articles_idx_individual = [state.newsletter_content[index] for index in redundant_group]\n",
    "        list_of_lists_of_articles.append(articles_idx_individual)\n",
    "    return [Send(\"combine_articles\", articles) for articles in list_of_lists_of_articles]\n",
    "def combine_articles(articles):\n",
    "    print('fixing this redundant group')\n",
    "    llm = ChatOpenAI(model=\"gpt-4.1-mini\", api_key = openai_api) \n",
    "    structured_llm = llm.with_structured_output(ArticleOutput)\n",
    "    prompt = f\"\"\"\n",
    "    You are a skilled AI editor tasked with condensing multiple prediction market newsletter articles into a single, comprehensive article. Your goal is to distill the most crucial information from each input article while maintaining the engaging style and format of the original pieces.\n",
    "    Input:\n",
    "    You will receive a list of newsletter articles, each following this structure:\n",
    "    Headline: [Attention-grabbing headline]\n",
    "    Subheader: [Supporting subheader adding context]\n",
    "    Blurb: [2-3 sentence paragraph expanding on the headline and subheader]\n",
    "    Instructions:\n",
    "\n",
    "    Analyze all input articles, identifying the most significant and intriguing information from each.\n",
    "    Create a new, overarching headline that captures the essence of the combined articles.\n",
    "    Craft a subheader that provides additional context for the main headline.\n",
    "    Write a concise blurb that synthesizes the key points from all input articles. This blurb should:\n",
    "\n",
    "    Highlight the most interesting prediction market probabilities and movements.\n",
    "    Mention any relevant time frames or end dates for the markets.\n",
    "    Include any notable contrasts with traditional news reporting, if applicable.\n",
    "    Preserve the confident, slightly irreverent tone of the original articles.\n",
    "\n",
    "\n",
    "    Ensure your writing is engaging and assumes an audience familiar with prediction markets.\n",
    "    Be as concise as possible while encoding the maximum amount of relevant information.\n",
    "\n",
    "    Your output should follow this format:\n",
    "    Headline: [Your new, overarching headline]\n",
    "    Subheader: [A supporting subheader that adds context]\n",
    "    Blurb: [A 3-4 sentence paragraph synthesizing key information from all input articles]\n",
    "    Remember to use the exact formatting with the bold markers (**) as shown above.\n",
    "    Now, using the provided input articles, generate a single, comprehensive newsletter article that captures the most crucial information while maintaining the engaging style and format of the original pieces.\n",
    "    Here are the articles:\n",
    "    {articles}\"\"\"\n",
    "    response = structured_llm.invoke([SystemMessage(content=prompt)])\n",
    "    print(\"made this new article out of \", len(articles), \" articles with the headline: \", response.headline)\n",
    "     \n",
    "    return {\"newsletter_content\" : [ArticleOutput(\n",
    "            headline=response.headline,\n",
    "            subheader=response.subheader,\n",
    "            blurb=response.blurb\n",
    "        )]}\n",
    "def remove_redundants(state: OverallGraph):\n",
    "    print(\"removing redundants\")\n",
    "    flat_indices = set([index for sublist in state.redundant_groups for index in sublist])\n",
    "    # Remove items from each sublist\n",
    "    state.newsletter_content = [item for i, item in enumerate(state.newsletter_content) if i not in flat_indices]\n",
    "    return state"
   ]
  },
  {
   "cell_type": "code",
   "execution_count": 15,
   "metadata": {
    "execution": {
     "iopub.execute_input": "2025-05-16T18:01:57.660181Z",
     "iopub.status.busy": "2025-05-16T18:01:57.659854Z",
     "iopub.status.idle": "2025-05-16T18:01:57.664541Z",
     "shell.execute_reply": "2025-05-16T18:01:57.663847Z"
    }
   },
   "outputs": [],
   "source": [
    "def check_if_done(state : OverallGraph):\n",
    "    if state.done == True:\n",
    "        return END\n",
    "    else:\n",
    "        return 'combine_similar'\n",
    "    \n",
    "def deduplicate_articles(state: OverallGraph):\n",
    "    return [Send(\"parallel_article_writing\", market) for market in state.markets_list]"
   ]
  },
  {
   "cell_type": "code",
   "execution_count": 16,
   "metadata": {
    "execution": {
     "iopub.execute_input": "2025-05-16T18:01:57.667648Z",
     "iopub.status.busy": "2025-05-16T18:01:57.667238Z",
     "iopub.status.idle": "2025-05-16T18:01:57.673244Z",
     "shell.execute_reply": "2025-05-16T18:01:57.672486Z"
    }
   },
   "outputs": [],
   "source": [
    "# Define the graph\n",
    "from IPython.display import Image, display\n",
    "def define_workflow():\n",
    "    workflow = StateGraph(MarketInfo)\n",
    "    \n",
    "    workflow.add_node(\"get_context\", tavily_search)\n",
    "    workflow.add_node(\"generate_newsletter\", generate_newsletter_content)\n",
    "    \n",
    "    workflow.set_entry_point(\"get_context\")\n",
    "    workflow.add_edge(\"get_context\", \"generate_newsletter\")\n",
    "    workflow.add_edge(\"generate_newsletter\", END)\n",
    "\n",
    "    parallel_workflow = StateGraph(OverallGraph)\n",
    "\n",
    "    parallel_workflow.add_node(\"parallel_article_writing\", workflow.compile())\n",
    "    parallel_workflow.set_conditional_entry_point(continue_to_markets, [\"parallel_article_writing\"])\n",
    "    parallel_workflow.add_node(\"generate_groups\", generate_groups)\n",
    "    parallel_workflow.add_edge(\"parallel_article_writing\", \"generate_groups\")\n",
    "    # parallel_workflow.add_node(\"combine_articles\", combine_articles)\n",
    "    # parallel_workflow.add_conditional_edges(\"generate_groups\", send_redundant_groups, [\"combine_articles\", END])\n",
    "    # parallel_workflow.add_node(\"remove_redundants\", remove_redundants)\n",
    "    # parallel_workflow.add_edge(\"combine_articles\", \"remove_redundants\")\n",
    "    parallel_workflow.add_edge(\"generate_groups\", END)\n",
    "    react_graph = parallel_workflow.compile()\n",
    "    \n",
    "\n",
    "\n",
    "    \n",
    "\n",
    "    # Show\n",
    "    #display(Image(react_graph.get_graph(xray=True).draw_mermaid_png()))\n",
    "    \n",
    "    return react_graph"
   ]
  },
  {
   "cell_type": "code",
   "execution_count": 17,
   "metadata": {
    "execution": {
     "iopub.execute_input": "2025-05-16T18:01:57.676879Z",
     "iopub.status.busy": "2025-05-16T18:01:57.676562Z",
     "iopub.status.idle": "2025-05-16T18:01:57.683549Z",
     "shell.execute_reply": "2025-05-16T18:01:57.682840Z"
    }
   },
   "outputs": [],
   "source": [
    "def articles_wrapper(days_in_past):\n",
    "    market_info_list = []\n",
    "    graph = define_workflow()\n",
    "    articles = []\n",
    "    full_info = []\n",
    "    markets = get_markets_for_date_range(days_in_past=days_in_past, limit=100)\n",
    "    excluded_tags = [\"Crypto\", \"Weather\", \"Mentions\", \"Sports\"]\n",
    "    filtered_markets = [market for market in markets if not any(tag['label'] in excluded_tags for tag in market.get('tags', []))]\n",
    "    sorted_markets_by_interest = sorted(\n",
    "    {market['title']: market for market in filtered_markets if market.get('interest_score', 0) > 1000}.values(),\n",
    "    key=lambda x: x.get('interest_score', 0),\n",
    "    reverse=True\n",
    ")\n",
    "    print(\"len of markets post score cutoff: \", len(sorted_markets_by_interest))\n",
    "    for market in sorted_markets_by_interest:\n",
    "        market_info_example = MarketInfo(**market)\n",
    "        # market_end_result = app.invoke(market_info_example)\n",
    "        market_info_list.append(market_info_example)\n",
    "        # if market_end_result['newsletter_content']:\n",
    "        #     articles.append(market_end_result['newsletter_content'])\n",
    "        #     full_info.append(market_end_result)\n",
    "    print(\"number of markets going into the graph: \",len(market_info_list))\n",
    "    markets_model = OverallGraph(markets_list=market_info_list)\n",
    "    result = graph.invoke(markets_model)\n",
    "    \n",
    "    return result"
   ]
  },
  {
   "cell_type": "code",
   "execution_count": 18,
   "metadata": {
    "execution": {
     "iopub.execute_input": "2025-05-16T18:01:57.686400Z",
     "iopub.status.busy": "2025-05-16T18:01:57.686128Z",
     "iopub.status.idle": "2025-05-16T18:02:46.291171Z",
     "shell.execute_reply": "2025-05-16T18:02:46.290171Z"
    }
   },
   "outputs": [
    {
     "name": "stdout",
     "output_type": "stream",
     "text": [
      "len of markets post score cutoff:  23\n",
      "number of markets going into the graph:  23\n"
     ]
    },
    {
     "name": "stdout",
     "output_type": "stream",
     "text": [
      "['<Document href=\"https://www.nytimes.com/2025/05/11/us/politics/trump-qatar-jet-gift-air-force-one.html\"/>\\nBy Maggie HabermanEric Schmitt and Glenn Thrush\\nMaggie Haberman reported from New York, and Eric Schmitt and Glenn Thrush from Washington.\\nMay 11, 2025Updated 8:54 p.m. ET\\nThe Trump administration plans to accept a luxury Boeing 747-8 plane as a donation from the Qatari royal family that will be upgraded to serve as Air Force One, which would make it one of the biggest foreign gifts ever received by the U.S. government, several American officials with knowledge of the matter said. [...] A version of this article appears in print on May 12, 2025, Section A, Page 1 of the New York edition with the headline: Qatar Is Said To Give Trump Official Plane. Order Reprints | Today’s Paper | Subscribe\\nSee more on: U.S. Politics, Boeing Company, U.S. Department of Defense, Donald Trump\\nRead 195 CommentsRead 195 Comments [...] Published Time: 2025-05-11T15:09:41.000Z\\nTrump Is Poised to Accept a Luxury 747 From Qatar for Use as Air Force One - The New York Times\\nSkip to contentSkip to site indexSearch & Section NavigationSection Navigation\\nSEARCH\\nPolitics\\n\\nSubscribe for $1/weekLog in\\nSunday, May 11, 2025\\nToday’s Paper\\nSubscribe for $1/week\\n\\nTrump Administration\\n\\nUpdates\\nThe First 100 Days\\nLawsuits Tracker\\nTracking the Layoffs\\nApproval Ratings\\n</Document>\\n\\n---\\n\\n<Document href=\"https://abcnews.go.com/Politics/trump-administration-poised-accept-palace-sky-gift-trump/story?id=121680511\"/>\\nIn what may be the most valuable gift ever extended to the United States from a foreign government, the Trump administration is preparing to accept a super luxury Boeing 747-8 jumbo jet from the royal family of Qatar -- a gift that is to be available for use by President Donald Trump as the new Air Force One until shortly before he leaves office, at which time ownership of the plane will be transferred to the Trump presidential library foundation, sources familiar with the proposed arrangement [...] Published Time: 2025-05-11T23:43:00.000Z\\nTrump administration poised to accept \\'palace in the sky\\' as a gift for Trump from Qatar: Sources - ABC News\\nABC News\\n\\nVideo -----\\nLive ----\\nShows -----\\nShop ----\\n\\nLog In\\nStream on --------- \\nTrump administration poised to accept \\'palace in the sky\\' as a gift for Trump from Qatar: Sources\\nThe luxury jumbo jet is to be used as Air Force One, sources told ABC News.\\nByJonathan Karl and Katherine Faulders\\nMay 11, 2025, 11:43 PM [...] 4:36\\nTrump gifted luxury plane ahead of Middle East tripA super luxury Boeing 747-8 jumbo jet from the royal family of Qatar could be the most valuable gift ever presented to the U.S. from a foreign government.\\n</Document>\\n\\n---\\n\\n<Document href=\"https://www.nbcnews.com/politics/donald-trump/trump-administration-will-accept-luxury-jet-qatar-use-air-force-one-rcna206111\"/>\\nThe Trump administration is preparing to accept a superluxury Boeing 747-8 jumbo jet from the royal family of Qatar as a gift to be used by President Donald Trump\\xa0as the new Air Force One for presidential travel until shortly before Trump leaves office, according to four sources familiar with the planning.\\n\\nTwo of the sources also confirm that ownership of the plane will be transferred to the Trump presidential library foundation once the president ends his second term. [...] Another one of the sources said the idea of gifting Trump this specific plane has been under discussion for “quite some time” and that when the formal offer was made more recently, the president “happily accepted.”\\n\\nABC News\\xa0first reported\\xa0the gift.\\n\\nIn response to questions about Qatar giving the plane to Trump, White House press secretary Karoline Leavitt said gifts from foreign governments are accepted following the law. [...] ABC News reported that Attorney General Pam Bondi and other DOJ lawyers had determined that the acceptance of the plane was legally permissible if the Qatari government gifts it to the Defense Department and it is later turned over to the Trump Library Foundation.\\n\\nA former senior DOJ official who spoke on condition of anonymity said that for the jet gift to violate federal laws barring the payment of bribes or gratuities to officials, the gift would have to be motivated by corrupt intent.\\n</Document>\\n\\n---\\n\\n<Document href=\"https://www.reuters.com/business/aerospace-defense/trump-set-accept-luxury-747-qatar-use-air-force-one-abc-news-says-2025-05-11/\"/>\\nThe luxury plane, which would be one of the most valuable gifts ever received by the U.S. government, would eventually be donated to Trump\\'s\\n</Document>\\n\\n---\\n\\n<Document href=\"https://www.npr.org/2025/05/12/nx-s1-5395696/qatar-trump-plane-gift-ethics\"/>\\nTrump said Monday that the plane isn\\'t a gift to him, but to the Department of Defense. He added that it will be decommissioned after his term for his presidential library, and that he will not use it after leaving office.\\n\\nRichard Briffault, a Columbia Law School professor who specializes in government ethics, says that distinction doesn\\'t matter: If the plane goes to Trump\\'s presidential library after he leaves office, \"then it\\'s not really a gift to the United States at all.\" [...] The Boeing 747 plane — which industry groups say could be worth around $400 million — would be one of the biggest foreign gifts ever received by the U.S. government. That\\'s controversial because the Constitution\\'s Foreign Emoluments Clause forbids public office holders from accepting a present \"of any kind whatever, from any King, Prince, or foreign State.\" [...] While not yet finalized, the Trump administration\\'s plan to accept a luxury plane from the Qatari government to serve as Air Force One has already drawn fierce criticism from Democratic lawmakers and independent watchdogs who say such a move violates the Constitution.\\n\\nThe White House confirmed on Sunday that Qatar had offered to donate a plane to the Department of Defense, but that it will not be presented or accepted during President Trump\\'s visit to the Middle East this week.\\n</Document>']\n"
     ]
    },
    {
     "name": "stderr",
     "output_type": "stream",
     "text": [
      "/Users/ethangoldberg/opt/anaconda3/envs/polynews/lib/python3.11/site-packages/langgraph/utils/runnable.py:408: UserWarning: WARNING! parallel_tool_calls is not default parameter.\n",
      "                parallel_tool_calls was transferred to model_kwargs.\n",
      "                Please confirm that parallel_tool_calls is what you intended.\n",
      "  input = step.invoke(input, config, **kwargs)\n"
     ]
    },
    {
     "name": "stdout",
     "output_type": "stream",
     "text": [
      "['<Document href=\"https://en.wikipedia.org/wiki/2025_Romanian_presidential_election\"/>\\nFirst round (after BEC deadline)\\n[edit]\\n| Poll | Date | Sample | Margin of error | Simion\\nAUR | Ponta\\nInd. | Dan\\nInd. | Antonescu\\nInd. | Lasconi\\nUSR | Funeriu\\nInd. | Șandru\\nPUSL | Terheș\\nPNCR | Banu\\nInd. | Popescu\\nPNR | Predoiu\\nPLAN | Others |\\n| --- | --- | --- | --- | --- | --- | --- | --- | --- | --- | --- | --- | --- | --- | --- | --- |\\n|  |  |  |  |  |  |  |  |  |  |  |\\n| IRSOP | 4-14 Apr 2025 | 1,030 | ± 3% | 31% | 18% | 28% | 17% | 4% | — | — | — | — | — | — | 2% | [...] | Sociopol | 7-11 Apr 2025 | 1,002 | ± 3.2% | 34% | 23% | 16% | 15% | 10% | — | — | — | — | — | — | 2% |\\n| CURS | 3-10 Apr 2025 | 1,214 | ± 2.8% | 26% | 16% | 19% | 23% | 8% | — | — | 3% | — | — | — | 5% |\\n| Noi, Cetățenii | 28 Mar–8 Apr 2025 | 1,488 | ± 2.5% | 30.0% | 8.3% | 29.6% | 19.6% | 7.8% | 2.1% | — | — | — | — | — | 2.7% |\\n| USR | 2–7 Apr 2025 | 1,149 | ± 2.9% | 40.8% | 20.4% | 16.9% | 14.5% | 4.1% | — | — | — | — | — | — | 3.3% | [...] Appearance\\nmove to sidebar hide\\nFrom Wikipedia, the free encyclopedia\\n2025 Romanian presidential election←\\xa020244 May 2025 (first round)18 May 2025 (second round)Registered19,005,434[1]\\xa0NomineeCrin AntonescuGeorge SimionElena LasconiPartyIndependent[a]AUR[b]USR[c]\\xa0NomineeNicușor DanVictor PontaLavinia ȘandruPartyIndependent[d]IndependentPUSLIncumbent PresidentIlie Bolojan (acting)PNL\\n| \\nPolitics of Romania\\n|\\n| --- |\\n|  |\\n|  |\\n| \\nConstitution\\n\\n\\nReferendums\\n1991 (adoption)\\n2003 (amendments)\\n</Document>\\n\\n---\\n\\n<Document href=\"https://edmo.eu/edmo-news/romanias-elections-overview-7-may-2025/\"/>\\nOn Wednesday, Nicușor Dan\\xa0presented a Verifield opinion\\xa0poll showing George Simion leading with 54.8% of voting intentions for the presidential runoff, compared to 45.2% for the current Bucharest mayor. The survey, conducted on a sample of 944 people with a 3.19% margin of error, revealed that among the total voting population, Simion has 38.9% support versus Dan’s 31.3%, with 14.7% undecided and 13.8% either planning to cancel their votes, not vote, or not responding. The poll also indicated [...] George Simion has won the first round of presidential elections with 40.96%, followed by pro-European Nicușor Dan (20.99%) who narrowly qualified for the runoff ahead of governing coalition candidate Crin Antonescu (20.07%). Social media analysis has revealed widespread disinformation campaigns attempting to shape public perception as Romania enters a period of political and economic instability. Prime Minister Ciolacu resigned with PSD withdrawing from government, the Romanian currency hit a [...] that former candidates’ voters are splitting their support, with 57.2% of Crin Antonescu’s voters backing Dan versus 18.8% for Simion, while Victor Ponta’s supporters favor Dan by 38.6% compared to 21.6% for Simion.\\n</Document>\\n\\n---\\n\\n<Document href=\"https://polymarket.com/event/romanian-presidential-election-margin-of-victory\"/>\\nPolymarket | The runoff for the Romanian presidential election is scheduled for May 18, 2025. This market will resolve according to the margin of victory be\\n</Document>\\n\\n---\\n\\n<Document href=\"https://www.csis.org/programs/europe-russia-and-eurasia-program/projects/european-election-watch/2025-elections/romania\"/>\\nviews. Currently, Simion is leading in the polls with 29% of the vote. [...] 11 candidates are currently running. A runoff election will be held if no candidate secures more than 50% support in the first round of voting. Only the two candidates with the most votes in the first round will be included on the ballot for the second round.\\n</Document>\\n\\n---\\n\\n<Document href=\"https://www.pbs.org/newshour/world/hard-right-candidate-secures-victory-in-1st-round-of-romanias-presidential-election-redo\"/>\\nShare on Facebook Share on Twitter\\nHard-right candidate secures victory in 1st round of Romania’s presidential election redo\\nWorld  May 4, 2025 6:00 PM EDT \\nBUCHAREST, Romania (AP) — Hard-right nationalist George Simion secured a decisive win Sunday in the first round of Romania’s presidential election redo, nearly complete electoral data showed. The election took place months after an annulled vote plunged the European Union and NATO member country into its worst political crisis in decades.\\n</Document>']\n",
      "['<Document href=\"https://www.washingtonpost.com/world/2025/05/12/trump-netanyahu-middle-east-trip/\"/>\\nPublished Time: 2025-05-12T06:00:10.430Z\\nTrump repeatedly bypasses Netanyahu, stoking Israeli dismay - The Washington Post\\nAccessibility statementSkip to main content\\nDemocracy Dies in Darkness\\nSubscribeSign in\\nAdvertisement\\nDemocracy Dies in Darkness\\nWorldMiddle EastWar In UkraineAfricaAmericasAsiaEurope\\nWorldMiddle EastWar In UkraineAfricaAmericasAsiaEurope\\nTrump repeatedly bypasses Netanyahu, stoking dismay among Israelis [...] Benjamin Netanyahu has long trumpeted his ties to Trump. But the president is sidelining him on urgent issues like the Iran nuclear talks and the conflict with Houthi rebels.\\nMay 12, 2025 at 2:00 a.m. EDTToday at 2:00 a.m. EDT\\n8 min\\n284 [...] The comments reflect a critical view of President Trump\\'s approach to U.S.-Israel relations, suggesting a shift away from traditional, unwavering support for Israel. Many commenters express approval of Trump\\'s focus on American interests over Israeli ones, viewing his actions as... Show more\\nThis summary is AI-generated. AI can make mistakes and this summary is not a replacement for reading the comments.\\nAll comments 304\\n</Document>\\n\\n---\\n\\n<Document href=\"https://www.dw.com/en/donald-trump-benjamin-netanyahu-israel-hamas-war-gaza-saudi-arabia/a-72561885\"/>\\nDuring his visit in Qatar, Trump said, \"I have concepts for Gaza that I think are very good. Make it a freedom zone, let the United States get\\n</Document>\\n\\n---\\n\\n<Document href=\"https://www.nytimes.com/2025/05/05/us/politics/trump-israel-gaza.html\"/>\\nWhen President Trump hosted Prime Minister Benjamin Netanyahu of Israel at the White House in early April, a reporter reminded Mr. Trump that his 2024 campaign promise to end the war in Gaza remained unfulfilled.\\n\\nIsrael had recently broken a tenuous cease-fire in its 18-month war with Hamas and renewed its bombardment of Gaza. But Mr. Trump professed optimism.\\n\\n“I’d like to see the war stop,” he replied. “And I think the war will stop at some point that won’t be in the too-distant future.”\\n</Document>\\n\\n---\\n\\n<Document href=\"https://spectrumlocalnews.com/nys/buffalo/news/2025/04/07/trump-netanyahu-white-house-tariffs-gaza\"/>\\nThe U.S. trade deficit with Israel amounted to $7.4 billion in 2024, according to the Office of the U.S. Trade Representative.\\n\\nFor his part, Trump was noncommittal in front of reporters on whether he may lower the rate on Americaâ\\x80\\x99s Middle East ally but touted that â\\x80\\x9cmany countries that are coming to negotiate dealsâ\\x80\\x9d as a result of his new fees. [...] Meanwhile, Netanyahu said that he was working, with help from the U.S., on another deal to secure the release of remaining hostages weeks after the latest ceasefire between Israel and Hamas came to an end.\\n\\nTrump â\\x80\\x93 who announced his shocking plan to have the U.S. control the Gaza Strip during his Israeli counterpartâ\\x80\\x99s February visit to Washington â\\x80\\x93 reiterated the sentiment. He called Gaza an â\\x80\\x9cincredible piece of important real estate.â\\x80\\x9d [...] \"We\\'re going to get fair deals and good deals with every country and if we don\\'t, we\\'re going to have nothing to do with them,â\\x80\\x9d Trump said. â\\x80\\x9cThey\\'re not going to be allowed to participate in the United States.â\\x80\\x9d\\n\\nAsked about the confusion that had spiraled over the weekend around whether the new tariffs were up for negotiation, Trump hedged.\\n</Document>\\n\\n---\\n\\n<Document href=\"https://www.cnn.com/2025/05/12/middleeast/israel-trump-middle-east-intl\"/>\\nEven the ardently pro-Trump Israel HaYom newspaper has keyed in on the apparent rift with Netanyahu. Columnist Shai Golden wrote in an opinion article over the weekend, “The old saying ‘Be careful what you wish for, you might just get it’ perfectly captures the trap Netanyahu has fallen into with Trump.”\\n\\n© 2025 Cable News Network. A Warner Bros. Discovery Company. All Rights Reserved.  CNN Sans ™ & © 2016 Cable News Network. [...] “He’s clearly frustrated with Netanyahu, as every other president who’s worked with Netanyahu has been,” Shapiro said.\\n\\nMeanwhile, Trump’s man in Jerusalem, US Ambassador Mike Huckabee, has tried to downplay speculation about a rift between the two leaders, and said he would “fully expect” Trump to visit Israel this year. [...] Trump is moving forward “like a bulldozer” for what he wants, Shapiro told CNN, and that wish list currently includes progress on a ceasefire deal and a hostage release. Netanyahu’s tendency to drag his feet on major decisions and his history of prioritizing his own political survival appear to have contributed to the White House’s willingness to forgo consultation with Israel on key decisions, he said.\\n</Document>']\n",
      "['<Document href=\"https://en.wikipedia.org/wiki/March_2025_Israeli_attacks_on_the_Gaza_Strip\"/>\\nIsraeli military announced that it was conducting a ground offensive to retake the Netzarim Corridor, from which it had withdrawn in February. [...] Lahia attacksBeit Lahia airstrikeKerem Shalom aid convoy lootingMarch 2025 Israeli strikesRafah paramedic massacreApril 2025 Shuja\\'iyya airstrikeOperation Gideon\\'s ChariotsGeneral topicsAI-assisted targetingBombing of the Gaza StripDestruction of cultural heritage during the Israeli invasion of the Gaza StripEnvironmental impact of the Gaza warGaza genocideIsraeli generals\\' planTortureOthertheatersIsraeli incursions in the West Bank2024 Israeli military operationKilling of Benjamin [...] From Wikipedia, the free encyclopedia\\nMilitary offensive that ended the Gaza war ceasefire\\n| March 2025 Israeli attacks on the Gaza Strip |\\n| --- |\\n| Part of the Gaza war |\\n| Type | Airstrikes, artillery/missile barrage |\\n| Location | \\nGaza Strip\\n|\\n| Planned\\xa0by | \\xa0Israel |\\n| Target | Issam al-Da\\'alis and other Hamas leaders (per Israel)[1]\\nIndiscriminate bombing of the Gaza Strip (per B\\'Tselem, Aljazeera, Colombia)[2][3][4]\\n |\\n| Date | 18\\xa0March 2025; 54 days ago\\xa0(2025-03-18)\\n</Document>\\n\\n---\\n\\n<Document href=\"https://www.aljazeera.com/news/liveblog/2025/5/14/live-israel-attacks-gaza-hospitals-as-trump-says-working-to-end-war-soon\"/>\\nLive updatesLive updates,\\nLIVE: Netanyahu ‘rushing to escalate massacres’ in Gaza, says Hamas\\nIsrael attacks two hospitals in Gaza in 24 hours, as Trump says working to end the ‘horrible’ war and free all captives.\\n\\nVideo Duration 01 minutes 08 seconds 01:08\\nJournalist is among victims of Israeli attack on Gaza hospital\\nBy\\xa0Federica Marsi\\nPublished On 14 May 202514 May 2025\\nSave articles to read later and create your own reading list.\\nClick here to share on social media [...] Published Time: 2025-05-14T00:00:00Z\\nLIVE: Netanyahu ‘rushing to escalate massacres’ in Gaza, says Hamas | Israel-Palestine conflict News | Al Jazeera\\nAdvertisement\\nSkip linksSkip to Content\\n\\nLive\\nSign upEnrich your Al Jazeera experience by signing in or creating an account.\\nNavigation menu\\n\\n\\nNewsShow more news sections\\n\\nAfrica\\nAsia\\nUS & Canada\\nLatin America\\nEurope\\nAsia Pacific\\n\\n\\n\\nMiddle East\\n\\nExplained\\nOpinion\\nSport\\nVideo\\n\\nMoreShow more sections\\n</Document>\\n\\n---\\n\\n<Document href=\"https://www.jns.org/a-year-plus-of-combat-in-gaza-is-needed/\"/>\\nIDF troops conduct ground operations in the Gaza Strip as part of a broader campaign targeting Hamas infrastructure and terrorist positions, May\\n</Document>\\n\\n---\\n\\n<Document href=\"https://www.bbc.com/news/articles/crr704wwklgo\"/>\\nWitnesses also reported smoke bombs, artillery shelling and tanks in Beit Lahia.\\n\\nIsrael\\'s military said it was \"operating to locate and dismantle terrorist infrastructure sites\" in north Gaza and had \"eliminated several terrorists\" over the past day.\\n\\nThis marks the largest ground assault on north Gaza since Israel resumed its offensive in March.\\n</Document>\\n\\n---\\n\\n<Document href=\"https://www.reuters.com/world/middle-east/israeli-cabinet-approves-expansion-gaza-offensive-broadcaster-kan-reports-2025-05-05/\"/>\\nOne Israeli official said the newly approved offensive would seize the entire territory of the Gaza Strip, move its civilian population\\n</Document>']\n"
     ]
    },
    {
     "name": "stderr",
     "output_type": "stream",
     "text": [
      "/Users/ethangoldberg/opt/anaconda3/envs/polynews/lib/python3.11/site-packages/langgraph/utils/runnable.py:408: UserWarning: WARNING! parallel_tool_calls is not default parameter.\n",
      "                parallel_tool_calls was transferred to model_kwargs.\n",
      "                Please confirm that parallel_tool_calls is what you intended.\n",
      "  input = step.invoke(input, config, **kwargs)\n",
      "/Users/ethangoldberg/opt/anaconda3/envs/polynews/lib/python3.11/site-packages/langgraph/utils/runnable.py:408: UserWarning: WARNING! parallel_tool_calls is not default parameter.\n",
      "                parallel_tool_calls was transferred to model_kwargs.\n",
      "                Please confirm that parallel_tool_calls is what you intended.\n",
      "  input = step.invoke(input, config, **kwargs)\n",
      "/Users/ethangoldberg/opt/anaconda3/envs/polynews/lib/python3.11/site-packages/langgraph/utils/runnable.py:408: UserWarning: WARNING! parallel_tool_calls is not default parameter.\n",
      "                parallel_tool_calls was transferred to model_kwargs.\n",
      "                Please confirm that parallel_tool_calls is what you intended.\n",
      "  input = step.invoke(input, config, **kwargs)\n"
     ]
    },
    {
     "name": "stdout",
     "output_type": "stream",
     "text": [
      "['<Document href=\"https://www.catholicnewsagency.com/news/264049/10-countries-pope-leo-xiv-visited-before-becoming-pope\"/>\\nPope Leo XIV was in Kenya in 2011, 2024, and 2025. In his 2024 visit to the African nation, the then-cardinal presided over the consecration and\\n</Document>\\n\\n---\\n\\n<Document href=\"https://abcnews.go.com/International/live-updates/papal-conclave-live-updates-cardinals-gather-vatican-elect?id=121506573&entryId=121670852&cid=social_fb_abcn&fbclid=IwY2xjawKJRl1leHRuA2FlbQIxMQBicmlkETFwM2N4SkxRaUhpczdUSDFqAR4G3c3-OSkBLozDNhHgdFBluexvhk2xf6XCBC_6TRfaNkSnQ4O62kN6RAQlfg_aem_ej7bZvy5mUSU5J-ljpAWWA\"/>\\nPope Leo XIV meets the College of Cardinals in the New Synod Hall at the Vatican, on May 10, 2025.\\n</Document>\\n\\n---\\n\\n<Document href=\"https://www.cnn.com/world/live-news/new-pope-conclave-day-two-05-08-25\"/>\\nThe new pope spent much of his career as a missionary in South America and served as a bishop in Peru, where he also holds citizenship. [...] Newly elected Pope Leo XIV appears on the balcony of St. Peter\\'s Basilica.\\nDylan Martinez/Reuters\\nIn his first words as pope, Leo XIV said to the crowd in St. Peter’s Square: “Peace be with you all.”\\n“This is the first greetings of the resurrected Christ, the good shepherd who has given up his life for God,” he said, explaining the choice of his greeting. “And I should also like this greeting of peace to enter our hearts and our families.” [...] Link Copied!\\nIn Spanish, Leo XIV greets his \"beloved diocese\" in Peru\\nFrom CNN\\'s Christian Edwards\\n</Document>\\n\\n---\\n\\n<Document href=\"https://time.com/7283865/pope-leo-robert-/\"/>\\nPope Leo XIV comes to prominence at a pivotal time, when principled leadership is more vital than ever. He faces ongoing conflicts in Ukraine, the Middle East, Africa and South Asia, along with the politically divisive, but morally urgent, issues of migration, religious freedom, human rights and the climate crisis. He will have to navigate a surge in right-wing nationalism, as well as a potential economic slump that threatens the world’s most vulnerable.\\n</Document>']\n",
      "['<Document href=\"https://deadline.com/wp-content/uploads/2025/04/diddy-id-protection-motion-feds-april-4.pdf\"/>\\n1:24-cr-00542-AS Document 211 Filed 04/04/25 Page 5 of 24 Deadline 2 BACKGROUND I. The Indictment On March 6, 2025, the grand jury returned Indictment S2 24 Cr. 542 (AS) charging the defendant in three counts. Count One charges racketeering conspiracy, in violation of 18 U.S.C. § 1962(d). Count Two charges sex trafficking, in violation of 18 U.S.C. §§ 1591 and 2. Count Three charges interstate transportation to engage in prostitution, in violation of 18 U.S.C. §§ 2421(a) and 2. (Dkt. No. 169 [...] Employee to ‘Engage in Sex Acts’,” People (Mar. 6, 2025), available at https://people.com/sean-diddy-combs-faces-new-allegations-of-forced-labor-in-superseding-indictment-11692723; “Diddy: Now I Know Who’s Accusing Me . . . Feds Hand Over Names of 3 Alleged Victims,” TMZ (Mar. 18, 2025). Case 1:24-cr-00542-AS Document 211 Filed 04/04/25 Page 18 of 24 Deadline 15 attention that this trial will likely garner, the details of each victim’s testimony will likely appear in the news and on the [...] Smyser Mitzi Steiner Assistant United States Attorneys Of Counsel Case 1:24-cr-00542-AS Document 211 Filed 04/04/25 Page 1 of 24 Deadline i TABLE OF CONTENTS PRELIMINARY STATEMENT ................................................................................................. 1 BACKGROUND ........................................................................................................................... 2 I. The Indictment\\n</Document>\\n\\n---\\n\\n<Document href=\"https://www.nytimes.com/interactive/2025/05/12/arts/music/sean-diddy-combs-sex-trafficking-indictment-documents.html\"/>\\nCase 1:24-cr-00542-AS Document 209 Filed 04/03/25 Page 1 of 17 UNITED STATES DISTRICT COURT SOUTHERN DISTRICT OF NEW YORK UNITED STATES OF AMERICA V. SEAN COMBS, a/k/a \"Puff Daddy,\" a/k/a \"P. Diddy,\" a/k/a \"Diddy,\" a/k/a \"PD,\" a/k/a \"Love,\" Defendant. COUNT ONE SUPERSEDING INDICTMENT S3 24 Cr. 542 (AS) The Grand Jury charges: (Racketeering Conspiracy) Overview 1. For decades, SEAN COMBS, a/k/a \"Puff Daddy,” a/k/a “P. Diddy,” a/k/a “Diddy,” a/k/a \"PD,\" a/k/a \"Love,\" the defendant, abused, [...] Case 1:24-cr-00542-AS Document 209 Filed 04/03/25 Page 14 of 17 \"Diddy,” a/k/a \"PD,” a/k/a “Love,” the defendant, knowingly transported individuals in interstate and foreign commerce with intent that the individuals engage in prostitution, and attempted, aided and abetted, and willfully caused the same, to wit, COMBS transported, aided and abetted, and willfully caused the transportation of multiple individuals, including but not limited to Victim-1 and commercial sex workers, in interstate and [...] Case 1:24-cr-00542-AS Document 209 Filed 04/03/25 Page 16 of 17 22. As a result of committing the offenses alleged in Counts Two and Four of this Indictment, SEAN COMBS, a/k/a “Puff Daddy,” a/k/a “P. Diddy,” a/k/a “Diddy,\" a/k/a \"PD,\" a/k/a \"Love,\" the defendant, shall forfeit to the United States, pursuant to Title 18, United States Code, Section 1594, any and all property, real and personal, involved in, used, or intended to be used to commit or to facilitate the commission of said offenses\\n</Document>\\n\\n---\\n\\n<Document href=\"https://www.scribd.com/document/822139445/USA-v-Combs\"/>\\nThe document pertains to case 1:24-cr-00542-ALC, filed on September 12, 2024. It consists of 14 pages, but the content is not provided in the excerpts.\\n</Document>\\n\\n---\\n\\n<Document href=\"https://deadline.com/wp-content/uploads/2025/03/combs-sdny-opp-memo-march-6.pdf\"/>\\n12, 2024, the grand jury returned Indictment 24 Cr. 542 charging the defendant in three counts: (1) racketeering conspiracy, in violation of 18 U.S.C. § 1962(d) (“Count One”); (2) sex trafficking, in violation of 18 U.S.C. §§ 1591 and 2 (“Count Two”); and (3) interstate transportation to engage in prostitution, in violation of 18 U.S.C. §§ 2421(a) and 2 (“Count Three”). (Dkt. No. 1). On January 30, 2025, the grand jury returned a Superseding Indictment (the “Indictment”), which included [...] Warrants were defective—which they were not. CONCLUSION For the reasons set forth above, the defendant’s motions should be denied. Case 1:24-cr-00542-AS Document 171 Filed 03/06/25 Page 40 of 41 Deadline 36 Dated: New York, New York March 4, 2025 Respectfully submitted, MATTHEW PODOLSKY Acting United States Attorney By: /s/ Maurene Comey Meredith Foster Emily A. Johnson Christy Slavik Madison Reddick Smyser Mitzi Steiner Assistant United States Attorneys (212) [...] disclosure letter, told the defense that took place after the Government’s prior disclosure letter, which was sent on November 21, 2024. (See Def. Ex. 32 at 3). Similarly, the defendant does not even attempt to argue that the affiant was aware of (Br. at 16). That is because, as the Government informed the defense on January 25, 2025, the texts were found on a device seized after the applications were submitted for the March 2024 Warrants. In short, the omission of these text messages from the\\n</Document>\\n\\n---\\n\\n<Document href=\"https://www.digitalmusicnews.com/wp-content/uploads/2025/03/us-v-combs-diddy-racism-response-1-24-cr-00542-march-2025.pdf\"/>\\nUNITED STATES DISTRICT COURT SOUTHERN DISTRICT OF NEW YORK UNITED STATES OF AMERICA -v.- SEAN COMBS, a/k/a “Puff Daddy,” a/k/a “P. Diddy,” a/k/a “Diddy,” a/k/a “PD,” a/k/a “Love,” Defendant. S1 24 Cr. 542 (AS) THE GOVERNMENT’S OPPOSITION TO THE DEFENDANT’S MOTION TO DISMISS COUNT THREE MATTHEW PODOLSKY Acting United States Attorney Southern District of New York 26 Federal Plaza New York, New York 10278 Maurene Comey Meredith Foster Emily A. Johnson Christy Slavik Madison Reddick Smyser Mitzi [...] See Sean Combs Charged In Manhattan Federal Court With Sex Trafficking And Other Federal Offenses, Press Release: https://www.justice.gov/usao-sdny/pr/sean-combs-charged-manhattan-federal-court-sex-trafficking-and-other-federal-offenses, Press Conference: https://www.youtube.com/live/ lj0pwnDXsWE?si=FQbIOEfqvughfXzC (Sept. 17, 2024). Since then, the U.S. Attorney’s Office has not made a single comment to the press, including when obtaining a superseding indictment. The press release and [...] selective prosecution, his Motion should be denied. Case 1:24-cr-00542-AS Document 166 Filed 03/04/25 Page 18 of 19 15 CONCLUSION For the reasons set forth above, the defendant’s Motion to dismiss Count Three should be denied. Dated: New York, New York March 4, 2025 Respectfully submitted, MATTHEW PODOLSKY Acting United States Attorney By: /s Maurene Comey / Meredith Foster / Emily A. Johnson / Christy Slavik / Madison Reddick Smyser / Mitzi Steiner Assistant United States Attorneys (212)\\n</Document>']\n"
     ]
    },
    {
     "name": "stderr",
     "output_type": "stream",
     "text": [
      "/Users/ethangoldberg/opt/anaconda3/envs/polynews/lib/python3.11/site-packages/langgraph/utils/runnable.py:408: UserWarning: WARNING! parallel_tool_calls is not default parameter.\n",
      "                parallel_tool_calls was transferred to model_kwargs.\n",
      "                Please confirm that parallel_tool_calls is what you intended.\n",
      "  input = step.invoke(input, config, **kwargs)\n",
      "/Users/ethangoldberg/opt/anaconda3/envs/polynews/lib/python3.11/site-packages/langgraph/utils/runnable.py:408: UserWarning: WARNING! parallel_tool_calls is not default parameter.\n",
      "                parallel_tool_calls was transferred to model_kwargs.\n",
      "                Please confirm that parallel_tool_calls is what you intended.\n",
      "  input = step.invoke(input, config, **kwargs)\n"
     ]
    },
    {
     "name": "stdout",
     "output_type": "stream",
     "text": [
      "['<Document href=\"https://apnews.com/article/russia-ukraine-war-istanbul-talks-zelenskyy-putin-05795eea960b9035f93a143c3e177c3d\"/>\\nHis proposal to Putin came amid a flurry of maneuvering last weekend as each side sought a diplomatic advantage.\\n\\n\\n\\nIn this handout photo released by Turkish Presidency, Turkish President Recep Tayyip Erdogan, right, shakes hands with his Ukrainian counterpart Volodymyr Zelenskyy during their meeting at the Presidential palace in Ankara, Thursday, May 15, 2025. (Turkish Presidency via AP) [...] Russia and Ukraine are set to hold their first direct peace talks in three years, both countries said Thursday, but hopes for a breakthrough remained dim after Russian President Vladimir Putin spurned an offer by Ukrainian President Volodymyr Zelenskyy to meet face-to-face in Turkey.\\n\\nUkrainian President Volodymyr Zelenskyy talks to journalists at the Ukrainian Embassy in Ankara, Turkey, Thursday, May 15, 2025. (AP Photo/Evgeniy Maloletka) [...] Putin met Wednesday with senior government officials and members of the delegation in preparation for the talks, Peskov said. Defense Minister Andrei Belousov, General Staff chief Valery Gerasimov and National Security Council secretary Sergei Shoigu attended.\\n\\nTurkish security members stand guard at Dolmabahce palace where talks between Russian and Ukrainian delegations are expected, in Istanbul, Turkey, Thursday, May 15, 2025. (AP Photo/Dilara Acikgoz)\\n\\n\\n\\n\\n\\nRussia calls the talks a ‘restart’\\n</Document>\\n\\n---\\n\\n<Document href=\"https://www.reuters.com/world/europe/ukraine-russia-live-updates-putin-trump-not-attending-peace-talks-turkey-2025-05-15/\"/>\\nHere\\'s what happened on Thursday\\n5 hours ago\\n19:25 UTC\\nErdogan and Zelenskiy at the Presidential Palace in Ankara, Turkey May 15, 2025. Ukrainian Presidential Press Service/Handout via REUTERS\\nA high stakes meeting between Russia and Ukraine\\'s leaders in Istanbul fizzled after Putinspurned a challenge to meet face-to-face with Zelenskiy, instead sending a second-tier delegation. [...] Tom Balmforth and Vladimir Soldatkin\\nErdogan welcomes Zelenskiy at the Presidential Palace in Ankara, Turkey May 15, 2025. Ukrainian Presidential Press Service/Handout via REUTERS\\nRussia\\'s Putin spurned a challenge to meet face to face with Ukraine\\'s Zelenskiy in Turkey on Thursday, instead sending a second-tier delegation to planned peace talks, while Ukraine\\'s president said now his defence minister would head up Kyiv\\'s team. [...] Putin attends a meeting with CEO of Promsvyazbank Pyotr Fradkov in Moscow, May 15, 2025. Sputnik/Alexander Kryazhev/Pool via REUTERS\\nSpeculation on whether Putin would attend the direct talks hung over the meeting since he proposed it himself last week.\\nIn the end, he sent a team of negotiators.\\nSo what else has Putin been doing on Thursday?\\nThe Kremlin said Putin had a \"calm\" working schedule and was holding various internal meetings and taking care of other \"non-public matters\".\\n</Document>\\n\\n---\\n\\n<Document href=\"https://www.theguardian.com/world/2025/may/16/russia-ukraine-meet-first-direct-talks-since-2022-instanbul\"/>\\n... Fri 16 May 2025 13.15 EDT ... Both sides said they discussed organising a meeting between Zelenskyy and Putin, who have met only once, in 2019.\\n</Document>\\n\\n---\\n\\n<Document href=\"https://www.cnbc.com/2025/05/15/putin-and-trump-wont-attend-peace-talks-with-ukraines-zelenskyy.html\"/>\\nUkraine’s Zelenskyy had expressed skepticism about the talks this week, commenting on Wednesday that he was still “waiting to see who will come from Russia, and then I will decide which steps Ukraine should take. So far, the signals from them in the media are unconvincing,” he said on the X social media platform.\\nTurkey’s President Tayyip Erdogan meets with Ukrainian President Volodymyr Zelenskyy at the Presidential Palace in Ankara, Turkey, May 15, 2025. \\nMustafa Kamaci/ppo | Via Reuters [...] CREATE FREE ACCOUNT\\nMarkets\\nBusiness\\nInvesting\\nTech\\nPolitics\\nVideo\\nWatchlist\\nInvesting Club\\n\\nPRO\\n\\nLivestream\\nMenu\\nEurope Politics\\nPutin and Trump leave Zelenskyy in the dust, skipping peace talks in Turkey\\nPublished Thu, May 15 2025 2:50 AM EDT Updated Thu, May 15 2025 11:34 AM EDT\\n\\nHolly Ellyatt@HollyEllyatt\\nWATCH LIVE\\nShare Share Article via Facebook Share Article via Twitter Share Article via LinkedIn Share Article via Email\\nKey Points [...] Published Time: 2025-05-15T06:50:27+0000\\nPutin and Trump won\\'t attend peace talks with Ukraine\\'s Zelenskyy\\nSkip Navigation\\nBREAKING U.S., UAE agree on path for Emirates to buy top American AI chips, Trump says\\n\\n\\nPutin and Trump leave Zelenskyy in the dust, skipping peace talks in Turkey\\n\\nLivestream\\n</Document>\\n\\n---\\n\\n<Document href=\"https://abcnews.go.com/International/ukraine-russia-holding-direct-negotiations-turkey/story?id=121866727\"/>\\nRussia-Ukraine talks: Prisoner exchange agreed upon, Ukraine requests Putin-Zelenskyy meeting ... May 16, 2025. Hudaverdi Yaman/Anadolu via Getty\\n</Document>']\n"
     ]
    },
    {
     "name": "stderr",
     "output_type": "stream",
     "text": [
      "/Users/ethangoldberg/opt/anaconda3/envs/polynews/lib/python3.11/site-packages/langgraph/utils/runnable.py:408: UserWarning: WARNING! parallel_tool_calls is not default parameter.\n",
      "                parallel_tool_calls was transferred to model_kwargs.\n",
      "                Please confirm that parallel_tool_calls is what you intended.\n",
      "  input = step.invoke(input, config, **kwargs)\n"
     ]
    },
    {
     "name": "stdout",
     "output_type": "stream",
     "text": [
      "['<Document href=\"https://en.wikipedia.org/wiki/Missile_strikes_in_Yemen_(2024%E2%80%93present)\"/>\\nmissile strikes2024 Tel Aviv drone attackJuly 2024 Israeli attackAttacks on theSounionSeptember 2024 Israeli attackDecember 2024 Israeli airstrikes in Yemen10 January 2025 Israeli attack on YemenMarch–May 2025 United States attacks in Yemen2025 U.S.–Houthi ceasefire2025 Houthi attack on Tel Aviv airportMay 2025 Israeli attacks on YemenDeathsAlim AbdallahIssam AbdallahSaleh al-ArouriAli Hussein BarjiRazi MousaviWissam al-TawilSadegh OmidzadehMushtaq Talib Al-SaeediMohammad Reza ZahediFuad [...] Attacks | 2024 Houthi drone attack on Israel20 July 2024 Israeli attack on Yemen29 September 2024 Israeli attacks on Yemen26 December 2024 Israeli attack on YemenMarch–April 2025 United States attacks in YemenSignal group chat leak2025 Ras Isa oil terminal airstrikes2025 Houthi attack on Tel Aviv airportMay 2025 Israeli attacks on YemenHouthi attacks on commercial vesselsHijacking of theGalaxy LeaderMarlin Luandamissile strikeSinking of the MVRubymarAttack on the MVTrue ConfidenceAttacks on the [...] January 2025 Israeli attack on YemenMarch–May 2025 United States attacks in Yemen2025 Ras Isa oil terminal airstrikes2025 Saada prison airstrike2025 Houthi attack on Tel Aviv airportMay 2025 Israeli attacks on YemenMilitary operationsOperation Prosperity GuardianOperation AspidesOperation Poseidon Archer30 May 2024 Yemen strikesOperation Outstretched ArmDiplomacyUnited Nations Security Council Resolution 27222025 U.S.–Houthi ceasefireEffectsEnvironmental impactHumanitarian crisisBlockadeDisease\\n</Document>\\n\\n---\\n\\n<Document href=\"https://www.pbs.org/newshour/world/israeli-announces-new-strikes-against-houthi-rebels-in-yemens-capital-and-ports\"/>\\nThe Israeli strikes followed several days of Houthi launches setting off sirens in Israel. The Israeli military in a statement said it attacked infrastructure used by the Iran-backed Houthis at the international airport in Sanaa and ports in Hodeida, Al-Salif and Ras Qantib, along with power stations, asserting they were used to smuggle in Iranian weapons and for the entry of senior Iranian officials. [...] Left:\\n                Smoke rises after Israeli strikes near Sanaa airport, in Sanaa, Yemen, December 26, 2024. Photo by REUTERS/Khaled Abdullah\\n\\nRelated\\n\\nBy Sam Mednick, Tia Goldenberg, Fatma Khaled, Associated Press\\n\\nBy Wafaa Shurafa, Tia Goldenberg, Associated Press\\n\\nBy Melanie Lidman, Wafaa Shurafa, Associated Press\\n\\nGo Deeper\\n\\nJosef Federman, Associated Press\\n\\n\\n                    Josef Federman, Associated Press\\n\\nWafaa Shurafa, Associated Press [...] JERUSALEM (AP) — A new round of Israeli airstrikes in Yemen on Thursday targeted the Houthi rebel-held capital and multiple ports, while the World Health Organization’s director-general said the bombardment occurred nearby as he prepared to board a flight in Sanaa, with a crew member injured.\\n\\n“The air traffic control tower, the departure lounge — just a few meters from where we were — and the runway were damaged,” Tedros Adhanom Ghebreyesus said on the social media platform X.\\n</Document>\\n\\n---\\n\\n<Document href=\"https://www.reuters.com/world/middle-east/israeli-military-warns-residents-near-sanaa-airport-leave-area-2025-05-06/\"/>\\nThe Israeli military carried out an airstrike on Yemen\\'s main airport in Sanaa on Tuesday, its second attack in two days on Iran-aligned\\n</Document>\\n\\n---\\n\\n<Document href=\"https://apnews.com/article/israel-airstrikes-houthi-rebels-airport-ea0ea0ca695a3a07c71c18bedc987c3e\"/>\\nIsrael\\'s military says it has carried out airstrikes against Houthi rebels in Yemen\\'s Red Sea province of Hodeida.\\n</Document>\\n\\n---\\n\\n<Document href=\"https://www.aljazeera.com/news/2025/5/12/do-israels-attacks-make-a-difference-to-yemen-houthis\"/>\\nIsrael struck numerous targets in recent days in Yemen, including Sanaa’s airport and the port in Hodeidah, which experts said is likely to exacerbate Yemen’s dire humanitarian situation.\\n\\nIsrael destroyed at least three civilian planes in the attacks.\\n\\nYemen is already suffering one of the world’s worst humanitarian crises. More than 18.2 million people require humanitarian assistance and protection services, according to the United Nations. [...] After Israeli attacks on Monday and Tuesday, which killed at least three people and wounded 35 others and damaged Hodeidah Port and Sanaa Airport, the Houthis promised retaliation.\\n\\nThe attacks “will not go unanswered”, the Houthi political bureau said in a statement.\\n\\nThat kind of statement is typical of the Houthis, who have managed to weather more than a decade of attacks by forces with far superior military capabilities.\\n</Document>']\n",
      "['<Document href=\"https://en.wikipedia.org/wiki/2025_Romanian_presidential_election\"/>\\nAppearance\\nmove to sidebar hide\\nFrom Wikipedia, the free encyclopedia\\n2025 Romanian presidential election←\\xa020244 May 2025 (first round)18 May 2025 (second round)Registered19,005,434[1]\\xa0NomineeCrin AntonescuGeorge SimionElena LasconiPartyIndependent[a]AUR[b]USR[c]\\xa0NomineeNicușor DanVictor PontaLavinia ȘandruPartyIndependent[d]IndependentPUSLIncumbent PresidentIlie Bolojan (acting)PNL\\n| \\nPolitics of Romania\\n|\\n| --- |\\n|  |\\n|  |\\n| \\nConstitution\\n\\n\\nReferendums\\n1991 (adoption)\\n2003 (amendments) [...] | FlashData | 3–5 Apr 2025 | 7,500 | 61% | 39% | — |\\n| MKOR | 26–28 Mar 2025 | 1,500 | 33% | 24% | 42% |\\n| AtlasIntel | 13–15 Mar 2025 | 2,381 | 43.2% | 17.5% | 39.3% |\\n| Noi, Cetățenii | 23 Dec 2024–13 Jan 2025 | 1,067 | 55% | 45% | — |\\nDan vs Simion\\n[edit]\\n| Poll | Date | Sample | Dan\\nInd. | Simion\\nAUR | Others |\\n| --- | --- | --- | --- | --- | --- |\\n|  |  |\\n| AtlasIntel | 10-13 Apr 2025 | 2,994 | 40.7% | 37.5% | 21.8% |\\n| ARA | 9-13 Apr 2025 | 1,115 | 48% | 52% | — | [...] First round (after BEC deadline)\\n[edit]\\n| Poll | Date | Sample | Margin of error | Simion\\nAUR | Ponta\\nInd. | Dan\\nInd. | Antonescu\\nInd. | Lasconi\\nUSR | Funeriu\\nInd. | Șandru\\nPUSL | Terheș\\nPNCR | Banu\\nInd. | Popescu\\nPNR | Predoiu\\nPLAN | Others |\\n| --- | --- | --- | --- | --- | --- | --- | --- | --- | --- | --- | --- | --- | --- | --- | --- |\\n|  |  |  |  |  |  |  |  |  |  |  |\\n| IRSOP | 4-14 Apr 2025 | 1,030 | ± 3% | 31% | 18% | 28% | 17% | 4% | — | — | — | — | — | — | 2% |\\n</Document>\\n\\n---\\n\\n<Document href=\"https://www.euronews.com/my-europe/2025/05/16/romanians-to-choose-between-george-simion-and-nicusor-dan-in-presidential-vote-runoff\"/>\\nAfter coming fourth in last year’s cancelled race, Simion, the 38-year-old leader of the Alliance for the Unity of Romanians (AUR) party, has been backed by surprise winner, ultranationalist Calin Georgescu, who was banned in March from standing in the repeat.\\n\\nSimion then surged to become the frontrunner in the 4 May first round, winning 40.5% of the vote, including a massive 61% of the Romanian diaspora\\'s ballots. [...] Romanians face a presidential election redo on Sunday. Hard-right George Simion scored a victory over pro-European Nicușor Dan in the first round, but recent surveys show the race is tight.\\n\\nRomanians will go to the polls on Sunday to choose between hard-right candidate George Simion and pro-European independent Nicușor Dan, in a presidential election redo expected to shape the country\\'s future. [...] Meanwhile, most recent domestic surveys indicate the runoff has narrowed to a near tie, after earlier ones showed Simion holding a lead over Dan, a 55-year-old mathematician and mayor of Bucharest.\\n\\nDan is running on his own on a pro-EU ticket, supporting economic reform, Western links, and support for Ukraine. He founded the reformist Save Romania Union party in 2016 but later resigned.\\n</Document>\\n\\n---\\n\\n<Document href=\"https://kyivindependent.com/romania-heads-to-historic-presidential-runoff-as-populist-and-pro-eu-candidate-are-neck-and-neck/\"/>\\nThe first opinion poll made by Verified and published by Dan after the first round showed Simion winning with almost 55% of the votes in the runoff. The poll excluded Romania\\'s diaspora, which is backing Simion. There has also been a tendency for Simion voters to refuse to participate in polls.\\n</Document>\\n\\n---\\n\\n<Document href=\"https://www.politico.eu/article/simion-accuses-moldova-manipulating-romanian-election-vote-split/\"/>\\nSimion, an ultranationalist fan of U.S. President Donald Trump, won nearly 61 percent of the votes of the important Romanian diaspora in the first round of the election on May 4.\\n\\nMoldova, however, bucked that trend and supported his centrist rival Nicușor Dan. It is home to a significant number of Romanian citizens and its politics are heavily influenced by Russia’s invasion of Ukraine.\\xa0Simion opposes military aid to Kyiv.\\n</Document>\\n\\n---\\n\\n<Document href=\"https://www.politico.eu/article/romanian-presidential-election-george-simion-nicusor-dan/\"/>\\nThe Romanian diaspora could swing the Sunday vote results either way. An estimated 4 million Romanians live abroad, 970,000 of whom voted in the first round —\\xa0with about 60 percent backing Simion. [...] But more recent polls have shown the gap narrowing significantly as decision day gets closer.\\n\\nOn Wednesday, a poll of 4,000 people by AtlasIntel put the two candidates level on 48 percent each. Crucially, AtlasIntel included a sample of the large Romanian diaspora population, among whom Simion is hugely popular.\\n</Document>']\n"
     ]
    },
    {
     "name": "stderr",
     "output_type": "stream",
     "text": [
      "/Users/ethangoldberg/opt/anaconda3/envs/polynews/lib/python3.11/site-packages/langgraph/utils/runnable.py:408: UserWarning: WARNING! parallel_tool_calls is not default parameter.\n",
      "                parallel_tool_calls was transferred to model_kwargs.\n",
      "                Please confirm that parallel_tool_calls is what you intended.\n",
      "  input = step.invoke(input, config, **kwargs)\n",
      "/Users/ethangoldberg/opt/anaconda3/envs/polynews/lib/python3.11/site-packages/langgraph/utils/runnable.py:408: UserWarning: WARNING! parallel_tool_calls is not default parameter.\n",
      "                parallel_tool_calls was transferred to model_kwargs.\n",
      "                Please confirm that parallel_tool_calls is what you intended.\n",
      "  input = step.invoke(input, config, **kwargs)\n"
     ]
    },
    {
     "name": "stdout",
     "output_type": "stream",
     "text": [
      "['<Document href=\"https://apnews.com/article/israel-palestinians-hamas-war-news-05-05-2025-d22caabfd2cf89e83fe06e649e6438ba\"/>\\nAn Israeli army tank maneuvers in the Gaza Strip is seen from southern Israel, Sunday, May 4, 2025. (AP Photo/Ariel Schalit)\\n    ![Image 16: An Israeli army tank maneuvers in the Gaza Strip is seen from southern Israel, Sunday, May 4, 2025. (AP Photo/Ariel Schalit)](https://dims.apnews.com/dims4/default/7be1fea/2147483647/strip/true/crop/3070x2046+0+0/resize/599x399!/quality/90/?url=https%3A%2F%2Fassets.apnews.com%2F2f%2Fb8%2F587422fe1fb2df6a5e1e55ec7f56%2Fa243f78be02e4bd595d740fc8841d116) [...] An Israeli army tank maneuvers in the Gaza Strip is seen from southern Israel, Sunday, May 4, 2025. (AP Photo/Ariel Schalit)\\nShare\\nShare\\n\\nFacebook\\n\\nCopy\\nLink copied\\n\\n\\nPrint\\n\\nEmail\\nX\\nLinkedIn\\nBluesky\\nFlipboard\\nPinterest\\nReddit [...] ![Image 5: An Israeli army tank maneuvers in the Gaza Strip is seen from southern Israel, Sunday, May 4, 2025. (AP Photo/Ariel Schalit)](blob:http://localhost/7fbd8254586292e1bc6d646fe8d717fc)\\n</Document>\\n\\n---\\n\\n<Document href=\"https://www.reuters.com/world/middle-east/israeli-cabinet-approves-expansion-gaza-offensive-broadcaster-kan-reports-2025-05-05/\"/>\\nScience\\nLifestyle\\nCity Memo\\nGraphics\\nPictures\\nWider Image\\nPodcasts\\nLive\\nFact Check\\nVideo\\nSponsored Content\\n\\nReuters Plus\\nPress Releases\\n\\n\\n\\nMy News\\nSign InSubscribe - $1/wk\\nIsrael may seize all Gaza in expanded operation, officials say\\nBy Maayan Lubell\\nMay 6, 202512:19 AM UTCUpdated 6 days ago\\n\\n\\n\\n\\n\\n\\n\\n\\n\\n\\nSummary\\n\\n\\nDoor open for ceasefire talks as Trump heads to region [...] Published Time: 2025-05-05T03:37:33.775Z\\nIsrael may seize all Gaza in expanded operation, officials say | Reuters\\nSkip to main content\\nExclusive news, data and analytics for financial market professionalsLearn more aboutRefinitiv\\n\\n\\n\\nWorld\\nBrowse World\\n\\nAfrica\\nAmericas\\nAsia Pacific\\nChina\\nEurope\\nIndia\\n\\nIsrael and Hamas at War\\n\\n\\nJapan\\n\\nMiddle East\\nUkraine and Russia at War\\nUnited Kingdom\\nUnited States\\nReuters NEXT\\n\\n\\n\\nBusiness\\nBrowse Business\\n</Document>\\n\\n---\\n\\n<Document href=\"https://www.aljazeera.com/news/liveblog/2025/5/15/live-israel-kills-at-least-115-in-gaza-as-palestinians-commemorate-nakba\"/>\\nNew attacks kill at least 115 in Gaza as Israeli far right urges occupied West Bank assault on Nakba anniversary. Published On 15 May 202515 May\\n</Document>']\n",
      "['<Document href=\"https://www.usnews.com/news/world/articles/2025-05-15/israeli-military-intercepts-missile-launched-from-yemen-army-says\"/>\\nMay 15, 2025, at 2:44 p.m. CAIRO (Reuters) -The Israeli military intercepted a missile launched by Yemen\\'s Houthis on Thursday following alarms\\n</Document>\\n\\n---\\n\\n<Document href=\"https://apnews.com/article/israel-airstrikes-houthi-rebels-airport-ea0ea0ca695a3a07c71c18bedc987c3e\"/>\\n![Image 9: Israeli security forces inspect the site where the Israeli military said a projectile fired by Yemen\\'s Houthi rebels landed in the area of Ben Gurion International Airport near Tel Aviv, Israel, on Sunday, May 4, 2025. (AP Photo/Ohad Zwigenberg)](https://dims.apnews.com/dims4/default/2ffcf36/2147483647/strip/true/crop/5148x3432+0+0/resize/599x399!/quality/90/?url=https%3A%2F%2Fassets.apnews.com%2Fff%2F22%2Fab72256e1d38edb8fc5c623d0767%2Fbdefc24a659844dc9b54fe7960b336e1) [...] ![Image 5: Israeli security forces inspect the site where the Israeli military said a projectile fired by Yemen\\'s Houthi rebels landed in the area of Ben Gurion International Airport near Tel Aviv, Israel, on Sunday, May 4, 2025. (AP Photo/Ohad Zwigenberg)](https://dims.apnews.com/dims4/default/2ffcf36/2147483647/strip/true/crop/5148x3432+0+0/resize/599x399!/quality/90/?url=https%3A%2F%2Fassets.apnews.com%2Fff%2F22%2Fab72256e1d38edb8fc5c623d0767%2Fbdefc24a659844dc9b54fe7960b336e1) [...] ![Image 7: Israeli security forces inspect the site where the Israeli military said a projectile fired by Yemen\\'s Houthi rebels landed in the area of Ben Gurion International Airport near Tel Aviv, Israel, on Sunday, May 4, 2025. (AP Photo/Ohad Zwigenberg)](https://dims.apnews.com/dims4/default/a972539/2147483647/strip/true/crop/5616x3744+0+0/resize/599x399!/quality/90/?url=https%3A%2F%2Fassets.apnews.com%2F4d%2F3b%2Fea379a16df2136a9205e22a8adcc%2Fa95540e19137431d8db15dcc2f76065d)\\n</Document>\\n\\n---\\n\\n<Document href=\"https://www.cfr.org/article/israels-offensives-gaza-and-yemen\"/>\\nArticle\\n                              by\\nCFR.org Editors\\n\\nMay 6, 2025 10:23 am (EST)\\n\\nWelcome to the\\xa0Daily News Brief, CFR’s flagship morning newsletter summarizing the top global news and analysis of the day.\\n\\nSubscribe\\xa0to the\\xa0Daily News Brief\\xa0to receive it every weekday morning.\\n\\nTop of the Agenda\\n\\nMore on:\\n\\nDaily News Brief [...] Tomorrow, the conclave to choose a new pope begins at the\\xa0Vatican.\\n\\nTomorrow, France’s Macron will meet\\xa0Syrian\\xa0interim President Ahmed al-Sharaa in Paris.\\n\\nTomorrow, a two-day ministerial meeting to discuss goals for the next UN climate conference begins in\\xa0Denmark.\\n\\nTop Stories on CFR\\n\\n\\n\\nWar in Ukraine\\n                               \\nLink\\n\\nvia Global Conflict Tracker\\n May 12, 2025\\n\\nAsia\\n\\nTrump’s China Truce on Tariffs Comes at Cost to U.S. Credibility\\n\\nby Zongyuan Zoe Liu\\n May 12, 2025\\n\\nIran [...] The U.S. Approach to East Africa and the Horn\\n\\nTestimony\\n\\n              by Michelle Gavin\\n May 13, 2025\\n\\nOil and Petroleum Products\\n\\nAcademic Webinar: The Geopolitics of Oil\\n\\nWebinar\\n\\n              with Carolyn Kissane and Irina A. Faskianos\\n April 12, 2023\\n\\nGlobal Governance\\n\\nCultural Diplomacy in Practice: The Arts and Global Engagement\\n\\nVirtual Event\\n\\n              with Glenn D. Lowry, Daniel H. Weiss and Elaine F. Sciolino\\n May 7, 2025\\n\\nIsrael’s Offensives in Gaza and Yemen\\n</Document>\\n\\n---\\n\\n<Document href=\"https://www.timesofisrael.com/liveblog-may-16-2025/\"/>\\nAccording to reports from Yemen, Israeli jets struck the Houthi-controlled Hodeidah and Salif ports. The strikes come in response to several\\n</Document>\\n\\n---\\n\\n<Document href=\"https://apnews.com/article/mideast-wars-israel-gaza-hamas-hostages-05-16-2025-fb5e3b08af46a55b6faeead7b8647dc6\"/>\\nThe Israeli military says it struck two ports in Yemen that were controlled by the Houthi militant group and used to transfer weapons.\\n</Document>']\n"
     ]
    },
    {
     "name": "stderr",
     "output_type": "stream",
     "text": [
      "/Users/ethangoldberg/opt/anaconda3/envs/polynews/lib/python3.11/site-packages/langgraph/utils/runnable.py:408: UserWarning: WARNING! parallel_tool_calls is not default parameter.\n",
      "                parallel_tool_calls was transferred to model_kwargs.\n",
      "                Please confirm that parallel_tool_calls is what you intended.\n",
      "  input = step.invoke(input, config, **kwargs)\n",
      "/Users/ethangoldberg/opt/anaconda3/envs/polynews/lib/python3.11/site-packages/langgraph/utils/runnable.py:408: UserWarning: WARNING! parallel_tool_calls is not default parameter.\n",
      "                parallel_tool_calls was transferred to model_kwargs.\n",
      "                Please confirm that parallel_tool_calls is what you intended.\n",
      "  input = step.invoke(input, config, **kwargs)\n"
     ]
    },
    {
     "name": "stdout",
     "output_type": "stream",
     "text": [
      "['<Document href=\"https://polymarket.com/event/elon-musk-of-tweets-may-9-16/will-elon-tweet-225249-times-may-916\"/>\\nPolymarket | This market will resolve according to the number of times Elon Musk (@elonmusk), posts on X between May 9, 2025, 12:00 PM ET and May 16, 2025,\\n</Document>\\n\\n---\\n\\n<Document href=\"https://myriad.markets/markets/will-elon-musk-publish-over-275-x-posts-between-may-9-and-16\"/>\\nWill Elon Musk publish over 275 X posts between May 9 and 16?\\n\\nRules\\n\\nWill Elon Musk publish more than 275 posts between May 9, 2025, 12:00pm EDT, and May 16, 2025, 12:00pm EDT?\\n\\nMarket Details\\n\\nYes/ No Criteria:\\n\\n\\\\\\\\ Post Counting Rules\\n\\nResolution\\n\\nThe market will be resolved primarily using XTracker\\'s \"Post Counter\" value. Individual posts can be verified through XTracker\\'s \"Export Data\" feature. If XTracker data is unavailable or incomplete, X platform data may be used as a backup source. [...] Cancellation Conditions\\n\\nThe market will be canceled if:\\n\\nIn the event of cancellation, participants may claim their stakes at the market value of their open positions at the time of cancellation. This could result in a profit or a loss, depending on the price of their outstanding shares.\\n</Document>\\n\\n---\\n\\n<Document href=\"https://twitter.com/elonmusk/\"/>\\nWhen Elon Musk visited the United States Air Force Academy, he expressed deep respect, admiration, and gratitude for the service and sacrifice of the U.S.\\n</Document>\\n\\n---\\n\\n<Document href=\"https://www.xtracker.io/\"/>\\nElon Musk\\'s profile. Elon Musk. @elonmusk. Daily. Weekly. Avg Post Per Day. 33.53 ... Pace: The number of post projected to be posted by May 16, 12:00 PM EDT.\\n</Document>\\n\\n---\\n\\n<Document href=\"https://www.reddit.com/r/Infographics/comments/1gxlza2/elon_musks_twitterx_post_activity_over_time_and/\"/>\\neven if he only retweets, it means he\\'s spent time reading/finding these actual tweets. These data points imply more activity than just posting.\\n</Document>']\n"
     ]
    },
    {
     "name": "stderr",
     "output_type": "stream",
     "text": [
      "/Users/ethangoldberg/opt/anaconda3/envs/polynews/lib/python3.11/site-packages/langgraph/utils/runnable.py:408: UserWarning: WARNING! parallel_tool_calls is not default parameter.\n",
      "                parallel_tool_calls was transferred to model_kwargs.\n",
      "                Please confirm that parallel_tool_calls is what you intended.\n",
      "  input = step.invoke(input, config, **kwargs)\n"
     ]
    },
    {
     "name": "stdout",
     "output_type": "stream",
     "text": [
      "this is the intermediate reseponse:  {'what_is_the_market_asking_or_answering': 'Will Israel launch a major ground offensive in Gaza in May 2025?', 'important_criteria': [\"A 'major ground offensive' is defined as a large-scale military operation involving more than 1,000 Israeli ground forces entering Gazan territory that was not under Israeli control at the start of the offensive.\", 'The period under consideration is strictly between May 6 and May 31, 2025, 11:59 PM ET.', 'Resolution is determined by a consensus of credible reporting, and excludes smaller raids, border incursions, or special operations.'], 'completed': False, 'important_insights_context_or_reasoning': \"The probability for a major Israeli ground offensive in Gaza in May 2025 stands at 84%, having risen sharply by 23.5 percentage points in the last 24 hours, indicating a substantial shift in market sentiment. Recent credible news sources report significant escalation: Israeli cabinet approval for expanding the Gaza offensive (Reuters, May 5), large-scale ground assaults in North Gaza with tanks and artillery (BBC), and ongoing ground operations targeting Hamas infrastructure (JNS). Live reporting from Al Jazeera documents intensified attacks on hospitals and civilian areas, and Israeli officials have signaled intentions to seize the entire territory of the Gaza Strip. These developments collectively provide strong evidence that preparations and possibly the initial stages of a 'major ground offensive' as defined by the market are either imminent or underway, justifying the high probability assigned by the market.\"}\n"
     ]
    },
    {
     "name": "stdout",
     "output_type": "stream",
     "text": [
      "this is the intermediate reseponse:  {'what_is_the_market_asking_or_answering': 'Will Russian President Vladimir Putin meet in person with Ukrainian President Volodymyr Zelenskyy between May 12 and May 16, 2025?', 'important_criteria': [\"A 'meeting' is defined as any encounter where both Zelenskyy and Putin are present and interact with each other in person.\", \"The market resolves to 'Yes' if such a meeting occurs between May 12, 2025, and May 16, 2025, 11:59 PM ET.\", 'Non-direct interaction (such as being present at the same event without direct contact) does not qualify.', 'Resolution will be based on consensus reporting from credible sources.'], 'completed': True, 'important_insights_context_or_reasoning': \"Recent high-level peace talks between Russia and Ukraine took place in Turkey during the specified period, but Vladimir Putin did not attend in person, instead sending a delegation. Multiple credible news sources (AP, Reuters, CNBC, The Guardian, ABC News) confirm that while Ukrainian President Zelenskyy was present and engaged in diplomatic activities—including meeting with Turkish President Erdogan—Putin remained in Moscow, conducting internal meetings, and did not meet directly with Zelenskyy. Both leaders' offices and major press agencies explicitly state that a face-to-face meeting between Putin and Zelenskyy did not occur during the resolution window. The market probability for a 'Yes' outcome is 5%, with a negligible last trade price, reflecting near-unanimous consensus of non-occurrence among market participants and the press. There was discussion and hope for such a meeting, but it was ultimately declined by Putin, and only delegations interacted.\"}\n",
      "this is the intermediate reseponse:  {'what_is_the_market_asking_or_answering': 'Will the Government of Qatar formally transfer ownership or long-term use rights of a Boeing 747-8 or similar luxury aircraft to Donald Trump, the Trump Organization, a Trump-affiliated foundation, trust, or nonprofit, or to the U.S. government (including the U.S. Air Force) by May 31, 2025, 11:59 PM ET?', 'important_criteria': ['The transfer must be formal and pertain to either ownership or long-term use rights of a Boeing 747-8 or similar luxury aircraft.', 'Eligible recipients include Donald Trump, the Trump Organization, a Trump-affiliated foundation, trust, nonprofit, or the U.S. government (including the U.S. Air Force).', 'Resolution is based on confirmation by both official Qatari government and Trump-side (or U.S. government agency) statements, or by a consensus of credible reporting.', 'Resolution date is May 31, 2025, 11:59 PM ET.'], 'completed': False, 'important_insights_context_or_reasoning': \"Multiple major news outlets (NYT, ABC News, NBC News, Reuters, NPR) report that the Trump administration is preparing to accept a luxury Boeing 747-8 jet from Qatar for use as Air Force One, with plans for the plane to be transferred to the Trump presidential library foundation after Trump's term. The White House and Qatari government have confirmed the offer, but as of the latest reporting, the formal transfer has not yet occurred. The arrangement is controversial, raising constitutional and ethical questions, particularly regarding the Foreign Emoluments Clause, as critics argue the eventual transfer to the Trump library may constitute an improper gift. Legal experts and DOJ officials note the deal's legality depends on the motivation and formalities of the transfer. The probability of the market resolving 'Yes' is notable (15.5%), suggesting significant uncertainty remains, likely due to the deal's legal, ethical, and procedural complexities and the lack of finalization as of mid-May 2025.\"}\n"
     ]
    },
    {
     "name": "stdout",
     "output_type": "stream",
     "text": [
      "this is the intermediate reseponse:  {'what_is_the_market_asking_or_answering': 'Will Donald Trump publicly disparage Benjamin Netanyahu before June 1, 2025?', 'important_criteria': ['A public statement by Donald Trump must be made by May 31, 2025, 11:59 PM ET.', 'The statement must insult, mock, or attack Netanyahu personally or professionally in a clearly negative manner, including calling him weak, stupid, disloyal, a failure, or using derogatory/insulting language.', 'Policy disagreements without disparaging language do not count.', 'Any form of public statement counts (speech, interview, social media, etc.).', 'Resolution will be based on a consensus of credible reporting.'], 'completed': False, 'important_insights_context_or_reasoning': \"As of mid-May 2025, there is heightened tension and a perceived rift between Trump and Netanyahu, with Trump sidelining Netanyahu on key Middle East issues, according to multiple reputable news sources. However, despite clear frustration and bypassing of Netanyahu, there is no publicly reported instance of Trump directly disparaging Netanyahu in the manner required for market resolution (i.e., explicit insults or derogatory language). Trump has focused on policy differences and has made statements that, while critical of Israeli actions or strategies, have not crossed into personal or professional insult as strictly defined by the market. The probability of a 'Yes' outcome is low (7.5%), reflecting a consensus that, while diplomatic distance and professional frustration are evident, Trump has so far refrained from overt public disparagement. The market remains open until the end of May, and ongoing developments or an escalation in rhetoric could still change the outcome.\"}\n"
     ]
    },
    {
     "name": "stdout",
     "output_type": "stream",
     "text": [
      "this is the intermediate reseponse:  {'what_is_the_market_asking_or_answering': 'Is Israel going to initiate another military action on Yemeni soil, airspace, or maritime territory between May 14, 1:30 PM ET, and May 16, 2025, 11:59 PM ET? The resolution depends on official Israeli acknowledgment or a consensus of credible reporting of such military action within the specified window.', 'important_criteria': [\"Military action is defined as any use of force by Israel against Yemen's soil, airspace, or maritime territory (e.g., airstrike, naval attack, ground invasion).\", 'Cyber attacks, sanctions, or diplomatic actions do not count.', 'The action must occur and be officially acknowledged by the Israeli government or a consensus of credible reporting.', 'Time window for the action: May 14, 2025, 1:30 PM ET to May 16, 2025, 11:59 PM ET.', 'Resolution is immediate if criteria are met before the end date.'], 'completed': True, 'important_insights_context_or_reasoning': \"The market is essentially resolved with 'Yes' at 99.95%, reflecting overwhelming consensus that a qualifying Israeli military action has already occurred within the specified period. Context from credible news sources confirms that Israeli airstrikes targeted Yemeni locations, including Sanaa airport and Hodeida port, on May 6 and in the days following, with direct confirmation from the Israeli military and widespread reporting by major outlets (Reuters, PBS, AP, Al Jazeera). The strikes were in response to Houthi actions, and the aftermath included significant humanitarian consequences and promises of retaliation from the Houthis. The immediacy and clarity of official and media acknowledgment meet the resolution criteria, explaining the market's near-total certainty.\"}\n"
     ]
    },
    {
     "name": "stdout",
     "output_type": "stream",
     "text": [
      "this is the intermediate reseponse:  {'what_is_the_market_asking_or_answering': 'Will Israel launch a major ground offensive in Gaza between May 13, 2025, 4:00 PM ET and May 16, 2025, 11:59 PM ET?', 'important_criteria': [\"A 'major ground offensive' is defined as a large-scale military operation involving more than 1,000 Israeli ground forces entering Gazan territory not under Israeli control at the start of the operation.\", 'Small raids, special operations, or limited incursions into buffer zones already under Israeli control do NOT count.', 'The resolution window is strictly between May 13, 2025, 4:00 PM ET and May 16, 2025, 11:59 PM ET.', 'Resolution will be based on a consensus of credible reporting from recognized news sources.'], 'completed': False, 'important_insights_context_or_reasoning': \"The market currently assigns a low probability (5.45%) to the likelihood that Israel will launch a major ground offensive in Gaza by the specified deadline. Recent news indicates ongoing Israeli military activity in Gaza, including tank maneuvers and reports of expanded operations. However, there is no credible consensus or explicit reporting that a qualifying major ground offensive (as defined by the market) has commenced during the resolution window. Notably, Reuters reported the Israeli cabinet has approved the potential for expansion, with officials discussing the possible seizure of all Gaza, but this remains at the level of planning or threat rather than confirmed action. AP and Al Jazeera coverage highlights ongoing violence and significant casualties, but no clear evidence points to a new ground offensive matching the precise criteria. The market's low probability reflects the lack of definitive action as of the most recent credible reports, despite heightened military posturing and political rhetoric.\"}\n",
      "this is the intermediate reseponse:  {'what_is_the_market_asking_or_answering': \"Which sovereign country (excluding Italy) will Pope Leo XIV visit first after becoming pope? The market resolves to the first country Pope Leo XIV physically enters, with a deadline of December 31, 2025. If no visit occurs by then, 'Other' is the outcome.\", 'important_criteria': ['Sovereign country must be the first Pope Leo XIV physically enters after becoming pope (Italy excluded).', \"A 'visit' is strictly defined as physically entering terrestrial territory; overflight or maritime entry does not count.\", 'Resolution date is December 31, 2025, 11:59 PM ET.', \"If no country is visited by deadline, market resolves to 'Other'.\", 'Probabilities as of now: Turkey (77%), Other (9%), Ukraine (6%), U.S. (2.25%), Argentina (1.95%), Peru (1.9%), Spain (1.15%), Brazil (1.05%), Philippines (0.75%), Mexico (0.6%), Germany (0.5%).'], 'completed': False, 'important_insights_context_or_reasoning': \"The market heavily favors Turkey (77%), indicating a strong consensus or expectation that Pope Leo XIV's first visit outside Italy will be to Turkey. This could reflect geopolitical or religious priorities, such as engagement with Eastern Orthodoxy or regional diplomacy. Contextual reporting highlights Pope Leo XIV's extensive international background: he has spent significant time in Kenya, was a missionary and bishop in Peru (where he holds citizenship), and has been active in South American and African affairs. There is also mention of ongoing conflicts in Ukraine and the Middle East, and pressing global issues such as migration and human rights, which may influence the likelihood of visits to those regions. The relatively high probability for 'Other' (9%) underscores residual uncertainty, possibly reflecting the pope's unpredictable schedule or the possibility of an unanticipated diplomatic or humanitarian mission. No evidence from current reporting suggests a scheduled trip; the high volume and recent price movement in Turkey's favor may be speculative or based on insider information.\"}\n"
     ]
    },
    {
     "name": "stdout",
     "output_type": "stream",
     "text": [
      "this is the intermediate reseponse:  {'what_is_the_market_asking_or_answering': \"Will Sean 'Diddy' Combs be convicted of sex trafficking or a directly related felony charge in UNITED STATES OF AMERICA v. SEAN COMBS (Case No. 1:24-cr-00542) by December 31, 2025?\", 'important_criteria': ['A qualifying conviction must be for sex trafficking under 18 U.S.C. § 1591, or RICO (18 U.S.C. § 1962) only if predicate acts include sex trafficking, or any other felony conviction explicitly tied to sex trafficking as confirmed by the court’s judgment or credible reporting.', 'Convictions for unrelated RICO acts (e.g., drug trafficking, bribery, obstruction not tied to sex trafficking, assault, kidnapping, etc.) do not qualify.', \"If the case ends in a plea agreement without admission of guilt, is dismissed, or no judgment is rendered, the market resolves to 'No'.\", \"A mistrial keeps the market open until Dec 31, 2025, to account for retrials. If no qualifying conviction by deadline, resolves to 'No'.\", 'The initial judgment is the sole determinant; appeals do not alter the market resolution.', 'Resolution draws on official judgments and credible reporting if needed.', 'Market closes on December 31, 2025, at 11:59 PM ET.'], 'completed': False, 'important_insights_context_or_reasoning': \"The market currently assigns a 71% probability that Sean 'Diddy' Combs will be found guilty of sex trafficking or a directly related felony in the ongoing federal case. Recent court filings and superseding indictments (as of March and April 2025) detail multiple charges: racketeering conspiracy (18 U.S.C. § 1962(d)), sex trafficking (18 U.S.C. §§ 1591 and 2), and interstate transportation for prostitution (18 U.S.C. §§ 2421(a) and 2). The indictments allege Combs transported individuals, including named victims, for prostitution across state lines and engaged in a pattern of racketeering involving sex trafficking. Notably, the government is seeking forfeiture of property tied to these offenses. The case is high-profile, with extensive media coverage and official documents substantiating the allegations. The probability has decreased modestly by 4.5% in the last day, suggesting some market reevaluation but maintaining a strong expectation of conviction. The market resolution is strictly tied to a qualifying conviction by the end of 2025, with no impact from appeals or unrelated charges. This high probability reflects the seriousness and specificity of the charges, the breadth of the superseding indictment, and the current trajectory of the federal prosecution.\"}\n"
     ]
    },
    {
     "name": "stdout",
     "output_type": "stream",
     "text": [
      "this is the stuctured article output:  {'id': 1, 'headline': 'Israel Commits 84% Probability to Gaza Ground Offensive', 'subheader': \"Market surge reflects Israeli cabinet's expanded offensive plans and ongoing ground attacks\", 'blurb': 'Prediction market signals 84% chance Israel launches major ground offensive in Gaza this May. Probability jumped 23.5 points in 24 hours, driven by Israeli cabinet approval for offensive expansion and intensified ground assaults in northern Gaza. These military moves aim to seize the entire Gaza Strip, significantly impacting regional stability and conflict dynamics through May 31, 2025.', 'score': None, 'ticker': None, 'links': None}\n",
      "this is the intermediate reseponse:  {'what_is_the_market_asking_or_answering': 'This market is predicting the total number of posts (including main feed posts, quote posts, and reposts, but excluding replies) that Elon Musk will make on X (formerly Twitter) from May 9, 2025, 12:00 PM ET to May 16, 2025, 12:00 PM ET. The outcome is resolved by post count as tracked by XTracker.io, with backup verification from X itself if necessary.', 'important_criteria': ['Posts counted are only main feed posts, quote posts, and reposts; replies (except those appearing on main feed) are excluded.', 'Deleted posts count if visible for at least ~5 minutes and captured by XTracker.', 'Counting window is precisely from May 9, 2025, 12:00 PM ET to May 16, 2025, 12:00 PM ET.', \"Resolution is based on the 'Post Counter' from XTracker.io; if unavailable, X will be used as secondary source.\", 'If neither data source is reliable, the market may be canceled.'], 'completed': True, 'important_insights_context_or_reasoning': \"The market is overwhelmingly convinced (99.95% probability) that Elon Musk will post between 250–274 times during the specified week, with all other ranges assigned near-zero probabilities. This near-certainty is likely driven by real-time tracking data from XTracker.io, which provides granular, up-to-date counts and projections. Recent price movements suggest a significant increase in confidence in the 250–274 range in the last 24 hours. Historical data indicates Musk's post volume is high but has recently stabilized, and no external events or articles suggest an abnormal deviation for the period in question. The market's high trading volume and rapid price consolidation suggest that the outcome is already functionally determined by available data.\"}\n",
      "this is the intermediate reseponse:  {'what_is_the_market_asking_or_answering': 'This market asks whether Israel will initiate a military action on Yemeni soil, airspace, or maritime territory between May 12, 2025, 6:30 PM ET, and May 31, 2025, 11:59 PM ET. The action must be officially acknowledged by the Israeli government or a consensus of credible reporting and must involve the use of force (e.g., airstrikes, naval attacks, or ground invasions), excluding cyberattacks, sanctions, or diplomatic actions.', 'important_criteria': ['Military action must occur between May 12, 2025, 6:30 PM ET, and May 31, 2025, 11:59 PM ET.', \"'Military action' is strictly defined as the use of force by Israel on Yemeni soil, airspace, or maritime territory (e.g., missile strikes, airstrikes, naval attacks, or ground invasions).\", 'Action must be officially acknowledged by the Israeli government or by a consensus of credible reporting.', 'Cyber attacks, sanctions, or diplomatic actions do not qualify.', 'Market resolves immediately if criteria are met before the end date; otherwise, resolves at the end date.', 'Resolution is based on credible news sources.'], 'completed': True, 'important_insights_context_or_reasoning': \"The probability for 'Yes' is at 99.95%, indicating near-universal consensus that Israeli military action against Yemen has already occurred within the specified timeframe. Multiple credible news sources confirm that, on or before May 16, 2025, Israeli jets struck Houthi-controlled Hodeidah and Salif ports in Yemen, with the Israeli military officially acknowledging these strikes. AP News and The Times of Israel both reported Israeli military actions targeting ports used by the Houthi group for weapons transfer. These events fit precisely within the market's resolution criteria: the actions occurred within the specified dates, involved direct use of force on Yemeni territory, and were both officially acknowledged and widely reported. The immediate spike in probability and high trading volume further reflect this confirmed event. This market is resolved and exemplifies the rapid market response to breaking international military developments.\"}\n"
     ]
    },
    {
     "name": "stdout",
     "output_type": "stream",
     "text": [
      "this is the intermediate reseponse:  {'what_is_the_market_asking_or_answering': 'This market is asking what the margin of victory will be between the top two candidates in the 2025 Romanian Presidential Election runoff, scheduled for May 18, 2025, specifying several percentage brackets for the margin and resolving according to official election results.', 'important_criteria': ['The market resolves on the absolute percentage point difference in votes between the first and second-place candidates in the Romanian presidential runoff.', 'The runoff is scheduled for May 18, 2025, but the market remains open if a recount occurs or results are not official, with a hard deadline of December 31, 2025.', 'The final margin is based on official government results, specifically those of the Romanian Permanent Electoral Authority, and will use a consensus of credible reporting if ambiguity exists.', 'If the result is exactly between two brackets, resolution defaults to the higher bracket.', \"If the election is not resolved by year-end 2025 or runoff is canceled, the market resolves to 'Other'.\", 'The brackets for margin of victory are: Dan 0–6%, Simion 0–6%, Dan 6–12%, Simion 6–12%, Simion 12–18%, Dan >12%, Simion >18%, and Other.'], 'completed': False, 'important_insights_context_or_reasoning': \"Polling and recent developments suggest a highly competitive runoff between George Simion and Nicușor Dan. Simion won the first round decisively with 40.96% against Dan's 20.99% and leads in several polls for the runoff (e.g., one poll places Simion at 54.8% to Dan's 45.2%). However, redistribution of votes from eliminated candidates appears to narrow the projected margin, as a significant portion of Crin Antonescu's and Victor Ponta's supporters are backing Dan, tightening the contest. The prediction market reflects this uncertainty: the most probable outcome is a Dan victory by 0–6% (35.5%), followed by a Simion victory by 0–6% (21.5%), with all larger margin brackets much less probable. The large 24hr volume and recent price movements (notably, Dan 0–6% increasing by 6 points) indicate active repricing based on new polling or political events. Social media disinformation campaigns and Romania's ongoing political instability—highlighted by the recent resignation of PM Ciolacu—add uncertainty to the outcome and the electorate's behavior. The market's pricing implies that a narrow margin (0–6% for either candidate) is seen as far more likely than a landslide, aligning with polling and the complex post-first-round alliance landscape.\"}\n",
      "this is the stuctured article output:  {'id': 2, 'headline': 'Putin Avoids Zelenskyy Meeting — 5% Probability Confirmed', 'subheader': \"Putin's absence in Turkey solidifies market's low odds, signaling stalled diplomacy.\", 'blurb': 'Prediction market priced only a 5% chance that Putin would meet Zelenskyy between May 12-16, 2025. Despite scheduled peace talks in Turkey, Putin stayed in Moscow, delegating negotiations to his team instead of attending personally. This reinforced market skepticism, reflecting the entrenched diplomatic stalemate and signaling limited prospects for direct Russia-Ukraine leader engagement in current talks.', 'score': None, 'ticker': None, 'links': None}\n"
     ]
    },
    {
     "name": "stdout",
     "output_type": "stream",
     "text": [
      "this is the intermediate reseponse:  {'what_is_the_market_asking_or_answering': 'Will Nicușor Dan or George Simion win more votes from the Romanian diaspora in the second round of the 2025 Romanian presidential election?', 'important_criteria': [\"Market resolves based on which candidate receives more diaspora votes, as reported by Romania's AEP and BEC, in the second round of the 2025 presidential election.\", 'Only votes cast outside Romania (diaspora) count for this market; domestic votes are excluded.', 'Resolution is contingent on publication of official diaspora vote totals. If delayed or contested, market remains open until Constitutional Court validation.', 'Election runoff date: May 18, 2025.', \"Market options are binary: 'Dan' or 'Simion'.\", \"Current probability for 'Dan' winning is 18.15%. Probability for 'Simion' is therefore implicitly 81.85%.\", 'Recent polling and reporting indicate Simion had strong diaspora support in the first round, especially outside Moldova.'], 'completed': False, 'important_insights_context_or_reasoning': \"The diaspora vote is pivotal in the Romanian presidential runoff, with approximately 4 million Romanians abroad and nearly 1 million participating in the first round. George Simion, the hard-right, ultranationalist candidate, received about 61% of the diaspora vote in the first round, making him the clear favorite among expatriates. Moldova appears to be a notable exception, where Nicușor Dan holds more sway. Polling and reporting confirm Simion's broad popularity with the diaspora, though recent domestic polls suggest the overall race has tightened considerably. The prediction market heavily favors Simion to win the diaspora vote (81.85% implied probability), reinforced by first-round results and polling data. However, the outcome will ultimately depend on validated official results, with the market remaining open until confirmed by the relevant authorities. The volatility in probability (+8.5% one-day change for Dan) suggests traders are reacting to late-breaking news or shifting sentiment, but the market consensus remains strongly in Simion's favor for the diaspora segment.\"}\n",
      "this is the stuctured article output:  {'id': 3, 'headline': 'Trump Disparages Netanyahu Odds Drop to 7.5%', 'subheader': 'Market reflects tension but no explicit insults yet from Trump', 'blurb': 'Prediction market prices Trump disparaging Netanyahu before June at just 7.5%. Despite heightened diplomatic friction and Trump sidelining Netanyahu on critical Middle East issues, no public insults have been confirmed. Market suggests Trump maintains professional restraint, focusing criticism on policy rather than personal attacks. This low probability highlights the complex, strategic nature of political rhetoric amid evolving US-Israel relations.', 'score': None, 'ticker': None, 'links': None}\n",
      "returning article with headline:  Israel Commits 84% Probability to Gaza Ground Offensive\n"
     ]
    },
    {
     "name": "stdout",
     "output_type": "stream",
     "text": [
      "returning article with headline: this is the stuctured article output:  {'id': 5, 'headline': 'Israel Launches Ground Offensive Probability Drops—5% Odds', 'subheader': 'Low market odds reflect lack of confirmed large-scale ground attack by mid-May deadline', 'blurb': 'Market assigns just 5.45% chance Israel initiates major ground offensive in Gaza by May 16. Despite cabinet approval to expand operations, no credible reports confirm significant ground troop deployment. This cautious stance highlights uncertainty amid ongoing military actions and political rhetoric in the region.', 'score': None, 'ticker': None, 'links': None}\n",
      " Putin Avoids Zelenskyy Meeting — 5% Probability Confirmed\n",
      "returning article with headline:  Trump Disparages Netanyahu Odds Drop to 7.5%\n",
      "this is the stuctured article output:  {'id': 8, 'headline': 'Qatar Gifts Trump Luxury 747 Jet—15.5% Odds', 'subheader': 'Market signals notable uncertainty amid legal and ethical debates', 'blurb': \"Prediction market prices assign a 15.5% probability that Qatar will formally transfer a Boeing 747-8 or similar luxury aircraft to Donald Trump or his affiliated entities by May 31, 2025. Multiple major news outlets confirm plans for Qatar to donate this luxury jet to be used as Air Force One during Trump's term, later transferred to his presidential library foundation. The deal raises constitutional questions, especially concerning the Foreign Emoluments Clause, fueling market uncertainty as legal experts debate the gift's permissibility and the transfer remains unfinalized.\", 'score': None, 'ticker': None, 'links': None}\n"
     ]
    },
    {
     "name": "stdout",
     "output_type": "stream",
     "text": [
      "returning article with headline:  Qatar Gifts Trump Luxury 747 Jet—15.5% Odds\n",
      "returning article with headline:  Israel Launches Ground Offensive Probability Drops—5% Odds\n"
     ]
    },
    {
     "name": "stdout",
     "output_type": "stream",
     "text": [
      "this is the stuctured article output:  {'id': 11, 'headline': 'Diddy Faces 71% Odds Guilty Sex Trafficking', 'subheader': 'Market confidence reflects detailed federal indictments and ongoing prosecution.', 'blurb': \"Prediction market assigns 71% probability Sean 'Diddy' Combs will be convicted of sex trafficking or related felonies by end of 2025. Charges include racketeering conspiracy, sex trafficking, and interstate transportation for prostitution, underpinned by multiple superseding indictments. This high conviction likelihood highlights the strength of federal case and extensive official documentation, despite a recent slight probability dip. Outcome impacts perceptions of celebrity accountability and legal precedent in complex trafficking cases.\", 'score': None, 'ticker': None, 'links': None}\n"
     ]
    },
    {
     "name": "stdout",
     "output_type": "stream",
     "text": [
      "this is the stuctured article output:  {'id': 12, 'headline': 'Elon Musk Set To Tweet 250–274 Times', 'subheader': \"Market pins near certainty on Musk's post volume for May 9-16\", 'blurb': 'Prediction market assigns 99.95% probability to Elon Musk posting between 250 and 274 times on X during May 9-16, 2025. This confidence surge follows real-time data from XTracker.io showing stable but high posting activity. The volume and price moves reflect a market consensus that the outcome is nearly sealed, underscoring how prediction markets rapidly incorporate live data to forecast social media behavior.', 'score': None, 'ticker': None, 'links': None}\n",
      "this is the stuctured article output:  {'id': 13, 'headline': 'Israel Executes Confirmed Military Action on Yemen—99.95% Certainty', 'subheader': 'Market closes with near-total confidence after Israeli airstrikes confirmed', 'blurb': 'Prediction market prices surged to 99.95% probability that Israel carried out military action on Yemeni territory between May 14 and May 16, 2025. This reflects overwhelming consensus based on official Israeli military acknowledgment and multiple credible news reports. Israeli airstrikes targeted key Houthi-controlled areas including Sanaa airport and Hodeida port, hitting infrastructure linked to Iranian-backed groups. The strikes have intensified regional tensions and worsened Yemen’s humanitarian crisis, with the Houthis vowing retaliation. Market resolution confirms how real-time information and open-source intelligence validate geopolitical events swiftly.', 'score': None, 'ticker': None, 'links': None}\n"
     ]
    },
    {
     "name": "stdout",
     "output_type": "stream",
     "text": [
      "returning article with headline:  Diddy Faces 71% Odds Guilty Sex Trafficking\n",
      "this is the stuctured article output:  {'id': 15, 'headline': \"Turkey Leads Pope Leo XIV's First Visit Race—77% Probability\", 'subheader': 'High odds reflect geopolitical and religious diplomacy priorities amid global conflicts', 'blurb': \"Turkey holds a commanding 77% probability as the first country Pope Leo XIV will visit outside Italy by the end of 2025. This strong market consensus suggests expectations of significant engagement with Eastern Orthodoxy or strategic regional diplomacy. The market's 9% probability on 'Other' outcomes indicates some unpredictability in the pope's itinerary. Pope Leo XIV's background includes extensive missionary work in South America and Africa, enhancing the significance of his international visits. His leadership comes at a time of global crises, including conflicts in Ukraine and the Middle East, and pressing issues like migration and human rights, all of which may influence his travel decisions.\", 'score': None, 'ticker': None, 'links': None}\n"
     ]
    },
    {
     "name": "stdout",
     "output_type": "stream",
     "text": [
      "returning article with headline:  Israel Executes Confirmed Military Action on Yemen—99.95% Certainty\n",
      "this is the stuctured article output:  {'id': 17, 'headline': 'Simion Leads Diaspora Vote—Dan Gains Momentum', 'subheader': \"Simion holds 82% probability but Dan's odds rose 8.5% in one day.\", 'blurb': \"Simion commands an 81.85% chance to win Romanian diaspora votes in the 2025 runoff as per Polymarket data. Dan's probability surged 8.5% recently, hinting at shifting sentiment despite Simion’s first-round dominance. The diaspora's 4 million voters, pivotal in the election, largely favor Simion except in Moldova where Dan leads, adding complexity to the runoff outcome.\", 'score': None, 'ticker': None, 'links': None}\n",
      "this is the stuctured article output:  {'id': 18, 'headline': 'Israel Executes Military Action on Yemen — 99.95% Certainty', 'subheader': 'Market confirms Israeli strikes on Houthi ports in May 2025 amid regional tensions', 'blurb': \"Prediction market surged to 99.95% probability after Israeli jets bombed Houthi-controlled Hodeidah and Salif ports in Yemen. These airstrikes, acknowledged by Israel and widely reported by AP News and Times of Israel, fulfill the market's strict criteria for military action. This event reflects the escalating geopolitical conflict in the Middle East, highlighting Israel's strategic targeting of weapons transfer points and signaling increased regional instability in May 2025.\", 'score': None, 'ticker': None, 'links': None}\n",
      "returning article with headline:  Elon Musk Set To Tweet 250–274 Times\n"
     ]
    },
    {
     "name": "stdout",
     "output_type": "stream",
     "text": [
      "returning article with headline:  Turkey Leads Pope Leo XIV's First Visit Race—77% Probability\n"
     ]
    },
    {
     "name": "stdout",
     "output_type": "stream",
     "text": [
      "this is the stuctured article output:  {'id': 21, 'headline': 'Dan Edges Simion in Tight Romanian Runoff—36% Likely', 'subheader': 'Market signals razor-thin victory margin amid complex voter shifts', 'blurb': \"Dan leads with a 35.5% probability of winning by a 0–6% margin, reflecting a narrow but favored outcome. Simion trails with a 21.5% chance for the same margin, highlighting a closely contested runoff. Polls show Simion's initial dominance narrowing as votes from eliminated candidates shift toward Dan, intensifying the election drama. Market activity surged with a 6-point price increase for Dan’s narrow win, indicating fresh momentum. Political instability and disinformation campaigns add uncertainty, making this runoff one of Romania’s most unpredictable in years.\", 'score': None, 'ticker': None, 'links': None}\n",
      "returning article with headline:  Israel Executes Military Action on Yemen — 99.95% Certainty\n",
      "['<Document href=\"https://en.wikipedia.org/wiki/2025_Romanian_presidential_election\"/>\\nAppearance\\nmove to sidebar hide\\nFrom Wikipedia, the free encyclopedia\\n2025 Romanian presidential election←\\xa020244 May 2025 (first round)18 May 2025 (second round)Registered19,005,434[1]\\xa0NomineeCrin AntonescuGeorge SimionElena LasconiPartyIndependent[a]AUR[b]USR[c]\\xa0NomineeNicușor DanVictor PontaLavinia ȘandruPartyIndependent[d]IndependentPUSLIncumbent PresidentIlie Bolojan (acting)PNL\\n| \\nPolitics of Romania\\n|\\n| --- |\\n|  |\\n|  |\\n| \\nConstitution\\n\\n\\nReferendums\\n1991 (adoption)\\n2003 (amendments) [...] Presidential elections will be held in Romania on 4 and 18 May 2025.[2][3] The election was scheduled in January 2025 following the annulment of the 2024 presidential election citing alleged Russian meddling in favour of first round winner Călin Georgescu. The campaign has been characterised by political instability and a series of major ongoing protests against the annulment. On 7 March, Georgescu was barred from running pending several criminal investigations, with leader of the AUR party [...] Registered candidates in ballot order\\n[edit]\\n| Name | Campaign and affiliation | Public Office Experience | Party and endorsements | Candidacy related dates |\\n| --- | --- | --- | --- | --- |\\n| George Simion\\n | Democrație\\n(lit.\\u2009\\'Democracy\\')\\n</Document>\\n\\n---\\n\\n<Document href=\"https://www.csis.org/programs/europe-russia-and-eurasia-program/projects/european-election-watch/2025-elections/romania\"/>\\nviews. Currently, Simion is leading in the polls with 29% of the vote. [...] 11 candidates are currently running. A runoff election will be held if no candidate secures more than 50% support in the first round of voting. Only the two candidates with the most votes in the first round will be included on the ballot for the second round. [...] approximately 22% of the vote.\\n</Document>\\n\\n---\\n\\n<Document href=\"https://www.romania-insider.com/voting-abroad-presidential-runoff-romania-may-2025\"/>\\nAccording to the AEP, the total number of eligible voters for this runoff stands at 17,988,218, including 1,016,327 citizens with registered residence abroad. Of these, 6,085 have signed up to vote by mail, while 2,235 have registered to vote in person at polling stations outside Romania. Meanwhile, 20,326 individuals are banned from voting due to legal restrictions. [...] According to the AEP, the total number of eligible voters for this runoff stands at 17,988,218, including 1,016,327 citizens with registered residence abroad. Of these, 6,085 have signed up to vote by mail, while 2,235 have registered to vote in person at polling stations outside Romania. Meanwhile, 20,326 individuals are banned from voting due to legal restrictions. [...] According to the AEP, the total number of eligible voters for this runoff stands at 17,988,218, including 1,016,327 citizens with registered residence abroad. Of these, 6,085 have signed up to vote by mail, while 2,235 have registered to vote in person at polling stations outside Romania. Meanwhile, 20,326 individuals are banned from voting due to legal restrictions.\\n</Document>\\n\\n---\\n\\n<Document href=\"https://edmo.eu/edmo-news/romanias-elections-overview-7-may-2025/\"/>\\nhistoric low of 5.1 lei to the euro, and Cătălin Predoiu was appointed interim Prime Minister. While a recent poll shows Simion leading with 54.8% versus Dan’s 45.2% for the May 18th runoff, both PNL and USR have now officially backed Dan. Disinformation has intensified online, featuring illegal voting booth footage, election rigging claims, and AI-generated smear campaigns particularly targeting Dan. The OSCE monitoring report highlights inadequate responses to inauthentic online behavior from\\n</Document>\\n\\n---\\n\\n<Document href=\"https://www.bloomberg.com/news/articles/2025-05-13/romania-is-headed-for-tight-presidential-runoff-poll-shows\"/>\\nThe Romanian presidential runoff is a tight contest between ultranationalist George Simion and Bucharest Mayor Nicusor Dan, with each securing\\n</Document>']\n",
      "returning article with headline:  Simion Leads Diaspora Vote—Dan Gains Momentum\n"
     ]
    },
    {
     "name": "stderr",
     "output_type": "stream",
     "text": [
      "/Users/ethangoldberg/opt/anaconda3/envs/polynews/lib/python3.11/site-packages/langgraph/utils/runnable.py:408: UserWarning: WARNING! parallel_tool_calls is not default parameter.\n",
      "                parallel_tool_calls was transferred to model_kwargs.\n",
      "                Please confirm that parallel_tool_calls is what you intended.\n",
      "  input = step.invoke(input, config, **kwargs)\n"
     ]
    },
    {
     "name": "stdout",
     "output_type": "stream",
     "text": [
      "['<Document href=\"https://www.aljazeera.com/news/liveblog/2025/5/12/trump-tariffs-live-china-and-us-agree-to-ease-tariffs-for-90-days\"/>\\nTrump updates: US hints at talks with China’s Xi, lifting Syria sanctions\\nThese were the updates from Monday, May 12, 2025.\\n\\nVideo Duration 04 minutes 57 seconds 04:57\\nUS, China agree to slash tariffs by 115% for 90 days after talks in Geneva\\nBy\\xa0Brian Osgood\\nPublished On 12 May 202512 May 2025\\nSave articles to read later and create your own reading list.\\nClick here to share on social media\\n\\nThis live page has now been closed.\\nRead more [...] Published Time: 2025-05-12T13:54:53Z\\nTrump updates: US hints at talks with China’s Xi, lifting Syria sanctions | Donald Trump News | Al Jazeera\\nAdvertisement\\nSkip linksSkip to Content\\n\\nLive\\nSign upEnrich your Al Jazeera experience by signing in or creating an account.\\nNavigation menu\\n\\n\\nNewsShow more news sections\\n\\nAfrica\\nAsia\\nUS & Canada\\nLatin America\\nEurope\\nAsia Pacific\\n\\n\\n\\nMiddle East\\n\\nExplained\\nOpinion\\nSport\\nVideo\\n\\nMoreShow more sections [...] © 2025 Al Jazeera Media Network\\nYou rely on Al Jazeera for truth and transparency\\nWe process your personal information to measure and improve our sites and service, to assist our marketing campaigns and to provide personalised content and advertising. By clicking the button on the right, you can exercise your privacy rights. For more information see our privacy noticeLearn more about our Cookie Policy.\\nYour Privacy Rights Reject all Allow all\\n</Document>\\n\\n---\\n\\n<Document href=\"https://www.hindustantimes.com/world-news/will-donald-trump-speak-directly-to-xi-jinping-over-us-china-trade-deal-what-he-said-101747192428636.html\"/>\\nUnited States President Donald Trump said that he could see himself dealing with his Chinese counterpart, Xi Jinping, directly to work out the details of the trade deal between the US and China. He made the remarks during his interview with Fox News aboard Air Force One aircraft on his way to Saudi Arabia on Monday.\\n\\n\"Yeah, I can see that. I mean, I\\'m not sure that it\\'ll be necessary, but that happened with the UK,\" he told Fox News\\' Sean Hannity. [...] He said that after confirming that the US has “confines of a very, very strong deal\" with China during the interview.\\n\\nTalking about the most exciting part about the trade deal with China, Trump said, “One of the things that I think could be most exciting for us and China is that we\\'re trying to open up China. Because you know, many years ago we opened up the USA, now it is time for China to open up, and that’s part of our deal.” [...] “I don’t think there’s ever been a period like this with a potential nuclear war. The two countries (India and Pakistan) have very good leaders, people I know very well. It was a very important process, we got involved with India and Pakistan,” he said.\\n</Document>\\n\\n---\\n\\n<Document href=\"https://www.jpost.com/breaking-news/article-853871\"/>\\nTrump says he could see himself dealing directly with China\\'s Xi on details of trade deal\\n\\nPresident Donald Trump said in an interview broadcast on Tuesday that he could see himself dealing directly with Chinese President Xi Jinping on the final details of a US-China trade deal.\"Yeah, I can see that. I mean, I\\'m not sure that it\\'ll be necessary,\" Trump told Fox News Channel\\'s Sean Hannity in an interview conducted on Monday on Air Force One as Trump flew to Saudi Arabia. [...] \"Yeah, I can see that. I mean, I\\'m not sure that it\\'ll be necessary,\" Trump told Fox News Channel\\'s Sean Hannity in an interview conducted on Monday on Air Force One as Trump flew to Saudi Arabia.\\n\\nBy subscribing I accept the terms of use and privacy policy\\n</Document>\\n\\n---\\n\\n<Document href=\"https://www.aa.com.tr/en/americas/trump-says-he-could-see-himself-dealing-directly-with-chinas-xi-on-trade-deal/3566807\"/>\\nUS President Donald Trump said in an interview aired Tuesday that he could see himself directly dealing with his Chinese counterpart Xi Jinping\\n</Document>\\n\\n---\\n\\n<Document href=\"https://www3.nhk.or.jp/nhkworld/en/news/20250513_N01/\"/>\\nUS President Donald Trump also said Monday he may speak with Chinese President Xi Jinping this week. The move came after trade talks in\\n</Document>']\n",
      "returning article with headline:  Dan Edges Simion in Tight Romanian Runoff—36% Likely\n"
     ]
    },
    {
     "name": "stderr",
     "output_type": "stream",
     "text": [
      "/Users/ethangoldberg/opt/anaconda3/envs/polynews/lib/python3.11/site-packages/langgraph/utils/runnable.py:408: UserWarning: WARNING! parallel_tool_calls is not default parameter.\n",
      "                parallel_tool_calls was transferred to model_kwargs.\n",
      "                Please confirm that parallel_tool_calls is what you intended.\n",
      "  input = step.invoke(input, config, **kwargs)\n"
     ]
    },
    {
     "name": "stdout",
     "output_type": "stream",
     "text": [
      "['<Document href=\"https://www.indiewire.com/news/breaking-news/crunchyroll-2025-anime-awards-nominations-full-list-1235112907/\"/>\\nThe winners of the 9th annual Crunchyroll Anime Awards will be unveiled on May 25 at Crunchyroll’s award show, hosted Grand Prince Hotel Shin Takanawa in Tokyo, Japan. The event will be livestreamed worldwide for viewers and fans, and will be hosted by actress and singer Sally Amaki and Japanese presenter Jon Kabira. Read the full list of nominees below.\\n\\nAnime of the Year\\n\\n“DAN DA DAN”\\n\\n“Delicious in Dungeon”\\n\\n“Frieren: Beyond Journey’s End”\\n\\n“Kaiju No. 8”\\n\\n“Solo Leveling” [...] “The Apothecary Diaries”\\n\\nFilm of the Year\\n\\n“HAIKYU!! The Dumpster Battle”\\n\\n“Look Back”\\n\\n“Mononoke The Movie: The Phantom in the Rain”\\n\\n“My Hero Academia: You’re Next”\\n\\n“SPY x FAMILY CODE: White”\\n\\n“The Colors Within”\\n\\nBest Continuing Series\\n\\n“BLEACH: Thousand-Year Blood War – The Conflict”\\n\\n“Demon Slayer: Kimetsu no Yaiba,” Hashira Training Arc\\n\\n“My Hero Academia” Season 7\\n\\n“ONE PIECE”\\n\\n“Oshi No Ko” Season 2\\n\\n“SPY × FAMILY” Season 2\\n\\nBest New Series\\n\\n“DAN DA DAN”\\n\\n“Delicious in Dungeon” [...] “Mononoke,” “My Hero Academia,” and “Spy x Family.”\\n</Document>\\n\\n---\\n\\n<Document href=\"https://www.polygon.com/anime/552268/anime-awards-2025-best-anime-nominees-crunchyroll\"/>\\nOn the film end, the bittersweet Look Back is nominated alongside the Haikyu!!, Spy x Family, and My Hero Academia movies.\\n\\nVoting for the 2025 Anime Awards is open now. Fans can vote once each day on the Crunchyroll website from now until April 14 at 11:59 PM PDT. The results will be announced during the 2025 Anime Awards ceremony on May 25, which will be livestreamed.\\n\\nAnime Awards 2025 nominees\\n\\nAnime of the Year\\n\\nFilm of the Year\\n\\nBest Original Anime\\n\\nBest Continuing Series [...] On Thursday, Crunchyroll announced the nominees for the 2025 Anime Awards. Some of Polygon’s favorite anime of the last year — including Frieren: Beyond Journey’s End, Dan Da Dan, Delicious in Dungeon, and The Apothecary Diaries — came through with a ton of nominations, withe Frieren leading the pack with 29 nominations. (Dan Da Dan has 22, with Delicious in Dungeon at 16 and The Apothecary Diaries at 13). All four of those, along with Kaiju No. 8 and Solo Leveling, were nominated for Anime of [...] Frieren: Beyond Journey’s End, Dan Da Dan lead the 2025 Anime Award nominations\\n\\nAll in a day’s work for Frieren\\n\\nby  Petrana Radulovic\\n</Document>\\n\\n---\\n\\n<Document href=\"https://www.crunchyroll.com/news/announcements/2025/4/3/anime-awards-2025-nominees-full-list?srsltid=AfmBOooREEDo-zBGRjkZ-LCO6QGXiW0ZDfVqyHwui5wU0nm-0IsCvthO\"/>\\nAnime of the Year. DAN DA DAN · Delicious in Dungeon ; Film of the Year. HAIKYU!! The Dumpster Battle · Look Back ; Best Continuing Series. BLEACH\\n</Document>\\n\\n---\\n\\n<Document href=\"https://thenewleafjournal.com/choosing-the-2025-crunchyroll-anime-awards/\"/>\\nPer my rules, I can only consider Kaiju No.\\xa08, Oshi no Ko, DAN DA DAN, and Frieren. The nominees are similar here to the best opening nominees. I gave Oshi no Ko the nod over Kaiju No. 8 the first time, but it was close enough that I will even things out here.\\n\\nWinner: “Abyss” – YUNGBLUD – Kaiju No.\\xa08\\n\\nBest Score\\n\\nOtherwise known as the best soundtrack. Crunchyroll’s nominees: [...] (Aside: The ongoing second season of The Apothecary Diaries, which began in January 2025, has been strong and barring a second-half collapse, it is well on pace to the best series of the six nominees.)\\n\\nWinner: Kaiju No.\\xa08\\n\\nFilm of the Year\\n\\nI am going to have to take a pass on this award because I did not watch any anime movies in 2025. But I present the list for those who have: [...] Winner: Aoi Yūki (Maomao) – The Apothecary Diaries\\n\\nConclusion\\n\\nThat wraps up all the awards I can choose for Crunchyroll. Very few lined up with my own anime of the year awards since I was not a big fan of most of the heavy hitters on Crunchyroll’s list of nominees. Just for fun, let us see the big Crunchyroll winners from my selections:\\n</Document>\\n\\n---\\n\\n<Document href=\"https://www.cbr.com/best-anime-2025-crunchyroll-awards-ranked/\"/>\\nThis year\\'s list features a star-studded lineup of genres, ranging from tear-jerking romances like A Sign of Affection and fantasy epics like Frieren: Beyond Journey\\'s End to supernatural chaos and food-powered dungeon crawls. The 2025 Crunchyroll Anime Awards are not short on impressive nominees; from pushing genre boundaries, amplifying underrepresented voices or just plain entertainment, many anime have been able to win over the viewers\\' trust. Whichever one takes the award, the nominees\\n</Document>']\n",
      "['<Document href=\"https://www.robert-schuman.eu/en/monitor/6521-rafal-kazimierz-trzaskowski-leads-the-polls-in-the-first-round-of-the-polish-presidential-election\"/>\\nAccording to the latest opinion poll conducted by the United Surveys opinion institute and published on 23 April, Rafal Kazimierz Trzaskowski is well ahead in the first round of the European elections with 31.7% of the vote, followed by Karol Tadeusz Nawrocki with 27.6%. Slawomir Jerzy Mentzen is in third place with 11.3%. The far-right candidate is particularly popular among young voters: nearly one in two (44%) plan to vote for him on 18 May. [...] Country Profiles\\n\\n\\nIn the Media\\n\\n\\nVideos\\n\\n\\nPension systems in the European Union\\n\\n\\nWomen\\'s Europe\\n\\n\\nMap of the European Recovery Plans\\n\\n\\nSubscribe\\nSupport us\\n> The European Elections Monitor > Rafal Kazimierz Trzaskowski leads the polls in the first round of the Polish presidential election\\nAnalysis\\n\\nRafal Kazimierz Trzaskowski leads the polls in the first round of the Polish presidential election\\nElections in Europe\\nCorinne Deloy\\n-\\n29 April 2025\\n\\nAvailable versions :\\nFREN [...] Szymon Franciszek Holownia is expected to win 6.60% of the vote and Magdalena Agnieszka Biejat 5.60%. The eight other candidates are expected to win less than 4% of the vote each.\\nThe Electoral Campaign\\n</Document>\\n\\n---\\n\\n<Document href=\"https://en.wikipedia.org/wiki/Opinion_polling_for_the_2025_Polish_presidential_election\"/>\\n| Polling Aggregator/Link | Last Update | Nawrocki\\nPiS | Trzaskowski\\nPO | Others /\\ndon\\'t know | Lead |\\n| --- | --- | --- | --- | --- | --- |\\n|  |  |\\n| ewybory.eu | 1 May 2025 | 43.8 | 50.4 | 7.8 | 6.6 |\\nGraphical summary\\n[edit] [...] | IBRiS / Onet | 31 Jan–2 Feb 2025 | 1,068 | 23.9 | 37.3 | 6.8 | 5.0 | 1.1 | 8.9 | 1.7 | 1.2 | 3.0 |  |  |  |  |  | 11.0 | 13.4 |\\n| Opinia24 / ZET | 23–29 Jan 2025 | 1,000 | 24 | 32 | 7 | 3 | 2 | 15 | 3 | 1 | 4 | 0 | 0 |  |  | 1[f] | 7 | 8 |\\n| Research Partner | 24–27 Jan 2025 | 1,060 | 24.6 | 34.1 | 8.3 | 2.1 | 1.2 | 13.1 |  | 1.9 |  |  |  |  |  | 4.4 | 10.3 | 9.5 | [...] LOESS curve for the 2025 Polish presidential election, first round.\\nFirst round\\n[edit]\\n| Polling firm/Link | Fieldwork\\ndate | Sample\\nsize | Nawrocki\\nPiS | Trzaskowski\\nPO | Hołownia\\nPL2050 | Biejat\\nNL | Zandberg\\nRazem | Mentzen\\nConfederation | Braun\\nKKP | Jakubiak\\nWR | Stanowski\\nind. | Woch\\nBS | Senyszyn\\nSLD | Maciak\\nRDiP | Bartoszewicz\\nind. | Others | Don\\'t know | Lead |\\n| --- | --- | --- | --- | --- | --- | --- | --- | --- | --- | --- | --- | --- | --- | --- | --- | --- | --- | --- |\\n</Document>\\n\\n---\\n\\n<Document href=\"https://en.wikipedia.org/wiki/2025_Polish_presidential_election\"/>\\nAppearance\\nmove to sidebar hide\\nFrom Wikipedia, the free encyclopedia\\n2025 Polish presidential election←\\xa0202018 May 20252030\\xa0→Opinion\\xa0polls\\xa0CandidateKarol NawrockiRafał TrzaskowskiSzymon HołowniaPartyPiS[a]KOTD\\xa0CandidateMagdalena BiejatSławomir MentzenAdrian ZandbergPartyThe Left[a]KWiNRazemIncumbent PresidentAndrzej DudaIndependent[b] [...] The first round of the presidential election will be held in Poland on 18 May 2025 and, if necessary, the second round will be held on 1 June 2025.[1] Incumbent president Andrzej Duda is ineligible for re-election.\\nElectoral system\\n[edit] [...] Electoral committeesCandidateStatusDate1Sławomir Mentzen (KWiN)Candidate registered3 February2Rafał Trzaskowski (KO)Candidate registered17 March3Grzegorz Braun (KKP)Candidate registered10 March4Szymon Hołownia (TD)Candidate registered24 March5Adrian Zandberg (Razem)Candidate registered24 March6Wiesław Lewicki (NK)Candidacy submitted3 April7Maciej Maciak (RDiP)Summoned to correct defects31 March8Magdalena Biejat (Lewica)Candidate registered31 March9Marek Woch (BS)Candidate registered31\\n</Document>']\n"
     ]
    },
    {
     "name": "stderr",
     "output_type": "stream",
     "text": [
      "/Users/ethangoldberg/opt/anaconda3/envs/polynews/lib/python3.11/site-packages/langgraph/utils/runnable.py:408: UserWarning: WARNING! parallel_tool_calls is not default parameter.\n",
      "                parallel_tool_calls was transferred to model_kwargs.\n",
      "                Please confirm that parallel_tool_calls is what you intended.\n",
      "  input = step.invoke(input, config, **kwargs)\n",
      "/Users/ethangoldberg/opt/anaconda3/envs/polynews/lib/python3.11/site-packages/langgraph/utils/runnable.py:408: UserWarning: WARNING! parallel_tool_calls is not default parameter.\n",
      "                parallel_tool_calls was transferred to model_kwargs.\n",
      "                Please confirm that parallel_tool_calls is what you intended.\n",
      "  input = step.invoke(input, config, **kwargs)\n"
     ]
    },
    {
     "name": "stdout",
     "output_type": "stream",
     "text": [
      "['<Document href=\"https://www.rockstargames.com/newswire/article/258aa538o412ok/grand-theft-auto-vi-is-now-coming-may-26-2026\"/>\\nHi everyone, Grand Theft Auto VI is now set to release on May 26, 2026. We are very sorry that this is later than you expected.\\n</Document>\\n\\n---\\n\\n<Document href=\"https://www.reddit.com/r/kindafunny/comments/1kcyram/grand_theft_auto_vi_is_now_coming_may_26_2026/\"/>\\nGta Vi is now set to release on the 26th of May 2026! r/rockstar - Gta Vi is now set to release on the 26th of May.\\n</Document>\\n\\n---\\n\\n<Document href=\"https://www.wspa.com/news/national/nexstar-media-wire/grand-theft-auto-vi-release-pushed-back-until-next-year/\"/>\\nGrand Theft Auto VI is now set to release on May 26, 2026. We are very sorry that this is later than you expected. The interest and\\n</Document>\\n\\n---\\n\\n<Document href=\"https://www.nytimes.com/article/grand-theft-auto-6.html\"/>\\nGrand Theft Auto VI is scheduled to arrive on Xbox Series X|S and PlayStation 5 consoles on May 26, 2026. Rockstar has not announced whether the\\n</Document>\\n\\n---\\n\\n<Document href=\"https://gamerant.com/gta-6-delay-hollow-knight-silksong-gain-explained-good-why/\"/>\\nGames like Marathon, Borderlands 4, and Ghost of Yotei may have confirmed Q3 and Q4 releases, but much of the latter half of the year is still looking bare. This leaves plenty of room for Silksong to stake its claim as a fall or winter release that is fully free from the overshadowing power of GTA 6.\\n\\nGTA 6 will now release on May 26, 2026.\\n\\nAll Eyes Are On Silksong [...] Although Rockstar hadn\\'t announced an official release date for GTA 6, it was at least previously confirmed that the game was eyeing a fall 2025 launch. Now that this is off the table, the fall release calendar is bound to fill up in the coming weeks and months. During the first quarter of the year, it felt as though a lot of developers were being purposefully silent about their games\\' respective launch dates in order to avoid releasing around the same time as GTA 6. [...] Silksong will be part of an official ACMI exhibit in Australia titled \"Game Worlds.\" As the name suggests, the exhibit is focused on art direction and world-building in video games, and a playable version of Silksong will be present. Of course, it could simply be a small demo, but it also suggests that a lot of the game may be complete. If that\\'s the case, the ACMI exhibit might be hinting at a release date set around fall.\\n\\nThe ACMI exhibit runs until February 2026.\\n</Document>']\n"
     ]
    },
    {
     "name": "stderr",
     "output_type": "stream",
     "text": [
      "/Users/ethangoldberg/opt/anaconda3/envs/polynews/lib/python3.11/site-packages/langgraph/utils/runnable.py:408: UserWarning: WARNING! parallel_tool_calls is not default parameter.\n",
      "                parallel_tool_calls was transferred to model_kwargs.\n",
      "                Please confirm that parallel_tool_calls is what you intended.\n",
      "  input = step.invoke(input, config, **kwargs)\n"
     ]
    },
    {
     "name": "stdout",
     "output_type": "stream",
     "text": [
      "['<Document href=\"https://www.theguardian.com/us-news/2025/may/08/trump-pentagon-trans-military-ban\"/>\\nThu 8 May 2025 21.39 EDTFirst published on Thu 8 May 2025 18.51 EDT\\nShare\\nThe Pentagon is removing the 1,000 members of the military who openly identify as trans, and giving those who have yet to openly identify as transgender 30 days to remove themselves, according to a new directive issued on Thursday. [...] US judge blocks Trump’s ban on trans people serving in the military\\n19 Mar 2025\\n\\n\\n\\n\\nTrump administration memo orders Pentagon to identify and fire transgender members of US military\\n27 Feb 2025\\n\\n\\n\\n\\nTrans military members on the feared ban: ‘I would meet Trump to show how we’ve served our country’\\n19 Feb 2025\\n\\n\\n\\n\\nUS military will no longer accept trans troops, Pete Hegseth’s memo says\\n10 Feb 2025\\n\\n\\nMore from News\\nMore from News [...] Pete Hegseth looks on at the Pentagon in Arlington, Virginia, on Monday. Photograph: Will Oliver/EPA\\nView image in fullscreen\\nPete Hegseth looks on at the Pentagon in Arlington, Virginia, on Monday. Photograph: Will Oliver/EPA\\nUS military\\nUS to begin immediate removal of up to 1,000 trans military members\\nPentagon will give other trans service members 30 days to self-identify while it enforces recently approved ban\\nCy Neff and agency\\n</Document>\\n\\n---\\n\\n<Document href=\"https://www.npr.org/2025/02/27/g-s1-51057/transgender-soldiers-military-ban-trump\"/>\\nPentagon plans to begin removing trans service members next month Service members and recruits who are diagnosed with or treated for gender dysphoria are to be separated from the U.S. military in accordance with an executive order issued a month ago by President Trump.\\nNational\\nPentagon directs removal of trans service members from military\\nFebruary 27, 20252:47 PM ET\\nBy\\nScott Neuman [...] The Pentagon\\'s policy directive calls for establishing procedures to identify service members with gender dysphoria or a history of it within 30 days to \"begin separation actions.\" It said that exceptions could be made on a case-by-case basis if the government deems an \"interest in accessing the applicant that directly supports warfighting capabilities\" or if a service member demonstrates 36 consecutive months of \"stability\" in their sex \"without clinically significant distress or impairment in [...] Published Time: 2025-02-27T14:47:27-05:00\\nPentagon plans to begin removing trans service members next month : NPR\\nAccessibility links\\n\\nSkip to main content\\n\\nKeyboard shortcuts for audio player\\n\\n\\nOpen Navigation Menu\\n\\n\\n\\n\\n\\nNewsletters\\n\\n\\nNPR Shop\\n\\n\\nClose Navigation Menu\\n\\n\\nHome\\n\\n\\nNews Expand/collapse submenu for News\\n\\nNational\\nWorld\\nPolitics\\nBusiness\\nHealth\\nScience\\nClimate\\nRace\\n\\nCulture Expand/collapse submenu for Culture\\n\\n\\nBooks\\n</Document>\\n\\n---\\n\\n<Document href=\"https://www.pbs.org/newshour/politics/up-to-1000-transgender-troops-are-being-separated-from-the-military-in-new-pentagon-order\"/>\\nShare on Facebook Share on Twitter\\nUp to 1,000 transgender troops are being separated from the military in new Pentagon order\\nPolitics  May 8, 2025 7:09 PM EDT \\nWASHINGTON (AP) — The Pentagon will immediately begin moving as many as 1,000 openly identifying transgender service members out of the military and give others 30 days to self-identify under a new directive issued Thursday. [...] Pentagon officials in an earlier memo defended the ban, saying that “the medical, surgical, and mental health constraints on individuals who have a current diagnosis or history of, or exhibit symptoms consistent with, gender dysphoria are incompatible with the high mental and physical standards necessary for military service.”\\nThe new Pentagon policy would allow for limited exemptions. [...] The\\xa0Supreme Court\\xa0ruled that the administration could enforce the\\xa0ban on transgender people in the military, while other legal challenges proceed. The court’s three liberal justices said they would have kept the policy on hold.\\nNeither the justices in the majority or dissent explained their votes, which is not uncommon in emergency appeals.\\nWhen the initial Pentagon directive came out earlier this year, it gave service members 30 days to self-identify. Since then, about 1,000 have done so.\\n</Document>\\n\\n---\\n\\n<Document href=\"https://www.cnn.com/2025/02/26/politics/pentagon-remove-transgender-service-members-new-policy\"/>\\nThe Pentagon’s new policy is far stricter than the policy under the first Trump administration’s ban, which allowed troops who had joined before the policy took effect to be grandfathered in and continue serving. The policy made public on Wednesday directed that service members being separated will be considered non-deployable until they are removed from service. It also says no funds from the Defense Department will be used for any surgical procedures relating to “sex reassignment surgery, [...] “Service members who have a current diagnosis or history of, or exhibit symptoms consistent with, gender dysphoria will be processed for separation from military service,” says a memo outlining the policy, which was signed by the official performing the duties of the Under Secretary of Defense for Personnel and Readiness. The memo was included in a court filing as part of an ongoing lawsuit over the Pentagon’s policy. [...] The policy guidance follows an executive order signed by President Donald Trump in January directing the Pentagon to implement its own policies that say transgender service members are incompatible with military service. It’s unclear how many transgender individuals serve in the military; in 2018, an independent research institute estimated there were 14,000 transgender troops serving.\\n</Document>\\n\\n---\\n\\n<Document href=\"https://san.com/cc/military-leaders-begin-screening-service-members-for-gender-dysphoria/\"/>\\nStraight Arrow News\\n\\nMilitary leaders begin screening service members for gender dysphoria\\n\\nSummary\\n\\nPolicy enforcement\\n\\nThe Pentagon is enforcing a Trump-era ban that disqualifies service members with gender dysphoria from continued military service. Voluntary separation deadlines are set for June and July.\\n\\nCommand review process\\n\\nCommanders must initiate record reviews for troops known to have symptoms of gender dysphoria. Critics warn that the vague standard may lead to misidentification. [...] Separation pay gaps\\n\\nVoluntary separation can result in double the payout compared to involuntary discharge. Officials say pay varies by rank and years of service.\\n\\nSummary\\n\\nPolicy enforcement\\n\\nThe Pentagon is enforcing a Trump-era ban that disqualifies service members with gender dysphoria from continued military service. Voluntary separation deadlines are set for June and July.\\n\\nCommand review process [...] Full Story The U.S. Army has announced it will no longer allow transgender people to join the service. This was the first U.S. military branch to publicly announce the ban. On Friday, Feb. 14, the U.S. Army said it would stop accepting transgender service members and would stop performing or “facilitating procedures associated with gender…\\n\\nTrump plans order to remove trans members from US military\\n</Document>']\n"
     ]
    },
    {
     "name": "stderr",
     "output_type": "stream",
     "text": [
      "/Users/ethangoldberg/opt/anaconda3/envs/polynews/lib/python3.11/site-packages/langgraph/utils/runnable.py:408: UserWarning: WARNING! parallel_tool_calls is not default parameter.\n",
      "                parallel_tool_calls was transferred to model_kwargs.\n",
      "                Please confirm that parallel_tool_calls is what you intended.\n",
      "  input = step.invoke(input, config, **kwargs)\n"
     ]
    },
    {
     "name": "stdout",
     "output_type": "stream",
     "text": [
      "['<Document href=\"https://www.goldderby.com/article/2025/final-destination-bloodlines-box-office-weekend-hurry-up-tomorrow/\"/>\\nBOX-OFFICE PREDICTIONS\\n\\n\\n\\nBuoyed by glowing reviews and franchise nostalgia, Final Destination: Bloodlines is expected to dominate the weekend, grossing between $45 million and $50 million. Disney/Marvel\\'s Thunderbolts and Warner Bros.\\'\\xa0Sinners\\xa0will battle it out for second place — both tracking toward $15 million in ticket sales. A Minecraft Movie\\xa0will hold on to fourth place with $6 million, while the critically panned Hurry Up Tomorrow\\xa0debuts in fifth with just $5 million. [...] Gold Derby readers predict that Final Destination: Bloodlines will win the May 16-18 weekend with between $25 million and $50 million domestically. Thunderbolts\\xa0is the runner-up selection of our oddsmakers.\\n\\nNEW RELEASES [...] ‘Final Destination: Bloodlines’ eyes record-breaking $50 million opening as the Weeknd and Jenna Ortega fizzle in ‘Hurry Up Tomorrow’\\n\\nExpect Warner Bros.\\' box-office hot streak to continues this weekend thanks to Final Destination: Bloodlines.\\n</Document>\\n\\n---\\n\\n<Document href=\"https://www.yahoo.com/entertainment/articles/final-destination-bloodlines-eyes-record-163039571.html\"/>\\nBOX-OFFICE PREDICTIONS\\n\\nBuoyed by glowing reviews and franchise nostalgia, Final Destination: Bloodlines is expected to dominate the weekend, grossing between $45 million and $50 million. Disney/Marvel\\'s Thunderbolts and Warner Bros.\\'\\xa0Sinners\\xa0will battle it out for second place — both tracking toward $15 million in ticket sales. A Minecraft Movie\\xa0will hold on to fourth place with $6 million, while the critically panned Hurry Up Tomorrow\\xa0debuts in fifth with just $5 million. [...] Gold Derby readers predict that Final Destination: Bloodlines will win the May 16-18 weekend with between $25 million and $50 million domestically. Thunderbolts\\xa0is the runner-up selection of our oddsmakers.\\n\\nNEW RELEASES [...] Manage your account\\n\\n\\n\\nEntertainment:\\n\\n‘Final Destination: Bloodlines’ eyes record-breaking $50 million opening as the Weeknd and Jenna Ortega fizzle in ‘Hurry Up Tomorrow’\\n\\nExpect Warner Bros.\\' box-office hot streak to continues this weekend thanks to Final Destination: Bloodlines.\\n</Document>\\n\\n---\\n\\n<Document href=\"https://deadline.com/2025/05/box-office-final-destination-bloodlines-1236400414/\"/>\\nBloodlines will rep the 4th No. 1 opening for Warner Bros this year after Mickey 17, A Minecraft Movie and Sinners. Through 20 weekends, and counting Bloodlines, Warner Bros has notched No. 1 six times so far at the 2025 domestic box office.\\n\\nDirectors on Bloodlines are Zach Lipovsky and Adam B. Stein off a screenplay by Guy Busick and Lori Evans Taylor based on characters by Jeffrey Reddick. [...] EXCLUSIVE: Warner Bros’ box office bonanza continues this weekend as New Line’s horror reboot Final Destination: Bloodlines is stabbing around $4.6M in Thursday night previews according to sources. That figure is just $100K shy of the studio’s Sinners‘ previews that pic turning into a $48M opening. The forecast on Final Destination 6 here was $35M-$40M heading into the weekend, but with excellent reviews and audience response on Rotten Tomatoes at respectively 93% and 90%, don’t be shocked if [...] Also opening this weekend is the Live Nation, Lionsgate release Hurry Up Tomorrow starring The Weeknd and Jenna Ortega. Speaking of horror, at 16% on Rotten Tomatoes, critics covered their eyes. However, audiences were far more generous at 75%. We’ll see where that one goes, the $15M Trey Edward Shults directed movie forecasted to be in the mid to high single digits. As we mentioned, it’s a distribution deal for Lionsgate, so no skin off their nose.\\n</Document>\\n\\n---\\n\\n<Document href=\"https://movieweb.com/final-destination-bloodlines-box-office-opening-weekend-franchise-record/\"/>\\nPer Deadline, Final Destination Bloodlines could gross between $35-40 million during its opening weekend. Anything in that range would be a franchise-best and a clear indication that Final Destination remains one of the horror genre\\'s most enduring IPs. The previous franchise-best opening belongs to 2009\\'s The Final Destination, which debuted to $27.4 million with a little assist from its 3D hook. That film ultimately grossed $66.4 million domestically and $186.1 million worldwide on a $40 [...] Final Destination Bloodlines will continue a strong run for Warner Bros. following some early box office misfortunes from earlier in the year. The studio is still riding high off the success of A Minecraft Movie, which has grossed $409.1 million domestically and $910.1 million worldwide, and the word-of-mouth smash, Sinners, which continues to amaze with a $217.8 million domestic gross and $287.1 million globally. Even with the arrival of another horror film in the marketplace, the studio is [...] The growth of the Final Destination franchise has been remarkable. The first film, released in 2000, opened to $10 million but had great legs following its opening weekend and managed to gross $53.3 million domestically and $112.8 million worldwide on a $23 million budget. The openings for the subsequent films have all been strong over the years, all improving on the debut performance of the first movie. Final Destination 2 came out of the gate with a $16.2 million opening weekend, while Final\\n</Document>\\n\\n---\\n\\n<Document href=\"https://www.reddit.com/r/boxoffice/comments/1knagx7/box_office_weekend_forecast_final_destination/\"/>\\nBox Office Weekend Forecast: FINAL DESTINATION: BLOODLINES ($36M+), THUNDERBOLTS* ($17.4M), SINNERS ($16.4M) and HURRY UP TOMORROW ($5.2M) to\\n</Document>']\n"
     ]
    },
    {
     "name": "stderr",
     "output_type": "stream",
     "text": [
      "/Users/ethangoldberg/opt/anaconda3/envs/polynews/lib/python3.11/site-packages/langgraph/utils/runnable.py:408: UserWarning: WARNING! parallel_tool_calls is not default parameter.\n",
      "                parallel_tool_calls was transferred to model_kwargs.\n",
      "                Please confirm that parallel_tool_calls is what you intended.\n",
      "  input = step.invoke(input, config, **kwargs)\n"
     ]
    },
    {
     "name": "stdout",
     "output_type": "stream",
     "text": [
      "['<Document href=\"https://edition.cnn.com/politics/live-news/trump-middle-east-news-05-13-25\"/>\\nTrump, who views himself as a dealmaker, has focused on publicly highlighting investment deals made during the trip instead of the more delicate and complicated geopolitical backdrop in the region — including the Hamas-Israel conflict and his team’s ongoing efforts to negotiate a nuclear agreement with Iran.\\nJoined by top officials from both countries, the leaders were seated at the head of a comically large ballroom with their teams on either side. [...] Israeli officials tried to inquire about the possibility of a stop in Jerusalem or Tel Aviv during Trump’s trip, according to a source. But the president doused the flicker of those hopes last week.\\nTrump might have been persuaded to add the visit to his itinerary if he could claim some sort of victory, whether it be a ceasefire agreement in Gaza, a humanitarian aid plan, or something else. But with Israel poised to expand its war in Gaza, there are no such deliverables.\\nRead the full analysis. [...] Inside an expansive ballroom, Trump, the crown prince, and other top officials from both countries partook in a coffee and tea ceremony, seated in plush purple chairs with gold trim. The warm relationship between Trump and bin Salman was on full display as they chatted comfortably.\\n</Document>\\n\\n---\\n\\n<Document href=\"https://en.wikipedia.org/wiki/2025_visit_by_Donald_Trump_to_the_Middle_East\"/>\\nWang, Amy; Viser, Matt (May 14, 2025). \"President Donald Trump denied that his trip to the Middle East this week — which includes stops in Saudi Arabia, Qatar and the United Arab Emirates — snubs Israel\". The Washington Post. Retrieved May 14, 2025.\\nWang, Amy; Viser, Matt (May 14, 2025). \"President Donald Trump has arrived at Lusail Palace for a state dinner hosted by Qatar\". The Washington Post. Retrieved May 14, 2025. [...] In April 2025, Karoline Leavitt, the White House press secretary, announced that Trump would visit Saudi Arabia, Qatar, and the United Arab Emirates in May.[1] The visit notably excluded Israel, though Steve Witkoff, Trump\\'s Middle East envoy, met with Edan Alexander, a hostage who was released on May 12 in a deal between the United States and Hamas.[2] Trump later denied that Israel was deliberately excluded from the visit.[3] The following month, Axios reported that a Gulf Cooperation Council [...] Hubbard, Ben (May 14, 2025). \"Syrians Are Elated and Optimistic as Trump Vows to Lift Sanctions\". The New York Times. Retrieved May 14, 2025.\\nKeller-Lynn, Carrie (May 13, 2025). \"Trump Surprised and Sidelined Israel Ahead of Landmark Middle East Trip\". The Wall Street Journal. Retrieved May 13, 2025.\\nLoveluck, Louisa; Zakaria, Zakaria (May 14, 2025). \"Syrians rejoice after Trump pledge to lift crippling sanctions\". The Washington Post. Retrieved May 14, 2025.\\n</Document>']\n"
     ]
    },
    {
     "name": "stderr",
     "output_type": "stream",
     "text": [
      "/Users/ethangoldberg/opt/anaconda3/envs/polynews/lib/python3.11/site-packages/langgraph/utils/runnable.py:408: UserWarning: WARNING! parallel_tool_calls is not default parameter.\n",
      "                parallel_tool_calls was transferred to model_kwargs.\n",
      "                Please confirm that parallel_tool_calls is what you intended.\n",
      "  input = step.invoke(input, config, **kwargs)\n"
     ]
    },
    {
     "name": "stdout",
     "output_type": "stream",
     "text": [
      "['<Document href=\"https://en.wikipedia.org/wiki/Eurovision_Song_Contest_2025\"/>\\nOGAE, an organisation of over forty Eurovision Song Contest fan clubs across Europe and beyond, conducts an annual voting poll first held in 2002 as the Marcel Bezençon Fan Award. After all votes were cast, the top-ranked entry in the 2025 poll was Sweden\\'s \"Bara bada bastu\" performed by KAJ; the top five results are shown below.[286][287][288]\\n| Country | Song | Artist | Points |\\n| --- | --- | --- | --- |\\n| Sweden | \"Bara bada bastu\" | KAJ | 421 |\\n| Austria | \"Wasted Love\" | JJ | 382 | [...] | Countries | | Final | * Albania * Armenia * Austria * Denmark * Estonia * Finland * France * Germany * Greece * Iceland * Israel * Italy * Latvia * Lithuania * Luxembourg * Malta * Netherlands * Norway * Poland * Portugal * San Marino * Spain * Sweden * Switzerland * Ukraine * United Kingdom | | --- | | Semi-finals | * Australia * Azerbaijan * Belgium * Croatia * Cyprus * Czechia * Georgia * Ireland * Montenegro * Serbia * Slovenia | | Withdrawn | * Moldova | | [...] | National selections | | Current | * Albania * Armenia * Denmark * Estonia * Finland * Iceland * Ireland * Israel * Italy * Latvia * Norway * Portugal * Serbia * Spain * Sweden * Ukraine | | --- | | Former | * Australia * Georgia * Geostar * The Voice Georgia * Hungary * Ireland * Italy * Israel * Israel Song Festival * The X Factor Israel * Malta * Netherlands * North Macedonia * Poland * Krajowe Eliminacje * Szansa na Sukces * Russia * Serbia and Montenegro * Serbia * Slovakia * Spain *\\n</Document>\\n\\n---\\n\\n<Document href=\"https://www.aussievision.net/post/how-the-scoring-system-works-at-eurovision-2025\"/>\\nEach semi has about 15–18 acts, and only the top 10 from each survive the cut. This year there are 37 countries competing, and semi-final 1 has 15 competing entries, and semi-final 2 has 16. Here\\'s the running order.\\nThe “Big Five” (France, Germany, Italy, Spain, UK) and the host country skip the semis voting altogether and go straight through to the Grand Final. They still perform, though.\\nThe rest have to battle it out. And yes, Australia has to qualify like everyone else. [...] The jury is made up of five music experts from each country — think producers, singers, radio hosts. They watch rehearsals and rate the acts based on things like vocals, staging, and overall impact.\\nTheir top ten songs each get points: 1 through 8, then 10, and finally the golden DOUZE POINTS! 12 is the highest score you can get from any country. [...] Eurovision isn’t just one massive show, it’s a whole week of musical mayhem.\\nWith around 35+ countries competing, there’s way too much to fit into one night. So, they need to trim the number of performances down before the Grand Final. That’s where the two semifinals come in.\\nNail-baiting elimination. Think Survivor, but with more choreography.\\n</Document>\\n\\n---\\n\\n<Document href=\"https://eurovision.tv/about/rules\"/>\\n12 points shall be allocated to the song having obtained the best rank from the National Audiences;\\n10 points to the song having obtained the second-best rank from the National Audiences,\\n8 points to the song having obtained the third-best rank from the National Audiences,\\n7 points to the next,\\nand so on, down to 1 point for the song having obtained the tenth-best rank from the National Audiences. [...] 12 points shall be allocated to the song having obtained the best rank from the National Jury;\\n10 points to the song having obtained the second-best rank from the National Jury,\\n8 points to the song having obtained the third-best rank from the National Jury,\\n7 points to the next,\\nand so on, down to 1 point for the song having obtained the tenth-best rank from the National Jury. [...] There shall be six guaranteed places therein, i.e. one for the producing organization, i.e. the Member which has won the preceding edition (the \"Host Broadcaster\"), and the five Members from France, Germany, Spain, Italy and the United Kingdom (the “Big 5”). Subject to a decision by the EBU in consultation with the Reference Group, the number of guaranteed places in the Final may be modified depending on circumstances.\\n</Document>\\n\\n---\\n\\n<Document href=\"https://www.eurovisionandfriends.com/en/systeme-vote-eurovision-jury-televote/\"/>\\nThe jurors assess the performances on four criteria: overall impression of the performance, composition and originality, vocal ability of the artist, performance and staging. Certain international contexts could influence the votes, and last year in 2024, the jurors were given a kind of awareness-raising session on independence, impartiality and the scoring criteria before the voting session.\\n</Document>']\n",
      "['<Document href=\"https://www.statista.com/statistics/1549781/south-korea-leading-candidate-for-the-next-presiden/\"/>\\nAccording to a survey conducted in South Korea in May 2025, about 52.1 percent of respondents viewed Lee Jae-myung, the leader of the main opposition Democratic Party, as the most suitable candidate for the next president of South Korea, placing him at the top of the poll. Former Minister for Employment and Labor, Kim Moon-soo, followed with 31.1 percent. [...] Characteristic | Share of respondents\\n- | -\\n- | -\\n- | -\\n- | -\\n- | -\\nAdditional Information\\n\\nShow sources information\\n                            \\n                                Show publisher information\\n                            \\n                                Use Ask Statista Research Service\\n\\nMay 2025\\n\\nSouth Korea\\n\\nMay 7 to 9, 2025\\n\\n1,508 respondents\\n\\n18 years and older\\n</Document>\\n\\n---\\n\\n<Document href=\"https://en.wikipedia.org/wiki/2022_South_Korean_presidential_election\"/>\\n←20179 March 20222025→ | ←2017 | 9 March 2022 | 2025→\\n←2017 | 9 March 2022 | 2025→\\nOpinion\\xa0polls\\nRegistered | 44,197,692\\nTurnout | 77.08% (0.15pp)[1]\\nNomineeYoon Suk YeolLee Jae-myungPartyPeople PowerDemocraticPopular\\xa0vote16,394,81516,147,738Percentage48.56%47.83% |  |  |  | Nominee | Yoon Suk Yeol | Lee Jae-myung |  | Party | People Power | Democratic | Popular\\xa0vote | 16,394,815 | 16,147,738 | Percentage | 48.56% | 47.83%\\n |  | \\nNominee | Yoon Suk Yeol | Lee Jae-myung | [...] Candidate | Votes | %\\nLee Jae-myung | 719,905 | 50.29\\nLee Nak-yeon | 560,392 | 39.14\\nChoo Mi-ae | 129,035 | 9.01\\nPark Yong-jin | 22,261 | 1.55\\nTotal | 1,431,593 | 100.00\\nThe votes above only count the votes cast for the four candidates who stayed in the race up to the final round of the primary and does not include votes received by Chung Sye-kyun and Kim Doo-kwan, who both dropped out midway. Before dropping out, Chung had received 23,731 votes and Kim received 4,411 votes.[29] [...] Nominee | Yoon Suk Yeol | Lee Jae-myung | \\nParty | People Power | Democratic\\nPopular\\xa0vote | 16,394,815 | 16,147,738\\nPercentage | 48.56% | 47.83%\\nPresidentbefore electionMoon Jae-inDemocratic | ElectedPresidentYoon Suk YeolPeople Power\\nMoon Jae-in\\nDemocratic\\n</Document>\\n\\n---\\n\\n<Document href=\"https://www.chosun.com/english/national-en/2025/05/01/D3LIBIZ2K5FHRHCTHFK5FD2ORM/\"/>\\nLee Jae-myung of the Democratic Party of Korea has emerged as the clear front-runner in the latest poll on preferred presidential candidates\\n</Document>\\n\\n---\\n\\n<Document href=\"https://www.scmp.com/week-asia/politics/article/3307347/south-korea-snap-election-lee-jae-myung-tops-50-conservatives-reel-yoon-fallout\"/>\\nLee also is racing towards a dominant victory in the DPK’s nomination race for the June 3 snap presidential election, having secured around 90 per cent of votes in the first two of four primary rounds. The party is set to officially nominate its candidate on April 27.\\n\\nThe results of a survey by local pollster Real Meter released on Monday showed Lee’s support rising by 1.4 percentage points from the previous week to 50.2 per cent. [...] His closest competitor, former labour minister Kim Moon-soo of the conservative People Power Party (PPP), garnered 12.2 per cent, up 1.3 points from a week earlier. [...] South Korea snap election: Lee Jae-myung tops 50% as conservatives reel from Yoon fallout\\n\\nSupport for Lee keeps rising while his rival, acting President Han Duck-soo, stays coy about his intentions for the June 3 snap elections\\n\\nSupport for Lee keeps rising while his rival, acting President Han Duck-soo, stays coy about his intentions for the June 3 snap elections\\n</Document>\\n\\n---\\n\\n<Document href=\"https://en.wikipedia.org/wiki/2025_South_Korean_presidential_election\"/>\\nFrom Wikipedia, the free encyclopedia\\n2025 South Korean presidential election←\\xa020223 June 2025[1]2030\\xa0→Opinion\\xa0polls\\xa0PartyDemocraticPeople PowerIncumbent PresidentHan Duck-soo (acting)Independent [...] Kim Dong-yeon[20] (Governor of Gyeonggi Province)\\nLee Jae-myung[19] (Member of the National Assembly)\\nKim Kyoung-soo[21][a] (former Governor of South Gyeongsang Province)\\n\\nWithdrew\\n[edit]\\n\\n\\n\\nKim Doo-kwan\\n\\n\\nKim Doo-kwan[23][24] (former Member of the National Assembly)\\n\\n\\nNew Future Democratic Party\\n[edit]\\nPotential candidates\\n[edit]\\n\\n\\n\\nLee Nak-yon\\n\\n\\nLee Nak-yon hinted at a campaign for president at the National Convention for Constitutional Revision hosted by the New Future Democratic Party.[25] [...] Kim Dong-yeon\\n\\n\\n\\nLee Jae-myung\\n\\n\\n\\nKim Kyoung-soo\\n\\n\\nOn 9 April, Lee Jae-myung announced his resignation from leadership of the Democratic Party.[18] On 10 April, Lee announced his candidacy for the presidency, his campaign promises being to decrease economic inequality and stimulate economic growth through investments, while also hoping to reinforce diplomacy between South Korea, the United States and Japan.[19]\\n</Document>']\n"
     ]
    },
    {
     "name": "stderr",
     "output_type": "stream",
     "text": [
      "/Users/ethangoldberg/opt/anaconda3/envs/polynews/lib/python3.11/site-packages/langgraph/utils/runnable.py:408: UserWarning: WARNING! parallel_tool_calls is not default parameter.\n",
      "                parallel_tool_calls was transferred to model_kwargs.\n",
      "                Please confirm that parallel_tool_calls is what you intended.\n",
      "  input = step.invoke(input, config, **kwargs)\n",
      "/Users/ethangoldberg/opt/anaconda3/envs/polynews/lib/python3.11/site-packages/langgraph/utils/runnable.py:408: UserWarning: WARNING! parallel_tool_calls is not default parameter.\n",
      "                parallel_tool_calls was transferred to model_kwargs.\n",
      "                Please confirm that parallel_tool_calls is what you intended.\n",
      "  input = step.invoke(input, config, **kwargs)\n"
     ]
    },
    {
     "name": "stdout",
     "output_type": "stream",
     "text": [
      "['<Document href=\"https://en.wikipedia.org/wiki/2025_Chilean_general_election\"/>\\nThe 2025 Chilean general election is scheduled for 16 November 2025. Voters will elect the President of Chile, renew all seats in the Chamber of Deputies, and fill half of the seats in the Senate. Incumbent President Gabriel Boric, elected in 2021, is constitutionally barred from seeking a consecutive second term. The election comes amid shifting political dynamics, including declining approval ratings for Boric\\'s progressive agenda and growing momentum for right-wing opposition parties. [...] Contents\\n\\n2025 Chilean general election\\n\\n\\n\\n\\n←202116 November 20252029→ | ←2021 | 16 November 2025 | 2029→\\n←2021 | 16 November 2025 | 2029→\\n\\nPresidential election\\n\\nIncumbent PresidentGabriel BoricFA–AG | Incumbent PresidentGabriel BoricFA–AG | \\nIncumbent PresidentGabriel BoricFA–AG | \\n\\n←2021 | 16 November 2025 | 2029→\\nIncumbent PresidentGabriel BoricFA–AG | \\nGabriel Boric\\nFA–AG [...] The candidates from the Unity for Chile (Unidad para Chile) center-left pact were officially registered with the Electoral Service as candidates for the June 29 primary on April 30, 2025.[15][16]\\n</Document>\\n\\n---\\n\\n<Document href=\"https://www.statista.com/statistics/1551312/chile-election-poll-candidate/\"/>\\nIn the run-up to the presidential elections in Chile, the candidate of the Independent Democratic Union (UDI), Evelyn Matthei, appears to be\\n</Document>\\n\\n---\\n\\n<Document href=\"https://en.wikipedia.org/wiki/Opinion_polling_for_the_2025_Chilean_presidential_election\"/>\\nPoll | Date |  |  |  |  |  |  |  |  |  |  |  |  |  |  |  |  |  | Other | DK/NA\\nArtésPC(AP) | JaduePC | JaraPC | VallejoPC | VodanovicFA | ME-OInd. | MuletFREVS | BacheletPS | ToháPPD | MirosevicPL | OrregoInd. | ParisiPDG | MattheiUDI | KastPLR | KaiserPNL | CarterInd. | LorenziniInd.\\n |  |  |  |  |  |  |  |  |  |  |  |  |  |  |  | \\nActiva[1] | 26–28 Feb 2025 | — | 1,7% | — | 1,8% | 3,6% | — | — | 15,9% | 1,9% | — | — | 1,7% | 24,3% | 10,6% | 9,7% | — | 1,5% | 13,9% | 13,4% [...] | This article needs to beupdated.Please help update this article to reflect recent events or newly available information.(April 2024)\\nIn the run-up to the 2025 Chilean presidential election, opinion polls are conducted to assess the intention to vote in Chile during the presidential term of Gabriel Boric. The date range for these opinion polls runs from the first measurement in October 2022, to the day the election is held, 23 November 2025. [...] Criteria[2] | 24-26 Feb 2025 | — | — | — | 2% | 3% | — | — | 18% | 3% | — | — | — | 26% | 10% | 11% | — | — | 15%\\nSignos[3] | 9–14 Feb 2025 | — | — | — | 2,6% | 7,8% | — | 1,2% | 17,3% | 8,8% | — | — | 1,8% | 23,4% | 10,2% | 15,8% | 3,7% | — | 5,7% | 1,7%\\nPanel Ciudadano(sólo inmigrantes)[4] | 6-7 Feb 2025 | — | — | — | 1% | 2% | 1% | — | 15% | 2% | — | — | 2% | 24% | 12% | 13% | 3% | — | 14%\\n</Document>\\n\\n---\\n\\n<Document href=\"https://www.meer.com/en/89181-chile-2025-the-year-we-will-live-in-danger\"/>\\nThe right currently has three candidates for the presidency, who have become a kind of “German division” in Chilean politics, as all three are second- and third-generation Germanic descendants: Evelyn Matthei (71), José Antonio Kast (59), and Johannes Kaiser (49). [...] Although the polls currently favor Matthei\\'s candidacy, with 20% of voting intentions (Cadem, February 2025), the dispute for the leadership of the sector is in doubt due to Kast\\'s persistence in not going to primaries, together with the rising growth of Kaiser in the polls, who is up to 10%, surpassing Kast, who reaches 9% (Cadem, January 2025). In general, the vote will be conditioned by two variables that the Boric government took a long time to address and that have eroded popular support: [...] On November 16th, presidential elections will be held in Chile, a country that has been considered a model of prosperity and political stability over the last 30 years. Its high growth rates, low public debt and fiscal deficit, with a wide network of trade agreements, foreign investment, significant reduction in poverty, together with other variables, made it a kind of paradigm for Latin American countries, as well as for developed economies as a reliable partner on the political and economic\\n</Document>\\n\\n---\\n\\n<Document href=\"https://www.electionguide.org/elections/id/4576/\"/>\\nChile will hold a presidential election on 16 November 2025. Election Modified: Jan 02, 2025. Most Recent Elections in Chile. With Participation Rates. Chilean\\n</Document>']\n"
     ]
    },
    {
     "name": "stderr",
     "output_type": "stream",
     "text": [
      "/Users/ethangoldberg/opt/anaconda3/envs/polynews/lib/python3.11/site-packages/langgraph/utils/runnable.py:408: UserWarning: WARNING! parallel_tool_calls is not default parameter.\n",
      "                parallel_tool_calls was transferred to model_kwargs.\n",
      "                Please confirm that parallel_tool_calls is what you intended.\n",
      "  input = step.invoke(input, config, **kwargs)\n"
     ]
    },
    {
     "name": "stdout",
     "output_type": "stream",
     "text": [
      "this is the intermediate reseponse:  {'what_is_the_market_asking_or_answering': 'Will Donald Trump and Xi Jinping speak directly to one another between May 15, 2025, 12:30 PM ET and May 31, 2025, 11:59 PM ET, via any voice-based medium (phone, video call, or in-person)?', 'important_criteria': ['The conversation must occur between May 15, 2025, 12:30 PM ET and May 31, 2025, 11:59 PM ET.', 'The interaction must be direct between Donald Trump and Xi Jinping.', 'The conversation must be voice-based (phone, video call, or in-person), not text-based.', 'Resolution will rely on official statements from the US and Chinese governments, or consensus from credible reporting.'], 'completed': False, 'important_insights_context_or_reasoning': \"The market currently assigns a low probability (13.5%) to a direct Trump-Xi conversation before June 2025, and sentiment has declined (one-day price change: -0.2). Recent news coverage highlights that Trump has publicly stated he could see himself dealing directly with Xi Jinping on trade matters, with multiple sources reporting Trump is open to or considering such a conversation. However, as of May 13, 2025, there is no public confirmation that a direct, voice-based conversation has taken place or is scheduled imminently. There have been high-level trade developments—including a 90-day easing of tariffs following talks in Geneva—and US officials have 'hinted at' such talks, but no official announcement of a direct Trump-Xi voice conversation has been made. The low probability reflects ongoing uncertainty and skepticism in the market regarding the likelihood of a direct call or meeting within the tight two-week window.\"}\n"
     ]
    },
    {
     "name": "stdout",
     "output_type": "stream",
     "text": [
      "this is the intermediate reseponse:  {'what_is_the_market_asking_or_answering': 'Who will receive the greatest number of votes in the first round of the 2025 Polish presidential election?', 'important_criteria': ['The market resolves based on the official first round vote totals as reported by the Polish National Electoral Commission (PKW).', \"If the first round results are not known by December 31, 2025, the market resolves to 'Other'.\", \"Resolution will be based on a consensus of credible reporting; in case of ambiguity, the PKW's data is decisive.\", 'Election date for the first round is May 18, 2025.', \"Options correspond to the individual candidates or 'Other'.\", 'A candidate must simply have the most votes in the first round, not necessarily an absolute majority.'], 'completed': False, 'important_insights_context_or_reasoning': 'Rafał Trzaskowski is the overwhelming favorite according to prediction market pricing (85.65%), with Karol Nawrocki a distant second (12.55%), and other candidates trailing far behind. Recent polling aligns with market sentiment: Trzaskowski leads in both aggregated polling (e.g., ewybory.eu: Trzaskowski 50.4%, Nawrocki 43.8%) and individual polls (United Surveys: Trzaskowski 31.7%, Nawrocki 27.6%). Notably, Sławomir Mentzen garners significant youth support but remains far behind overall. The high probability for Trzaskowski reflects both sustained poll leads and the lack of momentum for rivals. The market is liquid, with substantial recent volume, indicating active and credible price formation. Barring a major shift, Trzaskowski is strongly positioned to win the first round.'}\n"
     ]
    },
    {
     "name": "stdout",
     "output_type": "stream",
     "text": [
      "this is the intermediate reseponse:  {'what_is_the_market_asking_or_answering': 'This market is forecasting the total voter turnout (number of votes cast) in the second round of the 2025 Romanian presidential election, scheduled for May 18, 2025. It asks in which bracket the official turnout figure will fall.', 'important_criteria': ['Market resolves based on the number of votes cast in the May 18, 2025, runoff (second round) of the Romanian presidential election.', 'Turnout figure used will be the official, validated result as confirmed by Romania’s Constitutional Court and published by the Permanent Electoral Authority (AEP) and Central Electoral Bureau (BEC).', 'If the reported value falls exactly on a bracket boundary, the higher bracket resolves as correct.', 'If official results are delayed or contested, market remains open until validated and published results are available.', 'Brackets for possible outcomes: <9m, 9–9.5m, 9.5–10m, 10–10.5m, 10.5–11m, 11–11.5m, 11.5–12m, 12m+ votes.'], 'completed': False, 'important_insights_context_or_reasoning': \"The market is highly relevant due to Romania's current political instability, following the annulment of the 2024 presidential election amid allegations of Russian interference and ongoing major protests. The May 2025 runoff is between George Simion and Nicusor Dan, with polls indicating a tight contest (Simion 54.8%, Dan 45.2%). Disinformation and election security are significant concerns, potentially affecting turnout. The eligible electorate is approximately 17.99 million, including over 1 million Romanians abroad. Recent market pricing shows the highest expected turnout brackets are 11–11.5m (24.5% probability), 11.5–12m (22.6%), and 10.5–11m (20.5%). Lower turnout brackets have much smaller probabilities, reflecting expectations of significant mobilization. Notably, recent price volatility has shifted probabilities upward in the 12m+ and 10–10.5m brackets, indicating some market uncertainty or anticipation of last-minute developments. High volume and sharp recent trading suggest active hedging or new information. The context of political uncertainty, high-profile candidates, and potential for protest-driven turnout surges make this market an indicator of both political engagement and societal tensions in Romania.\"}\n"
     ]
    },
    {
     "name": "stdout",
     "output_type": "stream",
     "text": [
      "this is the intermediate reseponse:  {'what_is_the_market_asking_or_answering': 'Will at least 10 transgender service members be officially discharged or removed from the U.S. military due to the Pentagon directive by June 30, 2025, unless the policy is permanently canceled first?', 'important_criteria': [\"The market resolves to 'Yes' if at least 10 transgender service members are officially discharged or removed due to the specified Pentagon policy by June 30, 2025, 11:59 PM ET.\", \"If the policy is permanently canceled by the Trump administration before any such removals, the market resolves to 'No' immediately.\", 'Resolution will be determined using official information from the Pentagon and Trump administration, but credible media consensus may also be used.', 'The policy specifically targets individuals diagnosed with, treated for, or showing history/symptoms of gender dysphoria, unless exemptions are granted for military necessity or stability.', 'The timeline is set to end-of-day June 30, 2025.'], 'completed': False, 'important_insights_context_or_reasoning': \"Recent Pentagon directives, as reported by multiple credible outlets (The Guardian, NPR, PBS, CNN), indicate the immediate removal of up to 1,000 openly identifying transgender service members, with others given 30 days to self-identify. The policy is stricter than prior Trump-era bans, with no 'grandfathering' and prompt separation actions mandated. Legal challenges are ongoing, but the Supreme Court has allowed enforcement of the ban for now. The removal process began following a Trump executive order issued in January 2025, and official Pentagon memos confirm the scale and immediacy of the actions. While exemptions exist, they are narrow and require specific demonstration of necessity or stability. The market probability (approximately 58%) reflects that removals are actively underway and that surpassing the 10-person threshold is highly likely unless a policy reversal occurs before June 30, 2025. The volume and recency of reporting further support the expectation of market resolution toward 'Yes', barring any sudden administrative changes.\"}\n",
      "this is the intermediate reseponse:  {'what_is_the_market_asking_or_answering': 'This market is asking which of several high-profile events will occur before the official release of Grand Theft Auto VI.', 'important_criteria': ['The market resolves based on which, if any, of the specified events occur before the release of GTA VI.', 'The official release date for GTA VI, per multiple sources and Rockstar Games, is May 26, 2026.', 'Events being predicted include: a Russia-Ukraine ceasefire, a new Rihanna album, a new Playboi Carti album, a Chinese invasion of Taiwan, Trump leaving the presidency, the return of Jesus Christ, and Bitcoin reaching $1 million.', \"The event must occur prior to May 26, 2026, for a 'Yes' resolution.\"], 'completed': False, 'important_insights_context_or_reasoning': \"The GTA VI release date has been officially set for May 26, 2026, confirmed by both Rockstar Games and major media outlets. The two most likely events to occur before this date, according to market probabilities, are a Russia-Ukraine ceasefire and a new Rihanna album, each at 71%. The probability of a new Playboi Carti album is moderate at 47.5%. More dramatic global events such as a Chinese invasion of Taiwan (16.5%), Trump leaving the presidency (14%), the return of Jesus Christ (12.5%), or Bitcoin hitting $1 million (11.5%) are all seen as highly unlikely within the timeframe. Notably, the market reflects significant skepticism about major geopolitical upheavals or extreme financial milestones before the game’s release, while cultural events—particularly new music releases—are perceived as much more plausible. The timeline is now unambiguous following Rockstar’s announcement, which eliminates uncertainty about the market's endpoint and heightens the relevance of predictions tied closely to the next two years.\"}\n"
     ]
    },
    {
     "name": "stdout",
     "output_type": "stream",
     "text": [
      "this is the stuctured article output:  {'id': 25, 'headline': 'Trump-Xi Talk Odds Drop to 13.5%—No Call by June', 'subheader': 'Market skepticism grows despite Trump’s openness to direct trade talks with Xi Jinping.', 'blurb': 'Prediction market assigns only 13.5% chance Trump and Xi Jinping will speak directly by May 31, down 0.2% in one day. Trump has publicly expressed willingness to engage Xi on trade details, but no scheduled or confirmed voice conversation exists yet. Recent trade developments, including a 90-day tariff easing, have not translated into direct Trump-Xi dialogue, keeping market confidence low amid geopolitical uncertainty.', 'score': None, 'ticker': None, 'links': None}\n",
      "this is the intermediate reseponse:  {'what_is_the_market_asking_or_answering': 'Will Donald Trump physically visit Israel at any point between May 6 and May 31, 2025?', 'important_criteria': [\"A 'visit' requires Trump to physically enter Israel's terrestrial or maritime territory between May 6 and May 31, 2025, by 11:59 PM ET.\", 'Entering Israeli airspace alone does not count; only land or maritime entry is relevant.', \"Primary resolution sources include official U.S. government information, Trump's verified social media accounts, and consensus of credible reporting.\", \"The market resolves to 'Yes' if Trump visits within the specified window, and 'No' otherwise.\", 'Market end/resolution date is May 31, 2025, 12:00 PM UTC.'], 'completed': False, 'important_insights_context_or_reasoning': \"As of mid-May 2025, all credible reporting and official sources confirm that President Donald Trump has undertaken a Middle East trip including Saudi Arabia, Qatar, and the United Arab Emirates, but has not visited Israel. Official statements and reporting (CNN, Washington Post, Wall Street Journal) indicate Israel was not included in the itinerary, and Trump himself denied deliberately excluding Israel, while also dousing hopes of a late addition to his trip. While there were diplomatic discussions involving Israel—such as meetings between U.S. envoys and Israeli officials—Trump has made no physical visit to Israel during the specified timeframe. The probability for a 'Yes' outcome stands at a very low 2.15%, reflecting strong market consensus that he will not visit Israel in May 2025. There have also been no indications of any planned change to the itinerary that would result in a visit to Israel before the deadline.\"}\n"
     ]
    },
    {
     "name": "stdout",
     "output_type": "stream",
     "text": [
      "this is the intermediate reseponse:  {'what_is_the_market_asking_or_answering': 'Which anime film will win the Crunchyroll Anime Award for Film of the Year at the 2025 ceremony in Tokyo?', 'important_criteria': [\"Market resolves based on the official winner of the 'Film of the Year' award at the Crunchyroll Anime Awards, announced on May 25, 2025.\", 'If no winner is declared by June 30, 2025, 11:59 PM ET, or there is a tie, the market resolves to the nominated film that comes first in alphabetical order.', 'Resolution source is official Crunchyroll information; credible reporting may be used if official information is unavailable.', \"Eligible films are the 2025 nominees: 'HAIKYU!! The Dumpster Battle,' 'Look Back,' 'Mononoke The Movie: The Phantom in the Rain,' 'My Hero Academia: You’re Next,' 'SPY x FAMILY CODE: White,' and 'The Colors Within'.\", \"Probabilities as of now: 'Look Back' (70.5%), 'SPY x FAMILY CODE: White' (17%), 'HAIKYU!! The Dumpster Battle' (7%), 'My Hero Academia: You’re Next' (3.45%), 'Mononoke The Movie: The Phantom in the Rain' (2.8%), 'The Colors Within' (1.55%).\"], 'completed': False, 'important_insights_context_or_reasoning': \"'Look Back' is the overwhelming favorite to win, with its probability rising significantly (+14.5% in one day), possibly reflecting recent critical or audience acclaim, or momentum in fan voting. This surge coincides with the official voting period and nominee announcements, suggesting market participants are responding to perceived frontrunner status. 'SPY x FAMILY CODE: White' and 'HAIKYU!! The Dumpster Battle' are the only other films with non-trivial probabilities, but both have fallen in probability recently, indicating diminishing market confidence in their chances. The category features highly competitive and popular films, but the market consensus points to 'Look Back' as the likely winner barring any major upsets or unforeseen developments. The market remains open until official results are announced at the May 25, 2025, ceremony, which will be livestreamed, and is notable for substantial trading volume, reflecting significant interest and engagement from the anime community and prediction market participants.\"}\n"
     ]
    },
    {
     "name": "stdout",
     "output_type": "stream",
     "text": [
      "returning article with headline:  Trump-Xi Talk Odds Drop to 13.5%—No Call by June\n"
     ]
    },
    {
     "name": "stdout",
     "output_type": "stream",
     "text": [
      "this is the intermediate reseponse:  {'what_is_the_market_asking_or_answering': \"This market is asking what the domestic opening weekend box office gross will be for 'Final Destination: Bloodlines' (2025), specifically measured by The Numbers' reported 3-day weekend total (May 16-18, 2025), with final—not estimated—numbers. If the reported gross falls exactly between two outcome brackets, the higher bracket will be used for resolution.\", 'important_criteria': ['Resolution is based on final, not estimated, 3-day domestic box office totals from The Numbers (May 16-18, 2025).', 'If the reported value falls between two brackets, the market resolves to the higher bracket.', 'If no final data is available by May 26, 2025, 11:59 PM ET, another credible source will be used.', 'Outcome brackets are: <$40m, $40-44m, $44-48m, $48-52m, >$52m.', 'Timeline: Market resolves after final figures are known, no later than May 26, 2025.'], 'completed': False, 'important_insights_context_or_reasoning': \"Current prediction market pricing shows the $48-52m (34.5%) and $44-48m (32.0%) brackets as the most probable outcomes, together making up over 66% probability, with >$52m at 21% and <$44m outcomes being longshots. Recent media coverage, including Deadline, Gold Derby, and Yahoo, suggests strong industry and audience anticipation, bolstered by glowing reviews (Rotten Tomatoes: 93% critics, 90% audience) and franchise nostalgia. Forecasts range from $35m to $50m, with some sources (Gold Derby, Yahoo) specifically expecting $45-50m, and others (Deadline, MovieWeb) citing $35-40m as plausible. Thursday preview grosses were reported at $4.6m, nearly matching other recent Warner Bros. hits with $48m openings, indicating strong momentum. The franchise is poised for a record debut, surpassing 2009's $27.4m opening. The consensus is that 'Bloodlines' will continue Warner Bros.'s box office hot streak, and that, barring a major surprise, the opening will almost certainly top previous franchise entries and could even set a new horror series benchmark.\"}\n"
     ]
    },
    {
     "name": "stdout",
     "output_type": "stream",
     "text": [
      "this is the intermediate reseponse:  {'what_is_the_market_asking_or_answering': 'What percentage of the popular vote will Lee Jae-myung receive in the 2025 South Korean presidential election, as determined by the official count of the National Election Commission?', 'important_criteria': ['Market concerns the 2025 South Korean presidential election, scheduled for June 3, 2025.', 'Resolves based on official vote share for Lee Jae-myung as published by the National Election Commission of South Korea.', 'If Lee Jae-myung does not participate, the market resolves to the lowest bracket (<35%).', 'If the result falls exactly between two brackets, resolution is to the higher bracket.', 'Vote share brackets: <35%, 35-40%, 40-45%, 45-50%, 50-55%, 55-60%, 60-65%, 65%+.', 'Market closes and resolves after the official results are published.'], 'completed': False, 'important_insights_context_or_reasoning': \"Prediction market participants currently assign the highest probability (47.5%) to Lee Jae-myung receiving 50-55% of the vote, with the next most likely bracket being 55-60% (27.5%), indicating an expectation of a decisive victory but not an overwhelming landslide. Recent major polls (May 2025) show Lee polling at 50.2%-52.1% among respondents, corroborating market sentiment. Lee has emerged as the clear front-runner, far ahead of his nearest conservative rival, Kim Moon-soo, who polled at 12.2%-31.1%. Lee's popularity has grown, as indicated by his strong dominance in party primaries and increasing poll numbers. Compared to the 2022 election, where Lee received 47.83% of the popular vote, both prediction markets and polls suggest he has improved his standing, likely benefiting from current political dynamics, including fallout for conservatives and strong support within his own party. The market is not yet resolved, but the consensus expectation is that Lee will surpass his previous vote share and likely secure an outright majority.\"}\n"
     ]
    },
    {
     "name": "stdout",
     "output_type": "stream",
     "text": [
      "this is the stuctured article output:  {'id': 27, 'headline': 'Trzaskowski Leads Poland Vote—86% Chance Win', 'subheader': 'Market and polls align on strong first-round lead for Trzaskowski', 'blurb': \"Rafał Trzaskowski holds an 85.65% probability to win Poland's 2025 presidential election first round according to prediction markets. Recent polls show him leading with approximately 50% of voter support, far ahead of Karol Nawrocki's 12.55% market probability and 44% youth backing for Mentzen. This dominant position in both markets and polls indicates a likely first-round victory, setting the stage for the election's runoff dynamics and political landscape in Poland.\", 'score': None, 'ticker': None, 'links': None}\n"
     ]
    },
    {
     "name": "stdout",
     "output_type": "stream",
     "text": [
      "this is the stuctured article output:  {'id': 28, 'headline': '12M+ Votes Expected in Romanian Runoff—Market Shifts', 'subheader': 'High turnout brackets gain momentum amidst political unrest and tight race', 'blurb': \"Prediction market assigns 18.5% probability to turnout exceeding 12 million votes in Romanian presidential runoff on May 18, 2025. This reflects growing anticipation of strong voter mobilization despite political instability and allegations of election interference. Market activity shows rising confidence in higher turnout brackets, with notable volume and recent price increases in categories above 10 million votes. The runoff features a close contest between George Simion and Nicusor Dan, with polls showing Simion leading narrowly. Elevated turnout could signal heightened public engagement amid protests and disinformation campaigns surrounding the election's legitimacy.\", 'score': None, 'ticker': None, 'links': None}\n",
      "this is the stuctured article output:  {'id': 29, 'headline': 'Russia-Ukraine Ceasefire, Rihanna Album Lead Before GTA VI', 'subheader': 'Market sees cultural and geopolitical events shaping next two years before May 2026 release', 'blurb': \"Prediction market sets 71% probability for both Russia-Ukraine ceasefire and new Rihanna album before GTA VI's May 26, 2026 launch. These outcomes overshadow dramatic scenarios like China's Taiwan invasion at 16.5% or Bitcoin hitting $1 million at 11.5%. Rockstar's official release date clarified timeline, focusing market attention on plausible near-term cultural and political events.\", 'score': None, 'ticker': None, 'links': None}\n"
     ]
    },
    {
     "name": "stdout",
     "output_type": "stream",
     "text": [
      "returning article with headline:  Trzaskowski Leads Poland Vote—86% Chance Win\n",
      "this is the intermediate reseponse:  {'what_is_the_market_asking_or_answering': \"Will the named country finish as one of the top five highest scoring candidates at Eurovision 2025? Each option is a country, and the outcome resolves to 'Yes' if that country places in the top 5.\", 'important_criteria': [\"Market resolves to 'Yes' if the named country is among the top 5 in official Eurovision 2025 final scoring.\", \"If a country is eliminated and cannot mathematically reach the top 5, the market for that country may resolve to 'No' immediately.\", \"If no winner is announced by July 31, 2025, 11:59 PM ET, the market resolves 'No'.\", 'Resolution is based on official Eurovision sources and, if needed, consensus credible reporting.', 'End date for contest and market resolution: May 17, 2025.'], 'completed': False, 'important_insights_context_or_reasoning': \"Current prediction market probabilities show Sweden as an overwhelming favorite for a top-5 finish (94.5%), followed by Austria (78.5%) and France (63.5%). The next tier includes Netherlands (53.5%) and Finland (44.5%). The rest of the field sees rapidly diminishing probabilities, with several countries (such as Belgium, Czechia, Australia, Ireland, Cyprus, Georgia, Azerbaijan, Serbia, Slovenia, Montenegro, Croatia) already at 0%, suggesting effective elimination or near certainty of not reaching the top 5. Internet sources confirm Sweden’s strong position, as it led the OGAE fan poll with a significant margin, and Austria is also highly regarded in fan and expert circles. The Eurovision scoring system is a hybrid of national jury and televote points, with 'Big Five' countries (France, Germany, Italy, Spain, UK) and the host automatically qualifying for the final. This increases the certainty for these countries to at least compete for top spots. Jury independence is emphasized, but international context and performance factors (vocals, staging, originality) play a key role. The market is dynamic, with notable recent increases in France and Austria's probabilities, and a dip for the Netherlands and Israel. Fan polls and national selection outcomes in 2025 align closely with the market frontrunners. The contest’s format—with semi-finals and a grand final—means some countries are at risk of elimination before the top 5 can be determined, which is reflected in market pricing.\"}\n"
     ]
    },
    {
     "name": "stdout",
     "output_type": "stream",
     "text": [
      "returning article with headline: returning article with headline:  12M+ Votes Expected in Romanian Runoff—Market Shifts\n",
      " Russia-Ukraine Ceasefire, Rihanna Album Lead Before GTA VI\n"
     ]
    },
    {
     "name": "stdout",
     "output_type": "stream",
     "text": [
      "this is the intermediate reseponse:  {'what_is_the_market_asking_or_answering': \"Who will win the 2025 Chilean presidential election scheduled for November 16, 2025, including any potential runoff? The market resolves to the winning candidate, or 'No' if the result is not known by May 31, 2026.\", 'important_criteria': ['The market is resolved based on the official result of the 2025 Chilean presidential election, scheduled for November 16, 2025.', 'If no candidate secures more than 50% in the first round, a runoff will be held; the market includes any potential second round.', 'Resolution will be based on a consensus of credible reporting, or, in the case of ambiguity, the official results from the Chilean Electoral Service (Servel).', \"If the result is not known by May 31, 2026, the market resolves to 'No'.\", 'Key candidates as of now are Evelyn Matthei, José Antonio Kast, Carolina Tohá, and several others with lower probabilities.', 'Timeline: Election on November 16, 2025; market resolution deadline May 31, 2026.'], 'completed': False, 'important_insights_context_or_reasoning': \"Current prediction market probabilities show Evelyn Matthei (center-right, UDI) as the clear frontrunner with 48.5%, followed by José Antonio Kast (far-right, PLR) at 22%, and Carolina Tohá (center-left, PPD) at 18.5%. Matthei's probability has dropped by 5 percentage points in the last day, while Kast has surged by 14 points, indicating significant recent momentum for Kast. Polling data from early 2025 corroborate Matthei's lead, but also highlight volatility among right-wing candidates, notably with Kast and Kaiser (the latter polling as high as 10% in some surveys). The right-wing vote appears divided, with Matthei, Kast, and Kaiser all polling in double digits in some polls. The Boric administration's declining popularity and the electorate's concerns about governance and economic stability are shaping a political climate favorable to the right. The center-left remains competitive, with Tohá polling near 18% in some surveys. The market's large volume and recent pronounced price movements suggest high engagement and rapidly evolving sentiment as the election approaches. No single candidate is close to securing a majority, making a runoff likely and further increasing uncertainty around the final outcome.\"}\n",
      "this is the stuctured article output:  {'id': 33, 'headline': 'Trump Visit Israel Falls Below 3% Odds', 'subheader': \"Market reflects official reports excluding Israel from Trump's May itinerary\", 'blurb': \"Prediction market sets probability of Trump visiting Israel between May 6 and May 31, 2025, at a mere 2.15%. Despite Trump's Middle East trip including Saudi Arabia, Qatar, and UAE, no physical entry into Israel has been reported or planned. Israeli officials' hopes for a visit dimmed as Trump focused on other diplomatic stops, with no breakthroughs enabling a last-minute change. This market insight highlights how geopolitical and diplomatic nuances shape travel decisions and reflect broader U.S.-Israel relations during tense regional dynamics.\", 'score': None, 'ticker': None, 'links': None}\n"
     ]
    },
    {
     "name": "stdout",
     "output_type": "stream",
     "text": [
      "this is the stuctured article output:  {'id': 34, 'headline': 'Look Back Surges to 70% Win Chance—Top Film Pick', 'subheader': 'Market momentum shifts dramatically toward Look Back ahead of Crunchyroll Awards.', 'blurb': 'Look Back commands a 70.5% probability to win Film of the Year at the Crunchyroll Anime Awards on May 25, 2025. This marks a 14.5% increase in just one day, reflecting strong market confidence and possibly recent critical acclaim or fan voting momentum. Other nominees like SPY x FAMILY CODE: White and HAIKYU!! The Dumpster Battle have seen their chances decline, signaling a market consensus favoring Look Back. The awards event will be livestreamed from Tokyo, attracting significant attention from anime fans and market participants alike. This surge highlights how prediction markets can capture shifting public sentiment and forecast outcomes in cultural events.', 'score': None, 'ticker': None, 'links': None}\n",
      "this is the stuctured article output:  {'id': 35, 'headline': 'Trans Military Removals Pass 58% Probability—June Deadline Looms', 'subheader': 'Pentagon policy targets 1,000 trans troops for discharge unless exemptions apply', 'blurb': \"Prediction market sets 58% odds that at least 10 transgender service members will be removed from the U.S. military by June 30, 2025. This follows a recent Pentagon directive enforcing a Trump-era ban with strict removal policies and limited exemptions. Over 1,000 openly transgender troops face immediate discharge or must self-identify within 30 days, intensifying the impact on military personnel. The policy's swift enforcement contrasts prior bans by eliminating grandfather clauses and applying non-deployable status immediately. Legal challenges continue, but the Supreme Court allows enforcement, underscoring the policy's momentum and shaping military demographics through mid-2025.\", 'score': None, 'ticker': None, 'links': None}\n",
      "returning article with headline:  Trump Visit Israel Falls Below 3% Odds\n"
     ]
    },
    {
     "name": "stdout",
     "output_type": "stream",
     "text": [
      "returning article with headline:  Look Back Surges to 70% Win Chance—Top Film Pick\n",
      "this is the stuctured article output:  {'id': 38, 'headline': 'Lee Jae-myung Targets 55% Vote Share—Market Confidence High', 'subheader': 'Polls and markets align on decisive June 3 presidential win in South Korea.', 'blurb': \"Prediction market assigns 47.5% probability to Lee Jae-myung capturing 50-55% of the vote, with an additional 27.5% chance for 55-60%. Recent polls show Lee leading with roughly 52%, cementing his front-runner status. This marks a gain from his 47.83% share in 2022, reflecting growing voter confidence and conservative party struggles. The election outcome will influence South Korea's political trajectory and regional diplomacy.\", 'score': None, 'ticker': None, 'links': None}\n",
      "returning article with headline:  Trans Military Removals Pass 58% Probability—June Deadline Looms\n"
     ]
    },
    {
     "name": "stdout",
     "output_type": "stream",
     "text": [
      "returning article with headline:  Lee Jae-myung Targets 55% Vote Share—Market Confidence High\n"
     ]
    },
    {
     "name": "stdout",
     "output_type": "stream",
     "text": [
      "this is the stuctured article output:  {'id': 41, 'headline': 'Matthei Leads Chile Election—Kast Surges 14%', 'subheader': 'Runoff likely as right-wing candidates split vote, raising uncertainty.', 'blurb': \"Evelyn Matthei holds a 48.5% probability to win Chile's November 2025 presidential election, but her odds dropped 5 points recently. José Antonio Kast's probability jumped 14 points to 22%, indicating significant momentum shift within the right-wing electorate. With neither candidate near a majority, forecasters anticipate a runoff, highlighting volatility in Chile’s political landscape as right-wing factions compete amid declining approval for the current administration.\", 'score': None, 'ticker': None, 'links': None}\n"
     ]
    },
    {
     "name": "stdout",
     "output_type": "stream",
     "text": [
      "this is the stuctured article output:  {'id': 42, 'headline': 'Final Destination Bloodlines Tops $48M Weekend—Franchise Record Looms', 'subheader': 'Market shows 66% chance opening hits $44M-$52M, fueled by strong reviews and nostalgia', 'blurb': \"Prediction market assigns a 34.5% probability that Final Destination: Bloodlines will earn between $48 million and $52 million domestically during its May 16-18 opening weekend. Another 32% probability supports a slightly lower $44 million to $48 million range, together representing over two-thirds confidence in a robust debut. This surge reflects glowing critic and audience scores—93% and 90% respectively on Rotten Tomatoes—and Thursday previews of $4.6 million, nearly matching recent Warner Bros. hits.\\nThe market's confidence aligns with industry forecasts expecting the film to surpass previous franchise openings, including the 2009 record of $27.4 million. Warner Bros. continues its strong box office streak in 2025, with Bloodlines poised to set a new benchmark for horror series launches. This momentum underscores how prediction markets synthesize critical acclaim, franchise legacy, and early audience response to forecast box office success.\", 'score': None, 'ticker': None, 'links': None}\n",
      "this is the stuctured article output:  {'id': 43, 'headline': 'Sweden Dominates Eurovision 2025 Top 5 Odds—94.5%', 'subheader': 'Austria and France rise as strong contenders behind the favorite', 'blurb': 'Sweden leads the Eurovision 2025 top 5 market with a commanding 94.5% probability of finishing in the highest scoring group. Austria and France follow with 78.5% and 63.5%, respectively, showing increasing confidence among traders. The contest’s scoring system, combining jury and televote points, tends to favor countries with strong vocal and staging performances, which aligns with current market favorites. Several countries have been effectively ruled out of top 5 contention, highlighting the competitive gap. This market reflects fan polls and expert opinions, reinforcing Sweden’s favored status and Austria and France’s growing momentum among Eurovision enthusiasts.', 'score': None, 'ticker': None, 'links': None}\n"
     ]
    },
    {
     "name": "stdout",
     "output_type": "stream",
     "text": [
      "returning article with headline:  Matthei Leads Chile Election—Kast Surges 14%\n",
      "returning article with headline:  Sweden Dominates Eurovision 2025 Top 5 Odds—94.5%\n"
     ]
    },
    {
     "name": "stdout",
     "output_type": "stream",
     "text": [
      "returning article with headline:  Final Destination Bloodlines Tops $48M Weekend—Franchise Record Looms\n"
     ]
    },
    {
     "name": "stdout",
     "output_type": "stream",
     "text": [
      "Structured output: article_groups={'Global Affairs Gossip': [4, 20, 32, 39], 'Entertainment & Arts': [37, 46, 32], 'Political Pulse': [24, 31, 7], 'Headline Scandals': [14, 7, 39]}\n"
     ]
    }
   ],
   "source": [
    "result = articles_wrapper(14)\n"
   ]
  },
  {
   "cell_type": "code",
   "execution_count": 19,
   "metadata": {
    "execution": {
     "iopub.execute_input": "2025-05-16T18:02:46.296030Z",
     "iopub.status.busy": "2025-05-16T18:02:46.295498Z",
     "iopub.status.idle": "2025-05-16T18:02:46.312101Z",
     "shell.execute_reply": "2025-05-16T18:02:46.311203Z"
    }
   },
   "outputs": [],
   "source": [
    "newsletter_content =  [ArticleOutput(id=23, headline='Iran Military Action Against Israel Likely in 2024', subheader='Prediction market signals 58% chance of Iran-initiated conflict', blurb=\"The prediction market now assigns a 58% probability to Iran launching a military action against Israel by the end of 2024. This slight uptick in probability highlights the ever-present tensions between the two nations and reflects traders' concerns about potential escalation. With active trading volumes, the market underscores the significance of geopolitical developments in the Middle East.\", score=5, ticker='another-iran-strike-on-israel-in-2024', links=['nothing.com']),\n",
    "  ArticleOutput(id=29, headline='Kamala Harris Faces 8.45% Odds for Exact 270 Electoral Votes', subheader=\"Prediction market highlights challenging path through 'blue wall' states\", blurb=\"As the 2024 U.S. Presidential Election approaches, prediction markets give Kamala Harris an 8.45% chance of securing exactly 270 electoral votes by winning a specified set of states, including the pivotal 'blue wall' states of Michigan, Pennsylvania, and Wisconsin. Despite a slight increase in confidence, market skepticism remains high. The outcome depends on her ability to navigate shifting political dynamics and voter turnout in these key regions.\", score=6, ticker='kamala-wins-with-blue-wall-mi-pa-wi-270-evs', links=['nothing.com']),\n",
    "  ArticleOutput(id=13, headline='Israel Withdrawal from Lebanon Faces Uncertainty', subheader=\"Market shows 42% chance of Israel's withdrawal by November 30\", blurb='The prediction market suggests a 42% likelihood that Israel will announce a full withdrawal from Lebanon before the end of November 2024. This probability has decreased by 12.5% recently, reflecting growing skepticism amid ongoing regional tensions. Despite the challenges, the outcome remains closely watched as geopolitical dynamics continue to evolve.', score=5, ticker='israel-withdraws-from-lebanon-before-december', links=['nothing.com']),\n",
    "  ArticleOutput(id=28, headline='Ethereum Unlikely to Hit $2,600 by November 1', subheader='Market shows low confidence in Ethereum price surge', blurb=\"With a mere 10.5% probability, the prediction market indicates skepticism about Ethereum reaching $2,600 by noon ET on November 1, 2024. The slight 0.6% drop in confidence over the last day further emphasizes a cautious sentiment among traders. As the resolution date approaches, investors should stay vigilant of any market shifts that could impact Ethereum's trajectory.\", score=6, ticker='ethereum-above-2600-on-november-1', links=['nothing.com']),\n",
    "  ArticleOutput(id=26, headline='Solana Faces Uncertainty for $170 Mark by November 2024', subheader=\"Crypto Traders Show Mixed Sentiment on Solana's Future\", blurb=\"As of now, Solana's chances of trading above $170 on November 1, 2024, stand at a moderate 43.5%. The slight decrease in probability over the past day highlights growing uncertainty in the market, possibly due to recent crypto trends or news affecting investor confidence. With the volatile nature of cryptocurrencies like Solana, the final outcome remains unpredictable, making this market a captivating watch for crypto enthusiasts.\", score=5, ticker='solana-above-170-on-november-1', links=['nothing.com']),\n",
    "  ArticleOutput(id=32, headline='Trump Albuquerque Rally Highlights China, Biden Amid Election Campaign', subheader=\"Prediction market expects Trump to focus on China, Biden, and 'Garbage' in rally\", blurb=\"As Donald Trump prepares for his Albuquerque rally, prediction markets are buzzing with expectations. Traders overwhelmingly predict he will spotlight issues like China and Biden, with probabilities soaring to 99.95%. This aligns with his ongoing narrative as he gears up for the 2024 presidential election campaign. Meanwhile, topics such as 'Native American' and 'Puerto Rico' are seen as unlikely to feature prominently, reflecting a strategic focus in his messaging.\", score=7, ticker='what-will-trump-say-during-albuquerque-nm-rally', links=['nothing.com']),\n",
    "  ArticleOutput(id=14, headline='Bitcoin eyes record high before US election', subheader='Market predicts 30% chance amidst price decline', blurb='As the US presidential election approaches, Bitcoin faces a potential new all-time high, with markets assigning a 30% probability of surpassing $73,777 by November 4, 2024. This prediction comes after a notable 33.5% drop in probability, suggesting shifting sentiments. With cryptocurrency dynamics intertwined with political events, investors should brace for potential volatility.', score=6, ticker='bitcoin-new-all-time-high-before-election', links=['nothing.com']),\n",
    "  ArticleOutput(id=27, headline='Bitcoin poised to surpass $68000 by November 1', subheader='Market predicts strong bullish sentiment despite slight dip', blurb=\"The Polymarket prediction indicates a 92% likelihood that Bitcoin will exceed $68,000 by November 1, 2024, according to Binance's trading data. This optimistic forecast reflects a robust bullish sentiment in the crypto market, even though the probability dipped slightly by 1.85% recently. Investors are banking on historical trends and favorable market conditions to push Bitcoin past this significant price threshold.\", score=8, ticker='bitcoin-above-68000-on-november-1', links=['nothing.com']),\n",
    "  ArticleOutput(id=22, headline='Bitcoin unlikely to hit $80k before election', subheader='Market skepticism grows as probability drops to 6%', blurb='The Polymarket prediction market indicates a mere 6% chance of Bitcoin reaching $80,000 before the U.S. election. This skepticism is reflected in a recent drop in probability, suggesting traders doubt significant price surges amidst current market conditions. Factors such as market sentiment and potential regulatory changes could be influencing this outlook.', score=6, ticker='bitcoin-hits-80k-before-election', links=['nothing.com']),\n",
    "  ArticleOutput(id=30, headline=\"Trump Rally Likely Features 'Women's Sports' and 'Pocahontas'\", subheader='Prediction markets signal key phrases for Nevada event', blurb=\"As former President Donald Trump prepares for his rally in Henderson, Nevada, prediction markets are buzzing with expectations of what he might say. Top contenders include 'Women's Sports' and 'Pocahontas,' each with a high probability of being mentioned. These phrases align with Trump's previous campaign themes, suggesting they will resonate with his audience as he gears up for the 2024 election. Meanwhile, terms like 'Crypto/Bitcoin' and 'Tampon' are far less likely, reflecting a strategic focus on traditional issues.\", score=5, ticker='what-will-trump-say-during-nevada-rally-oct-31', links=['nothing.com']),\n",
    "  ArticleOutput(id=2, headline='Trump Faces Steep Challenge in Florida', subheader='Prediction Market Shows Declining Confidence in 12-point Margin', blurb=\"As the 2024 U.S. Presidential Election approaches, the Polymarket prediction market indicates a mere 20.5% chance that Donald Trump will secure Florida by a 12-point margin, a key battleground state. This reflects a notable decrease in confidence, with probabilities dropping 0.11 in just one day. With Florida's pivotal role in the election, this shift highlights the uncertainty and fierce competition expected in the upcoming race.\", score=6, ticker='will-trump-win-florida-by-12-points', links=['nothing.com']),\n",
    "  ArticleOutput(id=20, headline='Texans Face Tight Odds Against Jets', subheader='Market Predicts Competitive Matchup in Upcoming NFL Game', blurb='As the Houston Texans prepare to face the New York Jets on October 31, prediction markets reflect a closely contested game with the Texans holding a 45.5% chance of victory. Recent trading activity shows a slight dip in confidence for the Texans, dropping 2% in probability. With the game still days away, factors like player health and team dynamics could sway the odds further.', score=5, ticker='nfl-hou-nyj-2024-10-31', links=['nothing.com']),\n",
    "  ArticleOutput(id=19, headline='Harris Expected to Win New Jersey by 10% Margin', subheader=\"Prediction market shows strong confidence in Harris's lead\", blurb='With over a year until the 2024 U.S. Presidential Election, prediction markets show a 79.5% probability that Kamala Harris will secure a 10% or greater margin of victory in New Jersey. This reflects strong confidence in her candidacy despite the potential for political developments to influence public opinion before the election date. The market will remain open as it awaits the official vote count and certification in New Jersey.', score=8, ticker='will-harris-win-new-jersey-by-10-points', links=['nothing.com']),\n",
    "  ArticleOutput(id=4, headline='Trump faces uphill battle in Rust Belt sweep', subheader='Prediction market shows 26% chance for Trump victory in key states', blurb='As the 2024 US Presidential Election approaches, prediction markets indicate a challenging path for Donald Trump in the Rust Belt swing states of Wisconsin, Michigan, and Pennsylvania. With only a 26% probability of sweeping these crucial states, the market reflects skepticism about his ability to replicate past successes. This development is critical, as these states often play a pivotal role in election outcomes. Stay tuned as the dynamics evolve closer to election day.', score=6, ticker='trump-rust-belt-swing-state-sweep', links=['nothing.com']),\n",
    "  ArticleOutput(id=18, headline='Trump Faces Uphill Battle in Iowa Poll', subheader=\"Prediction Market Shows Low Confidence in Trump's Dominance\", blurb=\"As the Iowa 2024 presidential election approaches, the prediction market shows only a 13.5% probability that Donald Trump will lead by a 12% margin or more in Anne Selzer's final poll. Despite a slight 0.5% increase in confidence, market participants remain skeptical of Trump's ability to secure a commanding lead. This reflects a cautious stance among observers, potentially due to recent campaign dynamics or shifts in voter opinion.\", score=6, ticker='trump-12-in-selzer-iowa-poll', links=['nothing.com']),\n",
    "  ArticleOutput(id=25, headline='Chase Oliver Leads 2024 Third-Party Race', subheader='Prediction market shows Oliver ahead of Stein and RFK Jr.', blurb='In the latest insights from Polymarket, Chase Oliver emerges as the frontrunner among third-party candidates for the 2024 US Presidential election, holding a 38% probability of winning the most votes. Jill Stein follows closely with 33%, while RFK Jr. has a 27% chance. Interestingly, all candidates have experienced a dip in their probabilities, indicating recent shifts in voter sentiment or polling data. Despite their presence, Cornel West, Vermin Supreme, and other candidates are unlikely to make a significant impact, as reflected in their low probabilities.', score=7, ticker='which-3rd-party-candidate-wins-most-votes', links=['nothing.com'])],\n",
    "article_groups = {'Middle East Politics': [23, 13],\n",
    "  'US Election Predictions': [29, 32, 2, 19, 4, 18, 25],\n",
    "  'Cryptocurrency Forecasts': [28, 26, 14, 27, 22],\n",
    "  'Trump Rallies': [30, 4, 18],\n",
    "  'Sports and Betting': [20]}"
   ]
  },
  {
   "cell_type": "code",
   "execution_count": 20,
   "metadata": {
    "execution": {
     "iopub.execute_input": "2025-05-16T18:02:46.314983Z",
     "iopub.status.busy": "2025-05-16T18:02:46.314690Z",
     "iopub.status.idle": "2025-05-16T18:02:46.322792Z",
     "shell.execute_reply": "2025-05-16T18:02:46.321913Z"
    }
   },
   "outputs": [
    {
     "data": {
      "text/plain": [
       "{'Global Affairs Gossip': [4, 20, 32, 39],\n",
       " 'Entertainment & Arts': [37, 46, 32],\n",
       " 'Political Pulse': [24, 31, 7],\n",
       " 'Headline Scandals': [14, 7, 39]}"
      ]
     },
     "execution_count": 20,
     "metadata": {},
     "output_type": "execute_result"
    }
   ],
   "source": [
    "articles = result[\"newsletter_content\"]\n",
    "#email_list = [\"ethanagoldberg@gmail.com\", \"vikmanocha@gmail.com\", \"jameswmarren@gmail.com\"]\n",
    "groups = result[\"article_groups\"]\n",
    "groups"
   ]
  },
  {
   "cell_type": "code",
   "execution_count": 21,
   "metadata": {
    "execution": {
     "iopub.execute_input": "2025-05-16T18:02:46.325833Z",
     "iopub.status.busy": "2025-05-16T18:02:46.325520Z",
     "iopub.status.idle": "2025-05-16T18:02:46.551903Z",
     "shell.execute_reply": "2025-05-16T18:02:46.550435Z"
    }
   },
   "outputs": [],
   "source": [
    "from newsletter_sender import NewsletterSender, test_smtp_connection\n",
    "from typing import List\n",
    "smtp_config = {\n",
    "    \"host\": \"smtp.gmail.com\",\n",
    "    \"port\": 587,\n",
    "    \"secure\": True,\n",
    "    \"auth\": {\n",
    "        \"user\": \"polynewsdailynewsletter@gmail.com\",  # Your full Gmail address\n",
    "        \"pass\": smtp_pass    # The 16-character app password you generated\n",
    "    },\n",
    "    \"from\": '\"PolyNewsDaily Update\" <polynewsdailynewsletter@gmail.com>'  # Use your Gmail address here too\n",
    "}"
   ]
  },
  {
   "cell_type": "code",
   "execution_count": 22,
   "metadata": {
    "execution": {
     "iopub.execute_input": "2025-05-16T18:02:46.556337Z",
     "iopub.status.busy": "2025-05-16T18:02:46.555698Z",
     "iopub.status.idle": "2025-05-16T18:02:46.561494Z",
     "shell.execute_reply": "2025-05-16T18:02:46.560863Z"
    }
   },
   "outputs": [
    {
     "name": "stdout",
     "output_type": "stream",
     "text": [
      "articles: [ArticleOutput(id=4, headline='Israel Commits 84% Probability to Gaza Ground Offensive', subheader=\"Market surge reflects Israeli cabinet's expanded offensive plans and ongoing ground attacks\", blurb='Prediction market signals 84% chance Israel launches major ground offensive in Gaza this May. Probability jumped 23.5 points in 24 hours, driven by Israeli cabinet approval for offensive expansion and intensified ground assaults in northern Gaza. These military moves aim to seize the entire Gaza Strip, significantly impacting regional stability and conflict dynamics through May 31, 2025.', score=7, ticker='will-israel-launch-a-major-ground-offensive-in-gaza-in-may', links=['https://en.wikipedia.org/wiki/March_2025_Israeli_attacks_on_the_Gaza_Strip', 'https://www.aljazeera.com/news/liveblog/2025/5/14/live-israel-attacks-gaza-hospitals-as-trump-says-working-to-end-war-soon', 'https://www.jns.org/a-year-plus-of-combat-in-gaza-is-needed/', 'https://www.bbc.com/news/articles/crr704wwklgo', 'https://www.reuters.com/world/middle-east/israeli-cabinet-approves-expansion-gaza-offensive-broadcaster-kan-reports-2025-05-05/']), ArticleOutput(id=20, headline=\"Turkey Leads Pope Leo XIV's First Visit Race—77% Probability\", subheader='High odds reflect geopolitical and religious diplomacy priorities amid global conflicts', blurb=\"Turkey holds a commanding 77% probability as the first country Pope Leo XIV will visit outside Italy by the end of 2025. This strong market consensus suggests expectations of significant engagement with Eastern Orthodoxy or strategic regional diplomacy. The market's 9% probability on 'Other' outcomes indicates some unpredictability in the pope's itinerary. Pope Leo XIV's background includes extensive missionary work in South America and Africa, enhancing the significance of his international visits. His leadership comes at a time of global crises, including conflicts in Ukraine and the Middle East, and pressing issues like migration and human rights, all of which may influence his travel decisions.\", score=7, ticker='which-country-will-pope-leo-visit-first', links=['https://www.catholicnewsagency.com/news/264049/10-countries-pope-leo-xiv-visited-before-becoming-pope', 'https://abcnews.go.com/International/live-updates/papal-conclave-live-updates-cardinals-gather-vatican-elect?id=121506573&entryId=121670852&cid=social_fb_abcn&fbclid=IwY2xjawKJRl1leHRuA2FlbQIxMQBicmlkETFwM2N4SkxRaUhpczdUSDFqAR4G3c3-OSkBLozDNhHgdFBluexvhk2xf6XCBC_6TRfaNkSnQ4O62kN6RAQlfg_aem_ej7bZvy5mUSU5J-ljpAWWA', 'https://www.cnn.com/world/live-news/new-pope-conclave-day-two-05-08-25', 'https://time.com/7283865/pope-leo-robert-/']), ArticleOutput(id=24, headline='Dan Edges Simion in Tight Romanian Runoff—36% Likely', subheader='Market signals razor-thin victory margin amid complex voter shifts', blurb=\"Dan leads with a 35.5% probability of winning by a 0–6% margin, reflecting a narrow but favored outcome. Simion trails with a 21.5% chance for the same margin, highlighting a closely contested runoff. Polls show Simion's initial dominance narrowing as votes from eliminated candidates shift toward Dan, intensifying the election drama. Market activity surged with a 6-point price increase for Dan’s narrow win, indicating fresh momentum. Political instability and disinformation campaigns add uncertainty, making this runoff one of Romania’s most unpredictable in years.\", score=7, ticker='romanian-presidential-election-margin-of-victory', links=['https://en.wikipedia.org/wiki/2025_Romanian_presidential_election', 'https://edmo.eu/edmo-news/romanias-elections-overview-7-may-2025/', 'https://polymarket.com/event/romanian-presidential-election-margin-of-victory', 'https://www.csis.org/programs/europe-russia-and-eurasia-program/projects/european-election-watch/2025-elections/romania', 'https://www.pbs.org/newshour/world/hard-right-candidate-secures-victory-in-1st-round-of-romanias-presidential-election-redo']), ArticleOutput(id=7, headline='Trump Disparages Netanyahu Odds Drop to 7.5%', subheader='Market reflects tension but no explicit insults yet from Trump', blurb='Prediction market prices Trump disparaging Netanyahu before June at just 7.5%. Despite heightened diplomatic friction and Trump sidelining Netanyahu on critical Middle East issues, no public insults have been confirmed. Market suggests Trump maintains professional restraint, focusing criticism on policy rather than personal attacks. This low probability highlights the complex, strategic nature of political rhetoric amid evolving US-Israel relations.', score=7, ticker='will-donald-trump-publicly-disparage-benjamin-netanyahu-before-june', links=['https://www.washingtonpost.com/world/2025/05/12/trump-netanyahu-middle-east-trip/', 'https://www.dw.com/en/donald-trump-benjamin-netanyahu-israel-hamas-war-gaza-saudi-arabia/a-72561885', 'https://www.nytimes.com/2025/05/05/us/politics/trump-israel-gaza.html', 'https://spectrumlocalnews.com/nys/buffalo/news/2025/04/07/trump-netanyahu-white-house-tariffs-gaza', 'https://www.cnn.com/2025/05/12/middleeast/israel-trump-middle-east-intl']), ArticleOutput(id=14, headline='Diddy Faces 71% Odds Guilty Sex Trafficking', subheader='Market confidence reflects detailed federal indictments and ongoing prosecution.', blurb=\"Prediction market assigns 71% probability Sean 'Diddy' Combs will be convicted of sex trafficking or related felonies by end of 2025. Charges include racketeering conspiracy, sex trafficking, and interstate transportation for prostitution, underpinned by multiple superseding indictments. This high conviction likelihood highlights the strength of federal case and extensive official documentation, despite a recent slight probability dip. Outcome impacts perceptions of celebrity accountability and legal precedent in complex trafficking cases.\", score=7, ticker='diddy-found-guilty-of-sex-trafficking', links=['https://deadline.com/wp-content/uploads/2025/04/diddy-id-protection-motion-feds-april-4.pdf', 'https://www.nytimes.com/interactive/2025/05/12/arts/music/sean-diddy-combs-sex-trafficking-indictment-documents.html', 'https://www.scribd.com/document/822139445/USA-v-Combs', 'https://deadline.com/wp-content/uploads/2025/03/combs-sdny-opp-memo-march-6.pdf', 'https://www.digitalmusicnews.com/wp-content/uploads/2025/03/us-v-combs-diddy-racism-response-1-24-cr-00542-march-2025.pdf']), ArticleOutput(id=31, headline='12M+ Votes Expected in Romanian Runoff—Market Shifts', subheader='High turnout brackets gain momentum amidst political unrest and tight race', blurb=\"Prediction market assigns 18.5% probability to turnout exceeding 12 million votes in Romanian presidential runoff on May 18, 2025. This reflects growing anticipation of strong voter mobilization despite political instability and allegations of election interference. Market activity shows rising confidence in higher turnout brackets, with notable volume and recent price increases in categories above 10 million votes. The runoff features a close contest between George Simion and Nicusor Dan, with polls showing Simion leading narrowly. Elevated turnout could signal heightened public engagement amid protests and disinformation campaigns surrounding the election's legitimacy.\", score=7, ticker='turnout-in-2025-romanian-presindetial-election', links=['https://en.wikipedia.org/wiki/2025_Romanian_presidential_election', 'https://www.csis.org/programs/europe-russia-and-eurasia-program/projects/european-election-watch/2025-elections/romania', 'https://www.romania-insider.com/voting-abroad-presidential-runoff-romania-may-2025', 'https://edmo.eu/edmo-news/romanias-elections-overview-7-may-2025/', 'https://www.bloomberg.com/news/articles/2025-05-13/romania-is-headed-for-tight-presidential-runoff-poll-shows']), ArticleOutput(id=37, headline='Look Back Surges to 70% Win Chance—Top Film Pick', subheader='Market momentum shifts dramatically toward Look Back ahead of Crunchyroll Awards.', blurb='Look Back commands a 70.5% probability to win Film of the Year at the Crunchyroll Anime Awards on May 25, 2025. This marks a 14.5% increase in just one day, reflecting strong market confidence and possibly recent critical acclaim or fan voting momentum. Other nominees like SPY x FAMILY CODE: White and HAIKYU!! The Dumpster Battle have seen their chances decline, signaling a market consensus favoring Look Back. The awards event will be livestreamed from Tokyo, attracting significant attention from anime fans and market participants alike. This surge highlights how prediction markets can capture shifting public sentiment and forecast outcomes in cultural events.', score=7, ticker='crunchyroll-film-of-the-year', links=['https://www.indiewire.com/news/breaking-news/crunchyroll-2025-anime-awards-nominations-full-list-1235112907/', 'https://www.polygon.com/anime/552268/anime-awards-2025-best-anime-nominees-crunchyroll', 'https://www.crunchyroll.com/news/announcements/2025/4/3/anime-awards-2025-nominees-full-list?srsltid=AfmBOooREEDo-zBGRjkZ-LCO6QGXiW0ZDfVqyHwui5wU0nm-0IsCvthO', 'https://thenewleafjournal.com/choosing-the-2025-crunchyroll-anime-awards/', 'https://www.cbr.com/best-anime-2025-crunchyroll-awards-ranked/']), ArticleOutput(id=32, headline='Russia-Ukraine Ceasefire, Rihanna Album Lead Before GTA VI', subheader='Market sees cultural and geopolitical events shaping next two years before May 2026 release', blurb=\"Prediction market sets 71% probability for both Russia-Ukraine ceasefire and new Rihanna album before GTA VI's May 26, 2026 launch. These outcomes overshadow dramatic scenarios like China's Taiwan invasion at 16.5% or Bitcoin hitting $1 million at 11.5%. Rockstar's official release date clarified timeline, focusing market attention on plausible near-term cultural and political events.\", score=7, ticker='what-will-happen-before-gta-vi', links=['https://www.rockstargames.com/newswire/article/258aa538o412ok/grand-theft-auto-vi-is-now-coming-may-26-2026', 'https://www.reddit.com/r/kindafunny/comments/1kcyram/grand_theft_auto_vi_is_now_coming_may_26_2026/', 'https://www.wspa.com/news/national/nexstar-media-wire/grand-theft-auto-vi-release-pushed-back-until-next-year/', 'https://www.nytimes.com/article/grand-theft-auto-6.html', 'https://gamerant.com/gta-6-delay-hollow-knight-silksong-gain-explained-good-why/']), ArticleOutput(id=46, headline='Final Destination Bloodlines Tops $48M Weekend—Franchise Record Looms', subheader='Market shows 66% chance opening hits $44M-$52M, fueled by strong reviews and nostalgia', blurb=\"Prediction market assigns a 34.5% probability that Final Destination: Bloodlines will earn between $48 million and $52 million domestically during its May 16-18 opening weekend. Another 32% probability supports a slightly lower $44 million to $48 million range, together representing over two-thirds confidence in a robust debut. This surge reflects glowing critic and audience scores—93% and 90% respectively on Rotten Tomatoes—and Thursday previews of $4.6 million, nearly matching recent Warner Bros. hits.\\nThe market's confidence aligns with industry forecasts expecting the film to surpass previous franchise openings, including the 2009 record of $27.4 million. Warner Bros. continues its strong box office streak in 2025, with Bloodlines poised to set a new benchmark for horror series launches. This momentum underscores how prediction markets synthesize critical acclaim, franchise legacy, and early audience response to forecast box office success.\", score=7, ticker='final-destination-bloodlines-opening-weekend-box-office', links=['https://www.goldderby.com/article/2025/final-destination-bloodlines-box-office-weekend-hurry-up-tomorrow/', 'https://www.yahoo.com/entertainment/articles/final-destination-bloodlines-eyes-record-163039571.html', 'https://deadline.com/2025/05/box-office-final-destination-bloodlines-1236400414/', 'https://movieweb.com/final-destination-bloodlines-box-office-opening-weekend-franchise-record/', 'https://www.reddit.com/r/boxoffice/comments/1knagx7/box_office_weekend_forecast_final_destination/']), ArticleOutput(id=39, headline='Trans Military Removals Pass 58% Probability—June Deadline Looms', subheader='Pentagon policy targets 1,000 trans troops for discharge unless exemptions apply', blurb=\"Prediction market sets 58% odds that at least 10 transgender service members will be removed from the U.S. military by June 30, 2025. This follows a recent Pentagon directive enforcing a Trump-era ban with strict removal policies and limited exemptions. Over 1,000 openly transgender troops face immediate discharge or must self-identify within 30 days, intensifying the impact on military personnel. The policy's swift enforcement contrasts prior bans by eliminating grandfather clauses and applying non-deployable status immediately. Legal challenges continue, but the Supreme Court allows enforcement, underscoring the policy's momentum and shaping military demographics through mid-2025.\", score=7, ticker='us-kicks-trans-members-out-of-military-before-july', links=['https://www.theguardian.com/us-news/2025/may/08/trump-pentagon-trans-military-ban', 'https://www.npr.org/2025/02/27/g-s1-51057/transgender-soldiers-military-ban-trump', 'https://www.pbs.org/newshour/politics/up-to-1000-transgender-troops-are-being-separated-from-the-military-in-new-pentagon-order', 'https://www.cnn.com/2025/02/26/politics/pentagon-remove-transgender-service-members-new-policy', 'https://san.com/cc/military-leaders-begin-screening-service-members-for-gender-dysphoria/'])]\n",
      "groups: {'Global Affairs Gossip': [4, 20, 32, 39], 'Entertainment & Arts': [37, 46, 32], 'Political Pulse': [24, 31, 7], 'Headline Scandals': [14, 7, 39]}\n"
     ]
    }
   ],
   "source": [
    "print(\"articles:\", articles)\n",
    "print(\"groups:\", groups)"
   ]
  },
  {
   "cell_type": "code",
   "execution_count": 23,
   "metadata": {
    "execution": {
     "iopub.execute_input": "2025-05-16T18:02:46.564360Z",
     "iopub.status.busy": "2025-05-16T18:02:46.564087Z",
     "iopub.status.idle": "2025-05-16T18:03:41.998127Z",
     "shell.execute_reply": "2025-05-16T18:03:41.997388Z"
    }
   },
   "outputs": [
    {
     "name": "stdout",
     "output_type": "stream",
     "text": [
      "✅ SMTP connection successful!\n",
      "Connection successful! Sending test newsletter...\n",
      "Connecting to: postgres://u8tpitnkehg4bm@c1i13pt05ja4ag.cluster-czrs8kj4isg7.us-east-1.rds.amazonaws.com:5432/d8714o8m60rj7k\n"
     ]
    },
    {
     "name": "stdout",
     "output_type": "stream",
     "text": [
      "Found 45 subscribers\n",
      "Connecting to: postgres://u8tpitnkehg4bm@c1i13pt05ja4ag.cluster-czrs8kj4isg7.us-east-1.rds.amazonaws.com:5432/d8714o8m60rj7k\n"
     ]
    },
    {
     "name": "stdout",
     "output_type": "stream",
     "text": [
      "\n",
      "    Database summary:\n",
      "    - Articles: 10\n",
      "    - Groups: 4\n",
      "    - Group-Article associations: 13\n",
      "            \n",
      "Newsletter saved to database successfully\n"
     ]
    },
    {
     "name": "stdout",
     "output_type": "stream",
     "text": [
      "Sending batch 1/1\n"
     ]
    },
    {
     "name": "stdout",
     "output_type": "stream",
     "text": [
      "Successfully sent to: lgoldbergcourt@gmail.com\n"
     ]
    },
    {
     "name": "stdout",
     "output_type": "stream",
     "text": [
      "Successfully sent to: vikmanocha@gmail.com\n"
     ]
    },
    {
     "name": "stdout",
     "output_type": "stream",
     "text": [
      "Successfully sent to: zglassband@gmail.com\n"
     ]
    },
    {
     "name": "stdout",
     "output_type": "stream",
     "text": [
      "Successfully sent to: elijg235@gmai.com\n"
     ]
    },
    {
     "name": "stdout",
     "output_type": "stream",
     "text": [
      "Successfully sent to: charlie.oestreicher@gmail.com\n"
     ]
    },
    {
     "name": "stdout",
     "output_type": "stream",
     "text": [
      "Successfully sent to: ethan.goldberg.pike@gmail.com\n"
     ]
    },
    {
     "name": "stdout",
     "output_type": "stream",
     "text": [
      "Successfully sent to: max.huber@gmail.com\n"
     ]
    },
    {
     "name": "stdout",
     "output_type": "stream",
     "text": [
      "Successfully sent to: elijg235@gmail.com\n"
     ]
    },
    {
     "name": "stdout",
     "output_type": "stream",
     "text": [
      "Successfully sent to: noah.costa.pike@gmail.com\n"
     ]
    },
    {
     "name": "stdout",
     "output_type": "stream",
     "text": [
      "Successfully sent to: leonicastro3@gmail.com\n"
     ]
    },
    {
     "name": "stdout",
     "output_type": "stream",
     "text": [
      "Successfully sent to: rcolon1331@yahoo.com\n"
     ]
    },
    {
     "name": "stdout",
     "output_type": "stream",
     "text": [
      "Successfully sent to: joe.zakielarz.pike@gmail.com\n"
     ]
    },
    {
     "name": "stdout",
     "output_type": "stream",
     "text": [
      "Successfully sent to: echristianr13@gmail.com\n"
     ]
    },
    {
     "name": "stdout",
     "output_type": "stream",
     "text": [
      "Successfully sent to: sftorres56@gmail.com\n"
     ]
    },
    {
     "name": "stdout",
     "output_type": "stream",
     "text": [
      "Successfully sent to: dxstinyai@gmail.com\n"
     ]
    },
    {
     "name": "stdout",
     "output_type": "stream",
     "text": [
      "Successfully sent to: ethanagoldberg@gmail.com\n"
     ]
    },
    {
     "name": "stdout",
     "output_type": "stream",
     "text": [
      "Successfully sent to: perooo88+poly@gmail.com\n"
     ]
    },
    {
     "name": "stdout",
     "output_type": "stream",
     "text": [
      "Successfully sent to: sanjayginde@gmail.com\n"
     ]
    },
    {
     "name": "stdout",
     "output_type": "stream",
     "text": [
      "Successfully sent to: lgrzybowska212@gmail.com\n"
     ]
    },
    {
     "name": "stdout",
     "output_type": "stream",
     "text": [
      "Successfully sent to: sao2162002@gmail.com\n"
     ]
    },
    {
     "name": "stdout",
     "output_type": "stream",
     "text": [
      "Successfully sent to: kristenw@nyu.edu\n"
     ]
    },
    {
     "name": "stdout",
     "output_type": "stream",
     "text": [
      "Successfully sent to: vinson1900@hey.com\n"
     ]
    },
    {
     "name": "stdout",
     "output_type": "stream",
     "text": [
      "Successfully sent to: henry.yang@yale.edu\n"
     ]
    },
    {
     "name": "stdout",
     "output_type": "stream",
     "text": [
      "Successfully sent to: emmawj@protonmail.com\n"
     ]
    },
    {
     "name": "stdout",
     "output_type": "stream",
     "text": [
      "Successfully sent to: snovik@gmail.com\n"
     ]
    },
    {
     "name": "stdout",
     "output_type": "stream",
     "text": [
      "Successfully sent to: bv@vufund.vc\n"
     ]
    },
    {
     "name": "stdout",
     "output_type": "stream",
     "text": [
      "Successfully sent to: christianmaxwellwright@gmail.com\n"
     ]
    },
    {
     "name": "stdout",
     "output_type": "stream",
     "text": [
      "Successfully sent to: enternetdesign@gmail.com\n"
     ]
    },
    {
     "name": "stdout",
     "output_type": "stream",
     "text": [
      "Successfully sent to: jsuss.101@gmail.com\n"
     ]
    },
    {
     "name": "stdout",
     "output_type": "stream",
     "text": [
      "Successfully sent to: ethanagoldberg1@gmail.com\n"
     ]
    },
    {
     "name": "stdout",
     "output_type": "stream",
     "text": [
      "Successfully sent to: leekk980816@gmail.com\n"
     ]
    },
    {
     "name": "stdout",
     "output_type": "stream",
     "text": [
      "Successfully sent to: trey@hewell.net\n"
     ]
    },
    {
     "name": "stdout",
     "output_type": "stream",
     "text": [
      "Successfully sent to: abiyslee1011@gmail.com\n"
     ]
    },
    {
     "name": "stdout",
     "output_type": "stream",
     "text": [
      "Successfully sent to: andrew.keys@thetimes.co.uk\n"
     ]
    },
    {
     "name": "stdout",
     "output_type": "stream",
     "text": [
      "Successfully sent to: com231562@gmail.com\n"
     ]
    },
    {
     "name": "stdout",
     "output_type": "stream",
     "text": [
      "Successfully sent to: angieyvonnegoldberg@gmail.com\n"
     ]
    },
    {
     "name": "stdout",
     "output_type": "stream",
     "text": [
      "Successfully sent to: ban46291@gmail.com\n"
     ]
    },
    {
     "name": "stdout",
     "output_type": "stream",
     "text": [
      "Successfully sent to: francesco@siliconroundabout.ventures\n"
     ]
    },
    {
     "name": "stdout",
     "output_type": "stream",
     "text": [
      "Successfully sent to: seanjfis@gmail.com\n"
     ]
    },
    {
     "name": "stdout",
     "output_type": "stream",
     "text": [
      "Successfully sent to: sophiecmunro@icloud.com\n"
     ]
    },
    {
     "name": "stdout",
     "output_type": "stream",
     "text": [
      "Successfully sent to: dylanhurwitz@gmail.com\n"
     ]
    },
    {
     "name": "stdout",
     "output_type": "stream",
     "text": [
      "Successfully sent to: maniya.chowdhary21@gmail.com\n"
     ]
    },
    {
     "name": "stdout",
     "output_type": "stream",
     "text": [
      "Successfully sent to: billweica@yahoo.com\n"
     ]
    },
    {
     "name": "stdout",
     "output_type": "stream",
     "text": [
      "Successfully sent to: mli0118999@gmail.com\n"
     ]
    },
    {
     "name": "stdout",
     "output_type": "stream",
     "text": [
      "Successfully sent to: maxwellyoas@gmail.com\n"
     ]
    }
   ],
   "source": [
    "if test_smtp_connection(smtp_config):\n",
    "    print(\"Connection successful! Sending test newsletter...\")\n",
    "    \n",
    "    # Create sender and send newsletter\n",
    "    sender = NewsletterSender()\n",
    "    email_list = sender.get_subscriber_emails()\n",
    "    if email_list:\n",
    "        save_result = sender.save_newsletter_to_db(articles, groups)\n",
    "        results = sender.send_newsletter(smtp_config, email_list, articles, groups)\n",
    "    else:\n",
    "        email_list = [\"ethanagoldberg@gmail.com\"]\n",
    "        save_result = sender.save_newsletter_to_db(articles, groups)\n",
    "        results = sender.send_newsletter(smtp_config, email_list, articles, groups)"
   ]
  }
 ],
 "metadata": {
  "kernelspec": {
   "display_name": "Python 3.7.6 ('base')",
   "language": "python",
   "name": "python3"
  },
  "language_info": {
   "codemirror_mode": {
    "name": "ipython",
    "version": 3
   },
   "file_extension": ".py",
   "mimetype": "text/x-python",
   "name": "python",
   "nbconvert_exporter": "python",
   "pygments_lexer": "ipython3",
   "version": "3.11.10"
  },
  "vscode": {
   "interpreter": {
    "hash": "81333996758e97eaa3d2fa8b0508a033ada6c2cd645638beea5f0eb0401d74bf"
   }
  }
 },
 "nbformat": 4,
 "nbformat_minor": 2
}

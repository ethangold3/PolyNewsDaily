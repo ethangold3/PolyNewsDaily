{
 "cells": [
  {
   "cell_type": "code",
   "execution_count": 1,
   "metadata": {},
   "outputs": [
    {
     "name": "stderr",
     "output_type": "stream",
     "text": [
      "/Users/ethangoldberg/opt/anaconda3/envs/polynews/lib/python3.11/site-packages/IPython/core/interactiveshell.py:3577: LangChainDeprecationWarning: As of langchain-core 0.3.0, LangChain uses pydantic v2 internally. The langchain.pydantic_v1 module was a compatibility shim for pydantic v1, and should no longer be used. Please update the code to import from Pydantic directly.\n",
      "\n",
      "For example, replace imports like: `from langchain.pydantic_v1 import BaseModel`\n",
      "with: `from pydantic import BaseModel`\n",
      "or the v1 compatibility namespace if you are working in a code base that has not been fully upgraded to pydantic 2 yet. \tfrom pydantic.v1 import BaseModel\n",
      "\n",
      "  exec(code_obj, self.user_global_ns, self.user_ns)\n"
     ]
    }
   ],
   "source": [
    "from typing import List, Dict, Any, TypedDict\n",
    "from pm_market_getter import get_markets_for_date_range\n",
    "from langchain.llms import OpenAI\n",
    "from langchain.tools import Tool\n",
    "from langchain.agents import AgentExecutor, OpenAIFunctionsAgent\n",
    "from langchain.prompts import ChatPromptTemplate\n",
    "from langchain.pydantic_v1 import BaseModel, Field\n",
    "from langgraph.graph import StateGraph, END\n",
    "from langgraph.prebuilt import ToolInvocation\n",
    "from operator import add\n",
    "from typing import Annotated\n",
    "from datetime import datetime, timedelta\n",
    "from langgraph.prebuilt import ToolExecutor\n",
    "import requests\n",
    "import json\n",
    "import re\n",
    "from langchain_community.tools.tavily_search import TavilySearchResults\n",
    "from langchain_core.messages import AIMessage, HumanMessage, SystemMessage\n",
    "import operator\n",
    "from typing import  Annotated\n",
    "from langgraph.constants import Send\n",
    "import threading"
   ]
  },
  {
   "cell_type": "code",
   "execution_count": 2,
   "metadata": {},
   "outputs": [],
   "source": [
    "class Counter:\n",
    "    def __init__(self):\n",
    "        self._lock = threading.Lock()\n",
    "        self._value = 0\n",
    "    \n",
    "    def get_next(self):\n",
    "        with self._lock:\n",
    "            self._value += 1\n",
    "            return self._value\n",
    "\n",
    "# Global counter instance\n",
    "article_counter = Counter() \n",
    "\n",
    "class NewsArticles(BaseModel):\n",
    "    title: str\n",
    "    description: str\n",
    "    source_name: str\n",
    "class ArticleOutput(BaseModel):\n",
    "    id: int = Field(default_factory=article_counter.get_next)\n",
    "    headline: str\n",
    "    subheader: str\n",
    "    blurb: str = Field(default=None)\n",
    "    score: int = Field(default=None)\n",
    "    ticker: str = Field(default=None)\n",
    "    links: List[str] = Field(default=None)\n",
    "\n",
    "class MarketInfo(BaseModel):\n",
    "    interest_score: float = Field(default=None)\n",
    "    title: str = Field(default=None)\n",
    "    ticker: str = Field(default=None)\n",
    "    description: str = Field(default=None)\n",
    "    end_date: str = Field(default=None)\n",
    "    volume: float = Field(default=None)\n",
    "    featured: float = Field(default=None)\n",
    "    volume24hr: float = Field(default=None)\n",
    "    commentCount: float = Field(default=None)\n",
    "    options: List[Dict[str, Any]] = Field(default=None)\n",
    "    tags: List[Dict[str, Any]] = Field(default=None)\n",
    "    tavily_context: Annotated[list, operator.add] = Field(default=None)\n",
    "    links: Annotated[list, operator.add] = Field(default=None)\n",
    "    articles: List[NewsArticles] = Field(default_factory=list, description=\"Collected news articles\")\n",
    "    newsletter_content: List[ArticleOutput] = Field(default=None)\n",
    "    skipped_newsletter_content: List[ArticleOutput] = Field(default=None)\n",
    "\n",
    "class OverallGraph(BaseModel):\n",
    "    markets_list: List[MarketInfo]\n",
    "    newsletter_content: Annotated[List[ArticleOutput], operator.add] = Field(default=None)\n",
    "    skipped_newsletter_content: Annotated[List[ArticleOutput], operator.add] = Field(default=None)\n",
    "    article_groups: Dict[str, List[int]] = Field(\n",
    "        default_factory=dict,\n",
    "        description=\"Dictionary of lists, where each list contains ids of a group of articles. The string is the title of the group\"\n",
    "    )\n",
    "    done: bool = Field(default = False)\n",
    "\n",
    "class ExperimentState(TypedDict):\n",
    "    market: dict  # The current market being processed\n",
    "    article: dict  # The article being generated/refined\n",
    "    previous_articles: List[dict]  # List of previously processed articles\n",
    "    keep_article: bool\n",
    "\n",
    "class SearchQuery(BaseModel):\n",
    "    search_query: str = Field(None, description=\"Search query for retrieval.\")"
   ]
  },
  {
   "cell_type": "code",
   "execution_count": 5,
   "metadata": {},
   "outputs": [
    {
     "name": "stdout",
     "output_type": "stream",
     "text": [
      "Current working directory: /Users/ethangoldberg/Desktop/CS-Proj/PolyNewsDaily/PolyNewsDaily/agent\n",
      "Found .env file at: /Users/ethangoldberg/Desktop/CS-Proj/PolyNewsDaily/PolyNewsDaily/email_collection_app/.env\n",
      "SMTP_PASS: Found\n",
      "NEWS_API_KEY: Not found\n",
      "OPENAI_API_KEY: Found\n",
      "TAVILY_API_KEY: Found\n"
     ]
    }
   ],
   "source": [
    "from dotenv import load_dotenv\n",
    "import os\n",
    "import sys\n",
    "from pathlib import Path\n",
    "\n",
    "# Use the specific path to the .env file\n",
    "env_path = Path('/Users/ethangoldberg/Desktop/CS-Proj/PolyNewsDaily/PolyNewsDaily/email_collection_app/.env')\n",
    "\n",
    "# Print current working directory for debugging\n",
    "current_dir = Path.cwd()\n",
    "print(f\"Current working directory: {current_dir}\")\n",
    "\n",
    "# Load the .env file from the specific location\n",
    "if env_path.exists():\n",
    "    print(f\"Found .env file at: {env_path}\")\n",
    "    load_dotenv(env_path)\n",
    "    env_loaded = True\n",
    "else:\n",
    "    print(f\"Could not find .env file at: {env_path}\")\n",
    "    env_loaded = False\n",
    "\n",
    "# Get environment variables\n",
    "news_api_key = os.getenv('NEWS_API_KEY')\n",
    "openai_api = os.getenv('OPENAI_API_KEY')\n",
    "tavily_api_key = os.getenv('TAVILY_API_KEY')\n",
    "smtp_pass = os.getenv('SMTP_PASS')\n",
    "\n",
    "# Print values to debug\n",
    "print(f\"SMTP_PASS: {'Found' if smtp_pass else 'Not found'}\")\n",
    "print(f\"NEWS_API_KEY: {'Found' if news_api_key else 'Not found'}\")\n",
    "print(f\"OPENAI_API_KEY: {'Found' if openai_api else 'Not found'}\")\n",
    "print(f\"TAVILY_API_KEY: {'Found' if tavily_api_key else 'Not found'}\")\n"
   ]
  },
  {
   "cell_type": "code",
   "execution_count": 6,
   "metadata": {},
   "outputs": [],
   "source": [
    "from langchain_core.messages import HumanMessage\n",
    "from langchain_openai import ChatOpenAI\n",
    "def generate_news_query(title, description) -> str:\n",
    "    llm = ChatOpenAI(model=\"gpt-4.1-mini\", api_key = openai_api)  # You can use a different model if preferred\n",
    "    \n",
    "    prompt = f\"\"\"\n",
    "    You are an expert in information retrieval and natural language processing. Your task is to analyze the title and description of a prediction market and generate optimal keywords for a news API search. These keywords should maximize the retrieval of relevant and informative news articles about the market's subject.\n",
    "bn\n",
    "    Given:\n",
    "    - Title: {title}\n",
    "    - Description: {description}\n",
    "\n",
    "    Instructions:\n",
    "    1. Carefully read and understand the title and description.\n",
    "    2. Identify the core subject matter, key entities, and central concepts.\n",
    "    3. Consider potential synonyms, related terms, and broader categories that might yield relevant results.\n",
    "    4. Avoid overly generic terms that might lead to irrelevant results.\n",
    "    5. Include any specific dates, events, or proper nouns mentioned that are crucial to the market.\n",
    "    6. Consider the timeframe of the prediction, if specified, and how it might affect keyword relevance.\n",
    "    7. Aim for a balance between specificity (to ensure relevance) and breadth (to capture a range of potentially useful articles).\n",
    "    8. Generate 1-3 keyword phrases, separated by commas if more than one.\n",
    "    9. Each keyword should always be ONE word. There are exceptions for when two or three words are closely linked like \"Donald Trump\" is two words but would be allowed.\n",
    "\n",
    "    Output your result in the following format. DO NOT say any other words or give any other explanation.\n",
    "    Keywords: [Your generated keywords]\n",
    "    \"\"\"\n",
    "    \n",
    "    response = llm.invoke([HumanMessage(content=prompt)])\n",
    "    \n",
    "    # Extract keywords from the response\n",
    "    keywords_line = [line for line in response.content.split('\\n') if line.startswith('Keywords:')][0]\n",
    "    keywords = keywords_line.split(':', 1)[1].strip()\n",
    "    keywords_array = [item.strip() for item in keywords.split(',')]\n",
    "    return keywords_array"
   ]
  },
  {
   "cell_type": "code",
   "execution_count": 7,
   "metadata": {},
   "outputs": [],
   "source": [
    "os.environ[\"TAVILY_API_KEY\"] = tavily_api_key\n",
    "tavily_getter = TavilySearchResults(max_results=5)"
   ]
  },
  {
   "cell_type": "code",
   "execution_count": 78,
   "metadata": {},
   "outputs": [],
   "source": [
    "def tavily_search(state: MarketInfo):\n",
    "    llm = ChatOpenAI(model=\"gpt-4.1-mini\", api_key = openai_api)\n",
    "    search_instructions = \"\"\"You will be given the title, description, and end_date for a polymarket prediction market. \n",
    "\n",
    "Your goal is to generate a well-structured query for use in retrieval and / or web-search related to the market to provide context to the market. For example, there may be a market on whether Taylor Swift gets married in 2024. A good search query might be \"Taylor Swift Pregnancy Rumors 2024\".\n",
    "        \n",
    "First, analyze the market.\n",
    "\n",
    "Pay particular attention to the title, description, and dates for the market.\n",
    "\n",
    "Convert this final question into a well-structured web search query that will give important context to understand it.\n",
    "\n",
    "Title : {title}          \n",
    "\n",
    "Description : {description}\n",
    "\n",
    "End Date : {end_date}\n",
    "                                        \"\"\"\n",
    "    structured_llm = llm.with_structured_output(SearchQuery)\n",
    "    system_message = search_instructions.format(title=state.title, description=state.description, end_date = state.end_date)\n",
    "    search_query = structured_llm.invoke([SystemMessage(content=system_message)])\n",
    "\n",
    "    search_docs = tavily_getter.invoke(search_query.search_query)\n",
    "\n",
    "    if isinstance(search_docs, str):\n",
    "        print(\"Error: Expected a list of documents but got a string.\")\n",
    "        print(\"Response content:\", search_docs)\n",
    "        return {\"tavily_context\": [], \"links\": []} \n",
    "\n",
    "    formatted_search_docs = \"\\n\\n---\\n\\n\".join(\n",
    "        [\n",
    "            f'<Document href=\"{doc[\"url\"]}\"/>\\n{doc[\"content\"]}\\n</Document>'\n",
    "            for doc in search_docs\n",
    "        ]\n",
    "    )\n",
    "    links = [doc[\"url\"] for doc in search_docs]\n",
    "\n",
    "    return {\"tavily_context\": [formatted_search_docs],\n",
    "            \"links\": links} \n"
   ]
  },
  {
   "cell_type": "code",
   "execution_count": 79,
   "metadata": {},
   "outputs": [],
   "source": [
    "def call_news_api(state: MarketInfo) -> MarketInfo:\n",
    "    keywords = generate_news_query(state.title, state.description)\n",
    "    print(keywords)\n",
    "    today = datetime.now().date()\n",
    "    from_date = (today - timedelta(days=3)).isoformat()\n",
    "    to_date = today.isoformat()\n",
    "    url = \"https://newsapi.org/v2/everything\"\n",
    "    for keyword in keywords:\n",
    "        params = {\n",
    "            \"from\": from_date,\n",
    "            \"to\": to_date,\n",
    "            \"apiKey\": news_api_key,\n",
    "            \"country\" : \"us\",\n",
    "            \"q\" : keyword,\n",
    "            \"pageSize\" : 2\n",
    "        }\n",
    "        response = requests.get(url, params=params)\n",
    "        data = response.json()\n",
    "        articles = data.get(\"articles\", [])\n",
    "        for article in articles:\n",
    "            article_info =  NewsArticles(\n",
    "            title=article['title'],\n",
    "            description=article['description'],\n",
    "            source_name=article['source']['name']\n",
    "        )\n",
    "            state.articles.append(article_info)\n",
    "\n",
    "    return state    \n"
   ]
  },
  {
   "cell_type": "code",
   "execution_count": 80,
   "metadata": {},
   "outputs": [],
   "source": [
    "class market_key_info(BaseModel):\n",
    "    what_is_the_market_asking_or_answering: str = Field(defualt=None, description= \"this should be a synposis of what this market is asking or answering\")\n",
    "    important_criteria: List[str] = Field(default_factory=List, description=\"a list of strings that describe important critera for a market and how it is resolved. includes timeline\")\n",
    "    completed: bool = Field(default=None, description=\"boolean indicating whether or not a market is essentially resolved. If the probability of all the options adds up to 0 or if the probability of any of the options is about 100, it is essentially guaranteed to already have happened or will happen\")\n",
    "    important_insights_context_or_reasoning : str = Field(default=None, description= \"summary of important context or insights that could be related to this market. if there is important context from the sources from the internet regarding a probability or a change\")"
   ]
  },
  {
   "cell_type": "code",
   "execution_count": 81,
   "metadata": {},
   "outputs": [],
   "source": [
    "class article_score(BaseModel):\n",
    "    score: int = Field(default=5, descrption=\"score for the article 0-10\")"
   ]
  },
  {
   "cell_type": "code",
   "execution_count": 82,
   "metadata": {},
   "outputs": [
    {
     "name": "stderr",
     "output_type": "stream",
     "text": [
      "/Users/ethangoldberg/opt/anaconda3/envs/polynews/lib/python3.11/site-packages/IPython/core/interactiveshell.py:3517: UserWarning: WARNING! parallel_tool_calls is not default parameter.\n",
      "                parallel_tool_calls was transferred to model_kwargs.\n",
      "                Please confirm that parallel_tool_calls is what you intended.\n",
      "  if await self.run_code(code, result, async_=asy):\n"
     ]
    }
   ],
   "source": [
    "llm = ChatOpenAI(model=\"o4-mini\", api_key = openai_api, parallel_tool_calls=False)"
   ]
  },
  {
   "cell_type": "code",
   "execution_count": 83,
   "metadata": {},
   "outputs": [],
   "source": [
    "def generate_newsletter_content(market: MarketInfo) -> OverallGraph:\n",
    "    market_dict = market.dict(exclude={'articles', 'final_answer', 'featured','commentCount', 'interest_score', 'newsletter_content', 'tavily_context'})\n",
    "    context = market.tavily_context\n",
    "    print(context)\n",
    "    llm = ChatOpenAI(model=\"gpt-4.1\", api_key = openai_api, parallel_tool_calls=False)\n",
    "    intermediate_model = llm.with_structured_output(market_key_info)\n",
    "    prompt = f\"\"\"\n",
    "    It's great to finally meet you. You are my expert research analyst for my VC fund, specializing in reading and contextualizing prediciton markets. Be objective and precise. Be formal and exact. Your job is to take a structured api output from a prediction market and results from the internet for context on that market and: draw out the specific insights to later be used to create a news article. You should write in your output eveyrthing I need to draw from the market that is interesting.\n",
    "    Here is the model you will be outputting:\n",
    "    what_is_the_market_asking_or_answering: str = Field(defualt=None, description= \"this should be a synposis of what this market is asking or answering\")\n",
    "    important_criteria: List[str] = Field(default_factory=List, description=\"a list of strings that describe important critera for a market and how it is resolved. includes timeline\")\n",
    "    completed: bool = Field(default=None, description=\"boolean indicating whether or not a market is essentially resolved. If the probability of all the options adds up to 0 or if the probability of any of the options is about 100, it is essentially guaranteed to already have happened or will happen\")\n",
    "    important_insights_context_or_reasoning : str = Field(default=None, description= \"summary of important context or insights that could be related to this market. if there is important context from the sources from the internet regarding a probability or a change\")\n",
    "\n",
    "    The market_dict is a dictionary containing the following key information:\n",
    "    - title: The title of the Polymarket prediction market\n",
    "    - description: A description of the market\n",
    "    - end_date: The resolution date for the market (pay close attention to this)\n",
    "    - tags: Relevant tags for the market\n",
    "    - options: A list of dictionaries, each containing:\n",
    "      - 'outcome': The possible outcome\n",
    "      - 'probability': The likelihood of the outcome (in decimal form, e.g., 0.75 = 75%)\n",
    "      - 'oneDayPriceChange': How much the probability has changed in the last day\n",
    "\n",
    "    The context variable is a list of sources and information from the internet.\n",
    "\n",
    "    Here is the market to take to produce these insights:\n",
    "    {market_dict}\n",
    "\n",
    "    And here are the articles from the internet:\n",
    "\n",
    "    {context}\n",
    "\n",
    "\n",
    "    Remember to format your insights as described and be sure not to miss anything important. Be as compelling and interesting as possible.\n",
    "\n",
    "    \"\"\"\n",
    "    response = intermediate_model.invoke([HumanMessage(content=prompt)])\n",
    "    \n",
    "    response_dict = response.dict()\n",
    "\n",
    "    print(\"this is the intermediate reseponse: \", response_dict)\n",
    "    \n",
    "      # You can use a different model if preferred\n",
    "    \n",
    "    # Create a dict of the market model, omitting the articles\n",
    "    \n",
    "    prompt = f\"\"\"\n",
    "You are a savvy AI newsletter writer specializing in prediction markets and current events. Your task is to generate compelling newsletter content based on Polymarket prediction markets and potentially related search context. Your writing should be engaging, insightful, and highlight the fascinating world of prediction markets, using context where applicable. Your audience is  intelligent and have signed up for your newsletter because they believe that prediction markets unlock information about the world and about the news.\n",
    "\n",
    "The market_dict is a dictionary containing the following key information:\n",
    "- title: The title of the Polymarket prediction market\n",
    "- description: A description of the market\n",
    "- end_date: The resolution date for the market (pay close attention to this)\n",
    "- tags: Relevant tags for the market\n",
    "- options: A list of dictionaries, each containing:\n",
    "  - 'outcome': The possible outcome\n",
    "  - 'probability': The likelihood of the outcome (in decimal form, e.g., 0.75 = 75%)\n",
    "  - 'oneDayPriceChange': How much the probability has changed in the last day\n",
    "\n",
    "\n",
    "You will get the following curated info about the market:\n",
    "    what_is_the_market_asking_or_answering: str = Field(defualt=None, description= \"this should be a synposis of what this market is asking or answering\")\n",
    "    important_criteria: List[str] = Field(default_factory=List, description=\"a list of strings that describe important critera for a market and how it is resolved. includes timeline\")\n",
    "    completed: bool = Field(default=None, description=\"boolean indicating whether or not a market is essentially resolved. If the probability of all the options adds up to 0 or if the probability of any of the options is about 100, it is essentially guaranteed to already have happened or will happen\")\n",
    "    important_insights_context_or_reasoning : str = Field(default=None, description= \"summary of important context or insights that could be related to this market. if there is important context from the sources from the internet regarding a probability or a change\")\n",
    "\n",
    "\n",
    "Lastly, you will get information from the internet. This should be used as supplemental information and context as to the cause of certain odds, and when used in the article, should be cited.\n",
    "\n",
    "Note: The interesting part of the market and how it relates to narratives on the internet might not need all of the provided information. Use your judgment to determine the applicability of information.\n",
    "\n",
    "Instructions:\n",
    "1. Carefully analyze the Polymarket prediction market information, paying special attention to the end_date and time frame criteria specified in the title or description.\n",
    "2. Review the related context provided by searching the web, identifying any relevant information to the market. If no links are relevant, focus solely on the market data.\n",
    "3. Identify the most interesting or surprising aspects of the market probabilities, potentially contrasting them with relevant news reporting if applicable.\n",
    "4. Create a catchy headline that captures attention by highlighting these interesting aspects, ensuring it accurately reflects the time frame of the market.\n",
    "5. Write a subheader that provides additional context or intrigue.\n",
    "6. Compose a brief, engaging blurb that expands on the headline and subheader, incorporating relevant information from the prediction market and, if applicable, the web.\n",
    "\n",
    "These are notes from an expert newsletter author on writing headlines that you should ABSOLUTELY use to make your headlines.\n",
    "Overall:\n",
    "3. Be active in your sentences not passive.\n",
    "4. Do not use slang.\n",
    "5. Use present tense and do not use articles (a, an, the)\n",
    "6. Be professional, yet quippy and smart. Write like Packy Mccormick in Not Boring.\n",
    "\n",
    "HEADLINE RULES:\n",
    "- Must be news, not description (Example: \"Biden wins vote\" NOT \"Vote held on bill\")\n",
    "- Write in positive form. (Example:\n",
    "Dont write: Jonas didnt win the election.\n",
    "Instead write: Jonas lost the election)\n",
    "- Maximum 8 words\n",
    "- Include most dramatic number/stat if available\n",
    "- Use em dash (—) to add quick context\n",
    "- Never use questions\n",
    "- Start with the outcome/result\n",
    "- No articles (a, an, the) at start\n",
    "\n",
    "SUBHEADER RULES:\n",
    "- Must add NEW information not in headline\n",
    "- Never repeat headline information\n",
    "- One line maximum\n",
    "- Connect to headline's impact\n",
    "- Include market implications or broader context\n",
    "- Must explain \"why it matters\"\n",
    "\n",
    "BLURB RULES:\n",
    "- Second sentence: Support with specific data/detail\n",
    "- Third sentence: Add broader context/impact\n",
    "- Maximum 3 short paragraphs\n",
    "- Each paragraph = one distinct point\n",
    "- No empty phrases like:\n",
    "  • \"as events unfold\"\n",
    "  • \"amid escalating\"\n",
    "  • \"recent developments\"\n",
    "  • \"prediction markets indicate\"\n",
    "- No qualifiers like:\n",
    "  • \"staggering\"\n",
    "  • \"dramatic\"\n",
    "  • \"significant\"\n",
    "  • \"unprecedented\"\n",
    "- Lead with data/numbers when they're the news\n",
    "- Cut all prepositional phrases that don't add value\n",
    "- Use active voice\n",
    "- 12-15 words per sentence maximum\n",
    "\n",
    "FORMAT:\n",
    "[HEADLINE] (8 words max)\n",
    "[SUBHEADER] (1 line)\n",
    "[BLURB] (3 paragraphs max)\n",
    "\n",
    "Ensure that you use the exact formatting with the bold markers (**) as shown above.\n",
    "\n",
    "Now, using the provided market_dict and articles, generate a compelling newsletter section following the format above. Remember to focus on the most intriguing aspects of the prediction market, potentially contrasting with news reports if relevant. Craft a headline that captures attention and sparks curiosity, always ensuring your content accurately reflects the time frame specified in the market. If the provided web searches aren't relevant, feel free to focus solely on the fascinating world of the prediction market itself. Keep in mind, that you are going to be asked to do many of these articles in a row, so make your wording unique so you do not repeat phrasings.\n",
    "\n",
    "Input Market Info:\n",
    "{market_dict}\n",
    "\n",
    "Important market analysis to utilize:\n",
    "{response_dict}\n",
    "\n",
    "Input Context from Web:\n",
    "{context}\n",
    "\"\"\"\n",
    "    better_llm = ChatOpenAI(model=\"gpt-4.1-mini\", api_key = openai_api)\n",
    "    structured_llm_better = better_llm.with_structured_output(ArticleOutput)\n",
    "    response = structured_llm_better.invoke([HumanMessage(content=prompt)])\n",
    "    print(\"this is the stuctured article output: \", response.dict())\n",
    "\n",
    "    system_prompt = f\"\"\"You are an expert editor evaluating newsletter content that combines traditional news with prediction market insights from Polymarket. You'll score submissions from 0-10 based on three key criteria:\n",
    "\n",
    "1. Insight Value (0-10):\n",
    "   - Does it reveal non-obvious implications using prediction market data?\n",
    "   - Does it connect market probabilities to real-world implications?\n",
    "   - Does it go beyond surface-level news reporting?\n",
    "   - Is it on an interesting topic? (Sports scores are not interesting. They should get low scores except for occurances where it is beyond predicting a matchup's outcome). Juicy pop culture surprises can be pretty interesting.\n",
    "\n",
    "2. Information Quality (0-10):\n",
    "   - Is the information specific and actionable?\n",
    "   - Is it revealing information that otherwise wouldnt be clear? If it is on a topic in the news with uncertainty, the market could be a big help.\n",
    "   - Are market probabilities clearly connected to conclusions?\n",
    "   - Does it avoid vague or generic statements?\n",
    "   - If it is predicting something at near 100 percent certainty, then it is not that interesting.\n",
    "\n",
    "3. Professionalism & Tone (0-10):\n",
    "   - Is the content respectful and professional?\n",
    "   - Does it maintain appropriate formality when discussing serious topics?\n",
    "   - Does it avoid sensationalism while remaining engaging?\n",
    "\n",
    "The final score is the average of these three scores, rounded to the nearest integer.\n",
    "\n",
    "Here are examples of different quality levels:\n",
    "\n",
    "SCORE 10 EXAMPLE:\n",
    "Headline: \"Market Signals 75% Chance of Fed Rate Pause Through Q2\"\n",
    "Subheader: \"Traders Betting Heavily on Extended Hold Pattern Despite Recent Inflation Data\"\n",
    "Blurb: \"While mainstream coverage focuses on the latest CPI print, Polymarket's fed-futures contract reveals traders are increasingly confident about an extended rate pause. The 75% probability suggests markets have largely priced in stabilizing inflation, despite mixed economic signals. This diverges from traditional analyst forecasts, which remain split on the Fed's next move. For investors, this implies potential opportunities in rate-sensitive sectors that may be mispriced based on mainstream narratives.\"\n",
    "\n",
    "Analysis:\n",
    "- Insight Value: 10/10 - Combines market data with practical investment implications\n",
    "- Information Quality: 10/10 - Specific probabilities and actionable insights\n",
    "- Professionalism: 10/10 - Maintains formal tone while being engaging\n",
    "Total Score: 10/10\n",
    "\n",
    "SCORE 5 EXAMPLE:\n",
    "Headline: \"Ukraine Aid Package Shows 60% Chance of Passage\"\n",
    "Subheader: \"Market Odds Reflect Congressional Uncertainty\"\n",
    "Blurb: \"Polymarket traders are giving the latest Ukraine aid package a 60% chance of passing this month. This matches the general consensus from political analysts, though doesn't provide much additional insight. The market has fluctuated between 55-65% over the past week, suggesting no clear direction yet.\"\n",
    "\n",
    "Analysis:\n",
    "- Insight Value: 4/10 - Mostly restates known information\n",
    "- Information Quality: 6/10 - Clear probabilities but limited analysis\n",
    "- Professionalism: 5/10 - Adequate but could provide more context\n",
    "Total Score: 5/10\n",
    "\n",
    "SCORE 0 EXAMPLE:\n",
    "Headline: \"Markets Predict Chaos in Upcoming Election!!!\"\n",
    "Subheader: \"Traders Betting Big on Political Drama\"\n",
    "Blurb: \"Election markets are going crazy right now! Some traders are betting everything will fall apart, while others think it'll be fine. Numbers are all over the place. Could be really bad news for everyone if things go wrong!!!\"\n",
    "\n",
    "Analysis:\n",
    "- Insight Value: 0/10 - No specific insights or analysis\n",
    "- Information Quality: 0/10 - Vague statements without data\n",
    "- Professionalism: 0/10 - Sensationalist and unprofessional tone\n",
    "Total Score: 0/10\n",
    "\n",
    "Please evaluate the following content and provide a single integer score from 0-10, reflecting the average of the three criteria rounded to the nearest integer. Format your response as JSON with a single key 'score' and an integer value.\n",
    "\n",
    "Content to evaluate: \n",
    "Headline: {response.headline}\n",
    "Subheader: {response.subheader}\n",
    "Blurb: {response.blurb}\n",
    "\"\"\"\n",
    "    score_llm = llm.with_structured_output(article_score)\n",
    "    score_response = score_llm.invoke([HumanMessage(content=system_prompt)])\n",
    "\n",
    "    print(\"returning article with headline: \", response.headline)\n",
    "    if score_response.score > 6:\n",
    "      return {\"newsletter_content\" : [ArticleOutput(\n",
    "              headline=response.headline,\n",
    "              subheader=response.subheader,\n",
    "              blurb=response.blurb,\n",
    "              score=score_response.score,\n",
    "              ticker = market.ticker,\n",
    "              links = market.links\n",
    "          )]}\n",
    "    else:\n",
    "       return {\"skipped_newsletter_content\" : [ArticleOutput(\n",
    "              headline=response.headline,\n",
    "              subheader=response.subheader,\n",
    "              blurb=response.blurb,\n",
    "              score=score_response.score,\n",
    "              ticker = market.ticker,\n",
    "              links = market.links\n",
    "          )]}"
   ]
  },
  {
   "cell_type": "code",
   "execution_count": 84,
   "metadata": {},
   "outputs": [],
   "source": [
    "def continue_to_markets(state: OverallGraph):\n",
    "    return [Send(\"parallel_article_writing\", market) for market in state.markets_list]"
   ]
  },
  {
   "cell_type": "code",
   "execution_count": 85,
   "metadata": {},
   "outputs": [],
   "source": [
    "class ArticleGroups(BaseModel):\n",
    "    article_groups: Dict[str, List[int]] = Field(\n",
    "        default_factory=dict,\n",
    "        description=\"Dictionary of lists, where each list contains ids of a group of articles. The string is the title of the group\"\n",
    "    )"
   ]
  },
  {
   "cell_type": "code",
   "execution_count": 98,
   "metadata": {},
   "outputs": [],
   "source": [
    "def enumerate_articles(articles):\n",
    "    return \"\\n\".join(f\"{article}\" for article in articles)\n",
    "\n",
    "def generate_groups(state: OverallGraph):\n",
    "    llm = ChatOpenAI(model=\"gpt-4o\", api_key=openai_api)  # Fixed model name\n",
    "    structured_llm = llm.with_structured_output(ArticleGroups)\n",
    "    \n",
    "    formatted_articles = \"\\n\".join([\n",
    "        f\"ID {article.id}: {article.headline}\" \n",
    "        for article in state.newsletter_content\n",
    "    ])\n",
    "    \n",
    "    prompt = f\"\"\"You are organizing articles for a prediction market-focused newsletter. \n",
    "Group these articles into standard news categories that would appear in a major newspaper.\n",
    "\n",
    "Guidelines for categories:\n",
    "1. Use quippy, interesting section names that group as many articles as possible\n",
    "2. Requirements:\n",
    "   - Each article must be in exactly one category\n",
    "   - Each category must contain 2-6 related articles. Always at least 3.\n",
    "   - Categories should be broad enough to group related stories\n",
    "   - Put every article in a category.\n",
    "\n",
    "Example format:\n",
    "{{\n",
    "    \"article_groups\": {{\n",
    "        \"US Politics\": [1, 4, 7],\n",
    "        \"Elon's Companies\": [2, 5, 8],\n",
    "        \"NFL Playoffs\": [3, 6, 9]\n",
    "    }}\n",
    "}}\n",
    "\n",
    "Articles to categorize:\n",
    "{formatted_articles}\n",
    "\n",
    "Create appropriate groupings where each article ID is used exactly once.\"\"\"\n",
    "    \n",
    "    try:\n",
    "        result = structured_llm.invoke([SystemMessage(content=prompt)])\n",
    "        print(\"Structured output:\", result)\n",
    "        return {\"article_groups\": result.article_groups}\n",
    "    except Exception as e:\n",
    "        print(f\"Error generating groups: {e}\")\n",
    "        return {\"article_groups\": {}}\n",
    "def send_redundant_groups(state : OverallGraph):\n",
    "    if state.done == True:\n",
    "        print(\"ending\")\n",
    "        print(\"state before ending: \", state)\n",
    "        return END\n",
    "    list_of_lists_of_articles =[]\n",
    "    for redundant_group in state.redundant_groups:\n",
    "        articles_idx_individual = [state.newsletter_content[index] for index in redundant_group]\n",
    "        list_of_lists_of_articles.append(articles_idx_individual)\n",
    "    return [Send(\"combine_articles\", articles) for articles in list_of_lists_of_articles]\n",
    "def combine_articles(articles):\n",
    "    print('fixing this redundant group')\n",
    "    llm = ChatOpenAI(model=\"gpt-4.1-mini\", api_key = openai_api) \n",
    "    structured_llm = llm.with_structured_output(ArticleOutput)\n",
    "    prompt = f\"\"\"\n",
    "    You are a skilled AI editor tasked with condensing multiple prediction market newsletter articles into a single, comprehensive article. Your goal is to distill the most crucial information from each input article while maintaining the engaging style and format of the original pieces.\n",
    "    Input:\n",
    "    You will receive a list of newsletter articles, each following this structure:\n",
    "    Headline: [Attention-grabbing headline]\n",
    "    Subheader: [Supporting subheader adding context]\n",
    "    Blurb: [2-3 sentence paragraph expanding on the headline and subheader]\n",
    "    Instructions:\n",
    "\n",
    "    Analyze all input articles, identifying the most significant and intriguing information from each.\n",
    "    Create a new, overarching headline that captures the essence of the combined articles.\n",
    "    Craft a subheader that provides additional context for the main headline.\n",
    "    Write a concise blurb that synthesizes the key points from all input articles. This blurb should:\n",
    "\n",
    "    Highlight the most interesting prediction market probabilities and movements.\n",
    "    Mention any relevant time frames or end dates for the markets.\n",
    "    Include any notable contrasts with traditional news reporting, if applicable.\n",
    "    Preserve the confident, slightly irreverent tone of the original articles.\n",
    "\n",
    "\n",
    "    Ensure your writing is engaging and assumes an audience familiar with prediction markets.\n",
    "    Be as concise as possible while encoding the maximum amount of relevant information.\n",
    "\n",
    "    Your output should follow this format:\n",
    "    Headline: [Your new, overarching headline]\n",
    "    Subheader: [A supporting subheader that adds context]\n",
    "    Blurb: [A 3-4 sentence paragraph synthesizing key information from all input articles]\n",
    "    Remember to use the exact formatting with the bold markers (**) as shown above.\n",
    "    Now, using the provided input articles, generate a single, comprehensive newsletter article that captures the most crucial information while maintaining the engaging style and format of the original pieces.\n",
    "    Here are the articles:\n",
    "    {articles}\"\"\"\n",
    "    response = structured_llm.invoke([SystemMessage(content=prompt)])\n",
    "    print(\"made this new article out of \", len(articles), \" articles with the headline: \", response.headline)\n",
    "     \n",
    "    return {\"newsletter_content\" : [ArticleOutput(\n",
    "            headline=response.headline,\n",
    "            subheader=response.subheader,\n",
    "            blurb=response.blurb\n",
    "        )]}\n",
    "def remove_redundants(state: OverallGraph):\n",
    "    print(\"removing redundants\")\n",
    "    flat_indices = set([index for sublist in state.redundant_groups for index in sublist])\n",
    "    # Remove items from each sublist\n",
    "    state.newsletter_content = [item for i, item in enumerate(state.newsletter_content) if i not in flat_indices]\n",
    "    return state"
   ]
  },
  {
   "cell_type": "code",
   "execution_count": 87,
   "metadata": {},
   "outputs": [],
   "source": [
    "def check_if_done(state : OverallGraph):\n",
    "    if state.done == True:\n",
    "        return END\n",
    "    else:\n",
    "        return 'combine_similar'\n",
    "    \n",
    "def deduplicate_articles(state: OverallGraph):\n",
    "    return [Send(\"parallel_article_writing\", market) for market in state.markets_list]"
   ]
  },
  {
   "cell_type": "code",
   "execution_count": 99,
   "metadata": {},
   "outputs": [],
   "source": [
    "# Define the graph\n",
    "from IPython.display import Image, display\n",
    "def define_workflow():\n",
    "    workflow = StateGraph(MarketInfo)\n",
    "    \n",
    "    workflow.add_node(\"get_context\", tavily_search)\n",
    "    workflow.add_node(\"generate_newsletter\", generate_newsletter_content)\n",
    "    \n",
    "    workflow.set_entry_point(\"get_context\")\n",
    "    workflow.add_edge(\"get_context\", \"generate_newsletter\")\n",
    "    workflow.add_edge(\"generate_newsletter\", END)\n",
    "\n",
    "    parallel_workflow = StateGraph(OverallGraph)\n",
    "\n",
    "    parallel_workflow.add_node(\"parallel_article_writing\", workflow.compile())\n",
    "    parallel_workflow.set_conditional_entry_point(continue_to_markets, [\"parallel_article_writing\"])\n",
    "    parallel_workflow.add_node(\"generate_groups\", generate_groups)\n",
    "    parallel_workflow.add_edge(\"parallel_article_writing\", \"generate_groups\")\n",
    "    # parallel_workflow.add_node(\"combine_articles\", combine_articles)\n",
    "    # parallel_workflow.add_conditional_edges(\"generate_groups\", send_redundant_groups, [\"combine_articles\", END])\n",
    "    # parallel_workflow.add_node(\"remove_redundants\", remove_redundants)\n",
    "    # parallel_workflow.add_edge(\"combine_articles\", \"remove_redundants\")\n",
    "    parallel_workflow.add_edge(\"generate_groups\", END)\n",
    "    react_graph = parallel_workflow.compile()\n",
    "    \n",
    "\n",
    "\n",
    "    \n",
    "\n",
    "    # Show\n",
    "    #display(Image(react_graph.get_graph(xray=True).draw_mermaid_png()))\n",
    "    \n",
    "    return react_graph"
   ]
  },
  {
   "cell_type": "code",
   "execution_count": 100,
   "metadata": {},
   "outputs": [],
   "source": [
    "def articles_wrapper(days_in_past):\n",
    "    market_info_list = []\n",
    "    graph = define_workflow()\n",
    "    articles = []\n",
    "    full_info = []\n",
    "    markets = get_markets_for_date_range(days_in_past=days_in_past, limit=100)\n",
    "    excluded_tags = [\"Crypto\", \"Weather\", \"Mentions\", \"Sports\"]\n",
    "    filtered_markets = [market for market in markets if not any(tag['label'] in excluded_tags for tag in market.get('tags', []))]\n",
    "    sorted_markets_by_interest = sorted(\n",
    "    {market['title']: market for market in filtered_markets if market.get('interest_score', 0) > 1000}.values(),\n",
    "    key=lambda x: x.get('interest_score', 0),\n",
    "    reverse=True\n",
    ")\n",
    "    print(\"len of markets post score cutoff: \", len(sorted_markets_by_interest))\n",
    "    for market in sorted_markets_by_interest:\n",
    "        market_info_example = MarketInfo(**market)\n",
    "        # market_end_result = app.invoke(market_info_example)\n",
    "        market_info_list.append(market_info_example)\n",
    "        # if market_end_result['newsletter_content']:\n",
    "        #     articles.append(market_end_result['newsletter_content'])\n",
    "        #     full_info.append(market_end_result)\n",
    "    print(\"number of markets going into the graph: \",len(market_info_list))\n",
    "    markets_model = OverallGraph(markets_list=market_info_list)\n",
    "    result = graph.invoke(markets_model)\n",
    "    \n",
    "    return result"
   ]
  },
  {
   "cell_type": "code",
   "execution_count": 102,
   "metadata": {},
   "outputs": [
    {
     "name": "stdout",
     "output_type": "stream",
     "text": [
      "len of markets post score cutoff:  22\n",
      "number of markets going into the graph:  22\n",
      "['<Document href=\"https://neutronbytes.com/2025/04/14/sec-wright-us-saudi-nuclear-agreement-likely/\"/>\\nReuters reports that the United States and Saudi Arabia will sign a preliminary agreement to cooperate over the kingdom’s ambitions to develop a civil nuclear industry, U.S. Energy Secretary Chris Wright told reporters in the Saudi capital Riyadh on Sunday 04/13/25. [...] Published Time: 2025-04-14T13:58:57+00:00\\nSec. Wright ~ US Saudi Nuclear Agreement Likely | Neutron Bytes\\nNeutron Bytes\\nA time traveler from the age of steam. Digital Advocacy for Energy Density.\\n\\nSkip to content\\n\\nHome\\nAdvanced Nuclear Reactor Projects\\nNuclear Energy Information for the Curious\\nPro-Nuclear Groups\\nAbout\\n\\n← Aalo Rolls Out 50 MW SMR Non-nuclear Prototype\\nSec. Wright ~ US Saudi Nuclear Agreement Likely\\nPosted on April 14, 2025 by djysrv [...] Wright met with Saudi Energy Minister Prince Abdulaziz bin Salman earlier on Sunday 04/13/25. He said afterwards that Riyadh and Washington were on a “a pathway” to reaching an agreement to work together to develop a Saudi civil nuclear program\\nWright also acknowledged that further details over a memorandum detailing the energy cooperation between Riyadh and Washington would come later this year.\\n</Document>\\n\\n---\\n\\n<Document href=\"https://www.washingtoninstitute.org/policy-analysis/what-us-saudi-nuclear-pathway-might-mean-iran-talks\"/>\\nWhile visiting Saudi Arabia on April 13—a trip regarded in part as preparation for President Trump’s planned mid-May tour of the Gulf region—U.S. energy secretary Chris Wright announced a preliminary agreement to cooperate on developing the kingdom’s civil nuclear industry. He noted that the two countries were on “a pathway” to such a deal and that further details would come “later in the year.” [...] What a U.S.-Saudi Nuclear “Pathway” Might Mean for the Iran Talks\\nby Simon Henderson\\nApr 16, 2025\\nAlso available in\\n\\nالعربية\\n\\n\\nAbout the Authors [...] Email Alerts\\nSign Up\\nTo top\\nRecommended\\n Brief Analysis Allowing Political Opposition in the New Syria Apr 17, 2025 ◆ * Ishtar Al Shami\\n Brief Analysis Countering Iran\\'s Deceptive Behavior in Nuclear Negotiations Apr 17, 2025 ◆ * Farzin Nadimi\\n Articles & Testimony Trump Shouldn’t Forget the Iranian People Apr 12, 2025 ◆ * Holly Dagres * Azadeh Pourzand * Kelly Shannon\\nTopics\\nEnergy & Economics Gulf & Energy Policy Proliferation\\nRegions & Countries\\nGulf States Iran\\nStay up to date\\n</Document>\\n\\n---\\n\\n<Document href=\"https://www.arabnews.com/node/2596850/amp\"/>\\nRIYADH: The US and Saudi Arabia will sign a preliminary agreement on energy cooperation and civilian nuclear technology, Energy Secretary\\n</Document>\\n\\n---\\n\\n<Document href=\"https://www.reuters.com/world/under-trump-saudi-civil-nuclear-talks-delinked-israel-recognition-sources-say-2025-05-08/\"/>\\nU.S. President Donald Trump looks on as he signs executive orders and proclamations in the Oval Office at the White House, in Washington, D.C., U.S., May 5, 2025. REUTERS/Leah Millis/File Photo Purchase Licensing Rights, opens new tab\\n\\n\\nSummary\\n\\n\\nSaudi nuclear talks delinked from diplomatic normalisation with Israel, two sources say, in what would be a concession by Washington [...] In a possible sign of a new approach, U.S. Energy Secretary Chris Wright said that Saudi Arabia and the United States were on a \"pathway\" to a civil nuclear agreement when he visited the kingdom in April.\\nAdvertisement · Scroll to continue\\n\"When we have something to announce, you will hear it from the President. Any reports on this are speculative,” U.S. National Security Council spokesman James Hewitt told Reuters in response to a request for comment. [...] Science\\nLifestyle\\nCity Memo\\nGraphics\\nPictures\\nWider Image\\nPodcasts\\nLive\\nFact Check\\nVideo\\nSponsored Content\\n\\nReuters Plus\\nPress Releases\\n\\n\\n\\nMy News\\nSign InSubscribe - $1/wk\\nFeedback\\nExclusive: Under Trump, Saudi civil nuclear talks delinked from Israel recognition, sources say\\nBy Pesha Magid\\nMay 8, 20253:33 PM UTCUpdated 2 days ago\\n</Document>\\n\\n---\\n\\n<Document href=\"https://www.spglobal.com/commodity-insights/en/news-research/latest-news/electric-power/041625-us-to-open-negotiations-with-saudi-arabia-on-nuclear-agreement-other-energy-issues\"/>\\nThe US Department of Energy has outlined a framework for a broad energy agreement with Saudi Arabia that includes working toward a US-Saudi\\n</Document>']\n"
     ]
    },
    {
     "name": "stderr",
     "output_type": "stream",
     "text": [
      "/Users/ethangoldberg/opt/anaconda3/envs/polynews/lib/python3.11/site-packages/langgraph/utils/runnable.py:408: UserWarning: WARNING! parallel_tool_calls is not default parameter.\n",
      "                parallel_tool_calls was transferred to model_kwargs.\n",
      "                Please confirm that parallel_tool_calls is what you intended.\n",
      "  input = step.invoke(input, config, **kwargs)\n"
     ]
    },
    {
     "name": "stdout",
     "output_type": "stream",
     "text": [
      "['<Document href=\"https://press.un.org/en/2024/gapal1469.doc.htm\"/>\\n417th Meeting (PM)\\nGA/PAL/1469\\n26 June 2024\\nAs More Governments Recognize State of Palestine, Crucial to Keep Focus on Political Horizon, Implementing Ceasefire, Permanent Observer Tells Rights Committee\\nCiting Overwhelming Evidence of Systematic Discrimination, Norms Violations, International Public Law Expert Discusses Critical Pending Case at The Hague [...] Highlights of General Assembly 79th Session\\nNew York, 10 Sep. - 24 Dec. 2024\\n\\nHigh-level meetings of the 79th session of the General Assembly\\n24-30 September 2024, New York\\n\\nSummit of the Future\\n22-23 September 2024, New York\\n\\nFourth International Conference on Small Island Developing States\\n27-30 May 2024, Antigua and Barbuda\\n\\n68th Session of the Commission on the Status of Women\\nNew York, 11-22 March 2024\\n\\nHighlights of the Security Council Activities\\nDaily Noon Briefing\\n</Document>\\n\\n---\\n\\n<Document href=\"https://en.wikipedia.org/wiki/International_recognition_of_Palestine\"/>\\nPalestine.[294]In October 2024, Mexican presidentClaudia Sheinbaumstated that a recognition of a Palestinian state was the right move to achieve peace.[295] | Yes | G20, OAS;Mexico–Palestine relations [...] State of Palestine yet. In May 2024, Foreign MinisterHadja Lahbibstated that recognition was not up for discussion, but it wouldn\\'t be granted at the time,[217]while Prime MinisterAlexander De Croostressed that recognition was \"symbolic\" and wouldn\\'t have \"any impact in the field\".[218] | Yes | EU, NATO [...] As of June 2024, the State of Palestine is recognized as a sovereign state by 146 of the 193 member states of the United Nations, or just over 75% of all UN members.[1][2][3] It has been a non-member observer state of the United Nations General Assembly since November 2012.[4][5] This limited status is largely due to the fact that the United States, a permanent member of the UN Security Council with veto power, has consistently used its veto or threatened to do so to block Palestine\\'s full UN\\n</Document>\\n\\n---\\n\\n<Document href=\"https://www.jpost.com/middle-east/article-853387\"/>\\nMiddle East\\nGulf diplomatic sources debate if Trump will announce US recognition of Palestinian state\\nSaudi Arabia will host a Gulf-US summit in mid-May during Trump’s Mideast visit. Speculation swirls over a major announcement on a Palestinian state, and peaceful US-Saudi nuclear cooperation\\nBy ALI HUSSAIN/THE MEDIA LINE\\nMAY 10, 2025 02:34\\nUpdated: MAY 10, 2025 20:37 [...] Published Time: 2025-05-10T02:34Z\\nWill the United States recognize \\'Palestine\\' under Donald Trump? - The Jerusalem Post\\n                                                                      ![Image 2](https://ib.adnxs.com/getuid?https%3A%2F%2Fp2.gcprivacy.com%2Fv3%2Fid%2Fxandr%3Fpid%3D6CP1D%26id%3D%24UID%26gcid%3D788fa9ac-987e-4767-a65a-8a1da4a25912)\\n\\nAdvertisement\\nNY Conference Israel News Health & Wellness WORLD NEWS Middle East Business & Innovation Opinion JP Store\\n\\nLogin\\n\\nLog Out [...] The source also added, \"If an announcement of American recognition of the State of Palestine is made, it will be the most important declaration that will change the balance of power in the Middle East, and more countries will join the Abraham Accords.\"\\nThe source confirmed that economic agreements will certainly be present, but many of them have already been announced, and we may witness the Gulf states being exempted from tariffs.\\n</Document>\\n\\n---\\n\\n<Document href=\"https://www.uscis.gov/humanitarian/deferred-enforced-departure/ded-covered-population-palestinians\"/>\\nALERT:\\xa0On Feb. 14, 2024, President Biden issued a\\xa0memorandum on DED for Palestinians authorizing Deferred Enforced Departure (DED) and employment authorization for 18 months for eligible Palestinians through Aug. 13, 2025. Eligible Palestinians include those who were present in the United States\\xa0on\\xa0Feb. 14, 2024, and have continuously resided in the United States\\xa0since\\xa0then.\\xa0For more information, see the\\xa0Federal Register notice.\\nDED Period: Feb. 14, 2024 – Aug. 13, 2025\\n</Document>\\n\\n---\\n\\n<Document href=\"https://www.state.gov/countries-areas/palestinian-territories/\"/>\\nThe United States is strongly committed to the development of a secure, free, democratic, and stable Palestinian society and governance. The U.S. government remains committed to a negotiated solution to the Israeli-Palestinian conflict and believes that Israelis and Palestinians alike deserve equal measures of freedom, security and prosperity. The United States will continue to work with the Palestinian Authority (PA) and the Palestinian people – including civil society – to advance these [...] U.S.-Palestinian Relations\\nThe United States is strongly committed to the development of a secure, free, democratic, and stable Palestinian society and governance. The U.S. government remains committed to a negotiated solution to the Israeli-Palestinian conflict and believes that Israelis and Palestinians alike deserve equal measures of freedom, security and prosperity. The United States will continue to work with the Palestinian [...] objectives. In addition, the U.S. government aims to promote and protect human rights for the Palestinian people, and encourages the Palestinian Authority to promote and protect the rights of the Palestinians as it works to fulfill the aspirations of the Palestinian people and enjoy lasting peace with Israel. Supporting a negotiated two-state solution will continue to be a core U.S. policy objective.\\n</Document>']\n",
      "['<Document href=\"https://x.com/danilocascaldi/with_replies?lang=ta\"/>\\n... May 22nd-23rd, 2025. The deadline for full paper submissions is March ... After Elon Musk bought Twitter and renamed it X, academic discussions dried\\n</Document>\\n\\n---\\n\\n<Document href=\"https://x.com/datarepublican\"/>\\n• Elon Musk - “Worth following” • Charlie Kirk - “You\\'re a must follow ... May 9. Thank you for being a subscriber. Please consider subscribing to me\\n</Document>\\n\\n---\\n\\n<Document href=\"https://x.com/emerywells\"/>\\n2025 is age of the \"cracked\" and \"unhinged\". Hard to feel like we\\'re not entering a golden era.\\n</Document>\\n\\n---\\n\\n<Document href=\"https://x.com/jessicanutt96\"/>\\nEvery single horse in the 2025 Kentucky Derby field is a descendant of the legendary \\'Secretariat\\' ... Elon Musk. 31. 2K.\\n</Document>\\n\\n---\\n\\n<Document href=\"https://x.com/jeremybmerrill\"/>\\nNew: Elon Musk\\'s X is throttling traffic to news websites and competitors he dislikes. Five-second delays on links to New York Times, Reuters, Facebook,\\n</Document>']\n"
     ]
    },
    {
     "name": "stderr",
     "output_type": "stream",
     "text": [
      "/Users/ethangoldberg/opt/anaconda3/envs/polynews/lib/python3.11/site-packages/langgraph/utils/runnable.py:408: UserWarning: WARNING! parallel_tool_calls is not default parameter.\n",
      "                parallel_tool_calls was transferred to model_kwargs.\n",
      "                Please confirm that parallel_tool_calls is what you intended.\n",
      "  input = step.invoke(input, config, **kwargs)\n",
      "/Users/ethangoldberg/opt/anaconda3/envs/polynews/lib/python3.11/site-packages/langgraph/utils/runnable.py:408: UserWarning: WARNING! parallel_tool_calls is not default parameter.\n",
      "                parallel_tool_calls was transferred to model_kwargs.\n",
      "                Please confirm that parallel_tool_calls is what you intended.\n",
      "  input = step.invoke(input, config, **kwargs)\n",
      "/Users/ethangoldberg/opt/anaconda3/envs/polynews/lib/python3.11/site-packages/langgraph/utils/runnable.py:408: UserWarning: WARNING! parallel_tool_calls is not default parameter.\n",
      "                parallel_tool_calls was transferred to model_kwargs.\n",
      "                Please confirm that parallel_tool_calls is what you intended.\n",
      "  input = step.invoke(input, config, **kwargs)\n"
     ]
    },
    {
     "name": "stdout",
     "output_type": "stream",
     "text": [
      "['<Document href=\"https://www.youtube.com/watch?v=Ehfdwu7jMBA\"/>\\nPope Leo XIV makes first trip outside the Vatican\\n13News Now\\n297000 subscribers\\n19 likes\\n5588 views\\n10 May 2025\\nTwo days after his historic election, Pope Leo XIV made his first trip outside the Vatican, visiting an ancient Augustinian shrine and praying at the tomb of his predecessor, Pope Francis. He also expressed concern about AI and made clear he would continue reforms instituted by Francis.\\r\\n\\r\\nSubscribe: https://www.youtube.com/user/wvectv/?sub_confirmation=1\\n</Document>\\n\\n---\\n\\n<Document href=\"https://www.cbsnews.com/news/pope-leo-xiv-lays-out-vision-papacy-artificial-intelligence/\"/>\\nPope Leo XIV meets the College of Cardinals in the New Synod Hall at the Vatican, Saturday, May 10, 2025. Vatican Media / AP\\nThe late Argentine pope also used his 2024 annual peace message to call for an international treaty to ensure AI is developed and used ethically, arguing that a technology lacking human values of compassion, mercy, morality and forgiveness is too perilous to develop unchecked. [...] Pope Leo XIV, left, is flanked by Monsignor Leonardo Sapienza, second from left, after his meeting with the College of Cardinals in the New Synod Hall at the Vatican, Saturday, May 10, 2025.\\xa0 Vatican Media / AP\\nIn his first formal audience, Leo repeatedly cited Francis and the Argentine pope\\'s own 2013 mission statement, making clear a commitment to making the Catholic Church more inclusive, attentive to the faithful and a church that looks out for the \"least and rejected.\" [...] Pope Leo XIV meets the College of Cardinals in the New Synod Hall at the Vatican, Saturday, May 10, 2025.\\xa0 Vatican Media / AP\\n</Document>\\n\\n---\\n\\n<Document href=\"https://www.vaticannews.va/en/pope/news/2025-05/pope-leo-xiv-prays-mary-and-before-francis-santa-maria-maggiore.html\"/>\\nEarlier on Saturday, less than 48 hours after he was elected Pope, Pope Leo made his first visit outside the Vatican, travelling to the Shrine of the Mother of Good Counsel in Genazzano, just outside Rome.\\n\\nWhile there, he said he \"greatly desired to come here in these first days of my new Ministry... that the Church has entrusted to me.\"\\n\\nMarian Shrine beloved to the Augustinians\\n</Document>\\n\\n---\\n\\n<Document href=\"https://www.cnn.com/world/live-news/new-pope-conclave-day-two-05-08-25\"/>\\nLydon noted the pope’s internationalism: “There’s a way of thinking that’s not the same way of thinking in other parts of the world, so that’s one thing I caution Americans to think: He’s not an American pope, he’s a pope who happened to be born in the United States.” [...] The new pope spent much of his career as a missionary in South America and served as a bishop in Peru, where he also holds citizenship. [...] Peru\\'s President Dina Boluarte speaks to members of the press at the government palace in Lima on April 05, 2024.\\nAFP/Getty Images\\nPeru President Dina Boluarte called Pope Leo XIV’s selection to lead the Catholic Church a “historic moment for Peru and the world,” in an address today.\\nLeo, spent much of his career as a missionary in South America. He worked for a decade in Trujillo and was later appointed bishop of Chiclayo, another Peruvian city, where he served from 2014 to 2023.\\n</Document>\\n\\n---\\n\\n<Document href=\"https://abcnews.go.com/International/new-american-pope-leo-xiv-robert-prevost/story?id=121604332\"/>\\nNewly elected Pope Leo XIV, Cardinal Robert Prevost of the United States appears on the balcony of St. Peter\\'s Basilica, at the Vatican, May 8, 2025.\\nGuglielmo Mangiapane/Reuters\\nOver an hour after the white smoke emerged, the new pope, clad in his papal vestments, stepped onto the balcony of St. Peter\\'s Basilica and greeted the world. [...] 1:37\\nNewly elected Pope Leo XIV, Cardinal Robert Prevost of the United States appears on the balcony of St. Peter\\'s Basilica, at the Vatican, May 8, 2025.\\nGuglielmo Mangiapane/Reuters\\nThe Catholic Church has a new pope.\\nAmerican Cardinal Robert Prevost has been elected the 267th pontiff. He has chosen the name Leo XIV, a senior cardinal deacon announced.\\nThe 69-year-old Chicago native is the first American pope and is seen as a diplomat in the church.\\n### MORE: Papal conclave live updates\\n</Document>']\n",
      "['<Document href=\"https://www.cnbc.com/2025/05/09/trump-deportation-habeas-corpus-miller.html\"/>\\nWhite House deputy chief of staff for policy Stephen Miller speaks to the media outside the White House in Washington, D.C., U.S., May 9, 2025.\\nKent Nishimura | Reuters\\nWhite House deputy chief of staff for policy Stephen Miller said Friday that the Trump administration is “actively looking at” suspending the writ of habeas corpus — the constitutional right to challenge in court the legality of a person’s detention by the government — for migrants. [...] Livestream\\n\\nCREATE FREE ACCOUNT\\nMarkets\\nBusiness\\nInvesting\\nTech\\nPolitics\\nVideo\\nWatchlist\\nInvesting Club\\n\\nPRO\\n\\nLivestream\\nMenu\\nPolitics\\nTrump administration ‘looking at’ suspending habeas corpus for migrants, Stephen Miller says\\nPublished Fri, May 9 20253:26 PM EDTUpdated Fri, May 9 20256:37 PM EDT\\n\\nDan Mangan@_DanMangan\\nWATCH LIVE\\nShareShare Article via FacebookShare Article via TwitterShare Article via LinkedInShare Article via Email\\nKey Points [...] Published Time: 2025-05-09T19:26:38+0000\\nTrump eyes suspending habeas corpus for migrants\\nSkip Navigation\\n\\n\\nTrump administration ‘looking at’ suspending habeas corpus for migrants, Stephen Miller says\\n\\nLivestream\\n\\nCREATE FREE ACCOUNT\\nMarkets\\n\\nPre-Markets\\nU.S. Markets\\nCurrencies\\nCryptocurrency\\nFutures & Commodities\\nBonds\\nFunds & ETFs\\n\\nBusiness\\n\\nEconomy\\nFinance\\nHealth & Science\\nMedia\\nReal Estate\\nEnergy\\nClimate\\nTransportation\\nIndustrials\\nRetail\\nWealth\\nSports\\nLife\\nSmall Business\\n\\nInvesting\\n</Document>\\n\\n---\\n\\n<Document href=\"https://www.nbcnews.com/politics/immigration/legal-experts-habeas-corpus-stephen-miller-rcna206130\"/>\\nMay 12, 2025, 3:11 AM UTC\\xa0/\\xa0Updated\\xa0May 12, 2025, 4:22 AM UTC\\nBy David Rohde\\nLegal experts and Democrats expressed growing alarm over the weekend that Trump administration officials are openly discussing unilaterally suspending habeas corpus — a bedrock American\\xa0legal\\xa0right —\\xa0without the approval of Congress.\\n</Document>\\n\\n---\\n\\n<Document href=\"https://www.washingtonpost.com/politics/2025/05/10/what-is-habeas-corpus-suspension/\"/>\\nHabeas corpus, the right of an individual to challenge their detention in court, can only be suspended by Congress.\\nUpdated\\nMay 10, 2025 at 3:14 p.m. EDTyesterday at 3:14 p.m. EDT\\n4 min\\n2198 [...] Published Time: 2025-05-10T14:49:11.680Z\\nTrump administration ‘actively looking at’ suspending habeas corpus - The Washington Post\\nAccessibility statementSkip to main content\\nDemocracy Dies in Darkness\\nSubscribeSign in\\nAdvertisement\\nDemocracy Dies in Darkness\\nPoliticsDonald TrumpThe FixThe BriefsPollingDemocracy in AmericaElections\\nPoliticsDonald TrumpThe FixThe BriefsPollingDemocracy in AmericaElections\\nTrump officials suggest suspending habeas corpus. Here’s what it means.\\n</Document>\\n\\n---\\n\\n<Document href=\"https://www.cnn.com/2025/05/10/politics/habeas-corpus-explained\"/>\\nAd Feedback\\nWhat is habeas corpus, the legal procedure Trump is considering suspending?\\n\\nBy Shania Shelton, CNN\\n4 minute read\\nPublished 3:14 PM EDT, Sat May 10, 2025\\n\\nLink Copied!\\nFollow:\\nDonald Trump See your latest updates\\nVideo Ad Feedback\\nStephen Miller says Trump administration \\'looking at\\' suspending habeas corpus\\n03:14 - Source: CNN\\nPolitics of the Day 13 videos\\n\\nVideo Ad Feedback\\n64-year-old social worker carried out of GOP lawmaker\\'s town hall\\n00:45\\nNow playing\\n- Source: CNN [...] Trump involved in discussions over suspending habeas corpus, sources say May 10, 2025 4 minute readmin read\\nJudge halts drastic cuts to agencies being done under Trump executive order May 10, 2025 4 minute readmin read\\nFederal judge probing whether Trump has the power to bring back migrants deported to El Salvador May 7, 2025 2 minute readmin read\\nFederal judge says Libya deportation flight could violate prior court order May 7, 2025 4 minute readmin read [...] Published Time: 2025-05-10T19:14:22.578Z\\nWhat is habeas corpus, the legal procedure Trump is considering suspending? | CNN Politics\\n</Document>\\n\\n---\\n\\n<Document href=\"https://apnews.com/article/habeas-corpus-trump-migrants-deportations-constitution-28a598363d03bfc9448b5132c72f2b3d\"/>\\n1 of 3\\xa0|\\xa0White House Deputy Chief of Staff Stephen Miller speaks to reporters outside the White House, Friday, May 9, 2025, in Washington. (AP Photo/Mark Schiefelbein)\\nRead More [...] ![Image 8: White House Deputy Chief of Staff Stephen Miller speaks to reporters outside the White House, Friday, May 9, 2025, in Washington. (AP Photo/Mark Schiefelbein)](https://dims.apnews.com/dims4/default/938f202/2147483647/strip/true/crop/4187x2791+0+0/resize/599x399!/quality/90/?url=https%3A%2F%2Fassets.apnews.com%2Fc4%2F91%2F3f0a4f22f89e904674ff5ed26ee5%2Fa2f1fc08a9de4e59b17592d6daac951e) [...] ![Image 5: White House Deputy Chief of Staff Stephen Miller speaks to reporters outside the White House, Friday, May 9, 2025, in Washington. (AP Photo/Mark Schiefelbein)](https://dims.apnews.com/dims4/default/938f202/2147483647/strip/true/crop/4187x2791+0+0/resize/599x399!/quality/90/?url=https%3A%2F%2Fassets.apnews.com%2Fc4%2F91%2F3f0a4f22f89e904674ff5ed26ee5%2Fa2f1fc08a9de4e59b17592d6daac951e)\\n</Document>']\n",
      "['<Document href=\"https://www.youtube.com/watch?v=u7igqwtbg9E\"/>\\nIsrael Plans Major Offensive to Capture All of Gaza | CBN NewsWatch - May 5, 2025\\nCBN News\\n2360000 subscribers\\n693 likes\\n23448 views\\n5 May 2025\\n</Document>\\n\\n---\\n\\n<Document href=\"https://news.un.org/en/story/2025/05/1162946\"/>\\nGuterres alarmed by Israeli plans to expand Gaza ground offensive\\n5 May 2025\\nPeace and Security\\nThe UN Secretary-General is alarmed by reports of Israeli plans to expand ground operations and prolong its military presence in Gaza, a spokesperson for António Guterres said on Monday.\\nResources Button collapse\\n\\nNavigate the News\\nInformation for Broadcasters\\nUN System Links\\nMedia Alert\\nUN Journal\\nMeetings Coverage\\nAudiovisual Library\\n\\nSecretary-General Button collapse\\n</Document>\\n\\n---\\n\\n<Document href=\"https://news.un.org/en/story/2025/05/1162911\"/>\\n© UNICEF/Eyad El Baba\\nA girl stands amidst the rubble of her destroyed home in Rafah, Gaza.\\nFacebook Twitter Print Email\\nGuterres alarmed by Israeli plans to expand Gaza ground offensive\\n5 May 2025 Peace and Security\\nThe UN Secretary-General is alarmed by reports of Israeli plans to expand ground operations and prolong its military presence in Gaza, a spokesperson for António Guterres said on Monday. [...] UN warns of growing humanitarian catastrophe in Gaza\\n4 May 2025\\nHumanitarian Aid\\nThe UN and partners on Sunday issued a stark warning over the deepening humanitarian crisis in Gaza, as Israeli authorities maintain a near-total blockade on the delivery of aid for a ninth consecutive week.\\nResources Button collapse\\n\\nNavigate the News\\nInformation for Broadcasters\\nUN System Links\\nMedia Alert\\nUN Journal\\nMeetings Coverage\\nAudiovisual Library\\n\\nSecretary-General Button collapse [...] Published Time: 2025-05-05T15:09:40-04:00\\nGuterres alarmed by Israeli plans to expand Gaza ground offensive | UN News\\nSkip to main content / navigation\\nWelcome to the United Nations\\nLanguage\\n\\nالعربية\\n中文\\nEnglish\\nFrançais\\nРусский\\nEspañol\\nPortuguês\\nKiswahili\\nOther\\nHindi हिंदी\\nUrdu اردو\\nGlobal\\n\\n\\n\\n\\nUN News\\nGlobal perspective Human stories\\nEnglish Search\\nSearch\\nAdvanced Search\\nLanguage\\n\\nالعربية\\n中文\\nEnglish\\nFrançais\\nРусский\\nEspañol\\nPortuguês\\nKiswahili\\nOther\\nHindi हिंदी\\nUrdu اردو\\nGlobal\\n</Document>\\n\\n---\\n\\n<Document href=\"https://apnews.com/article/israel-palestinians-hamas-war-news-05-05-2025-d22caabfd2cf89e83fe06e649e6438ba\"/>\\nAn Israeli army tank maneuvers in the Gaza Strip is seen from southern Israel, Sunday, May 4, 2025. (AP Photo/Ariel Schalit)\\n    ![Image 16: An Israeli army tank maneuvers in the Gaza Strip is seen from southern Israel, Sunday, May 4, 2025. (AP Photo/Ariel Schalit)](https://dims.apnews.com/dims4/default/7be1fea/2147483647/strip/true/crop/3070x2046+0+0/resize/599x399!/quality/90/?url=https%3A%2F%2Fassets.apnews.com%2F2f%2Fb8%2F587422fe1fb2df6a5e1e55ec7f56%2Fa243f78be02e4bd595d740fc8841d116) [...] An Israeli army tank maneuvers in the Gaza Strip is seen from southern Israel, Sunday, May 4, 2025. (AP Photo/Ariel Schalit)\\nShare\\nShare\\n\\nFacebook\\n\\nCopy\\nLink copied\\n\\n\\nPrint\\n\\nEmail\\nX\\nLinkedIn\\nBluesky\\nFlipboard\\nPinterest\\nReddit [...] ![Image 15: An Israeli army tank maneuvers in the Gaza Strip is seen from southern Israel, Sunday, May 4, 2025. (AP Photo/Ariel Schalit)](https://dims.apnews.com/dims4/default/7be1fea/2147483647/strip/true/crop/3070x2046+0+0/resize/599x399!/quality/90/?url=https%3A%2F%2Fassets.apnews.com%2F2f%2Fb8%2F587422fe1fb2df6a5e1e55ec7f56%2Fa243f78be02e4bd595d740fc8841d116)\\n</Document>\\n\\n---\\n\\n<Document href=\"https://www.aljazeera.com/news/liveblog/2025/5/12/live-israel-pounds-gaza-killing-26-hamas-to-release-us-israeli-captive\"/>\\nPalestinians wait in queues to receive pots of food, that distributed by a charity organisation, as they face food crisis as Israel has completely closed the border gates to humanitarian aid since March 2 and continues its attacks in Gaza City, Gaza on May 11, 2025. [Mahmoud İssa/Anadolu]\\nClick here to share on social media\\n\\n\\n\\nSource: Al Jazeera and news agencies\\nAdvertisement\\n\\n\\n\\n\\nAboutShow more\\n</Document>']\n"
     ]
    },
    {
     "name": "stderr",
     "output_type": "stream",
     "text": [
      "/Users/ethangoldberg/opt/anaconda3/envs/polynews/lib/python3.11/site-packages/langgraph/utils/runnable.py:408: UserWarning: WARNING! parallel_tool_calls is not default parameter.\n",
      "                parallel_tool_calls was transferred to model_kwargs.\n",
      "                Please confirm that parallel_tool_calls is what you intended.\n",
      "  input = step.invoke(input, config, **kwargs)\n",
      "/Users/ethangoldberg/opt/anaconda3/envs/polynews/lib/python3.11/site-packages/langgraph/utils/runnable.py:408: UserWarning: WARNING! parallel_tool_calls is not default parameter.\n",
      "                parallel_tool_calls was transferred to model_kwargs.\n",
      "                Please confirm that parallel_tool_calls is what you intended.\n",
      "  input = step.invoke(input, config, **kwargs)\n"
     ]
    },
    {
     "name": "stdout",
     "output_type": "stream",
     "text": [
      "['<Document href=\"https://www.reuters.com/business/healthcare-pharmaceuticals/trump-says-he-will-cut-drug-prices-by-59-2025-05-12/\"/>\\nPublished Time: 2025-05-12T10:37:21.716Z\\nTrump calls for broad drug price cuts in executive order | Reuters\\nSkip to main content\\nReport This Ad\\nExclusive news, data and analytics for financial market professionalsLearn more aboutRefinitiv\\n\\n\\n\\nWorld\\nBrowse World\\n\\nAfrica\\nAmericas\\nAsia Pacific\\nChina\\nEurope\\nIndia\\n\\nIsrael and Hamas at War\\n\\n\\nJapan\\n\\nMiddle East\\nUkraine and Russia at War\\nUnited Kingdom\\nUnited States\\nReuters NEXT\\n\\n\\n\\nBusiness\\nBrowse Business [...] Science\\nLifestyle\\nCity Memo\\nGraphics\\nPictures\\nWider Image\\nPodcasts\\nLive\\nFact Check\\nVideo\\nSponsored Content\\n\\nReuters Plus\\nPress Releases\\n\\n\\n\\nMy News\\nSign InSubscribe - $1/wk\\nTrump calls for broad drug price cuts in executive order\\nBy Patrick Wingrove and Michael Erman\\nMay 12, 20252:27 PM UTCUpdated 13 min ago\\n\\n\\n\\n\\n\\n\\n\\n\\n\\n\\n\\nU.S. dollar banknote and medicines are seen in this illustration taken, June 27, 2024. REUTERS/Dado Ruvic/Illustration//File Photo Purchase Licensing Rights, opens new tab [...] Trump said on social media on Monday that drug prices would be cut by 59%. The estimate followed comments he made on Sunday that he would sign the order pursuing \"most favored nation\" pricing, resulting in cuts of 30% to 80%.\\nThe White House officials did not specify any targets.\\nTrump\\'s order also directs the government to consider facilitating direct-to-consumer purchasing programs that would sell drugs at the prices other countries pay.\\n</Document>\\n\\n---\\n\\n<Document href=\"https://www.cbsnews.com/news/lower-medications-cost-trump-truth-social-executive-order/\"/>\\nWatch CBS News\\n\\nTrump says he will order that the U.S. pay only the price other nations do for some drugs\\n\\nUpdated on:  May 11, 2025 / 10:07 PM EDT\\n          / CBS/AP\\n\\nPresident Trump says he\\'ll sign an executive order on Monday that, if implemented, he says could bring down the costs of some medications. It is an attempt to revive a program he tried and failed to implement during his first term. [...] The president last week teased a \"very big announcement\" in the Oval Office, and sources confirmed to CBS News on Friday it would be the so-called \"most favored nation\" plan to cut Medicare drug prices.\\n\\nMr. Trump\\'s Health and Human Services Secretary Robert F. Kennedy Jr. also hinted at the policy on Tuesday, pointing to higher prices in Europe for the blockbuster diabetes drug Ozempic. [...] \"I will be instituting a MOST FAVORED NATION\\'S POLICY whereby the United States will pay the same price as the Nation that pays the lowest price anywhere in the World,\" the president posted Sunday on his social media site, pledging to sign the order on Monday morning at the White House.\\n\\n\"Our Country will finally be treated fairly, and our citizens Healthcare Costs will be reduced by numbers never even thought of before,\" Mr. Trump added.\\n</Document>\\n\\n---\\n\\n<Document href=\"https://www.theguardian.com/us-news/2025/may/12/trump-drug-prices-rfk-jr\"/>\\nThe policy plan, dubbed “most favored nation”, would force pharmaceutical companies to match the lowest global prices, in effect ending what Trump describes as systematic overcharging.\\n\\nThe new order aims to level the global pharmaceutical playing field, with Trump suggesting that “Europe’s going to have to pay a little bit more” while Americans will pay “a lot less”.\\n\\nKennedy also backed the plan from the podium, saying that this is a policy that American progressives should get behind. [...] Trump signs order aiming to slash US drug prices to match those abroad\\n\\nHealth policy experts support the ‘most favored nation’ plan, but doubt it will withstand likely legal challenges\\n\\nThe White House is unveiling an aggressive drug pricing strategy targeting pharmaceutical companies, promising to dramatically cut prescription drug costs for American consumers. [...] “I have a couple of kids who are Democrats or big Bernie Sanders fans, and when I told them that this was going to happen, they had tears in their eyes,” Kennedy said. “They thought this is never going to happen in our lifetime.”\\n\\nDuring the final months of his first term, the Trump administration sought to push through a “most favored nation” plan, which would have tied reimbursements for 50 drugs by Medicare to the lowest prices paid by certain other countries.\\n</Document>\\n\\n---\\n\\n<Document href=\"https://www.nbcnews.com/health/health-news/trump-executive-order-prescription-drugs-price-match-rcna206218\"/>\\nThe new order directs Health and Human Services Secretary Robert F. Kennedy Jr. to come up with price-cutting goals within 30 days, White House officials said on a call Monday. The move will kick off a round of negotiations between Kennedy and the drug industry.\\n\\nShould talks stall, Kennedy will move to enforce the “most favored nation” pricing model, capping the U.S. prices at the lowest rates paid by other wealthy nations. [...] Berkeley Lovelace Jr. is a health and medical reporter for NBC News. He covers the Food and Drug Administration, with a special focus on Covid vaccines, prescription drug pricing and health care. He previously covered the biotech and pharmaceutical industry with CNBC.\\n\\n©\\xa02025 NBCUniversal Media, LLC [...] “We are not going to get the price paid by South Africa, Peru, Egypt, Bolivia and Laos,” Caplan said. “Drug companies usually give whopping discounts to very poor countries on humanitarian grounds they won’t give rich countries. The prices paid in the poorest nations have no chance of being the price paid by the Trump administration.”\\n</Document>\\n\\n---\\n\\n<Document href=\"https://www.usatoday.com/story/news/politics/2025/05/12/trump-drug-price-executive-order/83577269007/\"/>\\nDuring his first term, Trump in 2020 had pushed a similar \"most favored nation\" rule for drug prices that would have\\xa0applied to Medicare payments\\xa0but\\xa0was later rescinded\\xa0by the Biden administration. The new executive order builds on that policy by not limiting it to certain drugs under Medicare but also including Medicaid and private sector insurance available on the commercial marker, said White House Spokesman Kush Desai. [...] The Secretary of Health and Human Services Robert F. Kennedy Jr. will set targets for price reductions across all markets in the U.S. within 30 days, a White House official said on May 12.\\n\\nIf adequate progress is not made toward the price reduction targets, the health secretary will impose most favored nation pricing via a rulemaking, according to the official.\\n\\nHow do U.S. drug prices compare to other countries? [...] The Biden administration already negotiated lower prices on 10 widely prescribed drugs such as Xarelto or Eliquis, which will take effect in 2026. In January, Medicare announced another batch of 15 drugs subject to negotiation this year. Those drugs included blockbuster diabetes and weight loss drugs Ozempic and Wegovy, a cost-saving move that would take effect in 2027.\\n</Document>']\n"
     ]
    },
    {
     "name": "stderr",
     "output_type": "stream",
     "text": [
      "/Users/ethangoldberg/opt/anaconda3/envs/polynews/lib/python3.11/site-packages/langgraph/utils/runnable.py:408: UserWarning: WARNING! parallel_tool_calls is not default parameter.\n",
      "                parallel_tool_calls was transferred to model_kwargs.\n",
      "                Please confirm that parallel_tool_calls is what you intended.\n",
      "  input = step.invoke(input, config, **kwargs)\n"
     ]
    },
    {
     "name": "stdout",
     "output_type": "stream",
     "text": [
      "['<Document href=\"https://members.asicentral.com/news/industry-news/may-2025/us-china-agree-to-substantially-lower-tariffs-for-90-days/\"/>\\nStarting May 14, the U.S. will drop the tariff rate it has imposed on China-made imports so far in 2025 from 145% to 30%.\\n</Document>\\n\\n---\\n\\n<Document href=\"https://www.nbcnews.com/world/asia/tariffs-china-trump-agree-slash-levies-duties-business-markets-bessent-rcna206193\"/>\\nPublished Time: 2025-05-12T07:31:50.121Z\\nU.S. and China agree to slash reciprocal tariffs in major step toward easing trade war\\nIE 11 is not supported. For an optimal experience visit our site on another browser.\\nMorning Rundown: A major de-escalation in trade war with China, Hamas to release U.S. citizen and Trump admin\\'s threat to suspend habeas corpus\\nSkip to Content\\n\\nSponsored By\\n\\nTrump admin\\nPolitics\\nU.S. News\\n\\nLocal [...] U.S. tariffs on Chinese imports will be cut to 30% from 145%, while China’s levies on U.S. imports will be cut to 10% from 125%, the two countries said in a joint statement.\\nThe announcement comes after officials from the two countries met in Geneva over the weekend for their first face-to-face talks on the tariffs, which began mounting after President Donald Trump’s April 2 announcement of sweeping global duties. [...] “This situation is a major test of the political wisdom and negotiation capability of the decision-makers in both China and the U.S.,” Wang said.\\nAhead of U.S. and Chinese officials’ discussions in Geneva, Trump expressed willingness to slash tariffs on Chinese imports from 145% to 80%.\\n“80% Tariff on China seems right! Up to Scott B.,” the president wrote in a post Friday on Truth Social, referring to the treasury secretary.\\n</Document>\\n\\n---\\n\\n<Document href=\"https://www.usatoday.com/story/news/politics/2025/05/12/trump-us-china-tariffs/83577556007/\"/>\\nHere\\'s what we know about the agreement:\\n\\nUS tariffs on China reduced to 30%\\n\\nUnder the deal, the U.S. will reduce 125% reciprocal tariffs imposed on Chinese imports for 90 days by 115% - to a 10% baseline tariff, which matches the tariffs the Trump administration has imposed on other countries.\\n\\nTrump\\'s 20% tariffs slapped on China over fentanyl production will remain, meaning the U.S. tariffs on China will total 30% overall. [...] \"We\\'re not looking to hurt China. China was being hurt very badly,\" Trump said. \"They were closing up factories. They were having a lot of unrest, and they were very happy to be able to do something with us.\"\\n\\nTrump said if China does not agree to a final resolution after 90 days then he would raise the tariffs again but not back up to 145%.\\n\\n\"No,\" Trump said when asked whether the rate would return to 145%. \"But they would go up substantially higher.\" [...] China cuts tariffs on US exports, agrees to other trade measures\\n\\nIn turn, the Chinese government has agreed to reduce its retaliatory tariffs on U.S. exports for 90 days from 125% to 10%.\\n\\nTrump said Chinese leaders also agreed to remove or suspend various non-tariff countermeasures that China has taken against the U.S and to cut off the flow of fentanyl to the U.S.\\n</Document>\\n\\n---\\n\\n<Document href=\"https://www.forbes.com/sites/alisondurkee/2025/05/12/trump-offers-automakers-tariff-reprieve-latest-big-tariff-flip-flop-since-liberation-day/\"/>\\nMay 9, 7:26 a.m. EDTTrump floated a potential 80% tariff rate on Chinese imports, writing on Truth Social, “80% Tariff on China seems right! Up to Scott B.”—after floating to reporters the day before he was now open to lowering tariffs on China, saying that if negotiations over the weekend went well, “You know [the tariff rate is] coming down” (flip-flop No. 14). [...] ByAlison Durkee\\n\\n\\n\\nTrump’s Tariffs On China Slashed For 90 Days—Latest Big Tariff Flip-Flop Since ‘Liberation Day’\\n\\nByAlison Durkee,\\n\\nForbes Staff.\\n\\nTopline\\n\\nTreasury Secretary Scott Bessent announced Monday the U.S. will roll back its tariffs on Chinese goods to 30% for 90 days as the Trump administration negotiates with Beijing—the latest backtracking the White House has done on its sweeping tariffs, as the White House has frequently flip-flopped in the weeks since “Liberation Day.” [...] May 12After suggesting Sunday they had reached some kind of agreement, Bessent and Chinese officials announced Monday a 90-day pause on the worst of the two countries’ tariffs on the other’s goods, with the U.S. lowering its tariff rate on most Chinese goods to a combined 30%, which includes both the “Liberation Day” tariffs and the 20% tariffs the Trump administration had previously imposed—and is far below the 80% figure Trump floated (flip-flop No. 15).\\n</Document>\\n\\n---\\n\\n<Document href=\"https://www.whitehouse.gov/fact-sheets/2025/02/fact-sheet-president-donald-j-trump-imposes-tariffs-on-imports-from-canada-mexico-and-china/\"/>\\nSearch for:  Press Enter to Search\\nFact Sheets\\nFact Sheet: President Donald J. Trump Imposes Tariffs on Imports from Canada, Mexico and China\\nThe White House\\nFebruary 1, 2025\\nADDRESSING AN EMERGENCY SITUATION: The extraordinary threat posed by illegal aliens and drugs, including deadly fentanyl, constitutes a national emergency under the International Emergency Economic Powers Act (IEEPA). [...] Until the crisis is alleviated, President Donald J. Trump is implementing a 25% additional tariff on imports from Canada and Mexico and a 10% additional tariff on imports from China. \\xa0Energy resources from Canada will have a lower 10% tariff.\\nPresident Trump is taking bold action to hold Mexico, Canada, and China accountable to their promises of halting illegal immigration and stopping poisonous fentanyl and other drugs from flowing into our country. [...] Published Time: 2025-02-02T01:03:58+00:00\\nFact Sheet: President Donald J. Trump Imposes Tariffs on Imports from Canada, Mexico and China – The White House\\nMenu\\nPresident Donald J. Trump\\nThe White House\\nSearch\\n\\n\\nNews\\nArticles\\nBriefings & Statements\\nFact Sheets\\nPresidential Actions\\nExecutive Orders\\nNominations & Appointments\\nPresidential Memoranda\\nProclamations\\n\\n\\nRemarks\\n\\n\\nAdministration\\nDonald J. Trump\\nJD Vance\\nMelania Trump\\nUsha Vance\\nThe Cabinet\\n</Document>']\n"
     ]
    },
    {
     "name": "stderr",
     "output_type": "stream",
     "text": [
      "/Users/ethangoldberg/opt/anaconda3/envs/polynews/lib/python3.11/site-packages/langgraph/utils/runnable.py:408: UserWarning: WARNING! parallel_tool_calls is not default parameter.\n",
      "                parallel_tool_calls was transferred to model_kwargs.\n",
      "                Please confirm that parallel_tool_calls is what you intended.\n",
      "  input = step.invoke(input, config, **kwargs)\n"
     ]
    },
    {
     "name": "stdout",
     "output_type": "stream",
     "text": [
      "['<Document href=\"https://www.ndtv.com/india-news/india-pakistan-ceasefire-live-updates-line-of-control-border-areas-witnesses-calm-night-says-army-after-operation-sindoor-india-pakistan-8391555\"/>\\nOn the first round of talks between the Director Generals of Military Operations (DGMOs) of Pakistan and India, the Indian Army said: \"Talks between DGsMO were held at 5:00 PM, 12 May 2025. Issues related to continuing the commitment that both sides must not fire a single shot or initiate any aggressive and inimical action against each other were discussed. It was also agreed that both sides consider immediate measures to ensure troop reduction from the borders and forward areas.\" [...] The Airport Authorities of India announced the reopening of 32 airports that were closed for civil aircraft operations during the India-Pakistan tensions. As the two countries announced a ceasefire, the AAI said, \"Attention Flyers; reference notice issued for temporary closure of 32 Airports for civil Aircraft operations till 05:29 hrs of 15 May 2025.It is informed that these Airports are now available for civil Aircraft operations with immediate effect.\" [...] The Indian Armed Forces, during a key DGMO briefing, said that “all military bases, systems, equipment remain fully functional and if needed in future are ready for operation\". #WATCH | Delhi: Air Marshal AK Bharti says, \"All our military bases, all our systems continue to remain fully operational and ready to undertake any future missions should the need so arise.\" pic.twitter.com/HWQwP5ol6Q— ANI (@ANI) May 12, 2025\\n</Document>\\n\\n---\\n\\n<Document href=\"https://www.thehindu.com/news/national/operation-sindoor-pahalgam-attack-india-pakistan-ceasefire-live-updates-may-12-2025/article69565981.ece\"/>\\nIndia on Monday (May 12, 2025) said all its military bases and systems continue to remain fully operational and ready to undertake any mission\\n</Document>\\n\\n---\\n\\n<Document href=\"https://www.cnn.com/world/live-news/india-pakistan-operation-sindoor-05-10-25\"/>\\nIndia and Pakistan have agreed to a “full and immediate ceasefire” following a night of talks mediated by the US, President Donald Trump wrote on his Truth Social platform on Saturday.\\n\\n“After a long night of talks mediated by the United States, I am pleased to announce that India and Pakistan have agreed to a FULL AND IMMEDIATE CEASEFIRE,” the US president said.\\n\\n“Congratulations to both Countries on using Common Sense and Great Intelligence.” [...] US President Donald Trump announced earlier on his Truth Social platform that the two sides had agreed to a “full and immediate ceasefire,” which was confirmed by Pakistan’s foreign minister on X minutes later.\\n\\nPakistan\\'s foreign minister says Pakistan and India have agreed to ceasefire\\n\\nPakistan’s Foreign Minister Ishaq Dar said that Pakistan and India have agreed to a ceasefire “with immediate effect,” confirming US President Donald Trump’s announcement on his Truth Social platform.\\n</Document>\\n\\n---\\n\\n<Document href=\"https://www.reuters.com/world/india/pakistan-says-three-air-bases-targeted-by-indian-missiles-2025-05-10/\"/>\\nISLAMABAD/NEW DELHI, May 10 (Reuters) - Nuclear-armed neighbours India and Pakistan agreed to a ceasefire on Saturday after U.S. pressure and\\n</Document>\\n\\n---\\n\\n<Document href=\"https://time.com/7284654/india-pakistan-ceasefire-trump-us-mediation-kashmir-conflict-strikes/\"/>\\nPakistan’s Foreign Minister Ishaq Dar confirmed the news shortly after, via a post on X (formerly Twitter). He wrote: “Pakistan and India have agreed to a cease-fire with immediate effect. Pakistan has always strived for peace and security in the region, without compromising on its sovereignty and territorial integrity!” [...] President Donald Trump made the initial announcement of a break in fighting over his social media platform, Truth Social, on Saturday morning. “After a long night of talks mediated by the United States, I am pleased to announce that India and Pakistan have agreed to a full and immediate cease-fire,” he said. “Congratulations to both countries on using common sense and great intelligence. Thank you for your attention to this matter!”\\n\\nAdvertisement\\n\\nAdvertisement [...] in a post on X. “I am pleased to announce the Governments of India and Pakistan have agreed to an immediate cease-fire and to start talks on a broad set of issues at a neutral site.”\\n</Document>']\n",
      "['<Document href=\"https://neutronbytes.com/2025/04/14/sec-wright-us-saudi-nuclear-agreement-likely/\"/>\\nReuters reports that the United States and Saudi Arabia will sign a preliminary agreement to cooperate over the kingdom’s ambitions to develop a civil nuclear industry, U.S. Energy Secretary Chris Wright told reporters in the Saudi capital Riyadh on Sunday 04/13/25. [...] Published Time: 2025-04-14T13:58:57+00:00\\nSec. Wright ~ US Saudi Nuclear Agreement Likely | Neutron Bytes\\nNeutron Bytes\\nA time traveler from the age of steam. Digital Advocacy for Energy Density.\\n\\nSkip to content\\n\\nHome\\nAdvanced Nuclear Reactor Projects\\nNuclear Energy Information for the Curious\\nPro-Nuclear Groups\\nAbout\\n\\n← Aalo Rolls Out 50 MW SMR Non-nuclear Prototype\\nSec. Wright ~ US Saudi Nuclear Agreement Likely\\nPosted on April 14, 2025 by djysrv [...] Wright met with Saudi Energy Minister Prince Abdulaziz bin Salman earlier on Sunday 04/13/25. He said afterwards that Riyadh and Washington were on a “a pathway” to reaching an agreement to work together to develop a Saudi civil nuclear program\\nWright also acknowledged that further details over a memorandum detailing the energy cooperation between Riyadh and Washington would come later this year.\\n</Document>\\n\\n---\\n\\n<Document href=\"https://www.reuters.com/world/under-trump-saudi-civil-nuclear-talks-delinked-israel-recognition-sources-say-2025-05-08/\"/>\\nU.S. President Donald Trump looks on as he signs executive orders and proclamations in the Oval Office at the White House, in Washington, D.C., U.S., May 5, 2025. REUTERS/Leah Millis/File Photo Purchase Licensing Rights, opens new tab\\n\\n\\nSummary\\n\\n\\nSaudi nuclear talks delinked from diplomatic normalisation with Israel, two sources say, in what would be a concession by Washington [...] In a possible sign of a new approach, U.S. Energy Secretary Chris Wright said that Saudi Arabia and the United States were on a \"pathway\" to a civil nuclear agreement when he visited the kingdom in April.\\nAdvertisement · Scroll to continue\\n\"When we have something to announce, you will hear it from the President. Any reports on this are speculative,” U.S. National Security Council spokesman James Hewitt told Reuters in response to a request for comment. [...] Science\\nLifestyle\\nCity Memo\\nGraphics\\nPictures\\nWider Image\\nPodcasts\\nLive\\nFact Check\\nVideo\\nSponsored Content\\n\\nReuters Plus\\nPress Releases\\n\\n\\n\\nMy News\\nSign InSubscribe - $1/wk\\nFeedback\\nExclusive: Under Trump, Saudi civil nuclear talks delinked from Israel recognition, sources say\\nBy Pesha Magid\\nMay 8, 20253:33 PM UTCUpdated 2 days ago\\n</Document>\\n\\n---\\n\\n<Document href=\"https://www.i24news.tv/en/news/international/americas/artc-saudi-arabia-u-s-advance-civil-nuclear-deal-sidestepping-israeli-normalization\"/>\\nAccording to U.S. Energy Secretary Chris Wright, the two countries are nearing a preliminary accord aimed at developing a Saudi civil nuclear program.\\n\\nWright, during his first official visit to Riyadh as energy secretary, stated that the two sides are “on the right track” and that further details on the agreement would be disclosed later this year. [...] Saudi Arabia, U.S. advance civil nuclear deal, sidestepping Israeli normalization\\n\\nThe deal marks a shift from the Biden administration’s original strategy by dropping the condition of Saudi-Israeli normalization and focusing solely on energy cooperation\\n\\nThe United States and Saudi Arabia are moving toward a landmark agreement on civilian nuclear cooperation, signaling a deepening energy partnership that notably excludes any linkage to Saudi normalization with Israel. [...] The prospective deal represents a significant shift from the Biden administration’s earlier strategy, which sought to tie such an agreement to a broader geopolitical goal: normalizing relations between Saudi Arabia and Israel. That condition now appears to have been dropped, with the current negotiations focused solely on energy collaboration.\\n</Document>\\n\\n---\\n\\n<Document href=\"https://www.reuters.com/world/saudi-arabia-us-pathway-civil-nuclear-agreement-us-energy-secretary-says-2025-04-13/\"/>\\nThe United States and Saudi Arabia will sign a preliminary agreement to cooperate over the kingdom\\'s ambitions to develop a civil nuclear\\n</Document>\\n\\n---\\n\\n<Document href=\"https://www.spglobal.com/commodity-insights/en/news-research/latest-news/electric-power/041625-us-to-open-negotiations-with-saudi-arabia-on-nuclear-agreement-other-energy-issues\"/>\\nIn an April 15 press release, the DOE said the nonbinding MOU the US is drafting with Saudi Arabia would outline collaboration in both\\n</Document>']\n"
     ]
    },
    {
     "name": "stderr",
     "output_type": "stream",
     "text": [
      "/Users/ethangoldberg/opt/anaconda3/envs/polynews/lib/python3.11/site-packages/langgraph/utils/runnable.py:408: UserWarning: WARNING! parallel_tool_calls is not default parameter.\n",
      "                parallel_tool_calls was transferred to model_kwargs.\n",
      "                Please confirm that parallel_tool_calls is what you intended.\n",
      "  input = step.invoke(input, config, **kwargs)\n",
      "/Users/ethangoldberg/opt/anaconda3/envs/polynews/lib/python3.11/site-packages/langgraph/utils/runnable.py:408: UserWarning: WARNING! parallel_tool_calls is not default parameter.\n",
      "                parallel_tool_calls was transferred to model_kwargs.\n",
      "                Please confirm that parallel_tool_calls is what you intended.\n",
      "  input = step.invoke(input, config, **kwargs)\n"
     ]
    },
    {
     "name": "stdout",
     "output_type": "stream",
     "text": [
      "['<Document href=\"https://www.nytimes.com/interactive/2025/us/trump-agenda-2025.html\"/>\\nPublished Time: 2025-02-06T04:00:49.000Z\\nWhat Have Trump and His Administration Said and Done So Far? DOGE, Ukraine, Gaza Video - The New York Times\\nSkip to contentSkip to site index\\nU.S.\\n\\nToday’s Paper\\n\\nTrump Administration\\n\\n\\nliveUpdates\\nMarch 8, 2025, 3:27 p.m. ET\\n\\n\\nMajor Moves\\n\\nDisappearing Words\\nFired, Then Rehired\\nLawsuits Tracker\\nFact-Check\\nIs That Legal? [...] ### Renamed Gulf of Mexico to ‘Gulf of America’The president also said he would return Denali, North America’s tallest peak, which has an Alaska Native name, to its earlier name, Mount McKinley. Read more ›\\nShow 36 more entries for Jan. 20\\nBack to top\\nSee more on: Donald Trump, U.S. Politics\\nRead 506 CommentsRead 506 Comments\\n\\n\\nShare full article\\n\\n\\n506\\n506\\n\\n\\nAdvertisement\\nSKIP ADVERTISEMENT\\nSite Index\\nSite Information Navigation\\n\\n\\n© 2025 The New York Times Company\\n\\n\\nNYTCo [...] ### Suggested relocating Gazans to Jordan and Egypt“You’re talking about probably a million and a half people, and we just clean out that whole thing,” President Trump said. Read more ›\\n\\nForeign policy\\nPublic statement\\n\\n### Insisted the U.S. will acquire GreenlandRead more ›\\nJan. 24 Day 5\\n\\nTrans issues\\nAgency directive\\n</Document>\\n\\n---\\n\\n<Document href=\"https://edworkforce.house.gov/uploadedfiles/10.30.24_committee_on_education_and_the_workforce_republican_staff_report_-_antisemitism_on_college_campuses_exposed.pdf\"/>\\nPalestinian faculty member who has called terrorists “resistance fighters,”671 Israel the “result of a settler colonial project,”672 and said in 2017 that Israel’s supporters would “infest” the U.S. government in the forthcoming Trump administration.673 667 Id. 668 Text message from Claire Shipman, Co-Chair, Board of Trustees, Colum. Univ., to Minouche Shafik, President, Colum. Univ. (Dec. 28, 2024, 10:57 AM) (on file with Comm.). 669 Text message from Claire Shipman, Co-Chair, Board of [...] - unable to identify respondent N/A 4/25/2024 Complainant alleged antisemitism due to being targeted for their Israeli military service. [...] Trustees, Colum. Univ., to Minouche Shafik, President, Colum. Univ. (Dec. 28, 2024, 10:57 AM) (on file with Comm.). 670 Id. 671 Dylan Saba, You Can’t Unsee This Image, JEWISH CURRENTS (May 17, 2022), https://jewishcurrents.org/you-cannot-unsee-this-image. 672 Democracy Now, Israel is a colonial project, says historian Rashid Khalidi, YOUTUBE (Dec. 20, 2023), https://www.youtube.com/watch?v=p GizcaIKCE. 673 Daniel J. Roth, Columbia prof. says Israel advocates will ‘infest’ Trump administration,\\n</Document>']\n"
     ]
    },
    {
     "name": "stderr",
     "output_type": "stream",
     "text": [
      "/Users/ethangoldberg/opt/anaconda3/envs/polynews/lib/python3.11/site-packages/langgraph/utils/runnable.py:408: UserWarning: WARNING! parallel_tool_calls is not default parameter.\n",
      "                parallel_tool_calls was transferred to model_kwargs.\n",
      "                Please confirm that parallel_tool_calls is what you intended.\n",
      "  input = step.invoke(input, config, **kwargs)\n"
     ]
    },
    {
     "name": "stdout",
     "output_type": "stream",
     "text": [
      "['<Document href=\"https://en.wikipedia.org/wiki/2025_Romanian_presidential_election\"/>\\nAppearance\\nmove to sidebar hide\\nFrom Wikipedia, the free encyclopedia\\n2025 Romanian presidential election←\\xa020244 May 2025 (first round)18 May 2025 (second round)Registered19,005,434[1]\\xa0NomineeCrin AntonescuGeorge SimionElena LasconiPartyIndependent[a]AUR[b]USR[c]\\xa0NomineeNicușor DanVictor PontaLavinia ȘandruPartyIndependent[d]IndependentPUSLIncumbent PresidentIlie Bolojan (acting)PNL\\n| \\nPolitics of Romania\\n|\\n| --- |\\n|  |\\n|  |\\n| \\nConstitution\\n\\n\\nReferendums\\n1991 (adoption)\\n2003 (amendments) [...] First round (after BEC deadline)\\n[edit]\\n| Poll | Date | Sample | Margin of error | Simion\\nAUR | Ponta\\nInd. | Dan\\nInd. | Antonescu\\nInd. | Lasconi\\nUSR | Funeriu\\nInd. | Șandru\\nPUSL | Terheș\\nPNCR | Banu\\nInd. | Popescu\\nPNR | Predoiu\\nPLAN | Others |\\n| --- | --- | --- | --- | --- | --- | --- | --- | --- | --- | --- | --- | --- | --- | --- | --- |\\n|  |  |  |  |  |  |  |  |  |  |  |\\n| IRSOP | 4-14 Apr 2025 | 1,030 | ± 3% | 31% | 18% | 28% | 17% | 4% | — | — | — | — | — | — | 2% | [...] | — | 9% | 30% | — | — | — | — | 16% | 26% | — | — | 12% | — | — | 7% |\\n| Election | 24 Nov 2024 | 9,242,186 | 22.94% | 19.18% | 13.86%[e] | 8.79%[f] | 1.04% | 0.46% | — | — | — | — | — | — | — | 33.73% |\\nHypothetical second round scenarios\\n[edit]\\nAntonescu vs Dan\\n[edit]\\n| Poll | Date | Sample | Antonescu\\nInd. | Dan\\nInd. | Others |\\n| --- | --- | --- | --- | --- | --- |\\n|  |  |\\n| AtlasIntel | 10-13 Apr 2025 | 2,994 | 34.4% | 26.4% | 39.2% |\\n| ARA | 9-13 Apr 2025 | 1,115 | 56% | 44% | — |\\n</Document>\\n\\n---\\n\\n<Document href=\"https://www.politico.eu/article/romanian-election-exit-polls-george-simoon-hard-right/\"/>\\nGeorge Simion is projected to win the first round of Romania’s presidential election, with more than 30 percent\\xa0of the vote. | Robert Ghement/EPA\\nMay 4, 2025 8:22 pm CET\\nBy Carmen Paun and Hanne Cokelaere\\nBUCHAREST — George Simion, the hard-right leader of the Alliance for the Union of Romanians, is projected to win the first round of Romania’s presidential election with just under 41 percent\\xa0of the vote, according to partial results from the country’s election authority.\\n</Document>\\n\\n---\\n\\n<Document href=\"https://www.aljazeera.com/news/2025/5/3/romania-election-2025-results-whos-standing-and-whats-at-stake\"/>\\nPresidential candidates Crin Antonescu and Nicusor Dan take part in a presidential debate hosted by Digi24 TV station in Bucharest, Romania, on April 28, 2025 [Inquam Photos/Octav Ganea via Reuters]\\nVictor Ponta, 52\\nPrime minister until 2014 under the ruling Social Democratic Party (PSD), Ponta is also running as an independent candidate in this election, polling at 10 percent at the end of April, according to Politico.\\nAdvertisement\\n</Document>\\n\\n---\\n\\n<Document href=\"https://www.rferl.org/a/romania-presidential-election-simion-dan-antenescu-georgescu/33404534.html\"/>\\nRomanian Presidential candidate Nicusor Dan addresses supporters.\\nElection officials estimate some 800,000 diaspora votes will be counted. Overall, they appear to favor Simion, followed by Dan, and final totals could be enough to send the Bucharest mayor into the May 18 runoff.\\nResults from exit polls from leading firms indicated similar results, although they gave Simion a smaller lead and included a higher total for Dan.\\n</Document>\\n\\n---\\n\\n<Document href=\"https://www.euronews.com/my-europe/2025/05/04/nationalist-george-simion-ahead-in-romanian-presidential-election-exit-polls-show\"/>\\nAUR party leader George Simion is ahead in Romania\\'s presidential election, with 40.1% of votes in his favour, according to preliminary results. He will now have to face an independent pro-Western candidate, Nicușor Dan — another surprise choice — in the second round in two weeks\\' time.\\nADVERTISEMENT\\nNationalist candidate George Simion won the first round of Romania’s presidential election with some 40.1% of the vote, according to the preliminary results on Sunday.\\n</Document>']\n"
     ]
    },
    {
     "name": "stderr",
     "output_type": "stream",
     "text": [
      "/Users/ethangoldberg/opt/anaconda3/envs/polynews/lib/python3.11/site-packages/langgraph/utils/runnable.py:408: UserWarning: WARNING! parallel_tool_calls is not default parameter.\n",
      "                parallel_tool_calls was transferred to model_kwargs.\n",
      "                Please confirm that parallel_tool_calls is what you intended.\n",
      "  input = step.invoke(input, config, **kwargs)\n"
     ]
    },
    {
     "name": "stdout",
     "output_type": "stream",
     "text": [
      "this is the intermediate reseponse:  {'what_is_the_market_asking_or_answering': 'Will the United States and Saudi Arabia reach an official, mutually announced agreement on nuclear research, nuclear weapons, or nuclear energy cooperation between May 10 and December 31, 2025?', 'important_criteria': ['Resolution requires a publicly announced mutual agreement between the US and Saudi Arabia on nuclear research, weapons, or energy cooperation.', 'The agreement must be officially acknowledged by both parties, not merely informally reported.', 'The qualifying period is from May 10, 2025, to December 31, 2025, 11:59 PM ET.', \"If an agreement is announced within the window, the market resolves 'Yes' regardless of implementation date.\", 'Agreements involving additional countries but including both the US and Saudi Arabia are eligible.', 'Resolution is based on official statements or overwhelming consensus of credible reporting.'], 'completed': False, 'important_insights_context_or_reasoning': \"The probability of a US-Saudi nuclear deal being reached in 2025 is currently very high at 77.5%, though it dropped by 12 percentage points in the last day. Recent credible reporting indicates significant momentum: US Energy Secretary Chris Wright confirmed after a Riyadh meeting that the US and Saudi Arabia are on a 'pathway' to an agreement, with details expected later in 2025. A preliminary agreement on civil nuclear cooperation has reportedly been reached, with both parties signaling intent for deeper cooperation. Notably, recent negotiations have been delinked from the issue of Saudi recognition of Israel, potentially reducing diplomatic obstacles. However, the US National Security Council cautions that any announcement is still pending and that current reports are speculative until formalized by both governments. The market remains open and will not be resolved until the end of 2025, but the forward movement and high probability reflect strong expectations of an official deal. This development has broad geopolitical implications, particularly for regional energy strategy and US relations in the Middle East.\"}\n",
      "this is the intermediate reseponse:  {'what_is_the_market_asking_or_answering': 'Will the United States government formally recognize the State of Palestine by December 31, 2025?', 'important_criteria': ['Formal recognition must be made by the U.S. government, not merely an announcement of intentions or diplomatic gestures.', 'Resolution is based on official U.S. government sources, with credible media consensus as a secondary source.', 'Deadline for recognition is December 31, 2025, 11:59 PM ET.', 'Recognition must be explicit and formal; partial steps, humanitarian measures, or policy statements do not suffice.'], 'completed': False, 'important_insights_context_or_reasoning': 'As of June 2024, the probability of the U.S. formally recognizing Palestine by the end of 2025 is estimated at approximately 16%, reflecting skepticism from market participants. While 146 UN member states recognize Palestine, the U.S. has consistently withheld recognition, instead supporting a negotiated two-state solution. The Biden administration has reaffirmed this stance and recently implemented measures such as Deferred Enforced Departure (DED) for Palestinians, but these fall short of formal recognition. There are ongoing diplomatic developments, with speculation about possible recognition during high-level summits in 2025, but no concrete signals from U.S. leadership. The geopolitical environment remains fluid, yet current U.S. policy and historical precedent make formal recognition within the timeframe unlikely barring an extraordinary diplomatic shift.'}\n",
      "this is the intermediate reseponse:  {'what_is_the_market_asking_or_answering': \"The market is asking which sovereign country, excluding Italy, will be the first that Pope Leo XIV physically visits after becoming pope. The market will resolve to 'Other' if no visit occurs before December 31, 2025.\", 'important_criteria': [\"A 'visit' is defined as Pope Leo XIV physically entering the terrestrial territory of a listed country. Airspace or maritime territory does not count.\", 'Italy is excluded from consideration for this market; only visits to other sovereign countries matter.', \"The resolution date is December 31, 2025, 11:59 PM ET. If no qualifying visit occurs by then, the market resolves to 'Other'.\", \"The first visit outside the Vatican and within Italy does not count for this market's resolution.\"], 'completed': False, 'important_insights_context_or_reasoning': \"Turkey is the overwhelming market favorite, with a probability of 79.5% and a significant price surge (+35 percentage points in the last day), indicating a strong consensus or new information pushing this scenario. All other options are below 7%, with 'Other' at 6.5%. Context confirms that, as of May 2025, Pope Leo XIV has only visited locations in Italy (Genazzano, near Rome) since his election. No non-Italian foreign trips have been reported, and there are no confirmed announcements in the sourced articles about upcoming international travel. The pope's background as an American with deep ties to Peru and South America is notable, but does not seem to have shifted market expectations away from Turkey. The market remains open and unresolved, with information flow likely driving the focus on Turkey as the probable first destination outside Italy.\"}\n",
      "this is the intermediate reseponse:  {'what_is_the_market_asking_or_answering': 'Will Donald Trump or his administration take any formal action to limit or suspend the writ of habeas corpus in the United States before July 1, 2025?', 'important_criteria': [\"The market resolves to 'Yes' if by June 30, 2025, 11:59 PM ET, Donald Trump signs any federal legislation or the Trump administration takes any formal action that aims to limit or suspend habeas corpus.\", 'Actions count even if implementation is immediately halted or delayed by judicial or other means.', 'Resolution is based on official information from the Trump administration.'], 'completed': False, 'important_insights_context_or_reasoning': \"The probability for 'Yes' stands at approximately 18.5%, suggesting the market views suspension of habeas corpus as unlikely, but not impossible, before July 2025. Recent public statements by Trump administration officials, particularly White House deputy chief of staff Stephen Miller, indicate the administration is 'actively looking at' suspending habeas corpus, specifically in the context of migrants. Legal experts and Democrats have voiced alarm at these discussions, noting that suspension of habeas corpus is a major constitutional issue and, by precedent, can only be enacted by Congress. Media coverage emphasizes that while the administration is exploring the idea, there is skepticism about its legal feasibility and likelihood. The market appears to be responding to the public discourse and attention generated by these statements, but no formal action has yet been taken. The significant one-day price change (+5.5 percentage points) suggests these recent statements have increased perceived risk or likelihood among market participants.\"}\n",
      "this is the intermediate reseponse:  {'what_is_the_market_asking_or_answering': 'How many times will Elon Musk (@elonmusk) post on X (including main feed posts, quote posts, and reposts, but excluding replies) between May 9, 2025, 12:00 PM ET and May 16, 2025, 12:00 PM ET?', 'important_criteria': ['Only main feed posts, quote posts, and reposts by @elonmusk between May 9, 2025, 12:00 PM ET and May 16, 2025, 12:00 PM ET are counted.', 'Replies are excluded unless they appear on the main feed and are tracked by the designated tracker.', 'Deleted posts will count if captured by the tracker (within approximately 5 minutes of posting).', \"The primary resolution source is the 'Post Counter' at https://www.xtracker.io/, with X itself as a secondary source if needed.\", 'The market will resolve after May 16, 2025, 12:00 PM ET based on the above criteria.'], 'completed': False, 'important_insights_context_or_reasoning': \"The market currently sees the most likely outcome as Elon Musk posting 225–249 times during the specified period, with a probability of 33.5%, followed by 200–224 posts at 23%. There has been a notable upward price movement (+8.5 percentage points) for the 225–249 bracket, indicating increased market confidence in this outcome. The next most likely bands are 250–274 (21%) and 275–299 (9.5%), both of which have also seen rising probabilities. Lower posting brackets (<200) are highly disfavored by the market, with probabilities below 8%, and extremely low bands (<150) are nearly dismissed entirely. High-frequency posting bands (300+) aggregate to less than 7%, suggesting the market believes a very high posting rate is improbable. Contextually, ongoing public scrutiny of Musk's X activity, as well as recent reports of platform manipulation and cultural shifts, may influence both Musk's posting behavior and public attention to his activity. The large 24-hour trading volume (over $400,000) highlights significant interest and possible volatility in expectations as the window approaches. No resolution has occurred yet, as the event period is in the future.\"}\n",
      "this is the intermediate reseponse:  {'what_is_the_market_asking_or_answering': 'Will the United States and Saudi Arabia reach a publicly announced, official agreement regarding nuclear research, nuclear weapons, and/or nuclear energy cooperation between May 10, 2025, and June 30, 2025?', 'important_criteria': ['A mutual official agreement must be publicly announced by both the United States and Saudi Arabia between May 10 and June 30, 2025, 11:59 PM ET.', 'The agreement may relate to nuclear research, nuclear weapons, and/or nuclear energy cooperation.', 'Informal or preliminary announcements do not qualify; only finalized, officially announced deals count.', 'Agreements involving other countries are acceptable if the US and Saudi Arabia are parties.', 'Resolution will rely on official announcements or overwhelming credible reporting confirming the agreement was reached within the specified window.'], 'completed': False, 'important_insights_context_or_reasoning': 'Market participants currently estimate a 72.5% probability that an official US-Saudi nuclear agreement will be reached before July 2025. Recent statements by US Energy Secretary Chris Wright and multiple news outlets confirm that both governments are on a \"pathway\" to a civil nuclear cooperation agreement, with a memorandum of understanding expected later in the year. Importantly, recent negotiations have reportedly decoupled the nuclear deal from Saudi-Israeli normalization, marking a significant strategic shift and potentially lowering diplomatic hurdles. While discussions are advanced and a preliminary accord is anticipated, no official or final agreement has yet been announced. The high probability reflects both the advanced stage of negotiations and the apparent political will to finalize a deal, but the market remains open until an official, public, mutually acknowledged agreement is confirmed.'}\n",
      "this is the intermediate reseponse:  {'what_is_the_market_asking_or_answering': 'Will an official, mutually announced general ceasefire between India and Pakistan be declared between May 10, 12:00 PM and May 16, 2025, 11:59 PM ET?', 'important_criteria': ['Ceasefire must be officially and publicly announced by both India and Pakistan within the specified period (May 10, 12:00 PM – May 16, 11:59 PM ET).', 'The announcement must be for a general halt in military engagement, not limited to a specific theater or type of action.', 'A formal, signed agreement is not required, but clear, public statements from both governments are necessary.', 'Reinstating the May 10th ceasefire qualifies if mutually announced during the window.', 'De-escalation or absence of conflict alone is insufficient—explicit mutual ceasefire statements are required.'], 'completed': True, 'important_insights_context_or_reasoning': \"Multiple credible sources confirm that, following intense hostilities and US-mediated negotiations, both India and Pakistan publicly announced a full and immediate ceasefire on May 10, 2025. US President Donald Trump first made the declaration on social media, which was promptly confirmed by Pakistan’s Foreign Minister and reported by major news outlets including CNN, Reuters, and TIME. The Indian military also referenced talks and troop reduction measures, and the reopening of civilian airports was announced. These explicit, overlapping public statements by both nations, documented within the required timeframe, satisfy the criteria for the market to resolve 'Yes.' The market probability (89.5%) reflects this near-certainty. The news cycle and market volume indicate high international attention and rapid resolution following the official announcements.\"}\n",
      "this is the intermediate reseponse:  {'what_is_the_market_asking_or_answering': 'Will Donald Trump make a public statement disparaging Benjamin Netanyahu in a clearly negative manner before May 31, 2025?', 'important_criteria': ['A public statement by Donald Trump must insult, mock, or attack Benjamin Netanyahu personally or professionally in a clearly negative manner.', 'Examples include calling Netanyahu weak, stupid, disloyal, a failure, using an insulting nickname, or any other derogatory language.', 'Policy disagreements without disparaging language do not count.', 'Any public statement qualifies, regardless of medium.', 'Resolution source will be consensus of credible reporting.', 'Market closes and resolves on May 31, 2025, 11:59 PM ET.'], 'completed': False, 'important_insights_context_or_reasoning': \"As of now, the probability of Trump publicly disparaging Netanyahu before June is 18.5%, implying a relatively low market expectation of such an event. Recent news and public records do not indicate that Trump has made such a statement against Netanyahu. Relevant coverage, such as the New York Times' ongoing tracking of Trump's public remarks and foreign policy statements, does not cite any disparaging comments toward Netanyahu to date. The context of U.S.-Israel relations, Trump's historical willingness to criticize political figures, and ongoing geopolitical events may influence this probability, but currently, there is no evidence or reporting suggesting an imminent disparagement. The market remains open and sensitive to any new public statements or developments up to the resolution date.\"}\n",
      "this is the intermediate reseponse:  {'what_is_the_market_asking_or_answering': \"Will Donald Trump sign an executive order by May 16, 2025, that directs his administration to implement a 'most favored nation' drug pricing policy, tying U.S. government payments for certain prescription drugs to the lowest prices paid by other developed countries?\", 'important_criteria': ['The executive order must be signed by Donald Trump by May 16, 2025, 11:59 PM ET.', \"The order must direct the implementation of a 'most favored nation' drug pricing policy—i.e., tying U.S. government drug prices (Medicare, Medicaid, etc.) to the lowest prices paid by other developed countries.\", 'Resolution will primarily rely on the Federal Register publication of the executive order, with credible media consensus as secondary sources.', 'The scope includes not only Medicare but also Medicaid and possibly commercial insurance, per White House officials.', \"The Secretary of Health and Human Services is tasked with setting price reduction targets within 30 days, after which the 'most favored nation' rule will be imposed if negotiations fail.\"], 'completed': True, 'important_insights_context_or_reasoning': \"The market is essentially resolved, with a 99.5% probability assigned to 'Yes'. Multiple major news outlets (Reuters, CBS, Guardian, NBC, USA Today) have reported that President Trump has signed an executive order instituting 'most favored nation' drug pricing. This policy aims to tie U.S. government payments for prescription drugs to the lowest prices paid internationally, potentially cutting some drug costs by up to 59%. The order is more expansive than previous efforts, extending beyond Medicare to include Medicaid and possibly commercial insurance. Health and Human Services Secretary Robert F. Kennedy Jr. is instructed to negotiate price targets within 30 days, with automatic imposition of the pricing model if talks fail. While the policy is expected to face legal challenges and implementation delays, the signing of the order itself fulfills the market's criteria. The market's high confidence and the breadth of corroborating sources make this outcome all but certain.\"}\n",
      "this is the intermediate reseponse:  {'what_is_the_market_asking_or_answering': 'What will be the general U.S. tariff rate on imports from China as of May 31, 2025, 12:00 PM ET?', 'important_criteria': ['Market resolves based on the general tariff rate applied to all imports from China into the U.S. as of May 31, 2025, at 12:00 PM ET.', 'General tariff rate includes any base tariff plus any additional general tariffs specific to Chinese imports; specific product exceptions or item-specific increases are excluded.', 'If the reported value is exactly between two brackets, the higher range bracket will be chosen for resolution.', 'Only tariffs actually in effect at the time (not paused or only announced) will count toward resolution.', 'Primary resolution source is official U.S. government information, particularly from the Trump administration, but consensus from credible sources may be used.'], 'completed': False, 'important_insights_context_or_reasoning': \"The market currently overwhelmingly expects the tariff rate to be below 50% (95% probability), with only minimal probability assigned to higher tariff brackets. This sharp consensus follows a major policy shift: news articles from May 2025 confirm that the U.S. and China have agreed to dramatically reduce tariffs for a 90-day period beginning May 14, 2025. The new general U.S. tariff rate on Chinese imports is set at 30% (down from as high as 145%), as reported by several credible outlets and confirmed by both White House statements and Treasury Secretary announcements. This rate includes both the baseline and the 20% fentanyl-related tariffs. While President Trump had previously floated higher rates (up to 80%), the actual negotiated rate for the relevant period leading to market resolution is 30%. The agreement is explicitly in effect for 90 days from mid-May, covering the May 31 resolution date, and any re-raising of tariffs is contingent on future negotiations, not in force as of the market's end date. The market has reacted to this news with a large increase in the probability assigned to the '<50%' outcome (+64.6 percentage points in the last day), reflecting the strong consensus that the general U.S. tariff rate on China at the resolution time will be well below 50%. This makes higher brackets (50% and up) extremely unlikely barring a sudden, dramatic policy reversal before May 31.\"}\n",
      "this is the stuctured article output:  {'id': 101, 'headline': 'US-Saudi Nuclear Deal Hits 77.5% Probability—2025 Deadline', 'subheader': 'High odds reflect confirmed pathway amid delinked Israel recognition talks', 'blurb': 'US-Saudi nuclear cooperation deal reaches 77.5% market probability for official announcement by end 2025. US Energy Secretary Chris Wright confirmed ongoing negotiations in Riyadh, signaling a pathway to finalized civil nuclear agreement. Notably, discussions are now delinked from Saudi recognition of Israel, easing diplomatic hurdles. This cooperation could reshape Middle East energy dynamics and US geopolitical influence.', 'score': None, 'ticker': None, 'links': None}\n",
      "this is the intermediate reseponse:  {'what_is_the_market_asking_or_answering': 'Will Israel launch a major ground offensive in Gaza in May 2025?', 'important_criteria': [\"A 'major ground offensive' is defined as a large-scale military operation involving more than 1,000 Israeli ground forces entering Gazan territory not under Israeli control at the start of the offensive.\", 'The operation must occur between May 6 and May 31, 2025, 11:59 PM ET.', 'Smaller raids, special operations, or limited incursions into buffer zones already under Israeli control do not count.', 'Resolution will be based on a consensus of credible reporting.'], 'completed': False, 'important_insights_context_or_reasoning': \"As of early May 2025, credible sources, including CBN News, UN News, AP, and Al Jazeera, report significant Israeli military activity and public plans or warnings regarding a possible expanded ground offensive in Gaza. The UN Secretary-General has expressed alarm at these reports, specifically highlighting Israeli intentions to both expand and prolong ground operations. Visual evidence and reporting from AP confirm the presence of Israeli tanks maneuvering in Gaza as of May 4, but there is no clear confirmation that a force of over 1,000 ground troops has entered new territory as stipulated by the market's criteria. Humanitarian conditions in Gaza are deteriorating, with ongoing airstrikes and a near-total blockade, which may increase international pressure and complicate the decision to launch a major offensive. The market probability for a major ground offensive within the defined window is currently 32.5%, having decreased by 25 percentage points in the past day, suggesting a notable shift in trader sentiment, possibly in response to recent diplomatic or military developments. The situation remains dynamic, with both military posturing and international diplomatic activity intensifying as the resolution window opens.\"}\n",
      "this is the stuctured article output:  {'id': 102, 'headline': 'US Recognition of Palestine Hits 16% Odds by 2025', 'subheader': 'Market skepticism prevails despite diplomatic signals and regional shifts', 'blurb': 'Prediction market sets 16% chance for formal US recognition of Palestine by end of 2025. This reflects persistent US policy favoring a negotiated two-state solution over unilateral recognition. Although 146 UN members recognize Palestine, the US stance remains cautious, tied to its broader Middle East diplomatic strategy. Recent measures like Deferred Enforced Departure provide humanitarian relief but fall short of formal recognition. Anticipation of high-level summits in 2025 fuels speculation, yet the market doubts a substantial policy shift within the timeframe. This nuanced probability illustrates how prediction markets capture the complex interplay between diplomacy, politics, and international recognition.', 'score': None, 'ticker': None, 'links': None}\n",
      "returning article with headline:  US-Saudi Nuclear Deal Hits 77.5% Probability—2025 Deadline\n",
      "this is the stuctured article output:  {'id': 104, 'headline': 'Trump Eyes Habeas Corpus Suspension—18.5% Likelihood', 'subheader': 'Market reacts to administration’s active exploration despite constitutional hurdles', 'blurb': \"Prediction market sets 18.5% chance Trump will suspend habeas corpus by June 30, 2025. This marks a notable 5.5 percentage point uptick in one day, reflecting recent public statements by White House deputy chief of staff Stephen Miller. The administration is reportedly considering limiting migrants' legal rights, sparking legal and political alarm over constitutional boundaries. Suspension of habeas corpus traditionally requires congressional approval, making the market’s cautious pricing consistent with skepticism about feasibility. This market captures tensions between executive ambitions and constitutional guardrails in U.S. law.\", 'score': None, 'ticker': None, 'links': None}\n",
      "this is the stuctured article output:  {'id': 105, 'headline': 'US-Saudi Nuclear Deal 73% Likely Before July', 'subheader': 'Decoupling from Israel normalization clears diplomatic path for energy pact', 'blurb': 'Prediction market prices the chance of a US-Saudi nuclear agreement before July 2025 at 72.5%. Recent reports confirm both governments are on a pathway to finalize a civil nuclear cooperation deal, with official announcements expected soon. Notably, this deal now focuses on energy collaboration alone, sidestepping previous conditions linking it to Saudi-Israeli normalization, easing political hurdles and accelerating progress.', 'score': None, 'ticker': None, 'links': None}\n",
      "this is the stuctured article output:  {'id': 106, 'headline': 'Turkey Leads Pope Leo XIV First Visit Odds—79.5%', 'subheader': 'Market surge signals strong expectation for Turkey as initial destination beyond Italy', 'blurb': 'Prediction market prices assign a dominant 79.5% probability that Pope Leo XIV’s first foreign trip outside Italy will be to Turkey, up by 35 percentage points in one day. Other countries trail far behind, with the next closest option, “Other,” at only 6.5%. Despite Pope Leo XIV’s American roots and significant missionary work in Peru, the market sharply favors Turkey, reflecting either new intelligence or geopolitical expectations. This overwhelming market consensus highlights how prediction markets efficiently aggregate subtle signals and emerging narratives about the pope’s travel plans well before official announcements.', 'score': None, 'ticker': None, 'links': None}\n",
      "this is the stuctured article output:  {'id': 107, 'headline': 'Musk to post 225–249 times May 9–16', 'subheader': 'Market surges on confidence in mid-tier tweet volume', 'blurb': \"Market sets 33.5% probability for Elon Musk posting between 225 and 249 times on X from May 9 to May 16, 2025. This segment saw an 8.5-point increase in likelihood over the past day, indicating growing trader conviction. Lower frequency outcomes fell out of favor, while extremely high tweet counts above 300 are deemed unlikely with under 7% combined probability. This reflects trader sentiment amid ongoing scrutiny of Musk's platform activity and changing public engagement with X.\", 'score': None, 'ticker': None, 'links': None}\n",
      "this is the stuctured article output:  {'id': 108, 'headline': 'Ceasefire Between India and Pakistan Confirmed — 90% Probability', 'subheader': 'Mutual public announcements by May 16 solidify peace pause, ending recent hostilities', 'blurb': \"Prediction market assigns 89.5% chance that India and Pakistan will officially announce a general ceasefire by May 16, 2025. Both nations have publicly confirmed a ceasefire agreement following U.S.-mediated talks, with President Trump and Pakistan's Foreign Minister issuing overlapping statements. Indian military also confirmed readiness for future operations despite the ceasefire, highlighting the fragile but hopeful status quo. This ceasefire marks a crucial step toward reducing escalating tensions and could reshape geopolitical dynamics in South Asia.\", 'score': None, 'ticker': None, 'links': None}\n",
      "returning article with headline:  US Recognition of Palestine Hits 16% Odds by 2025\n",
      "returning article with headline:  US-Saudi Nuclear Deal 73% Likely Before July\n",
      "returning article with headline:  Trump Eyes Habeas Corpus Suspension—18.5% Likelihood\n",
      "returning article with headline:  Turkey Leads Pope Leo XIV First Visit Odds—79.5%\n",
      "returning article with headline:  Musk to post 225–249 times May 9–16\n",
      "returning article with headline:  Ceasefire Between India and Pakistan Confirmed — 90% Probability\n",
      "this is the stuctured article output:  {'id': 115, 'headline': 'Trump Signs EO Slashing Drug Prices 59%—By May 16', 'subheader': 'Policy ties U.S. drug costs to lowest global prices, reshaping market dynamics.', 'blurb': 'Prediction market pins 99.5% probability on Trump signing executive order by May 16, 2025. This order implements \"most favored nation\" drug pricing, matching U.S. government drug prices to lowest prices paid by developed countries. Trump’s directive expands beyond Medicare to Medicaid and commercial insurance, aiming to reduce drug costs substantially. Health and Human Services Secretary Robert F. Kennedy Jr. must negotiate price targets within 30 days; failure triggers automatic pricing rules. The move could disrupt pharmaceutical pricing globally, though legal challenges loom, signaling a major shift in U.S. healthcare economics.', 'score': None, 'ticker': None, 'links': None}\n",
      "this is the stuctured article output:  {'id': 116, 'headline': 'U.S. Cuts China Tariffs to 30% by May 31', 'subheader': 'Market prices surge on 90-day tariff reduction agreement', 'blurb': \"Prediction market assigns 95% probability that U.S. tariff rate on Chinese imports will be below 50% on May 31, 2025. This follows official announcements of a 90-day tariff reduction starting May 14, cutting rates from as high as 145% down to a combined 30%. The agreement includes baseline tariffs plus fentanyl-related levies, marking a substantial de-escalation in the U.S.-China trade conflict. Market participants rapidly adjusted probabilities, reflecting confidence in the new lower tariff rate holding through the market's resolution date. This tariff cut signals a potential thaw in trade tensions, with implications for global supply chains and U.S. importers reliant on Chinese goods.\", 'score': None, 'ticker': None, 'links': None}\n",
      "this is the stuctured article output:  {'id': 117, 'headline': 'Trump Likely to Spare Netanyahu Insults—18.5% Odds', 'subheader': 'Low probability underscores cautious U.S.-Israel relations through May 2025', 'blurb': 'Prediction market assigns just 18.5% chance Trump publicly disparages Netanyahu by May 31, 2025. Criteria require clear personal or professional insults, excluding policy critiques. Market reflects stable relations and absence of disparaging comments in recent Trump communications, as tracked by credible sources like the New York Times. Political context and ongoing geopolitical dynamics keep this possibility open but unlikely. This insight highlights how prediction markets gauge nuance in international political rhetoric and forecast diplomatic tensions.', 'score': None, 'ticker': None, 'links': None}\n",
      "this is the intermediate reseponse:  {'what_is_the_market_asking_or_answering': 'This market seeks to determine the margin of victory, as a percentage, between the first and second-place candidates in the runoff of the 2025 Romanian Presidential Election.', 'important_criteria': ['The market resolves based on the official margin of victory between the top two candidates in the 2025 Romanian Presidential Election runoff, scheduled for May 18, 2025.', \"'Margin of victory' is defined as the absolute difference in percentage of votes between the first and second-place candidates.\", 'Vote percentages are calculated as the number of votes for each of the top two candidates divided by the total votes cast in the runoff.', 'If the result falls between two brackets, the higher range bracket is selected.', 'The market resolves upon the official vote count release, or following a recount if one is initiated before results are official.', \"If the election is unresolved by December 31, 2025, or the runoff is permanently canceled, the market resolves to 'Other'.\", \"Official results are taken from credible reporting, and in case of ambiguity, the Romanian Government's Permanent Electoral Authority is the final source.\"], 'completed': False, 'important_insights_context_or_reasoning': \"The current probabilities show a remarkably even split between the two leading candidates for a narrow margin of victory: 'Dan 0–6%' at 24.0% and 'Simion 0–6%' at 23.5%. Wider margins for Simion (6–12%, 12–18%, >18%) collectively sum to about 39.5%, suggesting the market sees a significant chance of a Simion victory by a larger margin, but not as likely as a close contest. Options for Dan winning by more than 6% are notably less probable (6–12% at 8.5%, >12% at 4.9%), indicating skepticism about Dan securing a decisive win. The 'Other' category is nearly negligible (0.3%), implying high confidence that the election will proceed and yield an official result. \\n\\nRecent exit polls and preliminary results (Euronews, Politico, RFE/RL) consistently indicate George Simion leading the first round with about 40–41% of the vote, with Nicușor Dan trailing but advancing to the runoff. The diaspora vote, expected to favor Simion, could further boost his margin. However, the market still prices in a strong possibility of a very close runoff, reflecting both candidates' substantial support bases and uncertainty about second-round voter dynamics. The modest one-day price changes suggest no dramatic shift in sentiment, though Simion's wider margin brackets have slightly increased in probability over the past 24 hours, possibly reflecting positive news coverage for Simion. Overall, this market is notable for the close probabilities between a narrow Simion or Dan victory, with a slight edge towards Simion for a larger margin of victory, in line with polling and exit data.\"}\n",
      "this is the stuctured article output:  {'id': 118, 'headline': 'Israel Delays Major Gaza Ground Offensive—Odds Drop 25%', 'subheader': 'Market probability falls to 32.5% amid mounting global pressure and complex military signals', 'blurb': 'Prediction market pegs 32.5% chance Israel launches a major ground offensive in Gaza during May 2025, down 25 percentage points in a day. This shift reflects evolving dynamics including UN warnings and visible Israeli tank activity without confirmed large-scale troop incursions. Humanitarian crisis deepens with near-total blockade, complicating military decisions and international responses.', 'score': None, 'ticker': None, 'links': None}\n",
      "returning article with headline:  Trump Signs EO Slashing Drug Prices 59%—By May 16\n",
      "returning article with headline:  U.S. Cuts China Tariffs to 30% by May 31\n",
      "returning article with headline:  Trump Likely to Spare Netanyahu Insults—18.5% Odds\n",
      "returning article with headline:  Israel Delays Major Gaza Ground Offensive—Odds Drop 25%\n",
      "this is the stuctured article output:  {'id': 123, 'headline': 'Simion Edges Dan in Tight Romanian Election Margin', 'subheader': 'Market splits nearly evenly on narrow runoff victory margins', 'blurb': 'Prediction market shows Dan winning by 0–6% at 24% probability and Simion at 23.5%, indicating a razor-thin runoff race. Simion holds a combined 39.5% chance of a larger margin victory, reflecting optimism bolstered by diaspora support and exit polls. Narrow margins suggest voter dynamics will be decisive, with official results expected post-May 18, 2025 runoff.', 'score': None, 'ticker': None, 'links': None}\n",
      "['<Document href=\"https://carnegieendowment.org/posts/2025/05/indian-airstrikes-in-pakistan-may-7-2025?lang=en\"/>\\nOn May 7, 2025, between 1:05 and 1:30 a.m. (IST), airstrikes carried out by the Indian Air Force hit nine locations inside Pakistan and Pakistan occupied Kashmir (PoK). It was codenamed Operation Sindoor. Significantly, this is the first time since 1971 that India struck across the international boundary (IB) or the settled and accepted border between India and Pakistan. [...] emissary\\nabout\\n\\nexperts\\n\\n\\ndonate\\n\\nsupport\\nprograms\\nevents\\nblogs\\npodcasts\\n\\nvideos\\n\\n\\nNewsletters\\n\\nAnnual Reports\\ncareers\\n\\nDemocracy\\nSee All TopicsSee All Regions\\n\\nSource: Getty\\ncommentary\\nIndian Airstrikes in Pakistan: May 7, 2025\\nOn May 7, 2025, between 1:05 and 1:30 a.m. (IST), airstrikes carried out by the Indian Air Force hit nine locations inside Pakistan and Pakistan occupied Kashmir (PoK). It was codenamed Operation Sindoor.\\n\\nEmail\\nFacebook\\nTwitter\\nTelegram [...] comprehensive. This was not about an eye for an eye. But an even clearer message than in 2016 and 2019, that India’s tolerance for terrorist attacks on Indian soil has been tested to its limit.\\n</Document>\\n\\n---\\n\\n<Document href=\"https://www.cnn.com/world/live-news/india-pakistan-attack-kashmir-tourists-intl-hnk\"/>\\nA city view of Muzaffarabad in Pakistan-administrated Kashmir, May 7, 2025.\\nStringer/Reuters\\nPakistan’s military said India struck early Wednesday with missiles.\\n“Pakistan will respond to it at a time and place of its own choosing,” Pakistani military spokesperson Ahmed Sharif Chaudhry told Geo TV. “This heinous provocation will not go unanswered.”\\nPakistani military sources told CNN five locations were struck at Kotli, Ahmadpur East, Muzaffarabad, Bagh, and Muridke. [...] Link Copied!\\n“This heinous provocation will not go unanswered.” Pakistan military confirms India struck with missiles\\nFrom CNN\\'s Sophia Saifi and Jerome Taylor [...] Pakistan’s military has previously confirmed it shelled Indian positions in Indian-administered Kashmir overnight in response to India’s airstrikes on its territory. India accused the Pakistanis of unprovoked firing over the Line of Control, the de facto border that divides Kashmir.\\nThis post has been updated with the latest on the shelling.\\n</Document>\\n\\n---\\n\\n<Document href=\"https://www.aljazeera.com/news/liveblog/2025/5/9/live-india-pakistan-tensions-surge-as-both-sides-trade-attack-claims\"/>\\n9 May 2025 - 23:00\\n(23:00 GMT)\\nTensions appear to be ‘spiralling’ between India and Pakistan\\nAl Jazeera’s Osama Bin Javaid, reporting from Lahore, says tensions appear to spiralling out of control as Pakistani security sources claim that three military bases in Pakistan have been targeted by Indian air-to-surface missiles, although they say the attacks were thwarted.\\n“It feels like it’s a night of ratcheting up tensions between these two neighbours,” Bin Javaid said.\\n</Document>\\n\\n---\\n\\n<Document href=\"https://www.reuters.com/world/asia-pacific/multiple-loud-explosions-heard-pakistani-kashmir-reuters-witness-2025-05-06/\"/>\\nMap showing nine sites targeted by India in Pakistan and Pakistan-administered Kashmir on May 7, 2025.\\n\\'OPERATION SINDOOR\\'\\nThe Pakistan prime minister\\'s office said five Indian fighter jets and drones had been shot down, although this was not confirmed by India. The Indian embassy in Beijing called reports of fighter jets downed by Pakistan \"disinformation\".\\n</Document>']\n"
     ]
    },
    {
     "name": "stderr",
     "output_type": "stream",
     "text": [
      "/Users/ethangoldberg/opt/anaconda3/envs/polynews/lib/python3.11/site-packages/langgraph/utils/runnable.py:408: UserWarning: WARNING! parallel_tool_calls is not default parameter.\n",
      "                parallel_tool_calls was transferred to model_kwargs.\n",
      "                Please confirm that parallel_tool_calls is what you intended.\n",
      "  input = step.invoke(input, config, **kwargs)\n"
     ]
    },
    {
     "name": "stdout",
     "output_type": "stream",
     "text": [
      "['<Document href=\"https://www.whitehouse.gov/omb/information-resources/guidance/memoranda/\"/>\\nMemoranda – OMB – The White House\\nSkip to content\\nMenu\\nPresident Donald J. Trump\\nThe White House\\nSearch\\n\\n\\nNews\\nBack\\nArticles\\nBriefings & Statements\\nFact Sheets\\nPresidential Actions\\nBack\\nExecutive Orders\\nNominations & Appointments\\nPresidential Memoranda\\nProclamations\\n\\n\\nRemarks\\n\\n\\nAdministration\\nBack\\nDonald J. Trump\\nJD Vance\\nMelania Trump\\nUsha Vance\\nThe Cabinet\\n\\n\\nMedia\\nBack\\nVideo Library\\nGallery\\nLive News [...] M-25-24 Interim Guidance Implementing Section 3 of Executive Order) 14215, Titled “Ensuring Accountability for All Agencies” (April 17, 2025)\\nM-25-23 Rescission and Reinstatement of Circular No. A-94 (April 08, 2025)\\nM-25-22 Driving Efficient Acquisition of Artificial Intelligence in Government (April 03, 2025)\\nM-25-21 Accelerating Federal Use of AI through Innovation, Governance, and Public Trust (April 03, 2025) [...] M-25-15 Recission and Reinstatement of Circular A-4 (February 12, 2025)\\nM-25-14 Rescission of M-25-13 (January 29, 2025)\\nM-25-13 Temporary Pause of Agency Grant, Loan, and Other Financial Assistance Programs (January 27, 2025)\\nM-25-12 Guidance Regarding Revocation of Executive Orders 14076 and 14079 and Complying with Statutory Restrictions on Taxpayer Funding for Abortion (January 24, 2025)\\n</Document>']\n"
     ]
    },
    {
     "name": "stderr",
     "output_type": "stream",
     "text": [
      "/Users/ethangoldberg/opt/anaconda3/envs/polynews/lib/python3.11/site-packages/langgraph/utils/runnable.py:408: UserWarning: WARNING! parallel_tool_calls is not default parameter.\n",
      "                parallel_tool_calls was transferred to model_kwargs.\n",
      "                Please confirm that parallel_tool_calls is what you intended.\n",
      "  input = step.invoke(input, config, **kwargs)\n"
     ]
    },
    {
     "name": "stdout",
     "output_type": "stream",
     "text": [
      "returning article with headline:  Simion Edges Dan in Tight Romanian Election Margin\n",
      "['<Document href=\"https://arabcenterdc.org/resource/details-of-the-ceasefire-deal-that-hamas-has-accepted/\"/>\\nAl-Araby al-Jadeed obtained the text of the Gaza ceasefire agreement announced on Monday, May 6, 2024. Hamas has informed Qatar and Egypt of its acceptance of the agreement on Monday evening. Following is the verbatim text of the agreement that has a three-stage implementation plan, each lasting for 42 days:\\nBasic principles for an agreement between the Israeli side and the Palestinian side in Gaza on the exchange of detainees and prisoners and the return of sustainable calm. [...] Careers\\nSupport ACW\\n\\n\\n\\nFull Text of the Ceasefire Agreement That Hamas has Accepted\\nMay 6, 2024\\n</Document>\\n\\n---\\n\\n<Document href=\"https://en.wikipedia.org/wiki/2025_Gaza_war_ceasefire\"/>\\n^ Minsberg, Talya; Bayoumy, Yara; Yee, Vivian (27 November 2023). \"Hamas and Israel Extend Cease-Fire for 2 Days, Qatar Says\". The New York Times. Archived from the original on 2 April 2024. Retrieved 2 June 2024.\\n^ Kingsley, Patrick; Hubbard, Ben; Fuller, Thomas (27 November 2023). \"Israel Resumes Offensive in Gaza Strip After Truce With Hamas Ends\". The New York Times. Archived from the original on 7 December 2023. Retrieved 2 June 2024. [...] ^ Neuman, Scott; Estrin, Daniel; DeRose, Jason (27 December 2023). \"The latest Israel-Hamas cease-fire proposal drops details of future governance of Gaza\". NPR. Archived from the original on 25 May 2024. Retrieved 2 June 2024.\\n^ Fassihi, Farnaz; Kingsley, Patrick; Boxerman, Aaron; Levenson, Michael (20 December 2023). \"Gaza Truce Talks Bog Down Over Disputes on Aid Inspections\". The New York Times. Archived from the original on 15 May 2024. Retrieved 2 June 2024. [...] ^ Boxerman, Aaron; Kingsley, Patrick; Rasgon, Adam (24 January 2024). \"Israel and Hamas\\'s Cease-Fire and Hostage Deal Proposals: What to Know\". The New York Times. Archived from the original on 28 May 2024. Retrieved 2 June 2024.\\n^ Fassihi, Farnaz; Kingsley, Patrick; Boxerman, Aaron; Levenson, Michael (20 December 2023). \"Gaza Truce Talks Bog Down Over Disputes on Aid Inspections\". The New York Times. Archived from the original on 11 May 2024. Retrieved 2 June 2024.\\n</Document>\\n\\n---\\n\\n<Document href=\"https://www.aljazeera.com/features/2025/1/19/timeline-the-path-to-the-israel-hamas-ceasefire-deal-in-gaza\"/>\\nAnalyst Hamzé Attar told Al Jazeera that he believes Israel’s objectives in Gaza were achieved in early 2024 but the war was prolonged to execute attacks on Hezbollah in Lebanon.\\nA ceasefire was announced on November 27 that would see Hezbollah pull back its military infrastructure north of the Litani River and the Lebanese Armed Forces deploy to south Lebanon. The ceasefire agreement also states that Israeli troops should withdraw from south Lebanon before the 60-day ceasefire period ends.\\n</Document>\\n\\n---\\n\\n<Document href=\"https://www.timesofisrael.com/full-text-of-the-hostage-ceasefire-agreement-reached-between-israel-and-hamas/\"/>\\nThe text below, entitled Appendix I, supplements the Israeli proposal for a deal with Hamas, which was submitted on May 27, 2024, and was publicly presented by US President Joe Biden on May 31, 2024. That proposal sets out a three-phase agreement “on the exchange of hostages and prisoners and restoring a sustainable calm,” and provides for the release of 33 Israeli hostages in the first phase. In his announcement of the deal on January 15, 2025, Biden specified: “This is the exact framework of [...] The parties and the mediators’ objective is to achieve a final consensus to implement the May 27, 2024, agreement on the exchange of hostages and prisoners and return to a sustainable calm which would achieve a permanent ceasefire between the parties. [...] The return is agreed based on the 27, May 2024, agreement section 3-a and 3-b.\\nOn day 7, the internally displaced pedestrians will be allowed to return north, without carrying arms and without inspection via Rashid street. On day 22, they will be allowed to return north from the Salah\\xa0a-Din street as well, without inspection.\\n</Document>\\n\\n---\\n\\n<Document href=\"https://www.bbc.com/news/articles/cy5klgv5zv0o\"/>\\nIsrael said it accepted new US plans to keep the ceasefire going, but Hamas said the proposals were unacceptable because it was not what had been agreed upon in the original truce.\\nWhat does the ceasefire deal between Israel and Hamas say?\\nThe ceasefire was announced on 15 January and began four days later, after months of negotiations led by the US, Qatar and Egypt. It is based on a proposal set out by former US President Joe Biden in May 2024.\\nThe deal involves three stages:\\nStage one\\n</Document>']\n",
      "['<Document href=\"https://www.cnn.com/world/live-news/india-pakistan-operation-sindoor-05-08-25-intl-hnk\"/>\\nTensions continue to flare between India and Pakistan, as CNN reports, with Indian officials saying Pakistan fired missiles and drones at military sites in India and Indian-administered Kashmir. Islamabad has denied that claim, but earlier said it killed 40 to 50 Indian soldiers along the de facto border in Kashmir and downed over two dozen Indian drones. Meanwhile, India confirmed it has targeted air defense systems in Pakistan. [...] Link Copied!\\nExplosions rock Indian territory as Pakistan says it has killed soldiers and downed drones. Catch up here\\nFrom CNN staff\\nTensions continue to ratchet up between India and Pakistan, with Indian officials saying Pakistan fired missiles and drones at military sites in India and Indian-administered Kashmir. Islamabad has denied that claim, accusing New Delhi of “spreading disinformation.” [...] “Pakistan Armed Forces launched multiple attacks using drones and other munitions along entire Western Border,” the Indian Army said in a post on X on Friday morning local time (Thursday night E.T.), adding that the drone attacks were “effectively repulsed.”\\nIt also accused Pakistan of “numerous cease fire violations” along the Line of Control, the de facto border that divides the disputed territory of Kashmir, saying that the alleged “violations” were met with a “befitting reply.”\\n</Document>\\n\\n---\\n\\n<Document href=\"https://www.nytimes.com/live/2025/05/09/world/india-pakistan-kashmir\"/>\\nMay 9, 2025, 9:17 a.m. ETMay 9, 2025\\nMujib Mashal\\nReporting from New Delhi\\nGiving an account of last night’s heavy clashes at a news conference, India’s defense officials said Pakistan’s military had attempted aerial intrusions in 36 locations with “300 to 400” drones to test India’s air defense system. The officials said they had identified the drones as made in Turkey. (Details have been difficult to verify independently in an environment filled with contradictory claims and disinformation.) [...] SKIP ADVERTISEMENT\\nIndia-Pakistan Enter Third Night of Conflict Amid Efforts at Peace\\nBoth countries accused each other of aiming attacks at territories well beyond their disputed Kashmir border. As night fell late Friday, India reported heavy drone incursions in the country’s north.\\nPublished May 9, 2025Updated May 10, 2025\\n\\n\\nShare full article\\n\\n\\n Lahore, Pakistan Police commandos on a security drill on Friday.\\xa0\\nMurtaza Ali/Agence France-Presse — Getty Images [...] May 9, 2025, 1:33 p.m. ETMay 9, 2025\\nLara Jakes\\nReporting on weapons and conflict diplomacy\\nDrones complicate the fight between India and Pakistan.\\nImage\\n</Document>\\n\\n---\\n\\n<Document href=\"https://apnews.com/article/pakistan-india-weapons-missiles-rafale-073a6c4514a547924271fe1a47d5fabc\"/>\\n5 of 5\\xa0|\\xa0A Pakistani man reads morning news paper with front page story about Pakistan and India military tension, at a market in Peshawar, Pakistan, Friday, May 9, 2025. (AP Photo/Muhammad Sajjad)\\nRead More\\nIndia’s clash with Pakistan sees use of Chinese missiles, French jets, Israeli drones, and more\\n</Document>']\n"
     ]
    },
    {
     "name": "stderr",
     "output_type": "stream",
     "text": [
      "/Users/ethangoldberg/opt/anaconda3/envs/polynews/lib/python3.11/site-packages/langgraph/utils/runnable.py:408: UserWarning: WARNING! parallel_tool_calls is not default parameter.\n",
      "                parallel_tool_calls was transferred to model_kwargs.\n",
      "                Please confirm that parallel_tool_calls is what you intended.\n",
      "  input = step.invoke(input, config, **kwargs)\n",
      "/Users/ethangoldberg/opt/anaconda3/envs/polynews/lib/python3.11/site-packages/langgraph/utils/runnable.py:408: UserWarning: WARNING! parallel_tool_calls is not default parameter.\n",
      "                parallel_tool_calls was transferred to model_kwargs.\n",
      "                Please confirm that parallel_tool_calls is what you intended.\n",
      "  input = step.invoke(input, config, **kwargs)\n"
     ]
    },
    {
     "name": "stdout",
     "output_type": "stream",
     "text": [
      "['<Document href=\"https://www.cnn.com/2025/04/02/middleeast/israel-expands-military-operations-gaza-intl-hnk/index.html\"/>\\nA general view of the destruction in Gaza seen from the border between Israel and Gaza on March 8, 2025.\\nIlia Yefimovich/picture alliance/Getty Images/File\\nCNN \\xa0—\\xa0\\nIsraeli Defense Minister Israel Katz announced Wednesday a major expansion of the military’s operation in Gaza involving the seizure of large areas of land that would be “incorporated into Israel’s security zones.” [...] Last month, an Israeli official and a second source familiar with the matter told CNN that Israel was making plans for a potential major ground offensive in Gaza that would involve sending tens of thousands of troops into combat to clear and occupy large swaths of the enclave.\\nKatz’s statement on Wednesday did not specify whether additional Israeli troops would be involved in the expanded operation. [...] Published Time: 2025-04-02T04:27:18.869Z\\nIsrael announces expansion of military operation in Gaza to seize ‘large areas’ of land, ordering residents to leave | CNN\\n</Document>\\n\\n---\\n\\n<Document href=\"https://en.wikipedia.org/wiki/2025_Israeli_military_operation_in_the_West_Bank\"/>\\nOn 21 January 2025, the Israel Defense Forces (IDF) began a large-scale military operation, which it named \"Iron Wall\"[d],[37][38][39] against Palestinian militants in the Israeli-occupied West Bank. Described as an invasion by the Associated Press,[40] Israel\\'s operation initially only targeted the Jenin Brigades, a local Palestinian militia in Jenin.[41] On the fourth day, the IDF expanded its activities to Tulkarm and other Palestinian cities and towns. Iron Wall marks a strategically [...] ^ a b \"Israel launches major offensive in Jenin days after Gaza ceasefire\". Middle East Eye. Retrieved 21 January 2025.\\n^ a b c Walker, Marcus. \"Demolitions in Jenin Signal Israel\\'s New Approach in the West Bank\". WSJ. Retrieved 3 February 2025.\\n^ \"The World Needs a \\'Day After\\' Plan — for the West Bank\". The Algemeiner. 7 February 2025. Retrieved 7 February 2025. [...] From Wikipedia, the free encyclopedia\\nIsraeli military operation\\n| Iron Wall\\nחומת ברזל |\\n| --- |\\n| Part of the Israeli incursions in the West Bank during the Gaza war, the Middle Eastern crisis (2023–present) and the Palestinian Authority–West Bank militias conflict |\\n| \\nDate21 January 2025 – present(3\\xa0months, 2\\xa0weeks and 5\\xa0days)LocationWest Bank, PalestineStatusOngoing\\n|\\n| Belligerents |\\n| Israel\\n</Document>\\n\\n---\\n\\n<Document href=\"https://en.wikipedia.org/wiki/Israeli_invasion_of_the_Gaza_Strip\"/>\\nApril 2025: expansion to seize large areas\\nOn April 2, Defense Minister Israel Katz announced a major expansion of Israel\\'s offensive operation in the Gaza Strip, with the stated intention to seize \"large areas\" of Palestinian territory.[370][371] In a report, the IDF said that Hamas was able to replenish its ranks and had 40,000 fighters fighting in Gaza against the Israeli invasion.[372] [...] ^ Uras, Umut; Speri, Alice (21 March 2025). \"UN \\'horrified\\' by killing of Palestinians in Gaza, Israeli bombing\". Al Jazeera. Retrieved 21 March 2025.\\n^ \"Israel\\'s military operation in Gaza Strip expanding to seize \\'large areas,\\' defense minister says\". AP News. Jerusalem. 2 April 2025. Archived from the original on 2 April 2025. Retrieved 2 April 2025. [...] Lahia attacksBeit Lahia airstrikeKerem Shalom aid convoy lootingMarch 2025 Israeli strikesRafah paramedic massacreApril 2025 Shuja\\'iyya airstrikeOperation Gideon\\'s ChariotsGeneral topicsAI-assisted targetingBombing of the Gaza StripDestruction of cultural heritage during the Israeli invasion of the Gaza StripEnvironmental impact of the Gaza warGaza genocideIsraeli generals\\' planTortureOthertheatersIsraeli incursions in the West Bank2024 Israeli military operationKilling of Benjamin\\n</Document>\\n\\n---\\n\\n<Document href=\"https://www.cnn.com/2025/03/24/middleeast/israel-gaza-ground-offensive-intl/index.html\"/>\\nPublished Time: 2025-03-24T14:08:26.667Z\\nIsrael considers massive new ground offensive in Gaza as it ramps up pressure on Hamas | CNN [...] Israeli soldiers near the border with northern Gaza on March 20.\\nGil Cohen-Magen/AFP/Getty Images\\nCNN \\xa0—\\xa0\\nIsrael is making plans for a potential major ground offensive in Gaza that would involve sending tens of thousands of troops into combat to clear and occupy large swaths of the enclave, an Israeli official and a second source familiar with the matter said. [...] Palestinians leave Beit Hanun in the northern Gaza Strip with their belongings, heading towards Gaza City following Israeli evacuation orders on March 19, 2025. The Israeli military dropped leaflets warning residents of what it called \"combat areas\" in the north and south of the besieged Palestinian territory, after Israel resumed air strikes following a ceasefire breakdown. (Photo by Bashar TALEB / AFP) (Photo by BASHAR TALEB/AFP via Getty Images) Bashar Taleb/AFP/Getty Images Related article\\n</Document>\\n\\n---\\n\\n<Document href=\"https://www.nbcnews.com/world/israel/israel-gaza-intensify-military-operation-hamas-rcna204770\"/>\\nMay 5, 2025, 7:49 AM UTC\\xa0/\\xa0Updated\\xa0May 6, 2025, 2:17 AM UTC\\nBy Astha Rajvanshi and Matt Bradley\\nIsrael\\'s security Cabinet has unanimously approved a plan to seize all of the Gaza Strip in what Prime Minister Benjamin Netanyahu said would be an intensive military operation aimed at defeating Hamas.\\n</Document>']\n"
     ]
    },
    {
     "name": "stderr",
     "output_type": "stream",
     "text": [
      "/Users/ethangoldberg/opt/anaconda3/envs/polynews/lib/python3.11/site-packages/langgraph/utils/runnable.py:408: UserWarning: WARNING! parallel_tool_calls is not default parameter.\n",
      "                parallel_tool_calls was transferred to model_kwargs.\n",
      "                Please confirm that parallel_tool_calls is what you intended.\n",
      "  input = step.invoke(input, config, **kwargs)\n"
     ]
    },
    {
     "name": "stdout",
     "output_type": "stream",
     "text": [
      "['<Document href=\"https://www.state.gov/?post_type=state_briefing&%3Bp=92333\"/>\\nAnd now, here at home, President Trump met with Prime Minister Benjamin Netanyahu yesterday, demonstrating that the United States is a great ally to Israel and that President Trump is the greatest friend Israel has ever had in the White House. Among other topics, the two leaders discussed Gaza and the need for Hamas to release all the hostages. [...] MS BRUCE: Well, I don’t know what the plan is when it comes to the content. That is something that we would have to speculate about or guess at, and we really shouldn’t do that, obviously, with a multitude of issues facing the region. So it’s – the details, I can’t imagine about. It’s not something I’m going to do. But I think that that kind of a visit, of course, is at the hallmark of President Trump’s vision when it comes to his own presidency but also how to change the course of the Middle [...] In this effort, we are guided by two principles: We stand with Israel and we stand for peace. Also at this meeting with Prime Minister Netanyahu, President Trump reaffirmed that Iran can never obtain a nuclear weapon. As the President announced, we are engaging in diplomacy right now to solve this matter. In the words of President Trump yesterday, “doing a deal would be preferable to doing the obvious.”\\nAnd that is my announcements.\\nQUESTION: Thank you.\\n</Document>\\n\\n---\\n\\n<Document href=\"https://www.kbtx.com/2025/05/12/trump-visiting-gulf-arab-states-while-crises-flare-gaza-iran/\"/>\\nTrump doesn’t plan to visit Israel\\n\\nBy not scheduling a trip to Israel during his first trip to the region during his second term as president, Trump is reinforcing a feeling in Israel that its interests may not be top of mind for him.\\n\\nThat sense intensified last week, when Trump announced that the U.S. would halt its strikes on the Houthis, an Iran-backed rebel group in Yemen that agreed to stop its attacks on American vessels in the Red Sea.\\n</Document>']\n"
     ]
    },
    {
     "name": "stderr",
     "output_type": "stream",
     "text": [
      "/Users/ethangoldberg/opt/anaconda3/envs/polynews/lib/python3.11/site-packages/langgraph/utils/runnable.py:408: UserWarning: WARNING! parallel_tool_calls is not default parameter.\n",
      "                parallel_tool_calls was transferred to model_kwargs.\n",
      "                Please confirm that parallel_tool_calls is what you intended.\n",
      "  input = step.invoke(input, config, **kwargs)\n"
     ]
    },
    {
     "name": "stdout",
     "output_type": "stream",
     "text": [
      "['<Document href=\"https://en.wikipedia.org/wiki/2025_India%E2%80%93Pakistan_conflict\"/>\\nThe 2025 India–Pakistan conflict is an ongoing armed conflict between India and Pakistan that began on 7 May 2025, after India launched missile strikes on Pakistan, codenamed Operation Sindoor.[b] India stated that the operation was a response to the Pahalgam attack on 22 April by militants in the Indian administered Kashmir killing 26 civilians, mostly tourists. The attack intensified tensions between India and Pakistan as India accused Pakistan of supporting cross-border terrorism, which [...] Part ofIndia–Pakistan wars and conflicts,2025 India–Pakistan standoffandKashmir conflict\\nDate7 May 2025–present (ongoing)LocationIndiaPakistanResultCeasefire[1][2]Sporadic fighting continues | Date | 7 May 2025–present (ongoing) | Location | IndiaPakistan | Result | Ceasefire[1][2]Sporadic fighting continues\\nDate | 7 May 2025–present (ongoing)\\nLocation | IndiaPakistan\\nResult | Ceasefire[1][2]Sporadic fighting continues\\nBelligerents\\nIndia | Pakistan\\nCommanders and leaders [...] Date | 7 May 2025–present (ongoing)\\nLocation | IndiaPakistan\\nResult | Ceasefire[1][2]Sporadic fighting continues\\nCeasefire[1][2]\\n</Document>\\n\\n---\\n\\n<Document href=\"https://www.cnn.com/world/live-news/india-pakistan-operation-sindoor-05-09-25-intl-hnk\"/>\\n• Blame game: Both sides have since accused each other of taking escalatory steps, including firing drones and missiles at each other despite calls for restraint from the international community.\\n\\n• A history of tension: Hindu-majority India and Muslim-majority Pakistan each control parts of Kashmir but claim it in full and have fought three wars over the territory.\\n\\n\\n\\nOur live coverage of the conflict between India and Pakistan has moved here. [...] “We have a history of acknowledging our losses and those who have laid down their lives for the country. Our conscience is very clear. Operation Sindoor is still ongoing and operational details will be shared when appropriate,” the Indian official with knowledge of the matter said. [...] Residents living along Line of Control are under \"high tension,\" a local tells CNN\\n\\nTensions are high for those living near the de facto border separating Indian and Pakistan administered Kashmir, known as the Line of Control (LoC), a local resident living in the Pakistani-administered side of the heavily-contested region has said.\\n\\nThe LoC continues to be one of the main flashpoints of the conflict that has erupted between the two neighboring countries since Wednesday.\\n</Document>\\n\\n---\\n\\n<Document href=\"https://en.wikipedia.org/wiki/2025_India%E2%80%93Pakistan_standoff\"/>\\nDate23 April 2025 – present(2\\xa0weeks and 4\\xa0days)LocationInternational BoundaryandLine of ControlStatusOngoingCancellation ofIndus Water TreatyandShimla Agreement[1][2]Visa cancellation and travel ban for Pakistanis in India[1]Expulsion of Pakistani diplomats from India and withdrawal of Indian counterparts from Pakistan[1]Suspension of all trade including through third countries with India by Pakistan[3]Closure of Pakistani airspace for Indian aircraft[4]2025 India-Pakistan conflict [...] ceasefireSporadic fighting continues | Date | 23 April 2025 – present(2\\xa0weeks and 4\\xa0days) | Location | International BoundaryandLine of Control | Status | OngoingCancellation ofIndus Water TreatyandShimla Agreement[1][2]Visa cancellation and travel ban for Pakistanis in India[1]Expulsion of Pakistani diplomats from India and withdrawal of Indian counterparts from Pakistan[1]Suspension of all trade including through third countries with India by Pakistan[3]Closure of Pakistani airspace for [...] On 7 May 2025, India launched missile strikes on Pakistan, codenamed Operation Sindoor. According to India, the missile strikes targeted the militant groups Jaish-e-Mohammed and Lashkar-e-Taiba. According to Pakistan, the Indian strikes targeted civilian areas, including mosques, killing 31 Pakistani civilians. In return, Pakistan said they had downed a number of Indian jets and damaged Indian infrastructure.\\n</Document>\\n\\n---\\n\\n<Document href=\"https://www.cfr.org/global-conflict-tracker/conflict/conflict-between-india-and-pakistan\"/>\\nOn April 22, 2025, tensions escalated after militants attacked Indian tourists in Kashmir, killing twenty-five Indian nationals and one Nepalese national. The incident marked the deadliest terrorist attack in Indian territory since the 2008 Mumbai attacks. India blamed Pakistan for harboring the group responsible for the attack and arrested two Pakistani nationals as suspects. Pakistan\\xa0denied any involvement, and its defense ministry even suggested the attack was a\\xa0“false flag operation.”\\n</Document>\\n\\n---\\n\\n<Document href=\"https://edition.cnn.com/world/live-news/india-pakistan-attack-kashmir-tourists-intl-hnk\"/>\\nThe embassy statement said it was clear that “Pakistani-based terrorists” were responsible for last month’s attack in Kashmir. But that instead of taking action, Pakistan “indulged in denial and made allegations of false flag operations against India.”\\n\\nIndia and Pakistan have a tense history. Here are the wars they have fought before [...] Pakistan suspended trade with India and expelled Indian diplomats. It said that that any attempt to stop or divert water belonging to Pakistan would be considered an “act of war.”\\n\\nBoth countries have also shut their airspace to each other.\\n\\nNew Delhi and Islamabad had also been flexing their military might as tensions simmered along the LOC with small exchanges of fire across the demarcation in recent days. Both sides have also closed their air spaces to each other’s airlines. [...] But attacks on tourists in the picturesque Himalayan region are rare.\\n\\nTensions between India Pakistan over Kashmir have surged in recent years, after Indian Prime Minister Narendra Modi’s Hindu nationalist government revoked its constitutional autonomy in 2019, bringing it under the direct control of New Delhi.\\n\\nHere\\'s what happened last month in Kashmir that triggered today\\'s operation\\n</Document>']\n"
     ]
    },
    {
     "name": "stderr",
     "output_type": "stream",
     "text": [
      "/Users/ethangoldberg/opt/anaconda3/envs/polynews/lib/python3.11/site-packages/langgraph/utils/runnable.py:408: UserWarning: WARNING! parallel_tool_calls is not default parameter.\n",
      "                parallel_tool_calls was transferred to model_kwargs.\n",
      "                Please confirm that parallel_tool_calls is what you intended.\n",
      "  input = step.invoke(input, config, **kwargs)\n"
     ]
    },
    {
     "name": "stdout",
     "output_type": "stream",
     "text": [
      "['<Document href=\"https://en.wikipedia.org/wiki/Shadow_Force_(2025_film)\"/>\\nRelease date | May\\xa09,\\xa02025(2025-05-09)\\nRunning time | 104 minutes[1]\\nCountry | United States\\nLanguage | English\\nBudget | $40-60 million[2][3]\\nBox office | $2 million[4][5]\\nShadow Force is a 2025 American action thriller film directed by Joe Carnahan and co-written by Carnahan and Leon Chills. It stars Kerry Washington, Omar Sy, Mark Strong, Da\\'Vine Joy Randolph, and Cliff \"Method Man\" Smith. [...] The film made $2 million from 2,170 theaters in its opening weekend, finishing sixth at the box office. Following its debut, Deadline Hollywood reported the film would lose the studio around $10 million.[18]\\n\\nCritical response [...] On August 30, 2022, principal photography was set to start in Colombia.[12] In October 2022, Washington and Quinn confirmed that filming wrapped.[14][15]\\n\\nRelease\\n\\nShadow Force released in the United States on May 9, 2025. It was delayed from its original release date of May 2, 2025, to take advantage of Mother\\'s Day weekend and avoid competition with Marvel Studios\\' Thunderbolts*.[16][17]\\n\\nReception\\n\\nBox office\\n</Document>\\n\\n---\\n\\n<Document href=\"http://www.boxofficereport.com/predictions/predictions20250508.html\"/>\\nto be fellow Lionsgate releaseThe Killer\\'s Game, which opened with $2.70 million (from 2,623 locations) last September.  BoxOfficeReport is predicting respective starts of $3.6 million forClown in a Cornfieldand $2.9 million forShadow Forcethis weekend. [...] Rank | Film (Distributor) | WeekendGross | TotalGross | %Change | Week#\\n1 | Thunderbolts*(Disney) | $36.5 M | $131.8 M | -51% | 2\\n2 | Sinners(Warner Bros.) | $27.5 M | $220.8 M | -17% | 4\\n3 | A Minecraft Movie(Warner Bros. / Legendary) | $8.8 M | $409.9 M | -36% | 6\\n4 | The Accountant 2(Amazon MGM Studios) | $6.0 M | $50.8 M | -37% | 3\\n5 | Clown in a Cornfield(RLJE Films / Shudder) | $3.6 M | $3.6 M | NEW | 1\\n6 | Shadow Force(Lionsgate) | $2.9 M | $2.9 M | NEW | 1 [...] R-rated action thriller directed by Joe Carnahan and starring Kerry Washington and Omar Sy, will open in 2,170 locations and has Thursday preview shows beginning at 6PM.  Last May, IFC Films & Shudder\\'sIn a Violent Naturedebuted with $2.16 million from 1,426 locations.  With the wider launch and a concept that feels a bit more mainstream friendly, there\\'s a strong chanceClown in a Cornfieldwill open higher thanIn a Violent Naturedid.  A good opening weekend comparison forShadow Forcecould prove\\n</Document>\\n\\n---\\n\\n<Document href=\"https://www.reddit.com/r/boxoffice/comments/1kkrzq7/domestic_box_office_2025_weekend_19/\"/>\\nBrought in $2M at launch with a $929 average from 2,153 theaters. Similar performance to Shadow Force. Prediction: Expect $850K–1M next weekend\\n</Document>\\n\\n---\\n\\n<Document href=\"https://polymarket.com/event/shadow-force-opening-weekend-box-office/will-shadow-force-gross-more-than-2m-opening-weekend\"/>\\n\"Shadow Force\" Opening Weekend Box Office ; <$1.2m. $29,323 Vol. 6% ; $1.2-1.6m. $22,919 Vol. 7% ; $1.6-2m. $19,777 Vol. 18% ; >$2m. $34,680 Vol. 73%.\\n</Document>\\n\\n---\\n\\n<Document href=\"https://polymarket.com/event/shadow-force-opening-weekend-box-office\"/>\\n\"Shadow Force\" Opening Weekend Box Office ; <$1.2m. $29,323 Vol. <1% ; $1.2-1.6m. $22,919 Vol. <1% ; $1.6-2m. $20,908 Vol. - ; >$2m. $36,995 Vol. 86%.\\n</Document>']\n"
     ]
    },
    {
     "name": "stderr",
     "output_type": "stream",
     "text": [
      "/Users/ethangoldberg/opt/anaconda3/envs/polynews/lib/python3.11/site-packages/langgraph/utils/runnable.py:408: UserWarning: WARNING! parallel_tool_calls is not default parameter.\n",
      "                parallel_tool_calls was transferred to model_kwargs.\n",
      "                Please confirm that parallel_tool_calls is what you intended.\n",
      "  input = step.invoke(input, config, **kwargs)\n"
     ]
    },
    {
     "name": "stdout",
     "output_type": "stream",
     "text": [
      "['<Document href=\"https://en.wikipedia.org/wiki/2022_South_Korean_presidential_election\"/>\\n←20179 March 20222025→ | ←2017 | 9 March 2022 | 2025→\\n←2017 | 9 March 2022 | 2025→\\nOpinion\\xa0polls\\nRegistered | 44,197,692\\nTurnout | 77.08% (0.15pp)[1]\\nNomineeYoon Suk YeolLee Jae-myungPartyPeople PowerDemocraticPopular\\xa0vote16,394,81516,147,738Percentage48.56%47.83% |  |  |  | Nominee | Yoon Suk Yeol | Lee Jae-myung |  | Party | People Power | Democratic | Popular\\xa0vote | 16,394,815 | 16,147,738 | Percentage | 48.56% | 47.83%\\n |  | \\nNominee | Yoon Suk Yeol | Lee Jae-myung | [...] Candidate | Votes | %\\nLee Jae-myung | 719,905 | 50.29\\nLee Nak-yeon | 560,392 | 39.14\\nChoo Mi-ae | 129,035 | 9.01\\nPark Yong-jin | 22,261 | 1.55\\nTotal | 1,431,593 | 100.00\\nThe votes above only count the votes cast for the four candidates who stayed in the race up to the final round of the primary and does not include votes received by Chung Sye-kyun and Kim Doo-kwan, who both dropped out midway. Before dropping out, Chung had received 23,731 votes and Kim received 4,411 votes.[29] [...] On 10 October, following the announcement of Lee Jae-myung\\'s nomination, Lee Nak-yeon campaign stated they would appeal the results. A day later, the campaign submitted a formal appeal to the party. Rep. Hong Young-pyo, co-chair of the Lee Nak-yeon campaign, said that the votes of Kim and Chung should be included in the final result, in which case Lee Jae-myung\\'s vote share would be reduced to 49.32% and run-off would be required. However, party chairman Song Young-gil told reporters he would\\n</Document>\\n\\n---\\n\\n<Document href=\"https://www.statista.com/statistics/1549781/south-korea-leading-candidate-for-the-next-presiden/\"/>\\nAccording to a survey conducted in South Korea in April 2025, about 38 percent of respondents viewed Lee Jae-myung, the leader of the main\\n</Document>\\n\\n---\\n\\n<Document href=\"https://www.scmp.com/week-asia/politics/article/3307347/south-korea-snap-election-lee-jae-myung-tops-50-conservatives-reel-yoon-fallout\"/>\\nLee also is racing towards a dominant victory in the DPK’s nomination race for the June 3 snap presidential election, having secured around 90 per cent of votes in the first two of four primary rounds. The party is set to officially nominate its candidate on April 27.\\n\\nThe results of a survey by local pollster Real Meter released on Monday showed Lee’s support rising by 1.4 percentage points from the previous week to 50.2 per cent. [...] His closest competitor, former labour minister Kim Moon-soo of the conservative People Power Party (PPP), garnered 12.2 per cent, up 1.3 points from a week earlier. [...] South Korea snap election: Lee Jae-myung tops 50% as conservatives reel from Yoon fallout\\n\\nSupport for Lee keeps rising while his rival, acting President Han Duck-soo, stays coy about his intentions for the June 3 snap elections\\n\\nSupport for Lee keeps rising while his rival, acting President Han Duck-soo, stays coy about his intentions for the June 3 snap elections\\n</Document>\\n\\n---\\n\\n<Document href=\"https://www.chosun.com/english/national-en/2025/05/01/D3LIBIZ2K5FHRHCTHFK5FD2ORM/\"/>\\nThe National Barometer Survey (NBS)—a joint poll conducted by Embrain Public, Kstat Research, Korea Research International, and Hankook Research\\n</Document>\\n\\n---\\n\\n<Document href=\"https://www.aa.com.tr/en/asia-pacific/opposition-candidate-maintains-big-lead-ahead-of-south-koreas-snap-presidential-election-poll/3550361\"/>\\nLee Jae-myung of Democratic Party leads latest poll with 48.5% - Anadolu Ajansı.\\n</Document>']\n"
     ]
    },
    {
     "name": "stderr",
     "output_type": "stream",
     "text": [
      "/Users/ethangoldberg/opt/anaconda3/envs/polynews/lib/python3.11/site-packages/langgraph/utils/runnable.py:408: UserWarning: WARNING! parallel_tool_calls is not default parameter.\n",
      "                parallel_tool_calls was transferred to model_kwargs.\n",
      "                Please confirm that parallel_tool_calls is what you intended.\n",
      "  input = step.invoke(input, config, **kwargs)\n"
     ]
    },
    {
     "name": "stdout",
     "output_type": "stream",
     "text": [
      "this is the intermediate reseponse:  {'what_is_the_market_asking_or_answering': 'Will Pakistan initiate a drone, missile, or air strike on Indian soil between May 10, 2025, 12:00 PM ET and May 16, 2025, 11:59 PM ET?', 'important_criteria': ['A qualifying strike must be initiated by Pakistani military forces and involve aerial bombs, drones, or missiles (including cruise or ballistic missiles) that impact Indian ground territory.', 'Strikes must occur between May 10, 2025, 12:00 PM ET and May 16, 2025, 11:59 PM ET.', 'Intercepted missiles or drones and surface-to-air missile strikes do not qualify, regardless of impact or damage.', 'Artillery fire, small arms fire, FPV or ATGM strikes, ground incursions, naval actions, cyberattacks, or sanctions do not qualify.', 'Resolution will be based on credible, consensus reporting.'], 'completed': False, 'important_insights_context_or_reasoning': \"Recent context shows a dramatic escalation between India and Pakistan. On May 7, 2025, India conducted airstrikes on nine locations inside Pakistan and Pakistan-occupied Kashmir, marking the first such action since 1971. Pakistani officials have vowed retaliation, with military spokespeople stating that a response will come at a 'time and place of its own choosing.' Since the timeframe for the market begins after India's strikes, market participants are pricing in the risk of a Pakistani response within the specified window. Tensions are described as 'spiraling,' with both sides trading accusations and reports of thwarted missile attacks. However, as of the market's current time frame, no credible reports confirm a Pakistani-initiated aerial or missile strike on Indian soil since May 10. The market probability for a Pakistani strike is 21%, reflecting significant risk but not a consensus expectation of imminent escalation. Participants are closely watching for any credible reports of Pakistani aerial or missile activity targeting India within the defined period, given the explicit threats and high tensions.\"}\n",
      "this is the intermediate reseponse:  {'what_is_the_market_asking_or_answering': 'Will Israel launch a major ground offensive in Gaza by May 13, 2025, 11:59 PM ET?', 'important_criteria': [\"Market resolves to 'Yes' if Israel initiates a major ground offensive in Gaza between May 5, 9:00 PM ET, and May 13, 2025, 11:59 PM ET.\", \"A 'major ground offensive' is defined as a large-scale military operation involving more than 1,000 Israeli ground forces entering Gazan territory not under Israeli control at the start of the offensive.\", 'Smaller raids, special operations, or limited incursions directly bordering buffer zones already under Israeli control do not count.', 'Resolution is based on a consensus of credible reporting.'], 'completed': False, 'important_insights_context_or_reasoning': \"Recent reporting indicates significant escalation and expansion of Israeli military operations in Gaza. On May 5, 2025, Israel's security Cabinet unanimously approved an intensive military operation to seize the Gaza Strip, described as aimed at defeating Hamas. This follows weeks of preparations and statements from Israeli officials referencing plans for a major ground offensive involving tens of thousands of troops. CNN and other outlets have reported the seizure of large areas of land and evacuation orders for residents, with the Defense Minister explicitly referencing 'major expansions.' Despite these developments, public sources have not yet confirmed that a new, qualifying ground offensive involving over 1,000 troops into previously unoccupied territory has commenced within the specified window. The market probability stands at 60%, reflecting anticipation of imminent action but not certainty, likely due to the precise criteria required for market resolution and the need for clear, consensus reporting of such an event.\"}\n",
      "this is the intermediate reseponse:  {'what_is_the_market_asking_or_answering': 'Will Donald Trump sign an executive order on any given day from May 10 to May 16, 2025, as determined by publication on the official White House page or press pool?', 'important_criteria': [\"Market resolves 'Yes' if an executive order signed by Donald Trump is published on the White House page for presidential actions or in the White House press pool for the specified date.\", 'Mere announcements do not qualify; the text of the executive order must be published.', 'Executive actions that are not executive orders do not qualify.', \"If no executive order is published by 12:00 PM ET the day after the specific date, the market resolves 'No' for that day.\", 'In case of ambiguity, resolution may be delayed until confirmed by the Federal Register.', 'Resolution timeline runs from May 10 to May 16, 2025, with each day as a separate outcome.'], 'completed': False, 'important_insights_context_or_reasoning': 'The market shows near certainty (99.95%) that an executive order was signed on May 12, with all other days receiving significantly lower probabilities. Recent changes in probabilities show an increase for May 12 and minor fluctuations for other dates, with May 13 seeing a notable decrease. The volume is substantial, indicating considerable trader engagement. No evidence from White House sources or federal registers suggests executive orders for the other dates within the specified period. The market is not fully resolved until after 12:00 PM ET on each day, but for May 12, the outcome is essentially guaranteed by market consensus. This event is highly relevant to observers of the Trump presidency and executive action patterns.'}\n",
      "this is the intermediate reseponse:  {'what_is_the_market_asking_or_answering': 'Will there be an official, mutually agreed and publicly announced ceasefire agreement between Israel and Hamas before the end of 2025?', 'important_criteria': [\"The market resolves to 'Yes' if an official ceasefire agreement is publicly announced and mutually agreed between Israel and Hamas between March 19, 2024 and December 31, 2025, 11:59 PM ET.\", 'The ceasefire must be official, not informal or humanitarian pauses.', 'Resolution is based on official announcements by both parties or a wide consensus of credible media reporting.', 'Reinstatement of the January 15th ceasefire deal qualifies.', 'Resolution does not require the ceasefire to take effect before the end date, only that the agreement is reached.'], 'completed': False, 'important_insights_context_or_reasoning': \"The probability for a ceasefire before 2026 is currently extremely high (85.5%), reflecting strong market confidence, likely influenced by multiple credible reports and official texts detailing recent agreements. Key developments include Hamas' acceptance of a three-stage ceasefire plan on May 6, 2024, following mediation by Qatar and Egypt, and a May 27, 2024 Israeli proposal, publicly presented by President Biden. The deal is phased and centers on hostages, prisoners, withdrawal, and restoring sustainable calm. While both parties have at times disputed specifics, a framework for a permanent ceasefire appears to be in place, with public announcements and third-party mediation widely reported by major outlets (BBC, NYT, Al Jazeera). The primary uncertainty is the actual implementation, but by the stated criteria (agreement, not just enactment, before end-2025), the conditions for market resolution are likely to be met if these agreements hold.\"}\n",
      "['<Document href=\"https://www.gamingbible.com/news/gta-6-fans-planning-event-game-release-339842-20250417\"/>\\nIf you take a look at the rest of Take-Two’s upcoming slate though, Mafia: The Old Country is due to land on 8 August, followed by NBA 2K26 in early September and Borderlands 4 on 23 September.\\n\\nI’d say that rules a GTA VI September release out then, as Take-Two won’t want its projects to clash.\\n\\nIt’s far more likely that we’ll see the game land in October or November.\\n\\nAdvert\\n\\nAs reported by Daily Star’s Lloyd Coombes, when that does happen, fans are planning an epic launch party. [...] GTA VI remains without a release date, but that hasn’t stopped fans of the franchise from planning the “ultimate GTA VI launch party”.\\n\\nStrauss Zelnick, CEO of Take-Two Interactive, recently confirmed that we’re unlikely to see or hear more about GTA VI until much closer to its release date, whenever that may be.\\n\\nWell, it has seemingly been narrowed down.\\n\\nAdvert\\n\\nGTA VI is slated to launch in fall / autumn, so we’re talking September to November. [...] The OP goes on to add that the party will include custom wanted posters of his friends, a countdown timer to release, a costume contest, Nerf gun target competition, a GTA marathon of older titles, tropical drinks “with little umbrellas”, and flamingo, gator, and dolphin props.\\n\\nHonestly, it sounds like a great party.\\n\\nThose in the comments either want an invite or were left inspired to plan their own launch event.\\n\\nAdvert\\n</Document>\\n\\n---\\n\\n<Document href=\"https://www.gtavice.net/launch-timeline\"/>\\nBloomberg Article Suggests Upcoming Announcement & Trailer\\n\\nNovember 8, 2023\\n\\nIn an article posted by Jason Schreier, it was suggested that Rockstar Games had planned to announce the next GTA game in the coming days with a trailer to be released in December 2023.\\n\\nRockstar Games, a division of\\xa0Take-Two Interactive Software Inc., plans to announce the next highly anticipated\\xa0Grand Theft Auto\\xa0game as early as this week, according to people familiar with its plans. [...] Rockstar Games Announce Delay, Release Date Now May 26, 2026\\n\\nMay 2, 2025\\n\\nRockstar Games confirmed on their newswire that GTA VI will be pushed back into 2026 and will now launch on May 26th, 2026.\\n\\nHi everyone,\\n\\nGrand Theft Auto VI is now set to release on May 26, 2026. [...] We are very excited to let you know that in early December, we will release the first trailer for the next Grand Theft Auto.\\n\\nWe look forward to many more years of sharing these experiences with all of you.\\n\\nThank you,\\n\\nSam Houser\\n\\nRockstar Games Announce Trailer 1 to be released on Tuesday, December 5th at 9 AM\\n\\nDecember 1, 2023\\n</Document>\\n\\n---\\n\\n<Document href=\"https://gtaforums.com/topic/980217-grand-theft-auto-vi-a-timeline-of-events/\"/>\\nMonday, September 19th 2022 @ 2:10pm BST\\n\\nRockstar Games comment on the GTA VI leak.\\n\\n\\n\\nWednesday, May 17th 2023 @ 9:30pm BST\\n\\nQ4 2023 Take-Two Interactive Software, Inc. Earnings Conference Call. A potential GTA VI release window is revealed. [...] Friday, December 1st 2023 @ 2pm GMT\\n\\nRockstar Games Tweet an image with the date for Trailer 1. Tuesday, December 5th 9am ET (2pm GMT).\\n\\nMonday, December 4th @2pm GMT\\n\\nRockstar Games tweet a link to a YouTube Premier of Trailer 1.\\n\\n\\n\\nNote: Sadly, the trailer leaked, so Rockstar released it early at 11:10pm GMT\\n\\n\\n\\n\\n\\nTuesday, December 5th 2023 @2pm GMT\\n\\nRockstar Games launch the GTA VI website.\\n\\nrockstargames.com/VI\\n\\n\\n\\n\\n\\n\\n\\nFriday, May 2nd 2025 @12:25pm BST [...] All we can say is, right now, we’re focused on our next upcoming releases which are Max Payne 3 as well as L.A. Noire for PC, Red Dead Redemption Game of the Year Edition and Max Payne for mobile devices. When and if we have anything to report regarding the Grand Theft Auto franchise, you know that we’ll do so here at the Newswire or on our\\xa0Twitter\\xa0or\\xa0Facebook.\\n</Document>\\n\\n---\\n\\n<Document href=\"https://www.take2games.com/ir/news/rockstar-games-announces-grand-theft-auto-vi-coming-2025\"/>\\nNEW YORK--(BUSINESS WIRE)--Dec. 4, 2023--\\r\\nRockstar Games®, a publishing label of Take-Two Interactive Software, Inc. (NASDAQ: TTWO), is proud to announce that Grand Theft Auto VI\\xa0is coming to PlayStation® 5 computer entertainment systems and Xbox Series X|S games and entertainment systems in 2025.\\n\\nThis press release features multimedia. View the full release here: https://www.businesswire.com/news/home/20231204993583/en/ [...] update any forward-looking statement, whether as a result of new information, future events or otherwise. [...] Celebrating its 25th anniversary in December, Rockstar Games pioneered the open-world genre of video games with the launch of Grand Theft Auto III in 2001. With each successive blockbuster entry in the series including Grand Theft: Vice City, Grand Theft Auto: San Andreas, and Grand Theft Auto IV, Grand Theft Auto has become one of the biggest selling, most critically acclaimed and influential properties in all of modern entertainment. The most recent iteration in the series, Grand Theft Auto\\n</Document>\\n\\n---\\n\\n<Document href=\"https://www.gamesradar.com/gta-6-guide/\"/>\\nThe first GTA 6 announcement came in February 2022, when Rockstar Games snuck out the news that GTA 6 is \"well underway\" as part of a broader GTA 5 and GTA Online Community Update. With word that Grand Theft Auto 6 is in \"active development\", Rockstar said: \"On behalf of our entire team, we thank you all for your support and cannot wait to step into the future with you!\" [...] GTA 6\\'s release date is set to release on May 26, 2026.\\n\\nRockstar confirmed the release date in a post on Twitter, which pushes GTA 6\\'s expected launch back from the previous Fall 2025 launch window - which was revealed in a Take-Two financial report back in May, 2024. [...] Rumors of a potential delay had been circling for some time ahead of the above announcement, with lots of speculation doing the rounds since the vague 2025 window was revealed back in 2024. It was first sparked when Rockstar moved all of its employees back to full-time in-office work five days a week, which multiple of its developers have expressed concern about, particularly when it comes to the potential effects on the sequel. A report via Kotaku also suggested GTA 6 may be pushed into 2026,\\n</Document>']\n"
     ]
    },
    {
     "name": "stderr",
     "output_type": "stream",
     "text": [
      "/Users/ethangoldberg/opt/anaconda3/envs/polynews/lib/python3.11/site-packages/langgraph/utils/runnable.py:408: UserWarning: WARNING! parallel_tool_calls is not default parameter.\n",
      "                parallel_tool_calls was transferred to model_kwargs.\n",
      "                Please confirm that parallel_tool_calls is what you intended.\n",
      "  input = step.invoke(input, config, **kwargs)\n"
     ]
    },
    {
     "name": "stdout",
     "output_type": "stream",
     "text": [
      "this is the stuctured article output:  {'id': 125, 'headline': 'Pakistan Strike Odds Hold at 21%—Post-India Airstrikes', 'subheader': 'Market prices in Pakistani retaliation risk after unprecedented May 7 Indian strikes', 'blurb': 'Prediction market pegs 21% chance Pakistan launches drone, missile, or air strike on Indian soil by May 16. This follows India’s first cross-border airstrikes since 1971, targeting nine sites inside Pakistan and Pakistan-occupied Kashmir on May 7. Despite Pakistani vows to retaliate and heightened tensions, no confirmed Pakistani aerial strikes have occurred during the market’s timeframe, keeping probabilities moderate. The market reflects cautious anticipation amid escalating regional conflict, emphasizing the delicate balance facing South Asia’s most volatile border.', 'score': None, 'ticker': None, 'links': None}\n",
      "this is the stuctured article output:  {'id': 126, 'headline': 'Trump Signs Executive Order May 12—Near Certainty', 'subheader': 'Market prices signal overwhelming confidence in May 12 executive action, shaping political expectations.', 'blurb': 'Prediction market assigns 99.95% probability that Donald Trump signed an executive order on May 12, 2025. This near certainty dwarfs probabilities for other days, which remain below 40%. The market requires official publication of the executive order text, adding a strong verification layer. High trading volume underscores intense speculation and interest in Trump’s use of executive authority this week. This event will be pivotal for observers tracking the Trump presidency and its immediate policy impacts.', 'score': None, 'ticker': None, 'links': None}\n",
      "this is the stuctured article output:  {'id': 127, 'headline': 'Israel Approves Gaza Offensive—60% Odds by May 13', 'subheader': 'Market reflects anticipation of major ground operation amid strategic military buildup', 'blurb': \"Israel's security Cabinet approved a plan to seize Gaza in a major offensive by May 13, 2025. Polymarket sets probability at 60%, reflecting expectations of a large-scale deployment exceeding 1,000 troops into new territory. This market insight aligns with reports of escalating Israeli military operations and evacuation orders, indicating a significant shift in the Gaza conflict's trajectory.\", 'score': None, 'ticker': None, 'links': None}\n",
      "this is the intermediate reseponse:  {'what_is_the_market_asking_or_answering': 'Will India or Pakistan officially declare war against the other between May 9 and May 31, 2025?', 'important_criteria': [\"An official, formal declaration of war by either India or Pakistan against the other must occur between May 9, 2025, and May 31, 2025, 11:59 PM ET for a 'Yes' resolution.\", 'Statements implying or resembling a declaration, but lacking official/formal status, do not count.', 'Declarations by non-state actors or militant groups do not count; only the governments of India or Pakistan are relevant.', 'Resolution is strictly tied to the official government declaration, not to ongoing military hostilities or ceasefire status.', \"Market resolves to 'No' if no official declaration is made by end date.\"], 'completed': False, 'important_insights_context_or_reasoning': 'Despite ongoing and intense military conflict between India and Pakistan since early May 2025—including missile strikes, cross-border accusations, and significant escalation after a deadly attack on tourists in Kashmir—no formal declaration of war has been made by either government as of the current date. There is a high level of tension, with sporadic fighting and a ceasefire in place, but diplomatic and military measures (such as airspace closures, suspension of treaties, and expulsion of diplomats) have stopped short of an official war declaration. The probability for a formal declaration before June stands at just 1.75%, reflecting both the seriousness of the conflict and the historical pattern of India and Pakistan engaging in hostilities without formal war declarations. International pressure and prior precedent suggest both sides are likely to avoid official declarations even amidst active conflict. This market’s low probability underscores the difference between operational hostilities and the political/diplomatic threshold of a formal war announcement.'}\n",
      "this is the intermediate reseponse:  {'what_is_the_market_asking_or_answering': 'Will Donald Trump visit Israel between May 6 and May 31, 2025?', 'important_criteria': [\"Trump must physically enter Israel's terrestrial or maritime territory between May 6 and May 31, 2025, by 11:59 PM ET.\", \"Overflight or entry into Israel's airspace does not count as a visit.\", 'Resolution is based primarily on official U.S. government or Trump’s verified communications, with consensus credible reporting as secondary sources.', 'The end date for market resolution is May 31, 2025.'], 'completed': False, 'important_insights_context_or_reasoning': \"The market currently assigns a low probability (15%) to Trump visiting Israel in the specified period, and recent news reinforces this expectation. According to a May 2025 report, Trump’s Middle East itinerary excludes Israel, despite ongoing regional crises and strong traditional ties between Trump and Israel. This omission has heightened Israeli concerns about their diplomatic standing and U.S. policy priorities in the region. No credible sources currently report plans or intentions for a Trump visit to Israel during the market's timeframe.\"}\n",
      "this is the intermediate reseponse:  {'what_is_the_market_asking_or_answering': \"How much will the movie 'Shadow Force' (2025) gross domestically during its opening weekend (May 9-11, 2025), as determined by final figures from The Numbers for the 3-day weekend?\", 'important_criteria': ['Resolution is based on final (not estimated) domestic box office figures from The Numbers for May 9-11, 2025.', 'If the reported value falls between two brackets, the market resolves to the higher bracket.', 'If no final data by May 19, 2025, 11:59 PM ET, another credible source will be used.', \"Bracket options are: '<$1.2m', '$1.2-1.6m', '$1.6-2m', '>$2m'.\", \"Includes Thursday previews in the total per The Numbers' reporting.\"], 'completed': True, 'important_insights_context_or_reasoning': \"The market is effectively resolved, as multiple reputable sources (Wikipedia, BoxOfficeReport, and Reddit) confirm 'Shadow Force' grossed $2 million domestically in its opening weekend from over 2,100 theaters, finishing sixth at the box office. This places the final total precisely at the lower bound of the highest bracket (>$2m), and per the market rules, if the value falls exactly between two brackets, it resolves to the higher one. Prediction market pricing and volume also overwhelmingly favor the '>$2m' bracket (89% probability, 0.96 last trade price), indicating broad consensus. Early predictions from BoxOfficeReport slightly overestimated with a $2.9M forecast, but all final reports converge at the $2M figure. The performance is considered underwhelming given the $40-60 million budget and is expected to result in a significant loss for the studio, as noted by Deadline Hollywood.\"}\n",
      "returning article with headline:  Pakistan Strike Odds Hold at 21%—Post-India Airstrikes\n",
      "returning article with headline:  Israel Approves Gaza Offensive—60% Odds by May 13\n",
      "returning article with headline:  Trump Signs Executive Order May 12—Near Certainty\n",
      "this is the stuctured article output:  {'id': 131, 'headline': 'Ceasefire Likely Before 2026—85.5% Confidence', 'subheader': 'High odds reflect official agreements and staged peace plans', 'blurb': \"Prediction market places 85.5% probability on an official Israel-Hamas ceasefire before the end of 2025. This confidence is grounded in recent developments, including Hamas's acceptance of a three-stage ceasefire plan in May 2024 and an Israeli proposal publicly presented by President Biden. These agreements outline phased steps focusing on hostages, prisoner exchanges, and sustainable calm. The market’s criteria require a mutually agreed and publicly announced ceasefire, not just informal pauses, making the high probability a reflection of concrete diplomatic progress. The ceasefire deal’s implementation remains uncertain, but the framework is largely established, signaling potential de-escalation in a historically volatile region.\", 'score': None, 'ticker': None, 'links': None}\n",
      "this is the intermediate reseponse:  {'what_is_the_market_asking_or_answering': 'What percentage of the popular vote will Lee Jae-myung receive in the 2025 South Korean presidential election?', 'important_criteria': ['Market resolves based on the official vote count published by the National Election Commission of South Korea (https://www.nec.go.kr/engvote/main.jsp).', 'Possible brackets: <35%, 35-40%, 40-45%, 45-50%, 50-55%, 55-60%, 60-65%, 65%+.', 'If Lee Jae-myung does not participate for any reason, market resolves to the lowest bracket (<35%).', 'If the reported vote percentage falls exactly between two brackets, the market resolves to the higher range bracket.', 'Election date: June 3, 2025.'], 'completed': False, 'important_insights_context_or_reasoning': \"The current leading probability bracket is '50-55%' at 43.5%, followed by '55-60%' at 31.5%. This suggests market consensus expects Lee Jae-myung to secure a majority of the vote, potentially above 50%. Recent polling data supports this, with a Real Meter poll showing Lee at 50.2%, and another poll (Anadolu Agency) at 48.5%. His support has been rising, particularly amid political turmoil for the conservative bloc following President Yoon's fallout. Notably, Lee has dominated the Democratic Party's nomination process, securing 90% of primary votes, and public opinion surveys in April 2025 put him as the leading candidate. The market remains open and is responsive to ongoing polling, but current sentiment and recent political events indicate strong momentum for Lee, with a non-trivial chance of a landslide (55%+), though not a certainty. Downside brackets (below 45%) are seen as very unlikely, reflecting the weakness of conservative challengers and the lack of credible competition in current polling.\"}\n",
      "returning article with headline:  Ceasefire Likely Before 2026—85.5% Confidence\n",
      "this is the stuctured article output:  {'id': 133, 'headline': 'Trump Visit Israel Probability Holds at 15%', 'subheader': 'Omission of Israel from Middle East itinerary signals diplomatic shift', 'blurb': 'Market sets 15% chance for Trump visiting Israel between May 6 and May 31, 2025. Despite ongoing regional crises, recent reports confirm no plans for Trump to enter Israel during this period. This low probability reflects heightened Israeli concerns over diminishing U.S. focus amid evolving Middle East policy.', 'score': None, 'ticker': None, 'links': None}\n",
      "this is the intermediate reseponse:  {'what_is_the_market_asking_or_answering': 'Will India initiate a drone, missile, or air strike on Pakistani soil between May 10, 12:00 PM ET and May 16, 2025, 11:59 PM ET?', 'important_criteria': [\"A qualifying 'strike' must be an aerial bomb, drone, or missile attack launched by Indian military forces impacting Pakistani ground territory.\", 'Actions such as artillery, small arms, FPV/ATGM strikes, ground incursions, naval shelling, cyberattacks, or sanctions do not qualify.', 'Missiles or drones intercepted before impact, or surface-to-air missile strikes, do not count, even if on Pakistani territory.', 'Resolution is based on a consensus of credible reporting, not rumors or isolated, unverified claims.', 'Market resolves after May 16, 2025, 11:59 PM ET.'], 'completed': False, 'important_insights_context_or_reasoning': \"Tensions between India and Pakistan have escalated significantly, with cross-border drone and missile activity reported by both sides during early May 2025. Indian officials allege that Pakistan launched drones and missiles at Indian military sites and that India has responded by targeting air defense systems in Pakistan, though the specific nature of India's response is contested and details remain murky amid claims of disinformation by both parties. Independent verification is difficult: while India accuses Pakistan of widespread aerial intrusions and ceasefire violations, and both nations claim strikes beyond the Kashmir border, no clear, credible reporting confirms that India has conducted a drone, missile, or air strike on Pakistani soil as defined by the market's criteria. The probability for a 'Yes' outcome stands at approximately 20.5%, having dropped by 10.5 percentage points in the last day, suggesting that while the situation is tense and military actions are ongoing, the market currently assesses the likelihood of a qualifying Indian strike as relatively low within the specified timeframe. The use of advanced weaponry and international involvement (Chinese missiles, French jets, Israeli drones) underscores the high stakes, but the threshold for market resolution remains unmet as of the latest available reports.\"}\n",
      "this is the stuctured article output:  {'id': 134, 'headline': 'Shadow Force Opens Above $2M—Market Validated', 'subheader': \"Box office hit confirms market's 89% probability prediction\", 'blurb': \"Shadow Force grossed exactly $2 million domestically on its opening weekend across 2,170 theaters. This places the film at the lowest threshold of the highest market bracket, validating the overwhelming 89% probability assigned by prediction markets. Despite this, the $2 million haul falls short against the $40-60 million production budget, signaling a likely $10 million loss for the studio. This market outcome highlights prediction markets' ability to capture nuanced box office performance and aligns well with industry expectations and final box office reports.\", 'score': None, 'ticker': None, 'links': None}\n",
      "this is the stuctured article output:  {'id': 135, 'headline': 'War declaration probability stalls at 1.75%—May 2025', 'subheader': 'Despite heavy fighting, formal war declaration remains unlikely this month', 'blurb': \"Prediction market places the chance of India or Pakistan officially declaring war between May 9 and May 31, 2025, at just 1.75%. This low probability reflects the ongoing conflict's nature, where intense military actions occur without crossing the formal diplomatic threshold of a war declaration. Since early May, missile strikes and ceasefire attempts have marked heightened hostilities, yet no official declaration has been made, consistent with historical patterns of India-Pakistan conflicts. International diplomatic pressure and the severe consequences of a formal declaration keep both governments cautious, underscoring the difference between operational conflict and official war status.\", 'score': None, 'ticker': None, 'links': None}\n",
      "returning article with headline:  Trump Visit Israel Probability Holds at 15%\n",
      "returning article with headline:  Shadow Force Opens Above $2M—Market Validated\n",
      "this is the stuctured article output:  {'id': 138, 'headline': 'Lee Jae-myung Secures 50-55% Vote Share—Market Confidence', 'subheader': 'Market shows strong chance for majority win amid rising polls', 'blurb': \"Prediction market assigns 43.5% probability to Lee Jae-myung winning between 50-55% of the popular vote in South Korea's 2025 presidential election. The next highest bracket, 55-60%, holds a 31.5% probability, suggesting a non-trivial chance of a landslide victory. Recent polls, including one from Real Meter showing Lee at 50.2%, reinforce market optimism. His dominance in the Democratic Party primaries, with about 90% of votes, and conservative party turmoil bolster his lead. This market insight highlights growing confidence in Lee’s electoral strength as June 3 approaches, shaping expectations for South Korea's political future.\", 'score': None, 'ticker': None, 'links': None}\n",
      "returning article with headline:  War declaration probability stalls at 1.75%—May 2025\n",
      "returning article with headline:  Lee Jae-myung Secures 50-55% Vote Share—Market Confidence\n",
      "this is the stuctured article output:  {'id': 141, 'headline': 'India Strike Probability Falls to 20.5%—Tensions Persist', 'subheader': 'Market signals limited chance of Indian air/missile strike on Pakistan by May 16', 'blurb': 'India-Pakistan conflict sees ongoing drone and missile engagements, yet market odds for an Indian air or missile strike on Pakistani soil drop sharply to 20.5%. Indian officials claim Pakistan launched extensive drone attacks, while India reportedly targeted Pakistani air defenses without confirmed strikes on ground territory. Despite military actions and claims from both sides, credible verification remains elusive, keeping the market cautious about escalation within the specified timeframe.', 'score': None, 'ticker': None, 'links': None}\n",
      "returning article with headline:  India Strike Probability Falls to 20.5%—Tensions Persist\n",
      "this is the intermediate reseponse:  {'what_is_the_market_asking_or_answering': 'The market is asking which of a set of significant global or cultural events will occur before the official release of Grand Theft Auto VI (GTA VI).', 'important_criteria': ['The market resolves based on whether each listed event occurs before the official launch date of GTA VI.', 'The explicit end date for the market is July 31, 2026, but resolution will depend on the actual release date of GTA VI, which, as per the most recent official communications from Rockstar Games and reporting, is currently set for May 26, 2026.', 'Possible outcomes include: a Russia-Ukraine ceasefire, a new Rihanna album, a new Playboi Carti album, China invading Taiwan, Donald Trump leaving the presidency (if he returns), the return of Jesus Christ, or Bitcoin reaching $1 million.', 'Probabilities for each event reflect current market sentiment and could shift as relevant news emerges.', \"Resolution criteria for each option are defined by the factual occurrence of the specific event before GTA VI's release (e.g., an official album release, a confirmed ceasefire, a military invasion, etc.).\"], 'completed': False, 'important_insights_context_or_reasoning': \"The most recent and reliable sources confirm that GTA VI's official release date is May 26, 2026, after a delay from its previously anticipated 2025 window. This timeline is crucial for assessing the likelihood of each event. The market currently assigns the highest probability (73.5%) to a Russia-Ukraine ceasefire occurring before GTA VI's release, suggesting strong market confidence in a resolution to that conflict within the next two years. The next most probable event is the release of a new Rihanna album (58.5%), followed by a new Playboi Carti album (49.5%). Significantly less probable are major geopolitical or highly unlikely events: China invading Taiwan (18.5%), Trump leaving the presidency (14.5%), Jesus Christ returning (12.5%), and Bitcoin hitting $1 million (11.5%). The release date's confirmation at May 2026, rather than 2025, provides a longer window for these events to occur, likely impacting market probabilities. There is high trading volume and recent price movement, indicating active speculation and shifting sentiment as new information emerges about both the game and global events.\"}\n",
      "this is the stuctured article output:  {'id': 143, 'headline': 'Russia-Ukraine Ceasefire Tops Odds Before GTA VI Release', 'subheader': 'Market bets strong resolution likelihood by May 2026 launch date', 'blurb': \"Prediction market assigns 73.5% probability to a Russia-Ukraine ceasefire before GTA VI's May 26, 2026 release. New Rihanna and Playboi Carti albums follow with 58.5% and 49.5% chances respectively. Less likely events include China invading Taiwan or Bitcoin hitting $1 million. This market reflects how global politics, culture, and entertainment intersect with the gaming community’s anticipation of GTA VI. The extended timeline to mid-2026 due to the game's delay from 2025 expands the window for these developments to unfold.\", 'score': None, 'ticker': None, 'links': None}\n",
      "returning article with headline:  Russia-Ukraine Ceasefire Tops Odds Before GTA VI Release\n",
      "Structured output: article_groups={'Middle East Tensions': [122, 128, 132], 'Trump Administration Moves': [119, 111, 121], 'US Foreign Relations': [110, 120, 103], 'Global Political Visits': [112, 140]}\n"
     ]
    }
   ],
   "source": [
    "result = articles_wrapper(14)\n"
   ]
  },
  {
   "cell_type": "code",
   "execution_count": 19,
   "metadata": {},
   "outputs": [],
   "source": [
    "newsletter_content =  [ArticleOutput(id=23, headline='Iran Military Action Against Israel Likely in 2024', subheader='Prediction market signals 58% chance of Iran-initiated conflict', blurb=\"The prediction market now assigns a 58% probability to Iran launching a military action against Israel by the end of 2024. This slight uptick in probability highlights the ever-present tensions between the two nations and reflects traders' concerns about potential escalation. With active trading volumes, the market underscores the significance of geopolitical developments in the Middle East.\", score=5, ticker='another-iran-strike-on-israel-in-2024', links=['nothing.com']),\n",
    "  ArticleOutput(id=29, headline='Kamala Harris Faces 8.45% Odds for Exact 270 Electoral Votes', subheader=\"Prediction market highlights challenging path through 'blue wall' states\", blurb=\"As the 2024 U.S. Presidential Election approaches, prediction markets give Kamala Harris an 8.45% chance of securing exactly 270 electoral votes by winning a specified set of states, including the pivotal 'blue wall' states of Michigan, Pennsylvania, and Wisconsin. Despite a slight increase in confidence, market skepticism remains high. The outcome depends on her ability to navigate shifting political dynamics and voter turnout in these key regions.\", score=6, ticker='kamala-wins-with-blue-wall-mi-pa-wi-270-evs', links=['nothing.com']),\n",
    "  ArticleOutput(id=13, headline='Israel Withdrawal from Lebanon Faces Uncertainty', subheader=\"Market shows 42% chance of Israel's withdrawal by November 30\", blurb='The prediction market suggests a 42% likelihood that Israel will announce a full withdrawal from Lebanon before the end of November 2024. This probability has decreased by 12.5% recently, reflecting growing skepticism amid ongoing regional tensions. Despite the challenges, the outcome remains closely watched as geopolitical dynamics continue to evolve.', score=5, ticker='israel-withdraws-from-lebanon-before-december', links=['nothing.com']),\n",
    "  ArticleOutput(id=28, headline='Ethereum Unlikely to Hit $2,600 by November 1', subheader='Market shows low confidence in Ethereum price surge', blurb=\"With a mere 10.5% probability, the prediction market indicates skepticism about Ethereum reaching $2,600 by noon ET on November 1, 2024. The slight 0.6% drop in confidence over the last day further emphasizes a cautious sentiment among traders. As the resolution date approaches, investors should stay vigilant of any market shifts that could impact Ethereum's trajectory.\", score=6, ticker='ethereum-above-2600-on-november-1', links=['nothing.com']),\n",
    "  ArticleOutput(id=26, headline='Solana Faces Uncertainty for $170 Mark by November 2024', subheader=\"Crypto Traders Show Mixed Sentiment on Solana's Future\", blurb=\"As of now, Solana's chances of trading above $170 on November 1, 2024, stand at a moderate 43.5%. The slight decrease in probability over the past day highlights growing uncertainty in the market, possibly due to recent crypto trends or news affecting investor confidence. With the volatile nature of cryptocurrencies like Solana, the final outcome remains unpredictable, making this market a captivating watch for crypto enthusiasts.\", score=5, ticker='solana-above-170-on-november-1', links=['nothing.com']),\n",
    "  ArticleOutput(id=32, headline='Trump Albuquerque Rally Highlights China, Biden Amid Election Campaign', subheader=\"Prediction market expects Trump to focus on China, Biden, and 'Garbage' in rally\", blurb=\"As Donald Trump prepares for his Albuquerque rally, prediction markets are buzzing with expectations. Traders overwhelmingly predict he will spotlight issues like China and Biden, with probabilities soaring to 99.95%. This aligns with his ongoing narrative as he gears up for the 2024 presidential election campaign. Meanwhile, topics such as 'Native American' and 'Puerto Rico' are seen as unlikely to feature prominently, reflecting a strategic focus in his messaging.\", score=7, ticker='what-will-trump-say-during-albuquerque-nm-rally', links=['nothing.com']),\n",
    "  ArticleOutput(id=14, headline='Bitcoin eyes record high before US election', subheader='Market predicts 30% chance amidst price decline', blurb='As the US presidential election approaches, Bitcoin faces a potential new all-time high, with markets assigning a 30% probability of surpassing $73,777 by November 4, 2024. This prediction comes after a notable 33.5% drop in probability, suggesting shifting sentiments. With cryptocurrency dynamics intertwined with political events, investors should brace for potential volatility.', score=6, ticker='bitcoin-new-all-time-high-before-election', links=['nothing.com']),\n",
    "  ArticleOutput(id=27, headline='Bitcoin poised to surpass $68000 by November 1', subheader='Market predicts strong bullish sentiment despite slight dip', blurb=\"The Polymarket prediction indicates a 92% likelihood that Bitcoin will exceed $68,000 by November 1, 2024, according to Binance's trading data. This optimistic forecast reflects a robust bullish sentiment in the crypto market, even though the probability dipped slightly by 1.85% recently. Investors are banking on historical trends and favorable market conditions to push Bitcoin past this significant price threshold.\", score=8, ticker='bitcoin-above-68000-on-november-1', links=['nothing.com']),\n",
    "  ArticleOutput(id=22, headline='Bitcoin unlikely to hit $80k before election', subheader='Market skepticism grows as probability drops to 6%', blurb='The Polymarket prediction market indicates a mere 6% chance of Bitcoin reaching $80,000 before the U.S. election. This skepticism is reflected in a recent drop in probability, suggesting traders doubt significant price surges amidst current market conditions. Factors such as market sentiment and potential regulatory changes could be influencing this outlook.', score=6, ticker='bitcoin-hits-80k-before-election', links=['nothing.com']),\n",
    "  ArticleOutput(id=30, headline=\"Trump Rally Likely Features 'Women's Sports' and 'Pocahontas'\", subheader='Prediction markets signal key phrases for Nevada event', blurb=\"As former President Donald Trump prepares for his rally in Henderson, Nevada, prediction markets are buzzing with expectations of what he might say. Top contenders include 'Women's Sports' and 'Pocahontas,' each with a high probability of being mentioned. These phrases align with Trump's previous campaign themes, suggesting they will resonate with his audience as he gears up for the 2024 election. Meanwhile, terms like 'Crypto/Bitcoin' and 'Tampon' are far less likely, reflecting a strategic focus on traditional issues.\", score=5, ticker='what-will-trump-say-during-nevada-rally-oct-31', links=['nothing.com']),\n",
    "  ArticleOutput(id=2, headline='Trump Faces Steep Challenge in Florida', subheader='Prediction Market Shows Declining Confidence in 12-point Margin', blurb=\"As the 2024 U.S. Presidential Election approaches, the Polymarket prediction market indicates a mere 20.5% chance that Donald Trump will secure Florida by a 12-point margin, a key battleground state. This reflects a notable decrease in confidence, with probabilities dropping 0.11 in just one day. With Florida's pivotal role in the election, this shift highlights the uncertainty and fierce competition expected in the upcoming race.\", score=6, ticker='will-trump-win-florida-by-12-points', links=['nothing.com']),\n",
    "  ArticleOutput(id=20, headline='Texans Face Tight Odds Against Jets', subheader='Market Predicts Competitive Matchup in Upcoming NFL Game', blurb='As the Houston Texans prepare to face the New York Jets on October 31, prediction markets reflect a closely contested game with the Texans holding a 45.5% chance of victory. Recent trading activity shows a slight dip in confidence for the Texans, dropping 2% in probability. With the game still days away, factors like player health and team dynamics could sway the odds further.', score=5, ticker='nfl-hou-nyj-2024-10-31', links=['nothing.com']),\n",
    "  ArticleOutput(id=19, headline='Harris Expected to Win New Jersey by 10% Margin', subheader=\"Prediction market shows strong confidence in Harris's lead\", blurb='With over a year until the 2024 U.S. Presidential Election, prediction markets show a 79.5% probability that Kamala Harris will secure a 10% or greater margin of victory in New Jersey. This reflects strong confidence in her candidacy despite the potential for political developments to influence public opinion before the election date. The market will remain open as it awaits the official vote count and certification in New Jersey.', score=8, ticker='will-harris-win-new-jersey-by-10-points', links=['nothing.com']),\n",
    "  ArticleOutput(id=4, headline='Trump faces uphill battle in Rust Belt sweep', subheader='Prediction market shows 26% chance for Trump victory in key states', blurb='As the 2024 US Presidential Election approaches, prediction markets indicate a challenging path for Donald Trump in the Rust Belt swing states of Wisconsin, Michigan, and Pennsylvania. With only a 26% probability of sweeping these crucial states, the market reflects skepticism about his ability to replicate past successes. This development is critical, as these states often play a pivotal role in election outcomes. Stay tuned as the dynamics evolve closer to election day.', score=6, ticker='trump-rust-belt-swing-state-sweep', links=['nothing.com']),\n",
    "  ArticleOutput(id=18, headline='Trump Faces Uphill Battle in Iowa Poll', subheader=\"Prediction Market Shows Low Confidence in Trump's Dominance\", blurb=\"As the Iowa 2024 presidential election approaches, the prediction market shows only a 13.5% probability that Donald Trump will lead by a 12% margin or more in Anne Selzer's final poll. Despite a slight 0.5% increase in confidence, market participants remain skeptical of Trump's ability to secure a commanding lead. This reflects a cautious stance among observers, potentially due to recent campaign dynamics or shifts in voter opinion.\", score=6, ticker='trump-12-in-selzer-iowa-poll', links=['nothing.com']),\n",
    "  ArticleOutput(id=25, headline='Chase Oliver Leads 2024 Third-Party Race', subheader='Prediction market shows Oliver ahead of Stein and RFK Jr.', blurb='In the latest insights from Polymarket, Chase Oliver emerges as the frontrunner among third-party candidates for the 2024 US Presidential election, holding a 38% probability of winning the most votes. Jill Stein follows closely with 33%, while RFK Jr. has a 27% chance. Interestingly, all candidates have experienced a dip in their probabilities, indicating recent shifts in voter sentiment or polling data. Despite their presence, Cornel West, Vermin Supreme, and other candidates are unlikely to make a significant impact, as reflected in their low probabilities.', score=7, ticker='which-3rd-party-candidate-wins-most-votes', links=['nothing.com'])],\n",
    "article_groups = {'Middle East Politics': [23, 13],\n",
    "  'US Election Predictions': [29, 32, 2, 19, 4, 18, 25],\n",
    "  'Cryptocurrency Forecasts': [28, 26, 14, 27, 22],\n",
    "  'Trump Rallies': [30, 4, 18],\n",
    "  'Sports and Betting': [20]}"
   ]
  },
  {
   "cell_type": "code",
   "execution_count": 104,
   "metadata": {},
   "outputs": [
    {
     "data": {
      "text/plain": [
       "{'Middle East Tensions': [122, 128, 132],\n",
       " 'Trump Administration Moves': [119, 111, 121],\n",
       " 'US Foreign Relations': [110, 120, 103],\n",
       " 'Global Political Visits': [112, 140]}"
      ]
     },
     "execution_count": 104,
     "metadata": {},
     "output_type": "execute_result"
    }
   ],
   "source": [
    "articles = result[\"newsletter_content\"]\n",
    "#email_list = [\"ethanagoldberg@gmail.com\", \"vikmanocha@gmail.com\", \"jameswmarren@gmail.com\"]\n",
    "groups = result[\"article_groups\"]\n",
    "groups"
   ]
  },
  {
   "cell_type": "code",
   "execution_count": 74,
   "metadata": {},
   "outputs": [],
   "source": [
    "from newsletter_sender import NewsletterSender, test_smtp_connection\n",
    "from typing import List\n",
    "smtp_config = {\n",
    "    \"host\": \"smtp.gmail.com\",\n",
    "    \"port\": 587,\n",
    "    \"secure\": True,\n",
    "    \"auth\": {\n",
    "        \"user\": \"polynewsdailynewsletter@gmail.com\",  # Your full Gmail address\n",
    "        \"pass\": smtp_pass    # The 16-character app password you generated\n",
    "    },\n",
    "    \"from\": '\"PolyNewsDaily Update\" <polynewsdailynewsletter@gmail.com>'  # Use your Gmail address here too\n",
    "}"
   ]
  },
  {
   "cell_type": "code",
   "execution_count": 22,
   "metadata": {},
   "outputs": [
    {
     "name": "stdout",
     "output_type": "stream",
     "text": [
      "articles: [ArticleOutput(id=24, headline='U.S. Considers Removing HTS from Terror List—52% Chance', subheader='Biden administration debates implications for Syrian governance.', blurb=\"Prediction markets assign a 52% probability that the U.S. will remove Hayʼat Tahrir al-Sham (HTS) from its terrorist designation before February 28, 2025. Recent military successes by HTS have prompted discussions among U.S. officials about the group's role in shaping Syria's future. As HTS consolidates power, its potential removal from the terror list could significantly alter U.S. foreign policy and the dynamics of post-Assad governance.\", score=7, ticker='will-the-us-remove-hts-from-terror-list', links=['https://english.almayadeen.net/news/politics/biden-admin-explores-removing-hts-from-terrorist-list', 'https://www.politico.com/news/2024/12/09/us-debates-lifting-terror-designation-for-main-syrian-rebel-group-00193367', 'https://www.vpm.org/news/2024-12-11/mark-warner-tim-kaine-hts-syria-foreign-policy-us-military', 'https://apnews.com/article/syria-united-states-foreign-terrorist-designation-a75ba4abbdeee56f32110d0dafefa319', 'https://www.newsweek.com/us-antony-blinken-syria-rebellion-leaders-reject-terrorism-1998711']), ArticleOutput(id=19, headline='Yoon Suk Yeol faces 78.5% impeachment odds—political turmoil escalates', subheader=\"Nationwide protests fuel movement against South Korean president's controversial actions.\", blurb=\"South Korean President Yoon Suk Yeol's impeachment probability hits 78.5% as turmoil intensifies. His brief martial law declaration, the first since 1980, sparked widespread protests, pushing lawmakers to consider impeachment seriously. Recent demonstrations outside the National Assembly have drawn tens of thousands, amplifying calls for Yoon's removal amid political division and unrest.\", score=7, ticker='south-korean-president-impeached-in-2024', links=['https://www.reuters.com/world/asia-pacific/south-korea-politics-live-lawmakers-set-vote-president-yoons-impeachment-2024-12-07/', 'https://www.cbsnews.com/news/south-korea-impeachment-vote-yoon-suk-yeol-martial-law/', 'https://www.npr.org/2024/12/04/g-s1-36730/south-korea-president-martial-law', 'https://www.nbcnews.com/news/world/south-korea-martial-law-president-yoon-suk-yeol-impeachment-vote-rcna183138', 'https://www.nytimes.com/live/2024/12/06/world/south-korea-president-yoon-impeachment']), ArticleOutput(id=32, headline='Biden weighs Fauci pardon—34.5% probability', subheader='Political discourse intensifies around possible pardons before inauguration.', blurb=\"Prediction markets assign a 34.5% chance that President Biden will grant a pardon to Dr. Anthony Fauci before the next presidential inauguration. This market, set to resolve by January 20, 2025, reflects growing speculation fueled by recent discussions among Biden's aides about potential pardons for prominent figures like Fauci.\\n\\nRecent reports indicate that Biden's administration is considering pardons in light of political pressures and public sentiment regarding Fauci's controversial tenure during the pandemic. Despite this, the current probabilities suggest skepticism among bettors, indicating that many doubt the likelihood of a pardon being granted.\\n\\nAs the political landscape shifts, this market reveals much about public perception and the potential impact of Biden's decisions on his administration's legacy. With increasing calls for accountability, the decision to pardon could resonate deeply within the political narrative leading up to the next election.\", score=7, ticker='will-biden-pardon-anthony-fauci', links=['https://www.snopes.com/fact-check/biden-pardons-fauci/', 'https://www.politico.com/news/magazine/2024/12/04/biden-white-house-pardons-00192610', 'https://wsau.com/2024/12/04/report-biden-administration-considering-pardons-for-dr-fauci-liz-cheney-senator-elect-adam-schiff/', 'https://www.newsweek.com/full-list-joe-biden-pardons-1994705', 'https://www.usnews.com/news/national-news/articles/2024-12-10/the-people-biden-might-preemptively-pardon-to-spare-them-from-trumps-revenge']), ArticleOutput(id=17, headline='Ethereum rallies—24.5% chance above $4,000 by December', subheader='Bullish ETF inflows and technical indicators drive optimism.', blurb='Market assigns 24.5% probability for Ethereum surpassing $4,000 on December 13, 2024. Recent inflows from Ethereum ETFs reached $300 million daily, fueling bullish sentiment. Analysts highlight strong technical patterns supporting a potential rally, making this market a focal point for crypto investors.', score=8, ticker='ethereum-above-4000-on-december-13', links=['https://www.cryptopolitan.com/ethereum-price-prediction/', 'https://www.binance.com/en-AU/price-prediction/ethereum', 'https://en.cryptonomist.ch/2024/11/29/ethereum-the-optimistic-price-prediction-for-eth-in-december-2024/', 'https://coinpedia.org/price-analysis/ethereum-price-prediction-dec-4th-2024/', 'https://www.binance.com/en/square/post/15900641006145']), ArticleOutput(id=22, headline='Impeachment Vote Count Fails—Yoon Faces 99.6% Risk', subheader='Market predicts fewer than 180 votes for impeachment.', blurb='Prediction markets give a staggering 99.6% probability that fewer than 180 votes will support the impeachment of South Korea’s President Yoon Suk Yeol. This follows a tumultuous political climate marked by widespread protests against his recent attempts to impose martial law. Yoon’s ruling party strategically boycotted the parliamentary vote, resulting in a failure to reach the necessary two-thirds majority for impeachment, illustrating the complexities of South Korean politics and public sentiment surrounding his leadership.', score=8, ticker='of-votes-for-impeachment-in-south-korea', links=['https://www.cbsnews.com/news/south-korea-impeachment-vote-yoon-suk-yeol-martial-law/', 'https://www.reuters.com/world/asia-pacific/south-korea-politics-live-lawmakers-set-vote-president-yoons-impeachment-2024-12-07/', 'https://www.npr.org/2024/12/06/g-s1-37117/south-korea-impeachment-yoon', 'https://www.nytimes.com/live/2024/12/06/world/south-korea-president-yoon-impeachment', 'https://www.nbcnews.com/news/world/south-korea-martial-law-president-yoon-suk-yeol-impeachment-vote-rcna183138']), ArticleOutput(id=35, headline='Georgescu leads Romanian election—far-right candidate advances', subheader=\"Shock outcome redefines Romania's political landscape ahead of runoff.\", blurb=\"Călin Georgescu, a far-right populist, secures 59.5% chance to advance in the Romanian Presidential Election runoff. He unexpectedly topped the first round with 22.94% of the vote, surpassing the incumbent prime minister and shaking Romania's pro-Western alignment. \\n\\nMarket predictions reflect a significant shift, with Georgescu's rise raising alarms about his controversial stances, including NATO opposition and admiration for historical anti-Semitic figures. The unpredictability intensifies as the Romanian Constitutional Court annulled the first round results amid allegations of foreign interference, complicating the path ahead.\\n\\nAs the market remains open until June 30, 2025, ongoing developments will shape candidate prospects and could redefine Romania's future direction.\", score=8, ticker='which-candidates-will-advance-in-romanian-presidential-election-1st-round', links=['https://www.npr.org/2024/11/25/g-s1-35685/romania-far-right-populist-presidential-election', 'https://www.dw.com/en/romania-votes-for-a-new-president-with-far-right-seeking-win/a-70869427', 'https://edition.cnn.com/2024/11/25/europe/romania-election-calin-georgescu-far-right-intl/index.html', 'https://en.wikipedia.org/wiki/2024–25_Romanian_presidential_election', 'https://www.usnews.com/news/world/articles/2024-11-25/a-far-right-populist-shocks-romania-by-heading-into-the-presidential-runoff']), ArticleOutput(id=21, headline='Russia likely withdraws from Tartus by April', subheader='Satellite imagery reveals significant naval exodus from Syria.', blurb=\"Current markets indicate a 63.5% probability that Russia abandons the Tartus Naval Facility by March 31, 2025. Recent satellite images and reports confirm the evacuation of the entire Russian fleet from Tartus, signaling a strategic shift in Moscow's military presence in the region. This development poses a major setback for President Putin, as Tartus serves as a critical access point to the Mediterranean, impacting Russia's operational capabilities in Africa.\", score=8, ticker='will-russia-abandon-syrian-naval-base-before-april-2025', links=['https://news.usni.org/2024/12/10/satellite-photos-show-russian-navy-exodus-from-syria-syrian-missile-boats-sunk-at-pier', 'https://www.armyrecognition.com/focus-analysis-conflicts/army/conflicts-in-the-world/syria-conflict-news/russia-withdraws-its-fleet-from-tartus-towards-a-total-withdrawal-from-syria', 'https://www.businessinsider.com/russian-troops-syria-bases-tartus-khmeimim-bashar-assad-ships-2024-12?op=1', 'https://www.reuters.com/world/satellite-imagery-shows-russian-navy-ships-anchored-off-syrian-coast-2024-12-10/', 'https://www.stripes.com/theaters/middle_east/2024-12-09/russia-military-bases-syria-assad-16109878.html']), ArticleOutput(id=40, headline='Dogecoin struggles—37% chance above $0.43 by December', subheader='Market reflects bearish sentiment as 2024 approaches.', blurb=\"Dogecoin (DOGE) faces uncertainty with only a 37% probability of closing above $0.43 on December 13, 2024. Recent analysis suggests a bearish outlook, with many forecasts predicting a year-end price around $0.3392. This skepticism stems from broader market trends and DOGE's correlation with major cryptocurrencies, impacting investor sentiment and trading strategies.\\n\\nThe market's low probability indicates that traders are cautious about DOGE's ability to rebound significantly. Analysts highlight that without a strong uptick in trading volume, achieving the $0.43 threshold seems unlikely. As the cryptocurrency landscape evolves, these dynamics could hinder DOGE's performance in the coming months.\\n\\nWith the looming resolution date, market participants are closely watching DOGE's price movements. The mix of cautious optimism and skepticism reflects how quickly sentiment can shift in the volatile cryptocurrency market, making this a fascinating case study for prediction markets.\", score=7, ticker='dogecoin-above-0pt43-on-december-13', links=['https://www.cryptopolitan.com/dogecoin-price-prediction/', 'https://coinpedia.org/price-prediction/dogecoin-price-analysis/', 'https://coincodex.com/crypto/dogecoin/price-prediction/', 'https://www.forbes.com/advisor/in/investing/cryptocurrency/dogecoin-price-prediction/', 'https://cryptonews.com/price-predictions/dogecoin-price-prediction/']), ArticleOutput(id=43, headline='Belichick likely UNC head coach—96.95% confidence', subheader=\"Market signals high expectations for Belichick's transition to college football.\", blurb=\"Traders place Bill Belichick’s chances of becoming UNC's head football coach at 96.95%. This reflects significant confidence following reports of ongoing discussions between Belichick and UNC officials. \\n\\nBelichick, a six-time Super Bowl-winning coach, has never held a college coaching position, marking a potential shift in his illustrious career. His candidacy comes amid UNC's recent athletic department audit, making this coaching search particularly notable.\\n\\nAs the resolution date approaches on January 19, 2025, the market's strong probability raises intriguing questions about Belichick’s adaptability to the college game and his impact on UNC’s football program.\", score=8, ticker='belichik-next-unc-head-coach', links=['https://www.foxsports.com/stories/college-football/bill-belichick-reportedly-met-unc-possibly-become-its-next-head-coach', 'https://www.nytimes.com/athletic/5981891/2024/12/09/bill-belichick-unc-football-coaching-search/', 'https://www.usatoday.com/story/sports/ncaaf/2024/12/05/bill-belichick-north-carolina-football-coaching-rumors/76809143007/', 'https://www.sportingnews.com/us/ncaa-football/news/bill-belichick-coaching-rumors-tracker-latest-news-unc/cb603b9628c9c8cc264af430', 'https://www.si.com/college-football/sources-bill-belichick-interested-in-college-coaching-after-north-carolina-talks'])]\n",
      "groups: {'Global Political Drama': [19, 22, 24, 35], 'US Political Maneuvers': [32, 21], 'Crypto Chronicles': [17, 40], 'Sports Surprises': [43]}\n"
     ]
    }
   ],
   "source": [
    "print(\"articles:\", articles)\n",
    "print(\"groups:\", groups)"
   ]
  },
  {
   "cell_type": "code",
   "execution_count": 106,
   "metadata": {},
   "outputs": [
    {
     "name": "stdout",
     "output_type": "stream",
     "text": [
      "✅ SMTP connection successful!\n",
      "Connection successful! Sending test newsletter...\n",
      "Connecting to: postgres://u8tpitnkehg4bm@c1i13pt05ja4ag.cluster-czrs8kj4isg7.us-east-1.rds.amazonaws.com:5432/d8714o8m60rj7k\n",
      "\n",
      "    Database summary:\n",
      "    - Articles: 11\n",
      "    - Groups: 4\n",
      "    - Group-Article associations: 11\n",
      "            \n",
      "Newsletter saved to database successfully\n",
      "Sending batch 1/1\n",
      "Successfully sent to: ethanagoldberg@gmail.com\n"
     ]
    }
   ],
   "source": [
    "if test_smtp_connection(smtp_config):\n",
    "    print(\"Connection successful! Sending test newsletter...\")\n",
    "    \n",
    "    # Create sender and send newsletter\n",
    "    sender = NewsletterSender()\n",
    "    #email_list = sender.get_subscriber_emails()\n",
    "    email_list = [\"ethanagoldberg@gmail.com\"]\n",
    "    if email_list:\n",
    "        save_result = sender.save_newsletter_to_db(articles, groups)\n",
    "        results = sender.send_newsletter(smtp_config, email_list, articles, groups)\n",
    "    else:\n",
    "        email_list = [\"ethanagoldberg@gmail.com\"]\n",
    "        save_result = sender.save_newsletter_to_db(articles, groups)\n",
    "        results = sender.send_newsletter(smtp_config, email_list, articles, groups)"
   ]
  }
 ],
 "metadata": {
  "kernelspec": {
   "display_name": "Python 3.7.6 ('base')",
   "language": "python",
   "name": "python3"
  },
  "language_info": {
   "codemirror_mode": {
    "name": "ipython",
    "version": 3
   },
   "file_extension": ".py",
   "mimetype": "text/x-python",
   "name": "python",
   "nbconvert_exporter": "python",
   "pygments_lexer": "ipython3",
   "version": "3.11.10"
  },
  "vscode": {
   "interpreter": {
    "hash": "81333996758e97eaa3d2fa8b0508a033ada6c2cd645638beea5f0eb0401d74bf"
   }
  }
 },
 "nbformat": 4,
 "nbformat_minor": 2
}
